{
 "cells": [
  {
   "cell_type": "markdown",
   "id": "0b4e73c2",
   "metadata": {},
   "source": [
    "# Выпускной проект <br>Тема: Промышленность\n",
    "\n",
    "Чтобы оптимизировать производственные расходы, металлургический комбинат ООО «Так закаляем сталь» решил уменьшить потребление электроэнергии на этапе обработки стали. \n",
    "\n",
    "**Описание этапа обработки**\n",
    "\n",
    "Сталь обрабатывают в металлическом ковше вместимостью около **100 тонн**. Чтобы ковш выдерживал высокие температуры, изнутри его облицовывают огнеупорным кирпичом. Расплавленную сталь заливают в ковш и **подогревают до нужной температуры графитовыми электродами**. Они установлены в крышке ковша. \n",
    "\n",
    "Из сплава выводится **сера (десульфурация)**, **добавлением примесей** корректируется химический состав и **отбираются пробы**. Сталь **легируют** — изменяют её состав — подавая **куски сплава** из бункера для сыпучих материалов или **проволоку** через специальный трайб-аппарат (англ. tribe, «масса»).\n",
    "\n",
    "Перед тем как **первый раз** ввести **легирующие добавки**, **измеряют температуру** стали и производят её **химический анализ**. Потом **температуру на несколько минут повышают**, **добавляют легирующие** материалы и **продувают** сплав **инертным газом**. Затем его **перемешивают** и снова **проводят измерения**. Такой **цикл повторяется до достижения целевого химического состава и оптимальной температуры плавки**.\n",
    "\n",
    "Тогда расплавленная сталь отправляется на доводку металла или поступает в машину непрерывной разливки. Оттуда готовый продукт выходит в виде заготовок-слябов (англ. *slab*, «плита»).\n",
    "\n",
    "**Цель работы:**\n",
    "\n",
    "Построить модель, которая предскажет температуру стали.\n",
    "\n",
    "**Задача работы:**\n",
    "\n",
    "Достижение значения средней абсолютной погрешности (MAE) менее 8.7 градусов.\n",
    "\n",
    "**Критерии оценки качества предсказаний модели:**\n",
    "\n",
    "$\\displaystyle\\qquad\\;MAE > 8.7\\ -0\\ sp$  \n",
    "$\\displaystyle 7.6 < MAE \\leq 8.7\\ - 4\\ sp$  \n",
    "$\\displaystyle 6.8 < MAE \\leq 7.6\\ - 4.5\\ sp$  \n",
    "$\\displaystyle 6.3 < MAE \\leq 6.8\\ - 5\\ sp$  \n",
    "$\\displaystyle 6.0 < MAE \\leq 6.3\\ - 5.5\\ sp$  \n",
    "$\\displaystyle\\qquad\\;MAE \\leq 6.0\\ - 6\\ sp$  \n",
    "\n",
    "### Описание данных\n",
    "\n",
    "Данные состоят из файлов, полученных из разных источников:\n",
    "\n",
    "- `data_arc.csv` — данные об электродах;\n",
    "- `data_bulk.csv` — данные о подаче сыпучих материалов (объём);\n",
    "- `data_bulk_time.csv` *—* данные о подаче сыпучих материалов (время);\n",
    "- `data_gas.csv` — данные о продувке сплава газом;\n",
    "- `data_temp.csv` — результаты измерения температуры;\n",
    "- `data_wire.csv` — данные о проволочных материалах (объём);\n",
    "- `data_wire_time.csv` — данные о проволочных материалах (время).\n",
    "\n",
    "Во всех файлах столбец `key` содержит номер партии. В файлах может быть несколько строк с одинаковым значением `key`: они соответствуют разным итерациям обработки.\n",
    "<a name=\"contents\"></a>\n",
    "### Оглавление \n",
    "\n",
    "1. [План работы](#plan)\n",
    "2. [Анализ исходных данных](#analysis)\n",
    "3. [Подготовка данных](#processing)\n",
    "4. [Построение модели](#model)\n",
    "5. [Вывод](#conclusion)"
   ]
  },
  {
   "cell_type": "markdown",
   "id": "11e5472d",
   "metadata": {},
   "source": [
    "## Анализ исходных данных \n",
    "<a name=\"analysis\"></a>\n",
    "[К оглавлению](#contents)"
   ]
  },
  {
   "cell_type": "markdown",
   "id": "cbb92ef9",
   "metadata": {},
   "source": [
    "Загружаем библиотеки"
   ]
  },
  {
   "cell_type": "code",
   "execution_count": 1,
   "id": "70783752",
   "metadata": {},
   "outputs": [],
   "source": [
    "import pandas as pd\n",
    "import numpy as np\n",
    "import matplotlib.pyplot as plt\n",
    "import seaborn as sns\n",
    "from datetime import datetime\n",
    "from datetime import date\n",
    "import time\n",
    "\n",
    "\n",
    "from sklearn.model_selection import cross_val_score, train_test_split\n",
    "from sklearn.model_selection import RandomizedSearchCV\n",
    "\n",
    "from catboost import CatBoostRegressor\n",
    "from sklearn.linear_model import LinearRegression\n",
    "from sklearn.tree import DecisionTreeRegressor\n",
    "from sklearn.ensemble import RandomForestRegressor\n",
    "from catboost import Pool, cv\n",
    "\n",
    "from sklearn.metrics import mean_absolute_error\n",
    "\n",
    "\n",
    "import warnings\n",
    "warnings.filterwarnings('ignore')"
   ]
  },
  {
   "cell_type": "markdown",
   "id": "46d1c4b3",
   "metadata": {},
   "source": [
    "Подгуружаем исходные датасеты"
   ]
  },
  {
   "cell_type": "code",
   "execution_count": 2,
   "id": "ec28fb6e",
   "metadata": {},
   "outputs": [],
   "source": [
    "try:\n",
    "    data_arc = pd.read_csv('/datasets/final_steel/data_arc.csv')\n",
    "    data_bulk = pd.read_csv('/datasets/final_steel/data_bulk.csv')\n",
    "    data_bulk_time = pd.read_csv('/datasets/final_steel/data_bulk_time.csv')\n",
    "    data_gas = pd.read_csv('/datasets/final_steel/data_gas.csv')\n",
    "    data_temp = pd.read_csv('/datasets/final_steel/data_temp.csv')\n",
    "    data_wire = pd.read_csv('/datasets/final_steel/data_wire.csv')\n",
    "    data_wire_time = pd.read_csv('/datasets/final_steel/data_wire_time.csv')\n",
    "except:\n",
    "    data_arc = pd.read_csv('C:/Users/shev/Desktop/Yandex_pract/final/final_steel/data_arc.csv')\n",
    "    data_bulk = pd.read_csv('C:/Users/shev/Desktop/Yandex_pract/final/final_steel/data_bulk.csv')\n",
    "    data_bulk_time = pd.read_csv('C:/Users/shev/Desktop/Yandex_pract/final/final_steel/data_bulk_time.csv')\n",
    "    data_gas = pd.read_csv('C:/Users/shev/Desktop/Yandex_pract/final/final_steel/data_gas.csv')\n",
    "    data_temp = pd.read_csv('C:/Users/shev/Desktop/Yandex_pract/final/final_steel/data_temp.csv')\n",
    "    data_wire = pd.read_csv('C:/Users/shev/Desktop/Yandex_pract/final/final_steel/data_wire.csv')\n",
    "    data_wire_time = pd.read_csv('C:/Users/shev/Desktop/Yandex_pract/final/final_steel/data_wire_time.csv')    \n",
    "    \n",
    "    \n",
    "d_n = {'data_arc', 'data_bulk', 'data_bulk_time', 'data_gas', 'data_temp', 'data_wire', 'data_wire_time'} # чтобы под рукой был список датасетов"
   ]
  },
  {
   "cell_type": "markdown",
   "id": "e8633a85",
   "metadata": {},
   "source": [
    "Создаём функцию для первичного просмотра датафреймоф"
   ]
  },
  {
   "cell_type": "code",
   "execution_count": 3,
   "id": "cff5f5bf",
   "metadata": {},
   "outputs": [],
   "source": [
    "def analysis(name):\n",
    "    name.info()\n",
    "    display(name.head())\n",
    "    display(name.describe().round(2))\n",
    "    if name.shape[1] != name.describe().shape[1]:\n",
    "        display(name.describe(include=['object', 'bool']))"
   ]
  },
  {
   "cell_type": "markdown",
   "id": "01c59fdc",
   "metadata": {},
   "source": [
    "### Мощность"
   ]
  },
  {
   "cell_type": "code",
   "execution_count": 4,
   "id": "e8007460",
   "metadata": {},
   "outputs": [
    {
     "name": "stdout",
     "output_type": "stream",
     "text": [
      "<class 'pandas.core.frame.DataFrame'>\n",
      "RangeIndex: 14876 entries, 0 to 14875\n",
      "Data columns (total 5 columns):\n",
      " #   Column                Non-Null Count  Dtype  \n",
      "---  ------                --------------  -----  \n",
      " 0   key                   14876 non-null  int64  \n",
      " 1   Начало нагрева дугой  14876 non-null  object \n",
      " 2   Конец нагрева дугой   14876 non-null  object \n",
      " 3   Активная мощность     14876 non-null  float64\n",
      " 4   Реактивная мощность   14876 non-null  float64\n",
      "dtypes: float64(2), int64(1), object(2)\n",
      "memory usage: 581.2+ KB\n"
     ]
    },
    {
     "data": {
      "text/html": [
       "<div>\n",
       "<style scoped>\n",
       "    .dataframe tbody tr th:only-of-type {\n",
       "        vertical-align: middle;\n",
       "    }\n",
       "\n",
       "    .dataframe tbody tr th {\n",
       "        vertical-align: top;\n",
       "    }\n",
       "\n",
       "    .dataframe thead th {\n",
       "        text-align: right;\n",
       "    }\n",
       "</style>\n",
       "<table border=\"1\" class=\"dataframe\">\n",
       "  <thead>\n",
       "    <tr style=\"text-align: right;\">\n",
       "      <th></th>\n",
       "      <th>key</th>\n",
       "      <th>Начало нагрева дугой</th>\n",
       "      <th>Конец нагрева дугой</th>\n",
       "      <th>Активная мощность</th>\n",
       "      <th>Реактивная мощность</th>\n",
       "    </tr>\n",
       "  </thead>\n",
       "  <tbody>\n",
       "    <tr>\n",
       "      <th>0</th>\n",
       "      <td>1</td>\n",
       "      <td>2019-05-03 11:02:14</td>\n",
       "      <td>2019-05-03 11:06:02</td>\n",
       "      <td>0.976059</td>\n",
       "      <td>0.687084</td>\n",
       "    </tr>\n",
       "    <tr>\n",
       "      <th>1</th>\n",
       "      <td>1</td>\n",
       "      <td>2019-05-03 11:07:28</td>\n",
       "      <td>2019-05-03 11:10:33</td>\n",
       "      <td>0.805607</td>\n",
       "      <td>0.520285</td>\n",
       "    </tr>\n",
       "    <tr>\n",
       "      <th>2</th>\n",
       "      <td>1</td>\n",
       "      <td>2019-05-03 11:11:44</td>\n",
       "      <td>2019-05-03 11:14:36</td>\n",
       "      <td>0.744363</td>\n",
       "      <td>0.498805</td>\n",
       "    </tr>\n",
       "    <tr>\n",
       "      <th>3</th>\n",
       "      <td>1</td>\n",
       "      <td>2019-05-03 11:18:14</td>\n",
       "      <td>2019-05-03 11:24:19</td>\n",
       "      <td>1.659363</td>\n",
       "      <td>1.062669</td>\n",
       "    </tr>\n",
       "    <tr>\n",
       "      <th>4</th>\n",
       "      <td>1</td>\n",
       "      <td>2019-05-03 11:26:09</td>\n",
       "      <td>2019-05-03 11:28:37</td>\n",
       "      <td>0.692755</td>\n",
       "      <td>0.414397</td>\n",
       "    </tr>\n",
       "  </tbody>\n",
       "</table>\n",
       "</div>"
      ],
      "text/plain": [
       "   key Начало нагрева дугой  Конец нагрева дугой  Активная мощность  \\\n",
       "0    1  2019-05-03 11:02:14  2019-05-03 11:06:02           0.976059   \n",
       "1    1  2019-05-03 11:07:28  2019-05-03 11:10:33           0.805607   \n",
       "2    1  2019-05-03 11:11:44  2019-05-03 11:14:36           0.744363   \n",
       "3    1  2019-05-03 11:18:14  2019-05-03 11:24:19           1.659363   \n",
       "4    1  2019-05-03 11:26:09  2019-05-03 11:28:37           0.692755   \n",
       "\n",
       "   Реактивная мощность  \n",
       "0             0.687084  \n",
       "1             0.520285  \n",
       "2             0.498805  \n",
       "3             1.062669  \n",
       "4             0.414397  "
      ]
     },
     "metadata": {},
     "output_type": "display_data"
    },
    {
     "data": {
      "text/html": [
       "<div>\n",
       "<style scoped>\n",
       "    .dataframe tbody tr th:only-of-type {\n",
       "        vertical-align: middle;\n",
       "    }\n",
       "\n",
       "    .dataframe tbody tr th {\n",
       "        vertical-align: top;\n",
       "    }\n",
       "\n",
       "    .dataframe thead th {\n",
       "        text-align: right;\n",
       "    }\n",
       "</style>\n",
       "<table border=\"1\" class=\"dataframe\">\n",
       "  <thead>\n",
       "    <tr style=\"text-align: right;\">\n",
       "      <th></th>\n",
       "      <th>key</th>\n",
       "      <th>Активная мощность</th>\n",
       "      <th>Реактивная мощность</th>\n",
       "    </tr>\n",
       "  </thead>\n",
       "  <tbody>\n",
       "    <tr>\n",
       "      <th>count</th>\n",
       "      <td>14876.00</td>\n",
       "      <td>14876.00</td>\n",
       "      <td>14876.00</td>\n",
       "    </tr>\n",
       "    <tr>\n",
       "      <th>mean</th>\n",
       "      <td>1615.22</td>\n",
       "      <td>0.67</td>\n",
       "      <td>0.45</td>\n",
       "    </tr>\n",
       "    <tr>\n",
       "      <th>std</th>\n",
       "      <td>934.57</td>\n",
       "      <td>0.41</td>\n",
       "      <td>5.88</td>\n",
       "    </tr>\n",
       "    <tr>\n",
       "      <th>min</th>\n",
       "      <td>1.00</td>\n",
       "      <td>0.03</td>\n",
       "      <td>-715.50</td>\n",
       "    </tr>\n",
       "    <tr>\n",
       "      <th>25%</th>\n",
       "      <td>806.00</td>\n",
       "      <td>0.40</td>\n",
       "      <td>0.29</td>\n",
       "    </tr>\n",
       "    <tr>\n",
       "      <th>50%</th>\n",
       "      <td>1617.00</td>\n",
       "      <td>0.56</td>\n",
       "      <td>0.42</td>\n",
       "    </tr>\n",
       "    <tr>\n",
       "      <th>75%</th>\n",
       "      <td>2429.00</td>\n",
       "      <td>0.86</td>\n",
       "      <td>0.64</td>\n",
       "    </tr>\n",
       "    <tr>\n",
       "      <th>max</th>\n",
       "      <td>3241.00</td>\n",
       "      <td>3.73</td>\n",
       "      <td>2.68</td>\n",
       "    </tr>\n",
       "  </tbody>\n",
       "</table>\n",
       "</div>"
      ],
      "text/plain": [
       "            key  Активная мощность  Реактивная мощность\n",
       "count  14876.00           14876.00             14876.00\n",
       "mean    1615.22               0.67                 0.45\n",
       "std      934.57               0.41                 5.88\n",
       "min        1.00               0.03              -715.50\n",
       "25%      806.00               0.40                 0.29\n",
       "50%     1617.00               0.56                 0.42\n",
       "75%     2429.00               0.86                 0.64\n",
       "max     3241.00               3.73                 2.68"
      ]
     },
     "metadata": {},
     "output_type": "display_data"
    },
    {
     "data": {
      "text/html": [
       "<div>\n",
       "<style scoped>\n",
       "    .dataframe tbody tr th:only-of-type {\n",
       "        vertical-align: middle;\n",
       "    }\n",
       "\n",
       "    .dataframe tbody tr th {\n",
       "        vertical-align: top;\n",
       "    }\n",
       "\n",
       "    .dataframe thead th {\n",
       "        text-align: right;\n",
       "    }\n",
       "</style>\n",
       "<table border=\"1\" class=\"dataframe\">\n",
       "  <thead>\n",
       "    <tr style=\"text-align: right;\">\n",
       "      <th></th>\n",
       "      <th>Начало нагрева дугой</th>\n",
       "      <th>Конец нагрева дугой</th>\n",
       "    </tr>\n",
       "  </thead>\n",
       "  <tbody>\n",
       "    <tr>\n",
       "      <th>count</th>\n",
       "      <td>14876</td>\n",
       "      <td>14876</td>\n",
       "    </tr>\n",
       "    <tr>\n",
       "      <th>unique</th>\n",
       "      <td>14875</td>\n",
       "      <td>14876</td>\n",
       "    </tr>\n",
       "    <tr>\n",
       "      <th>top</th>\n",
       "      <td>2019-06-10 22:02:03</td>\n",
       "      <td>2019-05-31 21:03:40</td>\n",
       "    </tr>\n",
       "    <tr>\n",
       "      <th>freq</th>\n",
       "      <td>2</td>\n",
       "      <td>1</td>\n",
       "    </tr>\n",
       "  </tbody>\n",
       "</table>\n",
       "</div>"
      ],
      "text/plain": [
       "       Начало нагрева дугой  Конец нагрева дугой\n",
       "count                 14876                14876\n",
       "unique                14875                14876\n",
       "top     2019-06-10 22:02:03  2019-05-31 21:03:40\n",
       "freq                      2                    1"
      ]
     },
     "metadata": {},
     "output_type": "display_data"
    }
   ],
   "source": [
    "analysis(data_arc)"
   ]
  },
  {
   "cell_type": "markdown",
   "id": "56c2281f",
   "metadata": {},
   "source": [
    "Посмотрим количество ключей"
   ]
  },
  {
   "cell_type": "code",
   "execution_count": 5,
   "id": "736e892a",
   "metadata": {},
   "outputs": [
    {
     "data": {
      "text/plain": [
       "3214"
      ]
     },
     "execution_count": 5,
     "metadata": {},
     "output_type": "execute_result"
    }
   ],
   "source": [
    "len(data_arc['key'].unique())"
   ]
  },
  {
   "cell_type": "code",
   "execution_count": 6,
   "id": "e3fde835",
   "metadata": {},
   "outputs": [
    {
     "data": {
      "image/png": "[encoded data removed]",
      "text/plain": [
       "<Figure size 432x288 with 1 Axes>"
      ]
     },
     "metadata": {
      "needs_background": "light"
     },
     "output_type": "display_data"
    }
   ],
   "source": [
    "data_arc['key'].hist(bins=data_temp['key'].max())\n",
    "plt.show()"
   ]
  },
  {
   "cell_type": "markdown",
   "id": "8501b8ae",
   "metadata": {},
   "source": [
    "Посмотрим данные c отрицательной реактивной мощностью."
   ]
  },
  {
   "cell_type": "code",
   "execution_count": 7,
   "id": "3104d736",
   "metadata": {},
   "outputs": [
    {
     "data": {
      "text/html": [
       "<div>\n",
       "<style scoped>\n",
       "    .dataframe tbody tr th:only-of-type {\n",
       "        vertical-align: middle;\n",
       "    }\n",
       "\n",
       "    .dataframe tbody tr th {\n",
       "        vertical-align: top;\n",
       "    }\n",
       "\n",
       "    .dataframe thead th {\n",
       "        text-align: right;\n",
       "    }\n",
       "</style>\n",
       "<table border=\"1\" class=\"dataframe\">\n",
       "  <thead>\n",
       "    <tr style=\"text-align: right;\">\n",
       "      <th></th>\n",
       "      <th>key</th>\n",
       "      <th>Начало нагрева дугой</th>\n",
       "      <th>Конец нагрева дугой</th>\n",
       "      <th>Активная мощность</th>\n",
       "      <th>Реактивная мощность</th>\n",
       "    </tr>\n",
       "  </thead>\n",
       "  <tbody>\n",
       "    <tr>\n",
       "      <th>9780</th>\n",
       "      <td>2116</td>\n",
       "      <td>2019-07-24 00:44:48</td>\n",
       "      <td>2019-07-24 00:46:37</td>\n",
       "      <td>0.495782</td>\n",
       "      <td>-715.504924</td>\n",
       "    </tr>\n",
       "  </tbody>\n",
       "</table>\n",
       "</div>"
      ],
      "text/plain": [
       "       key Начало нагрева дугой  Конец нагрева дугой  Активная мощность  \\\n",
       "9780  2116  2019-07-24 00:44:48  2019-07-24 00:46:37           0.495782   \n",
       "\n",
       "      Реактивная мощность  \n",
       "9780          -715.504924  "
      ]
     },
     "execution_count": 7,
     "metadata": {},
     "output_type": "execute_result"
    }
   ],
   "source": [
    "data_arc[data_arc['Реактивная мощность'] < 0].head()"
   ]
  },
  {
   "cell_type": "code",
   "execution_count": 8,
   "id": "d4bfe570",
   "metadata": {},
   "outputs": [
    {
     "data": {
      "text/html": [
       "<div>\n",
       "<style scoped>\n",
       "    .dataframe tbody tr th:only-of-type {\n",
       "        vertical-align: middle;\n",
       "    }\n",
       "\n",
       "    .dataframe tbody tr th {\n",
       "        vertical-align: top;\n",
       "    }\n",
       "\n",
       "    .dataframe thead th {\n",
       "        text-align: right;\n",
       "    }\n",
       "</style>\n",
       "<table border=\"1\" class=\"dataframe\">\n",
       "  <thead>\n",
       "    <tr style=\"text-align: right;\">\n",
       "      <th></th>\n",
       "      <th>key</th>\n",
       "      <th>Начало нагрева дугой</th>\n",
       "      <th>Конец нагрева дугой</th>\n",
       "      <th>Активная мощность</th>\n",
       "      <th>Реактивная мощность</th>\n",
       "    </tr>\n",
       "  </thead>\n",
       "  <tbody>\n",
       "    <tr>\n",
       "      <th>9778</th>\n",
       "      <td>2116</td>\n",
       "      <td>2019-07-24 00:29:52</td>\n",
       "      <td>2019-07-24 00:31:54</td>\n",
       "      <td>0.433266</td>\n",
       "      <td>0.306141</td>\n",
       "    </tr>\n",
       "    <tr>\n",
       "      <th>9779</th>\n",
       "      <td>2116</td>\n",
       "      <td>2019-07-24 00:35:50</td>\n",
       "      <td>2019-07-24 00:38:05</td>\n",
       "      <td>0.620265</td>\n",
       "      <td>0.408352</td>\n",
       "    </tr>\n",
       "    <tr>\n",
       "      <th>9780</th>\n",
       "      <td>2116</td>\n",
       "      <td>2019-07-24 00:44:48</td>\n",
       "      <td>2019-07-24 00:46:37</td>\n",
       "      <td>0.495782</td>\n",
       "      <td>-715.504924</td>\n",
       "    </tr>\n",
       "    <tr>\n",
       "      <th>9781</th>\n",
       "      <td>2116</td>\n",
       "      <td>2019-07-24 00:51:51</td>\n",
       "      <td>2019-07-24 00:52:58</td>\n",
       "      <td>0.299368</td>\n",
       "      <td>0.198796</td>\n",
       "    </tr>\n",
       "  </tbody>\n",
       "</table>\n",
       "</div>"
      ],
      "text/plain": [
       "       key Начало нагрева дугой  Конец нагрева дугой  Активная мощность  \\\n",
       "9778  2116  2019-07-24 00:29:52  2019-07-24 00:31:54           0.433266   \n",
       "9779  2116  2019-07-24 00:35:50  2019-07-24 00:38:05           0.620265   \n",
       "9780  2116  2019-07-24 00:44:48  2019-07-24 00:46:37           0.495782   \n",
       "9781  2116  2019-07-24 00:51:51  2019-07-24 00:52:58           0.299368   \n",
       "\n",
       "      Реактивная мощность  \n",
       "9778             0.306141  \n",
       "9779             0.408352  \n",
       "9780          -715.504924  \n",
       "9781             0.198796  "
      ]
     },
     "execution_count": 8,
     "metadata": {},
     "output_type": "execute_result"
    }
   ],
   "source": [
    "data_arc[data_arc['key'] == 2116]"
   ]
  },
  {
   "cell_type": "code",
   "execution_count": 9,
   "id": "72432f76",
   "metadata": {},
   "outputs": [
    {
     "data": {
      "text/plain": [
       "9778    1.415252\n",
       "9779    1.518947\n",
       "9780   -0.000693\n",
       "9781    1.505906\n",
       "dtype: float64"
      ]
     },
     "execution_count": 9,
     "metadata": {},
     "output_type": "execute_result"
    }
   ],
   "source": [
    "(data_arc[data_arc['key'] == 2116]['Активная мощность'] / \n",
    "data_arc[data_arc['key'] == 2116]['Реактивная мощность']) "
   ]
  },
  {
   "cell_type": "markdown",
   "id": "1f4b4529",
   "metadata": {},
   "source": [
    "Посмотрим данные с повторяющей датой начала нагрева"
   ]
  },
  {
   "cell_type": "code",
   "execution_count": 10,
   "id": "ac83473a",
   "metadata": {},
   "outputs": [
    {
     "data": {
      "text/html": [
       "<div>\n",
       "<style scoped>\n",
       "    .dataframe tbody tr th:only-of-type {\n",
       "        vertical-align: middle;\n",
       "    }\n",
       "\n",
       "    .dataframe tbody tr th {\n",
       "        vertical-align: top;\n",
       "    }\n",
       "\n",
       "    .dataframe thead th {\n",
       "        text-align: right;\n",
       "    }\n",
       "</style>\n",
       "<table border=\"1\" class=\"dataframe\">\n",
       "  <thead>\n",
       "    <tr style=\"text-align: right;\">\n",
       "      <th></th>\n",
       "      <th>key</th>\n",
       "      <th>Начало нагрева дугой</th>\n",
       "      <th>Конец нагрева дугой</th>\n",
       "      <th>Активная мощность</th>\n",
       "      <th>Реактивная мощность</th>\n",
       "    </tr>\n",
       "  </thead>\n",
       "  <tbody>\n",
       "    <tr>\n",
       "      <th>4872</th>\n",
       "      <td>1051</td>\n",
       "      <td>2019-06-10 22:02:03</td>\n",
       "      <td>2019-06-10 22:06:02</td>\n",
       "      <td>1.040376</td>\n",
       "      <td>0.635608</td>\n",
       "    </tr>\n",
       "    <tr>\n",
       "      <th>4876</th>\n",
       "      <td>1052</td>\n",
       "      <td>2019-06-10 22:02:03</td>\n",
       "      <td>2019-06-10 22:04:31</td>\n",
       "      <td>0.623495</td>\n",
       "      <td>0.508767</td>\n",
       "    </tr>\n",
       "  </tbody>\n",
       "</table>\n",
       "</div>"
      ],
      "text/plain": [
       "       key Начало нагрева дугой  Конец нагрева дугой  Активная мощность  \\\n",
       "4872  1051  2019-06-10 22:02:03  2019-06-10 22:06:02           1.040376   \n",
       "4876  1052  2019-06-10 22:02:03  2019-06-10 22:04:31           0.623495   \n",
       "\n",
       "      Реактивная мощность  \n",
       "4872             0.635608  \n",
       "4876             0.508767  "
      ]
     },
     "execution_count": 10,
     "metadata": {},
     "output_type": "execute_result"
    }
   ],
   "source": [
    "data_arc[data_arc['Начало нагрева дугой'] == '2019-06-10 22:02:03']"
   ]
  },
  {
   "cell_type": "code",
   "execution_count": 11,
   "id": "ceaae123",
   "metadata": {
    "scrolled": false
   },
   "outputs": [
    {
     "data": {
      "text/html": [
       "<div>\n",
       "<style scoped>\n",
       "    .dataframe tbody tr th:only-of-type {\n",
       "        vertical-align: middle;\n",
       "    }\n",
       "\n",
       "    .dataframe tbody tr th {\n",
       "        vertical-align: top;\n",
       "    }\n",
       "\n",
       "    .dataframe thead th {\n",
       "        text-align: right;\n",
       "    }\n",
       "</style>\n",
       "<table border=\"1\" class=\"dataframe\">\n",
       "  <thead>\n",
       "    <tr style=\"text-align: right;\">\n",
       "      <th></th>\n",
       "      <th>key</th>\n",
       "      <th>Начало нагрева дугой</th>\n",
       "      <th>Конец нагрева дугой</th>\n",
       "      <th>Активная мощность</th>\n",
       "      <th>Реактивная мощность</th>\n",
       "    </tr>\n",
       "  </thead>\n",
       "  <tbody>\n",
       "    <tr>\n",
       "      <th>4866</th>\n",
       "      <td>1051</td>\n",
       "      <td>2019-06-10 21:10:52</td>\n",
       "      <td>2019-06-10 21:16:30</td>\n",
       "      <td>1.448011</td>\n",
       "      <td>1.045037</td>\n",
       "    </tr>\n",
       "    <tr>\n",
       "      <th>4867</th>\n",
       "      <td>1051</td>\n",
       "      <td>2019-06-10 21:17:31</td>\n",
       "      <td>2019-06-10 21:24:27</td>\n",
       "      <td>2.003559</td>\n",
       "      <td>1.248206</td>\n",
       "    </tr>\n",
       "    <tr>\n",
       "      <th>4868</th>\n",
       "      <td>1051</td>\n",
       "      <td>2019-06-10 21:25:37</td>\n",
       "      <td>2019-06-10 21:30:51</td>\n",
       "      <td>1.528554</td>\n",
       "      <td>0.892720</td>\n",
       "    </tr>\n",
       "    <tr>\n",
       "      <th>4869</th>\n",
       "      <td>1051</td>\n",
       "      <td>2019-06-10 21:32:03</td>\n",
       "      <td>2019-06-10 21:36:58</td>\n",
       "      <td>1.417861</td>\n",
       "      <td>0.818525</td>\n",
       "    </tr>\n",
       "    <tr>\n",
       "      <th>4870</th>\n",
       "      <td>1051</td>\n",
       "      <td>2019-06-10 21:53:30</td>\n",
       "      <td>2019-06-10 21:54:50</td>\n",
       "      <td>0.337850</td>\n",
       "      <td>0.198380</td>\n",
       "    </tr>\n",
       "    <tr>\n",
       "      <th>4871</th>\n",
       "      <td>1051</td>\n",
       "      <td>2019-06-10 21:55:47</td>\n",
       "      <td>2019-06-10 22:00:57</td>\n",
       "      <td>1.352988</td>\n",
       "      <td>0.823782</td>\n",
       "    </tr>\n",
       "    <tr>\n",
       "      <th>4872</th>\n",
       "      <td>1051</td>\n",
       "      <td>2019-06-10 22:02:03</td>\n",
       "      <td>2019-06-10 22:06:02</td>\n",
       "      <td>1.040376</td>\n",
       "      <td>0.635608</td>\n",
       "    </tr>\n",
       "    <tr>\n",
       "      <th>4873</th>\n",
       "      <td>1052</td>\n",
       "      <td>2019-06-10 21:46:15</td>\n",
       "      <td>2019-06-10 21:52:20</td>\n",
       "      <td>1.292979</td>\n",
       "      <td>1.094674</td>\n",
       "    </tr>\n",
       "    <tr>\n",
       "      <th>4874</th>\n",
       "      <td>1052</td>\n",
       "      <td>2019-06-10 21:53:58</td>\n",
       "      <td>2019-06-10 21:58:07</td>\n",
       "      <td>1.098052</td>\n",
       "      <td>0.737462</td>\n",
       "    </tr>\n",
       "    <tr>\n",
       "      <th>4875</th>\n",
       "      <td>1052</td>\n",
       "      <td>2019-06-10 21:59:46</td>\n",
       "      <td>2019-06-10 22:00:20</td>\n",
       "      <td>0.134783</td>\n",
       "      <td>0.092384</td>\n",
       "    </tr>\n",
       "    <tr>\n",
       "      <th>4876</th>\n",
       "      <td>1052</td>\n",
       "      <td>2019-06-10 22:02:03</td>\n",
       "      <td>2019-06-10 22:04:31</td>\n",
       "      <td>0.623495</td>\n",
       "      <td>0.508767</td>\n",
       "    </tr>\n",
       "    <tr>\n",
       "      <th>4877</th>\n",
       "      <td>1052</td>\n",
       "      <td>2019-06-10 22:06:43</td>\n",
       "      <td>2019-06-10 22:08:04</td>\n",
       "      <td>0.287530</td>\n",
       "      <td>0.201650</td>\n",
       "    </tr>\n",
       "    <tr>\n",
       "      <th>4878</th>\n",
       "      <td>1052</td>\n",
       "      <td>2019-06-10 22:16:49</td>\n",
       "      <td>2019-06-10 22:17:24</td>\n",
       "      <td>0.112164</td>\n",
       "      <td>0.079298</td>\n",
       "    </tr>\n",
       "    <tr>\n",
       "      <th>4879</th>\n",
       "      <td>1052</td>\n",
       "      <td>2019-06-10 22:18:27</td>\n",
       "      <td>2019-06-10 22:19:36</td>\n",
       "      <td>0.244309</td>\n",
       "      <td>0.172601</td>\n",
       "    </tr>\n",
       "    <tr>\n",
       "      <th>4880</th>\n",
       "      <td>1052</td>\n",
       "      <td>2019-06-10 22:21:08</td>\n",
       "      <td>2019-06-10 22:22:38</td>\n",
       "      <td>0.387504</td>\n",
       "      <td>0.251484</td>\n",
       "    </tr>\n",
       "  </tbody>\n",
       "</table>\n",
       "</div>"
      ],
      "text/plain": [
       "       key Начало нагрева дугой  Конец нагрева дугой  Активная мощность  \\\n",
       "4866  1051  2019-06-10 21:10:52  2019-06-10 21:16:30           1.448011   \n",
       "4867  1051  2019-06-10 21:17:31  2019-06-10 21:24:27           2.003559   \n",
       "4868  1051  2019-06-10 21:25:37  2019-06-10 21:30:51           1.528554   \n",
       "4869  1051  2019-06-10 21:32:03  2019-06-10 21:36:58           1.417861   \n",
       "4870  1051  2019-06-10 21:53:30  2019-06-10 21:54:50           0.337850   \n",
       "4871  1051  2019-06-10 21:55:47  2019-06-10 22:00:57           1.352988   \n",
       "4872  1051  2019-06-10 22:02:03  2019-06-10 22:06:02           1.040376   \n",
       "4873  1052  2019-06-10 21:46:15  2019-06-10 21:52:20           1.292979   \n",
       "4874  1052  2019-06-10 21:53:58  2019-06-10 21:58:07           1.098052   \n",
       "4875  1052  2019-06-10 21:59:46  2019-06-10 22:00:20           0.134783   \n",
       "4876  1052  2019-06-10 22:02:03  2019-06-10 22:04:31           0.623495   \n",
       "4877  1052  2019-06-10 22:06:43  2019-06-10 22:08:04           0.287530   \n",
       "4878  1052  2019-06-10 22:16:49  2019-06-10 22:17:24           0.112164   \n",
       "4879  1052  2019-06-10 22:18:27  2019-06-10 22:19:36           0.244309   \n",
       "4880  1052  2019-06-10 22:21:08  2019-06-10 22:22:38           0.387504   \n",
       "\n",
       "      Реактивная мощность  \n",
       "4866             1.045037  \n",
       "4867             1.248206  \n",
       "4868             0.892720  \n",
       "4869             0.818525  \n",
       "4870             0.198380  \n",
       "4871             0.823782  \n",
       "4872             0.635608  \n",
       "4873             1.094674  \n",
       "4874             0.737462  \n",
       "4875             0.092384  \n",
       "4876             0.508767  \n",
       "4877             0.201650  \n",
       "4878             0.079298  \n",
       "4879             0.172601  \n",
       "4880             0.251484  "
      ]
     },
     "execution_count": 11,
     "metadata": {},
     "output_type": "execute_result"
    }
   ],
   "source": [
    "data_arc.query(' 1051<= key <= 1052')"
   ]
  },
  {
   "cell_type": "markdown",
   "id": "d312042c",
   "metadata": {},
   "source": [
    "Очень странно, считал что партии по времени не должны пересекаться, а здесь видно, что 1051 партия варится \"одновременно\" с 1052."
   ]
  },
  {
   "cell_type": "markdown",
   "id": "111750a4",
   "metadata": {},
   "source": [
    "**Промежуточный вывовод по файлу data_arc:**\n",
    "\n",
    "1. Фаил содержит 5 столбцов и 14876 строк.\n",
    "2. Пропусков нет.\n",
    "3. Для ключа 2116 присутствует ошибка в записи реактивной мощности. Ошибка некритичная, можно устронить, изменив значение на среднее между соседними итерациями.\n",
    "4. Всего в файле представлны данные о 3214 ключах.\n",
    "5. В среднем данные по плавке выведены по 3-4 итерациям.\n",
    "\n",
    "Посммотрим данные в таблице подачи сыпучих материалов"
   ]
  },
  {
   "cell_type": "markdown",
   "id": "0e1f29e2",
   "metadata": {},
   "source": [
    "### Сыпучие материалы"
   ]
  },
  {
   "cell_type": "code",
   "execution_count": 12,
   "id": "8cda6017",
   "metadata": {},
   "outputs": [
    {
     "name": "stdout",
     "output_type": "stream",
     "text": [
      "<class 'pandas.core.frame.DataFrame'>\n",
      "RangeIndex: 3129 entries, 0 to 3128\n",
      "Data columns (total 16 columns):\n",
      " #   Column   Non-Null Count  Dtype  \n",
      "---  ------   --------------  -----  \n",
      " 0   key      3129 non-null   int64  \n",
      " 1   Bulk 1   252 non-null    float64\n",
      " 2   Bulk 2   22 non-null     float64\n",
      " 3   Bulk 3   1298 non-null   float64\n",
      " 4   Bulk 4   1014 non-null   float64\n",
      " 5   Bulk 5   77 non-null     float64\n",
      " 6   Bulk 6   576 non-null    float64\n",
      " 7   Bulk 7   25 non-null     float64\n",
      " 8   Bulk 8   1 non-null      float64\n",
      " 9   Bulk 9   19 non-null     float64\n",
      " 10  Bulk 10  176 non-null    float64\n",
      " 11  Bulk 11  177 non-null    float64\n",
      " 12  Bulk 12  2450 non-null   float64\n",
      " 13  Bulk 13  18 non-null     float64\n",
      " 14  Bulk 14  2806 non-null   float64\n",
      " 15  Bulk 15  2248 non-null   float64\n",
      "dtypes: float64(15), int64(1)\n",
      "memory usage: 391.2 KB\n"
     ]
    },
    {
     "data": {
      "text/html": [
       "<div>\n",
       "<style scoped>\n",
       "    .dataframe tbody tr th:only-of-type {\n",
       "        vertical-align: middle;\n",
       "    }\n",
       "\n",
       "    .dataframe tbody tr th {\n",
       "        vertical-align: top;\n",
       "    }\n",
       "\n",
       "    .dataframe thead th {\n",
       "        text-align: right;\n",
       "    }\n",
       "</style>\n",
       "<table border=\"1\" class=\"dataframe\">\n",
       "  <thead>\n",
       "    <tr style=\"text-align: right;\">\n",
       "      <th></th>\n",
       "      <th>key</th>\n",
       "      <th>Bulk 1</th>\n",
       "      <th>Bulk 2</th>\n",
       "      <th>Bulk 3</th>\n",
       "      <th>Bulk 4</th>\n",
       "      <th>Bulk 5</th>\n",
       "      <th>Bulk 6</th>\n",
       "      <th>Bulk 7</th>\n",
       "      <th>Bulk 8</th>\n",
       "      <th>Bulk 9</th>\n",
       "      <th>Bulk 10</th>\n",
       "      <th>Bulk 11</th>\n",
       "      <th>Bulk 12</th>\n",
       "      <th>Bulk 13</th>\n",
       "      <th>Bulk 14</th>\n",
       "      <th>Bulk 15</th>\n",
       "    </tr>\n",
       "  </thead>\n",
       "  <tbody>\n",
       "    <tr>\n",
       "      <th>0</th>\n",
       "      <td>1</td>\n",
       "      <td>NaN</td>\n",
       "      <td>NaN</td>\n",
       "      <td>NaN</td>\n",
       "      <td>43.0</td>\n",
       "      <td>NaN</td>\n",
       "      <td>NaN</td>\n",
       "      <td>NaN</td>\n",
       "      <td>NaN</td>\n",
       "      <td>NaN</td>\n",
       "      <td>NaN</td>\n",
       "      <td>NaN</td>\n",
       "      <td>206.0</td>\n",
       "      <td>NaN</td>\n",
       "      <td>150.0</td>\n",
       "      <td>154.0</td>\n",
       "    </tr>\n",
       "    <tr>\n",
       "      <th>1</th>\n",
       "      <td>2</td>\n",
       "      <td>NaN</td>\n",
       "      <td>NaN</td>\n",
       "      <td>NaN</td>\n",
       "      <td>73.0</td>\n",
       "      <td>NaN</td>\n",
       "      <td>NaN</td>\n",
       "      <td>NaN</td>\n",
       "      <td>NaN</td>\n",
       "      <td>NaN</td>\n",
       "      <td>NaN</td>\n",
       "      <td>NaN</td>\n",
       "      <td>206.0</td>\n",
       "      <td>NaN</td>\n",
       "      <td>149.0</td>\n",
       "      <td>154.0</td>\n",
       "    </tr>\n",
       "    <tr>\n",
       "      <th>2</th>\n",
       "      <td>3</td>\n",
       "      <td>NaN</td>\n",
       "      <td>NaN</td>\n",
       "      <td>NaN</td>\n",
       "      <td>34.0</td>\n",
       "      <td>NaN</td>\n",
       "      <td>NaN</td>\n",
       "      <td>NaN</td>\n",
       "      <td>NaN</td>\n",
       "      <td>NaN</td>\n",
       "      <td>NaN</td>\n",
       "      <td>NaN</td>\n",
       "      <td>205.0</td>\n",
       "      <td>NaN</td>\n",
       "      <td>152.0</td>\n",
       "      <td>153.0</td>\n",
       "    </tr>\n",
       "    <tr>\n",
       "      <th>3</th>\n",
       "      <td>4</td>\n",
       "      <td>NaN</td>\n",
       "      <td>NaN</td>\n",
       "      <td>NaN</td>\n",
       "      <td>81.0</td>\n",
       "      <td>NaN</td>\n",
       "      <td>NaN</td>\n",
       "      <td>NaN</td>\n",
       "      <td>NaN</td>\n",
       "      <td>NaN</td>\n",
       "      <td>NaN</td>\n",
       "      <td>NaN</td>\n",
       "      <td>207.0</td>\n",
       "      <td>NaN</td>\n",
       "      <td>153.0</td>\n",
       "      <td>154.0</td>\n",
       "    </tr>\n",
       "    <tr>\n",
       "      <th>4</th>\n",
       "      <td>5</td>\n",
       "      <td>NaN</td>\n",
       "      <td>NaN</td>\n",
       "      <td>NaN</td>\n",
       "      <td>78.0</td>\n",
       "      <td>NaN</td>\n",
       "      <td>NaN</td>\n",
       "      <td>NaN</td>\n",
       "      <td>NaN</td>\n",
       "      <td>NaN</td>\n",
       "      <td>NaN</td>\n",
       "      <td>NaN</td>\n",
       "      <td>203.0</td>\n",
       "      <td>NaN</td>\n",
       "      <td>151.0</td>\n",
       "      <td>152.0</td>\n",
       "    </tr>\n",
       "  </tbody>\n",
       "</table>\n",
       "</div>"
      ],
      "text/plain": [
       "   key  Bulk 1  Bulk 2  Bulk 3  Bulk 4  Bulk 5  Bulk 6  Bulk 7  Bulk 8  \\\n",
       "0    1     NaN     NaN     NaN    43.0     NaN     NaN     NaN     NaN   \n",
       "1    2     NaN     NaN     NaN    73.0     NaN     NaN     NaN     NaN   \n",
       "2    3     NaN     NaN     NaN    34.0     NaN     NaN     NaN     NaN   \n",
       "3    4     NaN     NaN     NaN    81.0     NaN     NaN     NaN     NaN   \n",
       "4    5     NaN     NaN     NaN    78.0     NaN     NaN     NaN     NaN   \n",
       "\n",
       "   Bulk 9  Bulk 10  Bulk 11  Bulk 12  Bulk 13  Bulk 14  Bulk 15  \n",
       "0     NaN      NaN      NaN    206.0      NaN    150.0    154.0  \n",
       "1     NaN      NaN      NaN    206.0      NaN    149.0    154.0  \n",
       "2     NaN      NaN      NaN    205.0      NaN    152.0    153.0  \n",
       "3     NaN      NaN      NaN    207.0      NaN    153.0    154.0  \n",
       "4     NaN      NaN      NaN    203.0      NaN    151.0    152.0  "
      ]
     },
     "metadata": {},
     "output_type": "display_data"
    },
    {
     "data": {
      "text/html": [
       "<div>\n",
       "<style scoped>\n",
       "    .dataframe tbody tr th:only-of-type {\n",
       "        vertical-align: middle;\n",
       "    }\n",
       "\n",
       "    .dataframe tbody tr th {\n",
       "        vertical-align: top;\n",
       "    }\n",
       "\n",
       "    .dataframe thead th {\n",
       "        text-align: right;\n",
       "    }\n",
       "</style>\n",
       "<table border=\"1\" class=\"dataframe\">\n",
       "  <thead>\n",
       "    <tr style=\"text-align: right;\">\n",
       "      <th></th>\n",
       "      <th>key</th>\n",
       "      <th>Bulk 1</th>\n",
       "      <th>Bulk 2</th>\n",
       "      <th>Bulk 3</th>\n",
       "      <th>Bulk 4</th>\n",
       "      <th>Bulk 5</th>\n",
       "      <th>Bulk 6</th>\n",
       "      <th>Bulk 7</th>\n",
       "      <th>Bulk 8</th>\n",
       "      <th>Bulk 9</th>\n",
       "      <th>Bulk 10</th>\n",
       "      <th>Bulk 11</th>\n",
       "      <th>Bulk 12</th>\n",
       "      <th>Bulk 13</th>\n",
       "      <th>Bulk 14</th>\n",
       "      <th>Bulk 15</th>\n",
       "    </tr>\n",
       "  </thead>\n",
       "  <tbody>\n",
       "    <tr>\n",
       "      <th>count</th>\n",
       "      <td>3129.00</td>\n",
       "      <td>252.00</td>\n",
       "      <td>22.00</td>\n",
       "      <td>1298.00</td>\n",
       "      <td>1014.00</td>\n",
       "      <td>77.00</td>\n",
       "      <td>576.00</td>\n",
       "      <td>25.00</td>\n",
       "      <td>1.0</td>\n",
       "      <td>19.00</td>\n",
       "      <td>176.00</td>\n",
       "      <td>177.00</td>\n",
       "      <td>2450.00</td>\n",
       "      <td>18.00</td>\n",
       "      <td>2806.00</td>\n",
       "      <td>2248.00</td>\n",
       "    </tr>\n",
       "    <tr>\n",
       "      <th>mean</th>\n",
       "      <td>1624.38</td>\n",
       "      <td>39.24</td>\n",
       "      <td>253.05</td>\n",
       "      <td>113.88</td>\n",
       "      <td>104.39</td>\n",
       "      <td>107.03</td>\n",
       "      <td>118.93</td>\n",
       "      <td>305.60</td>\n",
       "      <td>49.0</td>\n",
       "      <td>76.32</td>\n",
       "      <td>83.28</td>\n",
       "      <td>76.82</td>\n",
       "      <td>260.47</td>\n",
       "      <td>181.11</td>\n",
       "      <td>170.28</td>\n",
       "      <td>160.51</td>\n",
       "    </tr>\n",
       "    <tr>\n",
       "      <th>std</th>\n",
       "      <td>933.34</td>\n",
       "      <td>18.28</td>\n",
       "      <td>21.18</td>\n",
       "      <td>75.48</td>\n",
       "      <td>48.18</td>\n",
       "      <td>81.79</td>\n",
       "      <td>72.06</td>\n",
       "      <td>191.02</td>\n",
       "      <td>NaN</td>\n",
       "      <td>21.72</td>\n",
       "      <td>26.06</td>\n",
       "      <td>59.66</td>\n",
       "      <td>120.65</td>\n",
       "      <td>46.09</td>\n",
       "      <td>65.87</td>\n",
       "      <td>51.77</td>\n",
       "    </tr>\n",
       "    <tr>\n",
       "      <th>min</th>\n",
       "      <td>1.00</td>\n",
       "      <td>10.00</td>\n",
       "      <td>228.00</td>\n",
       "      <td>6.00</td>\n",
       "      <td>12.00</td>\n",
       "      <td>11.00</td>\n",
       "      <td>17.00</td>\n",
       "      <td>47.00</td>\n",
       "      <td>49.0</td>\n",
       "      <td>63.00</td>\n",
       "      <td>24.00</td>\n",
       "      <td>8.00</td>\n",
       "      <td>53.00</td>\n",
       "      <td>151.00</td>\n",
       "      <td>16.00</td>\n",
       "      <td>1.00</td>\n",
       "    </tr>\n",
       "    <tr>\n",
       "      <th>25%</th>\n",
       "      <td>816.00</td>\n",
       "      <td>27.00</td>\n",
       "      <td>242.00</td>\n",
       "      <td>58.00</td>\n",
       "      <td>72.00</td>\n",
       "      <td>70.00</td>\n",
       "      <td>69.75</td>\n",
       "      <td>155.00</td>\n",
       "      <td>49.0</td>\n",
       "      <td>66.00</td>\n",
       "      <td>64.00</td>\n",
       "      <td>25.00</td>\n",
       "      <td>204.00</td>\n",
       "      <td>153.25</td>\n",
       "      <td>119.00</td>\n",
       "      <td>105.00</td>\n",
       "    </tr>\n",
       "    <tr>\n",
       "      <th>50%</th>\n",
       "      <td>1622.00</td>\n",
       "      <td>31.00</td>\n",
       "      <td>251.50</td>\n",
       "      <td>97.50</td>\n",
       "      <td>102.00</td>\n",
       "      <td>86.00</td>\n",
       "      <td>100.00</td>\n",
       "      <td>298.00</td>\n",
       "      <td>49.0</td>\n",
       "      <td>68.00</td>\n",
       "      <td>86.50</td>\n",
       "      <td>64.00</td>\n",
       "      <td>208.00</td>\n",
       "      <td>155.50</td>\n",
       "      <td>151.00</td>\n",
       "      <td>160.00</td>\n",
       "    </tr>\n",
       "    <tr>\n",
       "      <th>75%</th>\n",
       "      <td>2431.00</td>\n",
       "      <td>46.00</td>\n",
       "      <td>257.75</td>\n",
       "      <td>152.00</td>\n",
       "      <td>133.00</td>\n",
       "      <td>132.00</td>\n",
       "      <td>157.00</td>\n",
       "      <td>406.00</td>\n",
       "      <td>49.0</td>\n",
       "      <td>70.50</td>\n",
       "      <td>102.00</td>\n",
       "      <td>106.00</td>\n",
       "      <td>316.00</td>\n",
       "      <td>203.50</td>\n",
       "      <td>205.75</td>\n",
       "      <td>205.00</td>\n",
       "    </tr>\n",
       "    <tr>\n",
       "      <th>max</th>\n",
       "      <td>3241.00</td>\n",
       "      <td>185.00</td>\n",
       "      <td>325.00</td>\n",
       "      <td>454.00</td>\n",
       "      <td>281.00</td>\n",
       "      <td>603.00</td>\n",
       "      <td>503.00</td>\n",
       "      <td>772.00</td>\n",
       "      <td>49.0</td>\n",
       "      <td>147.00</td>\n",
       "      <td>159.00</td>\n",
       "      <td>313.00</td>\n",
       "      <td>1849.00</td>\n",
       "      <td>305.00</td>\n",
       "      <td>636.00</td>\n",
       "      <td>405.00</td>\n",
       "    </tr>\n",
       "  </tbody>\n",
       "</table>\n",
       "</div>"
      ],
      "text/plain": [
       "           key  Bulk 1  Bulk 2   Bulk 3   Bulk 4  Bulk 5  Bulk 6  Bulk 7  \\\n",
       "count  3129.00  252.00   22.00  1298.00  1014.00   77.00  576.00   25.00   \n",
       "mean   1624.38   39.24  253.05   113.88   104.39  107.03  118.93  305.60   \n",
       "std     933.34   18.28   21.18    75.48    48.18   81.79   72.06  191.02   \n",
       "min       1.00   10.00  228.00     6.00    12.00   11.00   17.00   47.00   \n",
       "25%     816.00   27.00  242.00    58.00    72.00   70.00   69.75  155.00   \n",
       "50%    1622.00   31.00  251.50    97.50   102.00   86.00  100.00  298.00   \n",
       "75%    2431.00   46.00  257.75   152.00   133.00  132.00  157.00  406.00   \n",
       "max    3241.00  185.00  325.00   454.00   281.00  603.00  503.00  772.00   \n",
       "\n",
       "       Bulk 8  Bulk 9  Bulk 10  Bulk 11  Bulk 12  Bulk 13  Bulk 14  Bulk 15  \n",
       "count     1.0   19.00   176.00   177.00  2450.00    18.00  2806.00  2248.00  \n",
       "mean     49.0   76.32    83.28    76.82   260.47   181.11   170.28   160.51  \n",
       "std       NaN   21.72    26.06    59.66   120.65    46.09    65.87    51.77  \n",
       "min      49.0   63.00    24.00     8.00    53.00   151.00    16.00     1.00  \n",
       "25%      49.0   66.00    64.00    25.00   204.00   153.25   119.00   105.00  \n",
       "50%      49.0   68.00    86.50    64.00   208.00   155.50   151.00   160.00  \n",
       "75%      49.0   70.50   102.00   106.00   316.00   203.50   205.75   205.00  \n",
       "max      49.0  147.00   159.00   313.00  1849.00   305.00   636.00   405.00  "
      ]
     },
     "metadata": {},
     "output_type": "display_data"
    }
   ],
   "source": [
    "analysis(data_bulk)"
   ]
  },
  {
   "cell_type": "markdown",
   "id": "0005a482",
   "metadata": {},
   "source": [
    "Смотреть неудобно отсортируем по частоте использования смеси"
   ]
  },
  {
   "cell_type": "code",
   "execution_count": 13,
   "id": "a03004f7",
   "metadata": {},
   "outputs": [
    {
     "data": {
      "text/html": [
       "<div>\n",
       "<style scoped>\n",
       "    .dataframe tbody tr th:only-of-type {\n",
       "        vertical-align: middle;\n",
       "    }\n",
       "\n",
       "    .dataframe tbody tr th {\n",
       "        vertical-align: top;\n",
       "    }\n",
       "\n",
       "    .dataframe thead th {\n",
       "        text-align: right;\n",
       "    }\n",
       "</style>\n",
       "<table border=\"1\" class=\"dataframe\">\n",
       "  <thead>\n",
       "    <tr style=\"text-align: right;\">\n",
       "      <th></th>\n",
       "      <th>key</th>\n",
       "      <th>Bulk 14</th>\n",
       "      <th>Bulk 12</th>\n",
       "      <th>Bulk 15</th>\n",
       "      <th>Bulk 3</th>\n",
       "      <th>Bulk 4</th>\n",
       "      <th>Bulk 6</th>\n",
       "      <th>Bulk 1</th>\n",
       "      <th>Bulk 11</th>\n",
       "      <th>Bulk 10</th>\n",
       "      <th>Bulk 5</th>\n",
       "      <th>Bulk 7</th>\n",
       "      <th>Bulk 2</th>\n",
       "      <th>Bulk 9</th>\n",
       "      <th>Bulk 13</th>\n",
       "      <th>Bulk 8</th>\n",
       "    </tr>\n",
       "  </thead>\n",
       "  <tbody>\n",
       "    <tr>\n",
       "      <th>count</th>\n",
       "      <td>3129.0</td>\n",
       "      <td>2806.0</td>\n",
       "      <td>2450.0</td>\n",
       "      <td>2248.0</td>\n",
       "      <td>1298.0</td>\n",
       "      <td>1014.0</td>\n",
       "      <td>576.0</td>\n",
       "      <td>252.0</td>\n",
       "      <td>177.0</td>\n",
       "      <td>176.0</td>\n",
       "      <td>77.0</td>\n",
       "      <td>25.0</td>\n",
       "      <td>22.0</td>\n",
       "      <td>19.0</td>\n",
       "      <td>18.0</td>\n",
       "      <td>1.0</td>\n",
       "    </tr>\n",
       "    <tr>\n",
       "      <th>mean</th>\n",
       "      <td>1624.4</td>\n",
       "      <td>170.3</td>\n",
       "      <td>260.5</td>\n",
       "      <td>160.5</td>\n",
       "      <td>113.9</td>\n",
       "      <td>104.4</td>\n",
       "      <td>118.9</td>\n",
       "      <td>39.2</td>\n",
       "      <td>76.8</td>\n",
       "      <td>83.3</td>\n",
       "      <td>107.0</td>\n",
       "      <td>305.6</td>\n",
       "      <td>253.0</td>\n",
       "      <td>76.3</td>\n",
       "      <td>181.1</td>\n",
       "      <td>49.0</td>\n",
       "    </tr>\n",
       "    <tr>\n",
       "      <th>std</th>\n",
       "      <td>933.3</td>\n",
       "      <td>65.9</td>\n",
       "      <td>120.6</td>\n",
       "      <td>51.8</td>\n",
       "      <td>75.5</td>\n",
       "      <td>48.2</td>\n",
       "      <td>72.1</td>\n",
       "      <td>18.3</td>\n",
       "      <td>59.7</td>\n",
       "      <td>26.1</td>\n",
       "      <td>81.8</td>\n",
       "      <td>191.0</td>\n",
       "      <td>21.2</td>\n",
       "      <td>21.7</td>\n",
       "      <td>46.1</td>\n",
       "      <td>NaN</td>\n",
       "    </tr>\n",
       "    <tr>\n",
       "      <th>min</th>\n",
       "      <td>1.0</td>\n",
       "      <td>16.0</td>\n",
       "      <td>53.0</td>\n",
       "      <td>1.0</td>\n",
       "      <td>6.0</td>\n",
       "      <td>12.0</td>\n",
       "      <td>17.0</td>\n",
       "      <td>10.0</td>\n",
       "      <td>8.0</td>\n",
       "      <td>24.0</td>\n",
       "      <td>11.0</td>\n",
       "      <td>47.0</td>\n",
       "      <td>228.0</td>\n",
       "      <td>63.0</td>\n",
       "      <td>151.0</td>\n",
       "      <td>49.0</td>\n",
       "    </tr>\n",
       "    <tr>\n",
       "      <th>25%</th>\n",
       "      <td>816.0</td>\n",
       "      <td>119.0</td>\n",
       "      <td>204.0</td>\n",
       "      <td>105.0</td>\n",
       "      <td>58.0</td>\n",
       "      <td>72.0</td>\n",
       "      <td>69.8</td>\n",
       "      <td>27.0</td>\n",
       "      <td>25.0</td>\n",
       "      <td>64.0</td>\n",
       "      <td>70.0</td>\n",
       "      <td>155.0</td>\n",
       "      <td>242.0</td>\n",
       "      <td>66.0</td>\n",
       "      <td>153.2</td>\n",
       "      <td>49.0</td>\n",
       "    </tr>\n",
       "    <tr>\n",
       "      <th>50%</th>\n",
       "      <td>1622.0</td>\n",
       "      <td>151.0</td>\n",
       "      <td>208.0</td>\n",
       "      <td>160.0</td>\n",
       "      <td>97.5</td>\n",
       "      <td>102.0</td>\n",
       "      <td>100.0</td>\n",
       "      <td>31.0</td>\n",
       "      <td>64.0</td>\n",
       "      <td>86.5</td>\n",
       "      <td>86.0</td>\n",
       "      <td>298.0</td>\n",
       "      <td>251.5</td>\n",
       "      <td>68.0</td>\n",
       "      <td>155.5</td>\n",
       "      <td>49.0</td>\n",
       "    </tr>\n",
       "    <tr>\n",
       "      <th>75%</th>\n",
       "      <td>2431.0</td>\n",
       "      <td>205.8</td>\n",
       "      <td>316.0</td>\n",
       "      <td>205.0</td>\n",
       "      <td>152.0</td>\n",
       "      <td>133.0</td>\n",
       "      <td>157.0</td>\n",
       "      <td>46.0</td>\n",
       "      <td>106.0</td>\n",
       "      <td>102.0</td>\n",
       "      <td>132.0</td>\n",
       "      <td>406.0</td>\n",
       "      <td>257.8</td>\n",
       "      <td>70.5</td>\n",
       "      <td>203.5</td>\n",
       "      <td>49.0</td>\n",
       "    </tr>\n",
       "    <tr>\n",
       "      <th>max</th>\n",
       "      <td>3241.0</td>\n",
       "      <td>636.0</td>\n",
       "      <td>1849.0</td>\n",
       "      <td>405.0</td>\n",
       "      <td>454.0</td>\n",
       "      <td>281.0</td>\n",
       "      <td>503.0</td>\n",
       "      <td>185.0</td>\n",
       "      <td>313.0</td>\n",
       "      <td>159.0</td>\n",
       "      <td>603.0</td>\n",
       "      <td>772.0</td>\n",
       "      <td>325.0</td>\n",
       "      <td>147.0</td>\n",
       "      <td>305.0</td>\n",
       "      <td>49.0</td>\n",
       "    </tr>\n",
       "  </tbody>\n",
       "</table>\n",
       "</div>"
      ],
      "text/plain": [
       "          key  Bulk 14  Bulk 12  Bulk 15  Bulk 3  Bulk 4  Bulk 6  Bulk 1  \\\n",
       "count  3129.0   2806.0   2450.0   2248.0  1298.0  1014.0   576.0   252.0   \n",
       "mean   1624.4    170.3    260.5    160.5   113.9   104.4   118.9    39.2   \n",
       "std     933.3     65.9    120.6     51.8    75.5    48.2    72.1    18.3   \n",
       "min       1.0     16.0     53.0      1.0     6.0    12.0    17.0    10.0   \n",
       "25%     816.0    119.0    204.0    105.0    58.0    72.0    69.8    27.0   \n",
       "50%    1622.0    151.0    208.0    160.0    97.5   102.0   100.0    31.0   \n",
       "75%    2431.0    205.8    316.0    205.0   152.0   133.0   157.0    46.0   \n",
       "max    3241.0    636.0   1849.0    405.0   454.0   281.0   503.0   185.0   \n",
       "\n",
       "       Bulk 11  Bulk 10  Bulk 5  Bulk 7  Bulk 2  Bulk 9  Bulk 13  Bulk 8  \n",
       "count    177.0    176.0    77.0    25.0    22.0    19.0     18.0     1.0  \n",
       "mean      76.8     83.3   107.0   305.6   253.0    76.3    181.1    49.0  \n",
       "std       59.7     26.1    81.8   191.0    21.2    21.7     46.1     NaN  \n",
       "min        8.0     24.0    11.0    47.0   228.0    63.0    151.0    49.0  \n",
       "25%       25.0     64.0    70.0   155.0   242.0    66.0    153.2    49.0  \n",
       "50%       64.0     86.5    86.0   298.0   251.5    68.0    155.5    49.0  \n",
       "75%      106.0    102.0   132.0   406.0   257.8    70.5    203.5    49.0  \n",
       "max      313.0    159.0   603.0   772.0   325.0   147.0    305.0    49.0  "
      ]
     },
     "execution_count": 13,
     "metadata": {},
     "output_type": "execute_result"
    }
   ],
   "source": [
    "data_bulk.describe().round(1).sort_values('count', axis=1, ascending=False)"
   ]
  },
  {
   "cell_type": "markdown",
   "id": "5086891e",
   "metadata": {},
   "source": [
    "В данной таблице представлена информация по 3129 партиям (на 85 меньше чем в таблице с данными по электродам). Сразу кидается в глаза большое количество пропусков. Из представленных сыпучих матеиалов, только 5 видов добавлялись более чем в 50% случаев.\n",
    "\n",
    "Посмотрим корреляцию"
   ]
  },
  {
   "cell_type": "code",
   "execution_count": 14,
   "id": "9b73860e",
   "metadata": {},
   "outputs": [
    {
     "data": {
      "image/png": "[encoded data removed]",
      "text/plain": [
       "<Figure size 864x864 with 1 Axes>"
      ]
     },
     "metadata": {
      "needs_background": "light"
     },
     "output_type": "display_data"
    }
   ],
   "source": [
    "plt.figure(figsize=(12, 12))\n",
    "(\n",
    "sns.heatmap(data_bulk.drop(['key'], axis=1).corr(), \n",
    "            annot=True, fmt='.1g', \n",
    "            vmin=-1, \n",
    "            vmax=1, \n",
    "            center= 0, \n",
    "            linewidths=2, \n",
    "            linecolor='grey', \n",
    "            cbar=False).\n",
    "set_title('Матрица корреляция', fontsize=18) \n",
    ")\n",
    "plt.show()"
   ]
  },
  {
   "cell_type": "markdown",
   "id": "50e200c4",
   "metadata": {},
   "source": [
    "Получилась интересная картина. Существуют данные, которые имеют высокую степень корреляции (линейную), к сожелению \"сильно\" корреллируются только популярные с непопулярными смесями.\n",
    "\n",
    "В целом такое кол-во признаков оставлять нерационально, поэтому либо существенно сокращу их путём частичного сложения, либо оставлю один признак сложив все используемые смеси для каждой партии, либо оставлю самые популярные признаки. Решение не принято.\n",
    "\n",
    "Посмотрел распределения для самых популярных смесей. Оставил самый интересный."
   ]
  },
  {
   "cell_type": "code",
   "execution_count": 15,
   "id": "704e92b1",
   "metadata": {},
   "outputs": [
    {
     "data": {
      "image/png": "[encoded data removed]",
      "text/plain": [
       "<Figure size 1152x360 with 1 Axes>"
      ]
     },
     "metadata": {
      "needs_background": "light"
     },
     "output_type": "display_data"
    }
   ],
   "source": [
    "plt.figure(figsize=(16, 5))\n",
    "#plt.scatter(x=data_bulk['key'],\n",
    "#            y=data_bulk['Bulk 14'],\n",
    "#            alpha=0.1,\n",
    "#            edgecolors = 'b')\n",
    "\n",
    "#plt.scatter(x=data_bulk['key'],\n",
    "#            y=data_bulk['Bulk 12'],\n",
    "#            alpha=0.1,\n",
    "#            edgecolors = 'red')\n",
    "\n",
    "plt.scatter(x=data_bulk['key'],\n",
    "            y=data_bulk['Bulk 15'],\n",
    "            alpha=0.1,\n",
    "            edgecolors = 'g')\n",
    "\n",
    "plt.xlabel('Партия', fontsize=16)\n",
    "plt.ylabel('Объём смеси', fontsize=16)\n",
    "plt.title('Объём смесей по партиям', fontsize=18)\n",
    "##plt.legend(['Оценки пользователей', 'Оценки критиков'], fontsize=14)\n",
    "plt.grid(True)\n",
    "plt.show()"
   ]
  },
  {
   "cell_type": "code",
   "execution_count": 16,
   "id": "4d86814f",
   "metadata": {},
   "outputs": [
    {
     "name": "stdout",
     "output_type": "stream",
     "text": [
      "<class 'pandas.core.frame.DataFrame'>\n",
      "RangeIndex: 3129 entries, 0 to 3128\n",
      "Data columns (total 16 columns):\n",
      " #   Column   Non-Null Count  Dtype \n",
      "---  ------   --------------  ----- \n",
      " 0   key      3129 non-null   int64 \n",
      " 1   Bulk 1   252 non-null    object\n",
      " 2   Bulk 2   22 non-null     object\n",
      " 3   Bulk 3   1298 non-null   object\n",
      " 4   Bulk 4   1014 non-null   object\n",
      " 5   Bulk 5   77 non-null     object\n",
      " 6   Bulk 6   576 non-null    object\n",
      " 7   Bulk 7   25 non-null     object\n",
      " 8   Bulk 8   1 non-null      object\n",
      " 9   Bulk 9   19 non-null     object\n",
      " 10  Bulk 10  176 non-null    object\n",
      " 11  Bulk 11  177 non-null    object\n",
      " 12  Bulk 12  2450 non-null   object\n",
      " 13  Bulk 13  18 non-null     object\n",
      " 14  Bulk 14  2806 non-null   object\n",
      " 15  Bulk 15  2248 non-null   object\n",
      "dtypes: int64(1), object(15)\n",
      "memory usage: 391.2+ KB\n"
     ]
    },
    {
     "data": {
      "text/html": [
       "<div>\n",
       "<style scoped>\n",
       "    .dataframe tbody tr th:only-of-type {\n",
       "        vertical-align: middle;\n",
       "    }\n",
       "\n",
       "    .dataframe tbody tr th {\n",
       "        vertical-align: top;\n",
       "    }\n",
       "\n",
       "    .dataframe thead th {\n",
       "        text-align: right;\n",
       "    }\n",
       "</style>\n",
       "<table border=\"1\" class=\"dataframe\">\n",
       "  <thead>\n",
       "    <tr style=\"text-align: right;\">\n",
       "      <th></th>\n",
       "      <th>key</th>\n",
       "      <th>Bulk 1</th>\n",
       "      <th>Bulk 2</th>\n",
       "      <th>Bulk 3</th>\n",
       "      <th>Bulk 4</th>\n",
       "      <th>Bulk 5</th>\n",
       "      <th>Bulk 6</th>\n",
       "      <th>Bulk 7</th>\n",
       "      <th>Bulk 8</th>\n",
       "      <th>Bulk 9</th>\n",
       "      <th>Bulk 10</th>\n",
       "      <th>Bulk 11</th>\n",
       "      <th>Bulk 12</th>\n",
       "      <th>Bulk 13</th>\n",
       "      <th>Bulk 14</th>\n",
       "      <th>Bulk 15</th>\n",
       "    </tr>\n",
       "  </thead>\n",
       "  <tbody>\n",
       "    <tr>\n",
       "      <th>0</th>\n",
       "      <td>1</td>\n",
       "      <td>NaN</td>\n",
       "      <td>NaN</td>\n",
       "      <td>NaN</td>\n",
       "      <td>2019-05-03 11:21:30</td>\n",
       "      <td>NaN</td>\n",
       "      <td>NaN</td>\n",
       "      <td>NaN</td>\n",
       "      <td>NaN</td>\n",
       "      <td>NaN</td>\n",
       "      <td>NaN</td>\n",
       "      <td>NaN</td>\n",
       "      <td>2019-05-03 11:03:52</td>\n",
       "      <td>NaN</td>\n",
       "      <td>2019-05-03 11:03:52</td>\n",
       "      <td>2019-05-03 11:03:52</td>\n",
       "    </tr>\n",
       "    <tr>\n",
       "      <th>1</th>\n",
       "      <td>2</td>\n",
       "      <td>NaN</td>\n",
       "      <td>NaN</td>\n",
       "      <td>NaN</td>\n",
       "      <td>2019-05-03 11:46:38</td>\n",
       "      <td>NaN</td>\n",
       "      <td>NaN</td>\n",
       "      <td>NaN</td>\n",
       "      <td>NaN</td>\n",
       "      <td>NaN</td>\n",
       "      <td>NaN</td>\n",
       "      <td>NaN</td>\n",
       "      <td>2019-05-03 11:40:20</td>\n",
       "      <td>NaN</td>\n",
       "      <td>2019-05-03 11:40:20</td>\n",
       "      <td>2019-05-03 11:40:20</td>\n",
       "    </tr>\n",
       "    <tr>\n",
       "      <th>2</th>\n",
       "      <td>3</td>\n",
       "      <td>NaN</td>\n",
       "      <td>NaN</td>\n",
       "      <td>NaN</td>\n",
       "      <td>2019-05-03 12:31:06</td>\n",
       "      <td>NaN</td>\n",
       "      <td>NaN</td>\n",
       "      <td>NaN</td>\n",
       "      <td>NaN</td>\n",
       "      <td>NaN</td>\n",
       "      <td>NaN</td>\n",
       "      <td>NaN</td>\n",
       "      <td>2019-05-03 12:09:40</td>\n",
       "      <td>NaN</td>\n",
       "      <td>2019-05-03 12:09:40</td>\n",
       "      <td>2019-05-03 12:09:40</td>\n",
       "    </tr>\n",
       "    <tr>\n",
       "      <th>3</th>\n",
       "      <td>4</td>\n",
       "      <td>NaN</td>\n",
       "      <td>NaN</td>\n",
       "      <td>NaN</td>\n",
       "      <td>2019-05-03 12:48:43</td>\n",
       "      <td>NaN</td>\n",
       "      <td>NaN</td>\n",
       "      <td>NaN</td>\n",
       "      <td>NaN</td>\n",
       "      <td>NaN</td>\n",
       "      <td>NaN</td>\n",
       "      <td>NaN</td>\n",
       "      <td>2019-05-03 12:41:24</td>\n",
       "      <td>NaN</td>\n",
       "      <td>2019-05-03 12:41:24</td>\n",
       "      <td>2019-05-03 12:41:24</td>\n",
       "    </tr>\n",
       "    <tr>\n",
       "      <th>4</th>\n",
       "      <td>5</td>\n",
       "      <td>NaN</td>\n",
       "      <td>NaN</td>\n",
       "      <td>NaN</td>\n",
       "      <td>2019-05-03 13:18:50</td>\n",
       "      <td>NaN</td>\n",
       "      <td>NaN</td>\n",
       "      <td>NaN</td>\n",
       "      <td>NaN</td>\n",
       "      <td>NaN</td>\n",
       "      <td>NaN</td>\n",
       "      <td>NaN</td>\n",
       "      <td>2019-05-03 13:12:56</td>\n",
       "      <td>NaN</td>\n",
       "      <td>2019-05-03 13:12:56</td>\n",
       "      <td>2019-05-03 13:12:56</td>\n",
       "    </tr>\n",
       "  </tbody>\n",
       "</table>\n",
       "</div>"
      ],
      "text/plain": [
       "   key Bulk 1 Bulk 2 Bulk 3               Bulk 4 Bulk 5 Bulk 6 Bulk 7 Bulk 8  \\\n",
       "0    1    NaN    NaN    NaN  2019-05-03 11:21:30    NaN    NaN    NaN    NaN   \n",
       "1    2    NaN    NaN    NaN  2019-05-03 11:46:38    NaN    NaN    NaN    NaN   \n",
       "2    3    NaN    NaN    NaN  2019-05-03 12:31:06    NaN    NaN    NaN    NaN   \n",
       "3    4    NaN    NaN    NaN  2019-05-03 12:48:43    NaN    NaN    NaN    NaN   \n",
       "4    5    NaN    NaN    NaN  2019-05-03 13:18:50    NaN    NaN    NaN    NaN   \n",
       "\n",
       "  Bulk 9 Bulk 10 Bulk 11              Bulk 12 Bulk 13              Bulk 14  \\\n",
       "0    NaN     NaN     NaN  2019-05-03 11:03:52     NaN  2019-05-03 11:03:52   \n",
       "1    NaN     NaN     NaN  2019-05-03 11:40:20     NaN  2019-05-03 11:40:20   \n",
       "2    NaN     NaN     NaN  2019-05-03 12:09:40     NaN  2019-05-03 12:09:40   \n",
       "3    NaN     NaN     NaN  2019-05-03 12:41:24     NaN  2019-05-03 12:41:24   \n",
       "4    NaN     NaN     NaN  2019-05-03 13:12:56     NaN  2019-05-03 13:12:56   \n",
       "\n",
       "               Bulk 15  \n",
       "0  2019-05-03 11:03:52  \n",
       "1  2019-05-03 11:40:20  \n",
       "2  2019-05-03 12:09:40  \n",
       "3  2019-05-03 12:41:24  \n",
       "4  2019-05-03 13:12:56  "
      ]
     },
     "metadata": {},
     "output_type": "display_data"
    },
    {
     "data": {
      "text/html": [
       "<div>\n",
       "<style scoped>\n",
       "    .dataframe tbody tr th:only-of-type {\n",
       "        vertical-align: middle;\n",
       "    }\n",
       "\n",
       "    .dataframe tbody tr th {\n",
       "        vertical-align: top;\n",
       "    }\n",
       "\n",
       "    .dataframe thead th {\n",
       "        text-align: right;\n",
       "    }\n",
       "</style>\n",
       "<table border=\"1\" class=\"dataframe\">\n",
       "  <thead>\n",
       "    <tr style=\"text-align: right;\">\n",
       "      <th></th>\n",
       "      <th>key</th>\n",
       "    </tr>\n",
       "  </thead>\n",
       "  <tbody>\n",
       "    <tr>\n",
       "      <th>count</th>\n",
       "      <td>3129.00</td>\n",
       "    </tr>\n",
       "    <tr>\n",
       "      <th>mean</th>\n",
       "      <td>1624.38</td>\n",
       "    </tr>\n",
       "    <tr>\n",
       "      <th>std</th>\n",
       "      <td>933.34</td>\n",
       "    </tr>\n",
       "    <tr>\n",
       "      <th>min</th>\n",
       "      <td>1.00</td>\n",
       "    </tr>\n",
       "    <tr>\n",
       "      <th>25%</th>\n",
       "      <td>816.00</td>\n",
       "    </tr>\n",
       "    <tr>\n",
       "      <th>50%</th>\n",
       "      <td>1622.00</td>\n",
       "    </tr>\n",
       "    <tr>\n",
       "      <th>75%</th>\n",
       "      <td>2431.00</td>\n",
       "    </tr>\n",
       "    <tr>\n",
       "      <th>max</th>\n",
       "      <td>3241.00</td>\n",
       "    </tr>\n",
       "  </tbody>\n",
       "</table>\n",
       "</div>"
      ],
      "text/plain": [
       "           key\n",
       "count  3129.00\n",
       "mean   1624.38\n",
       "std     933.34\n",
       "min       1.00\n",
       "25%     816.00\n",
       "50%    1622.00\n",
       "75%    2431.00\n",
       "max    3241.00"
      ]
     },
     "metadata": {},
     "output_type": "display_data"
    },
    {
     "data": {
      "text/html": [
       "<div>\n",
       "<style scoped>\n",
       "    .dataframe tbody tr th:only-of-type {\n",
       "        vertical-align: middle;\n",
       "    }\n",
       "\n",
       "    .dataframe tbody tr th {\n",
       "        vertical-align: top;\n",
       "    }\n",
       "\n",
       "    .dataframe thead th {\n",
       "        text-align: right;\n",
       "    }\n",
       "</style>\n",
       "<table border=\"1\" class=\"dataframe\">\n",
       "  <thead>\n",
       "    <tr style=\"text-align: right;\">\n",
       "      <th></th>\n",
       "      <th>Bulk 1</th>\n",
       "      <th>Bulk 2</th>\n",
       "      <th>Bulk 3</th>\n",
       "      <th>Bulk 4</th>\n",
       "      <th>Bulk 5</th>\n",
       "      <th>Bulk 6</th>\n",
       "      <th>Bulk 7</th>\n",
       "      <th>Bulk 8</th>\n",
       "      <th>Bulk 9</th>\n",
       "      <th>Bulk 10</th>\n",
       "      <th>Bulk 11</th>\n",
       "      <th>Bulk 12</th>\n",
       "      <th>Bulk 13</th>\n",
       "      <th>Bulk 14</th>\n",
       "      <th>Bulk 15</th>\n",
       "    </tr>\n",
       "  </thead>\n",
       "  <tbody>\n",
       "    <tr>\n",
       "      <th>count</th>\n",
       "      <td>252</td>\n",
       "      <td>22</td>\n",
       "      <td>1298</td>\n",
       "      <td>1014</td>\n",
       "      <td>77</td>\n",
       "      <td>576</td>\n",
       "      <td>25</td>\n",
       "      <td>1</td>\n",
       "      <td>19</td>\n",
       "      <td>176</td>\n",
       "      <td>177</td>\n",
       "      <td>2450</td>\n",
       "      <td>18</td>\n",
       "      <td>2806</td>\n",
       "      <td>2248</td>\n",
       "    </tr>\n",
       "    <tr>\n",
       "      <th>unique</th>\n",
       "      <td>252</td>\n",
       "      <td>22</td>\n",
       "      <td>1298</td>\n",
       "      <td>1014</td>\n",
       "      <td>77</td>\n",
       "      <td>576</td>\n",
       "      <td>25</td>\n",
       "      <td>1</td>\n",
       "      <td>19</td>\n",
       "      <td>176</td>\n",
       "      <td>177</td>\n",
       "      <td>2450</td>\n",
       "      <td>18</td>\n",
       "      <td>2806</td>\n",
       "      <td>2248</td>\n",
       "    </tr>\n",
       "    <tr>\n",
       "      <th>top</th>\n",
       "      <td>2019-06-13 13:35:57</td>\n",
       "      <td>2019-08-08 14:33:22</td>\n",
       "      <td>2019-06-04 06:29:32</td>\n",
       "      <td>2019-05-25 21:50:10</td>\n",
       "      <td>2019-05-11 21:33:53</td>\n",
       "      <td>2019-08-21 07:34:27</td>\n",
       "      <td>2019-08-08 10:27:58</td>\n",
       "      <td>2019-07-05 17:46:11</td>\n",
       "      <td>2019-05-14 01:09:57</td>\n",
       "      <td>2019-07-31 15:59:07</td>\n",
       "      <td>2019-07-24 04:36:00</td>\n",
       "      <td>2019-07-28 09:39:45</td>\n",
       "      <td>2019-05-05 00:39:35</td>\n",
       "      <td>2019-07-28 09:39:45</td>\n",
       "      <td>2019-07-28 09:39:45</td>\n",
       "    </tr>\n",
       "    <tr>\n",
       "      <th>freq</th>\n",
       "      <td>1</td>\n",
       "      <td>1</td>\n",
       "      <td>1</td>\n",
       "      <td>1</td>\n",
       "      <td>1</td>\n",
       "      <td>1</td>\n",
       "      <td>1</td>\n",
       "      <td>1</td>\n",
       "      <td>1</td>\n",
       "      <td>1</td>\n",
       "      <td>1</td>\n",
       "      <td>1</td>\n",
       "      <td>1</td>\n",
       "      <td>1</td>\n",
       "      <td>1</td>\n",
       "    </tr>\n",
       "  </tbody>\n",
       "</table>\n",
       "</div>"
      ],
      "text/plain": [
       "                     Bulk 1               Bulk 2               Bulk 3  \\\n",
       "count                   252                   22                 1298   \n",
       "unique                  252                   22                 1298   \n",
       "top     2019-06-13 13:35:57  2019-08-08 14:33:22  2019-06-04 06:29:32   \n",
       "freq                      1                    1                    1   \n",
       "\n",
       "                     Bulk 4               Bulk 5               Bulk 6  \\\n",
       "count                  1014                   77                  576   \n",
       "unique                 1014                   77                  576   \n",
       "top     2019-05-25 21:50:10  2019-05-11 21:33:53  2019-08-21 07:34:27   \n",
       "freq                      1                    1                    1   \n",
       "\n",
       "                     Bulk 7               Bulk 8               Bulk 9  \\\n",
       "count                    25                    1                   19   \n",
       "unique                   25                    1                   19   \n",
       "top     2019-08-08 10:27:58  2019-07-05 17:46:11  2019-05-14 01:09:57   \n",
       "freq                      1                    1                    1   \n",
       "\n",
       "                    Bulk 10              Bulk 11              Bulk 12  \\\n",
       "count                   176                  177                 2450   \n",
       "unique                  176                  177                 2450   \n",
       "top     2019-07-31 15:59:07  2019-07-24 04:36:00  2019-07-28 09:39:45   \n",
       "freq                      1                    1                    1   \n",
       "\n",
       "                    Bulk 13              Bulk 14              Bulk 15  \n",
       "count                    18                 2806                 2248  \n",
       "unique                   18                 2806                 2248  \n",
       "top     2019-05-05 00:39:35  2019-07-28 09:39:45  2019-07-28 09:39:45  \n",
       "freq                      1                    1                    1  "
      ]
     },
     "metadata": {},
     "output_type": "display_data"
    }
   ],
   "source": [
    "analysis(data_bulk_time)"
   ]
  },
  {
   "cell_type": "code",
   "execution_count": 17,
   "id": "88aa955b",
   "metadata": {},
   "outputs": [
    {
     "data": {
      "text/plain": [
       "[]"
      ]
     },
     "execution_count": 17,
     "metadata": {},
     "output_type": "execute_result"
    }
   ],
   "source": [
    "z = []\n",
    "for i in range(len(data_bulk)):\n",
    "    if data_bulk.iloc[i]['key'] != data_bulk_time.iloc[i]['key']:\n",
    "        z.append(i)\n",
    "z"
   ]
  },
  {
   "cell_type": "markdown",
   "id": "6f4721e3",
   "metadata": {},
   "source": [
    "Ключи совпадают. Данный фаил не пригодится для обучения модели."
   ]
  },
  {
   "cell_type": "markdown",
   "id": "13244fdf",
   "metadata": {},
   "source": [
    "### Газ"
   ]
  },
  {
   "cell_type": "code",
   "execution_count": 18,
   "id": "9ea568e7",
   "metadata": {},
   "outputs": [
    {
     "name": "stdout",
     "output_type": "stream",
     "text": [
      "<class 'pandas.core.frame.DataFrame'>\n",
      "RangeIndex: 3239 entries, 0 to 3238\n",
      "Data columns (total 2 columns):\n",
      " #   Column  Non-Null Count  Dtype  \n",
      "---  ------  --------------  -----  \n",
      " 0   key     3239 non-null   int64  \n",
      " 1   Газ 1   3239 non-null   float64\n",
      "dtypes: float64(1), int64(1)\n",
      "memory usage: 50.7 KB\n"
     ]
    },
    {
     "data": {
      "text/html": [
       "<div>\n",
       "<style scoped>\n",
       "    .dataframe tbody tr th:only-of-type {\n",
       "        vertical-align: middle;\n",
       "    }\n",
       "\n",
       "    .dataframe tbody tr th {\n",
       "        vertical-align: top;\n",
       "    }\n",
       "\n",
       "    .dataframe thead th {\n",
       "        text-align: right;\n",
       "    }\n",
       "</style>\n",
       "<table border=\"1\" class=\"dataframe\">\n",
       "  <thead>\n",
       "    <tr style=\"text-align: right;\">\n",
       "      <th></th>\n",
       "      <th>key</th>\n",
       "      <th>Газ 1</th>\n",
       "    </tr>\n",
       "  </thead>\n",
       "  <tbody>\n",
       "    <tr>\n",
       "      <th>0</th>\n",
       "      <td>1</td>\n",
       "      <td>29.749986</td>\n",
       "    </tr>\n",
       "    <tr>\n",
       "      <th>1</th>\n",
       "      <td>2</td>\n",
       "      <td>12.555561</td>\n",
       "    </tr>\n",
       "    <tr>\n",
       "      <th>2</th>\n",
       "      <td>3</td>\n",
       "      <td>28.554793</td>\n",
       "    </tr>\n",
       "    <tr>\n",
       "      <th>3</th>\n",
       "      <td>4</td>\n",
       "      <td>18.841219</td>\n",
       "    </tr>\n",
       "    <tr>\n",
       "      <th>4</th>\n",
       "      <td>5</td>\n",
       "      <td>5.413692</td>\n",
       "    </tr>\n",
       "  </tbody>\n",
       "</table>\n",
       "</div>"
      ],
      "text/plain": [
       "   key      Газ 1\n",
       "0    1  29.749986\n",
       "1    2  12.555561\n",
       "2    3  28.554793\n",
       "3    4  18.841219\n",
       "4    5   5.413692"
      ]
     },
     "metadata": {},
     "output_type": "display_data"
    },
    {
     "data": {
      "text/html": [
       "<div>\n",
       "<style scoped>\n",
       "    .dataframe tbody tr th:only-of-type {\n",
       "        vertical-align: middle;\n",
       "    }\n",
       "\n",
       "    .dataframe tbody tr th {\n",
       "        vertical-align: top;\n",
       "    }\n",
       "\n",
       "    .dataframe thead th {\n",
       "        text-align: right;\n",
       "    }\n",
       "</style>\n",
       "<table border=\"1\" class=\"dataframe\">\n",
       "  <thead>\n",
       "    <tr style=\"text-align: right;\">\n",
       "      <th></th>\n",
       "      <th>key</th>\n",
       "      <th>Газ 1</th>\n",
       "    </tr>\n",
       "  </thead>\n",
       "  <tbody>\n",
       "    <tr>\n",
       "      <th>count</th>\n",
       "      <td>3239.00</td>\n",
       "      <td>3239.00</td>\n",
       "    </tr>\n",
       "    <tr>\n",
       "      <th>mean</th>\n",
       "      <td>1621.86</td>\n",
       "      <td>11.00</td>\n",
       "    </tr>\n",
       "    <tr>\n",
       "      <th>std</th>\n",
       "      <td>935.39</td>\n",
       "      <td>6.22</td>\n",
       "    </tr>\n",
       "    <tr>\n",
       "      <th>min</th>\n",
       "      <td>1.00</td>\n",
       "      <td>0.01</td>\n",
       "    </tr>\n",
       "    <tr>\n",
       "      <th>25%</th>\n",
       "      <td>812.50</td>\n",
       "      <td>7.04</td>\n",
       "    </tr>\n",
       "    <tr>\n",
       "      <th>50%</th>\n",
       "      <td>1622.00</td>\n",
       "      <td>9.84</td>\n",
       "    </tr>\n",
       "    <tr>\n",
       "      <th>75%</th>\n",
       "      <td>2431.50</td>\n",
       "      <td>13.77</td>\n",
       "    </tr>\n",
       "    <tr>\n",
       "      <th>max</th>\n",
       "      <td>3241.00</td>\n",
       "      <td>78.00</td>\n",
       "    </tr>\n",
       "  </tbody>\n",
       "</table>\n",
       "</div>"
      ],
      "text/plain": [
       "           key    Газ 1\n",
       "count  3239.00  3239.00\n",
       "mean   1621.86    11.00\n",
       "std     935.39     6.22\n",
       "min       1.00     0.01\n",
       "25%     812.50     7.04\n",
       "50%    1622.00     9.84\n",
       "75%    2431.50    13.77\n",
       "max    3241.00    78.00"
      ]
     },
     "metadata": {},
     "output_type": "display_data"
    }
   ],
   "source": [
    "analysis(data_gas)"
   ]
  },
  {
   "cell_type": "code",
   "execution_count": 19,
   "id": "6822b78f",
   "metadata": {},
   "outputs": [
    {
     "data": {
      "image/png": "[encoded data removed]",
      "text/plain": [
       "<Figure size 432x288 with 1 Axes>"
      ]
     },
     "metadata": {
      "needs_background": "light"
     },
     "output_type": "display_data"
    }
   ],
   "source": [
    "data_gas['Газ 1'].hist(bins=780)\n",
    "plt.show()"
   ]
  },
  {
   "cell_type": "code",
   "execution_count": 20,
   "id": "b9c732c8",
   "metadata": {},
   "outputs": [
    {
     "data": {
      "image/png": "[encoded data removed]",
      "text/plain": [
       "<Figure size 1008x144 with 1 Axes>"
      ]
     },
     "metadata": {
      "needs_background": "light"
     },
     "output_type": "display_data"
    }
   ],
   "source": [
    "plt.figure(figsize=(14,2))\n",
    "sns.boxplot(x=data_gas['Газ 1'])\n",
    "plt.show()"
   ]
  },
  {
   "cell_type": "code",
   "execution_count": 21,
   "id": "36efcf4a",
   "metadata": {},
   "outputs": [
    {
     "data": {
      "text/plain": [
       "122"
      ]
     },
     "execution_count": 21,
     "metadata": {},
     "output_type": "execute_result"
    }
   ],
   "source": [
    "len(data_gas[data_gas['Газ 1'] > 24])"
   ]
  },
  {
   "cell_type": "markdown",
   "id": "db0f8057",
   "metadata": {},
   "source": [
    "Пока что сложно что-то сказать, кроме того, что наблюдается небольшое кол-во выбросов."
   ]
  },
  {
   "cell_type": "markdown",
   "id": "bed0368d",
   "metadata": {},
   "source": [
    "### Температура"
   ]
  },
  {
   "cell_type": "code",
   "execution_count": 22,
   "id": "8e77815f",
   "metadata": {},
   "outputs": [
    {
     "name": "stdout",
     "output_type": "stream",
     "text": [
      "<class 'pandas.core.frame.DataFrame'>\n",
      "RangeIndex: 15907 entries, 0 to 15906\n",
      "Data columns (total 3 columns):\n",
      " #   Column        Non-Null Count  Dtype  \n",
      "---  ------        --------------  -----  \n",
      " 0   key           15907 non-null  int64  \n",
      " 1   Время замера  15907 non-null  object \n",
      " 2   Температура   13006 non-null  float64\n",
      "dtypes: float64(1), int64(1), object(1)\n",
      "memory usage: 372.9+ KB\n"
     ]
    },
    {
     "data": {
      "text/html": [
       "<div>\n",
       "<style scoped>\n",
       "    .dataframe tbody tr th:only-of-type {\n",
       "        vertical-align: middle;\n",
       "    }\n",
       "\n",
       "    .dataframe tbody tr th {\n",
       "        vertical-align: top;\n",
       "    }\n",
       "\n",
       "    .dataframe thead th {\n",
       "        text-align: right;\n",
       "    }\n",
       "</style>\n",
       "<table border=\"1\" class=\"dataframe\">\n",
       "  <thead>\n",
       "    <tr style=\"text-align: right;\">\n",
       "      <th></th>\n",
       "      <th>key</th>\n",
       "      <th>Время замера</th>\n",
       "      <th>Температура</th>\n",
       "    </tr>\n",
       "  </thead>\n",
       "  <tbody>\n",
       "    <tr>\n",
       "      <th>0</th>\n",
       "      <td>1</td>\n",
       "      <td>2019-05-03 11:16:18</td>\n",
       "      <td>1571.0</td>\n",
       "    </tr>\n",
       "    <tr>\n",
       "      <th>1</th>\n",
       "      <td>1</td>\n",
       "      <td>2019-05-03 11:25:53</td>\n",
       "      <td>1604.0</td>\n",
       "    </tr>\n",
       "    <tr>\n",
       "      <th>2</th>\n",
       "      <td>1</td>\n",
       "      <td>2019-05-03 11:29:11</td>\n",
       "      <td>1618.0</td>\n",
       "    </tr>\n",
       "    <tr>\n",
       "      <th>3</th>\n",
       "      <td>1</td>\n",
       "      <td>2019-05-03 11:30:01</td>\n",
       "      <td>1601.0</td>\n",
       "    </tr>\n",
       "    <tr>\n",
       "      <th>4</th>\n",
       "      <td>1</td>\n",
       "      <td>2019-05-03 11:30:39</td>\n",
       "      <td>1613.0</td>\n",
       "    </tr>\n",
       "  </tbody>\n",
       "</table>\n",
       "</div>"
      ],
      "text/plain": [
       "   key         Время замера  Температура\n",
       "0    1  2019-05-03 11:16:18       1571.0\n",
       "1    1  2019-05-03 11:25:53       1604.0\n",
       "2    1  2019-05-03 11:29:11       1618.0\n",
       "3    1  2019-05-03 11:30:01       1601.0\n",
       "4    1  2019-05-03 11:30:39       1613.0"
      ]
     },
     "metadata": {},
     "output_type": "display_data"
    },
    {
     "data": {
      "text/html": [
       "<div>\n",
       "<style scoped>\n",
       "    .dataframe tbody tr th:only-of-type {\n",
       "        vertical-align: middle;\n",
       "    }\n",
       "\n",
       "    .dataframe tbody tr th {\n",
       "        vertical-align: top;\n",
       "    }\n",
       "\n",
       "    .dataframe thead th {\n",
       "        text-align: right;\n",
       "    }\n",
       "</style>\n",
       "<table border=\"1\" class=\"dataframe\">\n",
       "  <thead>\n",
       "    <tr style=\"text-align: right;\">\n",
       "      <th></th>\n",
       "      <th>key</th>\n",
       "      <th>Температура</th>\n",
       "    </tr>\n",
       "  </thead>\n",
       "  <tbody>\n",
       "    <tr>\n",
       "      <th>count</th>\n",
       "      <td>15907.00</td>\n",
       "      <td>13006.00</td>\n",
       "    </tr>\n",
       "    <tr>\n",
       "      <th>mean</th>\n",
       "      <td>1607.88</td>\n",
       "      <td>1591.84</td>\n",
       "    </tr>\n",
       "    <tr>\n",
       "      <th>std</th>\n",
       "      <td>942.21</td>\n",
       "      <td>21.38</td>\n",
       "    </tr>\n",
       "    <tr>\n",
       "      <th>min</th>\n",
       "      <td>1.00</td>\n",
       "      <td>1191.00</td>\n",
       "    </tr>\n",
       "    <tr>\n",
       "      <th>25%</th>\n",
       "      <td>790.00</td>\n",
       "      <td>1581.00</td>\n",
       "    </tr>\n",
       "    <tr>\n",
       "      <th>50%</th>\n",
       "      <td>1618.00</td>\n",
       "      <td>1591.00</td>\n",
       "    </tr>\n",
       "    <tr>\n",
       "      <th>75%</th>\n",
       "      <td>2427.00</td>\n",
       "      <td>1601.00</td>\n",
       "    </tr>\n",
       "    <tr>\n",
       "      <th>max</th>\n",
       "      <td>3241.00</td>\n",
       "      <td>1705.00</td>\n",
       "    </tr>\n",
       "  </tbody>\n",
       "</table>\n",
       "</div>"
      ],
      "text/plain": [
       "            key  Температура\n",
       "count  15907.00     13006.00\n",
       "mean    1607.88      1591.84\n",
       "std      942.21        21.38\n",
       "min        1.00      1191.00\n",
       "25%      790.00      1581.00\n",
       "50%     1618.00      1591.00\n",
       "75%     2427.00      1601.00\n",
       "max     3241.00      1705.00"
      ]
     },
     "metadata": {},
     "output_type": "display_data"
    },
    {
     "data": {
      "text/html": [
       "<div>\n",
       "<style scoped>\n",
       "    .dataframe tbody tr th:only-of-type {\n",
       "        vertical-align: middle;\n",
       "    }\n",
       "\n",
       "    .dataframe tbody tr th {\n",
       "        vertical-align: top;\n",
       "    }\n",
       "\n",
       "    .dataframe thead th {\n",
       "        text-align: right;\n",
       "    }\n",
       "</style>\n",
       "<table border=\"1\" class=\"dataframe\">\n",
       "  <thead>\n",
       "    <tr style=\"text-align: right;\">\n",
       "      <th></th>\n",
       "      <th>Время замера</th>\n",
       "    </tr>\n",
       "  </thead>\n",
       "  <tbody>\n",
       "    <tr>\n",
       "      <th>count</th>\n",
       "      <td>15907</td>\n",
       "    </tr>\n",
       "    <tr>\n",
       "      <th>unique</th>\n",
       "      <td>15907</td>\n",
       "    </tr>\n",
       "    <tr>\n",
       "      <th>top</th>\n",
       "      <td>2019-05-13 19:19:21</td>\n",
       "    </tr>\n",
       "    <tr>\n",
       "      <th>freq</th>\n",
       "      <td>1</td>\n",
       "    </tr>\n",
       "  </tbody>\n",
       "</table>\n",
       "</div>"
      ],
      "text/plain": [
       "               Время замера\n",
       "count                 15907\n",
       "unique                15907\n",
       "top     2019-05-13 19:19:21\n",
       "freq                      1"
      ]
     },
     "metadata": {},
     "output_type": "display_data"
    }
   ],
   "source": [
    "analysis(data_temp)"
   ]
  },
  {
   "cell_type": "markdown",
   "id": "b0d9b069",
   "metadata": {},
   "source": [
    "А вот и фаил, в котором скрывается наш целевой признак. Всего имеются записи о 15907 наблюдениях. При этом информация о температуре имеется всегего в 13006 строках. Согласно поставленному условию исследования нас интересует в качестве целевого признака температура последней итерации. В качестве одного из признаков для обучения моделей будем использовать температуру первой итерации. "
   ]
  },
  {
   "cell_type": "code",
   "execution_count": 23,
   "id": "f6079443",
   "metadata": {},
   "outputs": [
    {
     "data": {
      "image/png": "[encoded data removed]",
      "text/plain": [
       "<Figure size 504x504 with 1 Axes>"
      ]
     },
     "metadata": {
      "needs_background": "light"
     },
     "output_type": "display_data"
    }
   ],
   "source": [
    "plt.figure(figsize=(7, 7))\n",
    "\n",
    "plt.scatter(x=data_temp['key'],\n",
    "            y=data_temp['Температура'],\n",
    "            alpha=0.1,\n",
    "            edgecolors = 'b')\n",
    "\n",
    "plt.xlabel('Партия', fontsize=16)\n",
    "plt.ylabel('Температура', fontsize=16)\n",
    "plt.title('Температуры по партиям', fontsize=18)\n",
    "plt.grid(True)\n",
    "plt.show()"
   ]
  },
  {
   "cell_type": "markdown",
   "id": "1a83258a",
   "metadata": {},
   "source": [
    "Похоже, что подавляющее число пропусков находится за 2500 ключом. Проверим."
   ]
  },
  {
   "cell_type": "code",
   "execution_count": 24,
   "id": "e13d9f5e",
   "metadata": {},
   "outputs": [
    {
     "data": {
      "text/html": [
       "<div>\n",
       "<style scoped>\n",
       "    .dataframe tbody tr th:only-of-type {\n",
       "        vertical-align: middle;\n",
       "    }\n",
       "\n",
       "    .dataframe tbody tr th {\n",
       "        vertical-align: top;\n",
       "    }\n",
       "\n",
       "    .dataframe thead th {\n",
       "        text-align: right;\n",
       "    }\n",
       "</style>\n",
       "<table border=\"1\" class=\"dataframe\">\n",
       "  <thead>\n",
       "    <tr style=\"text-align: right;\">\n",
       "      <th></th>\n",
       "      <th>key</th>\n",
       "      <th>Время замера</th>\n",
       "      <th>Температура</th>\n",
       "    </tr>\n",
       "  </thead>\n",
       "  <tbody>\n",
       "    <tr>\n",
       "      <th>12268</th>\n",
       "      <td>2500</td>\n",
       "      <td>2019-08-06 03:24:43</td>\n",
       "      <td>NaN</td>\n",
       "    </tr>\n",
       "    <tr>\n",
       "      <th>12269</th>\n",
       "      <td>2500</td>\n",
       "      <td>2019-08-06 03:25:16</td>\n",
       "      <td>NaN</td>\n",
       "    </tr>\n",
       "    <tr>\n",
       "      <th>12270</th>\n",
       "      <td>2500</td>\n",
       "      <td>2019-08-06 03:28:21</td>\n",
       "      <td>NaN</td>\n",
       "    </tr>\n",
       "    <tr>\n",
       "      <th>12272</th>\n",
       "      <td>2501</td>\n",
       "      <td>2019-08-06 04:01:59</td>\n",
       "      <td>NaN</td>\n",
       "    </tr>\n",
       "    <tr>\n",
       "      <th>12273</th>\n",
       "      <td>2501</td>\n",
       "      <td>2019-08-06 04:14:35</td>\n",
       "      <td>NaN</td>\n",
       "    </tr>\n",
       "  </tbody>\n",
       "</table>\n",
       "</div>"
      ],
      "text/plain": [
       "        key         Время замера  Температура\n",
       "12268  2500  2019-08-06 03:24:43          NaN\n",
       "12269  2500  2019-08-06 03:25:16          NaN\n",
       "12270  2500  2019-08-06 03:28:21          NaN\n",
       "12272  2501  2019-08-06 04:01:59          NaN\n",
       "12273  2501  2019-08-06 04:14:35          NaN"
      ]
     },
     "execution_count": 24,
     "metadata": {},
     "output_type": "execute_result"
    }
   ],
   "source": [
    "data_temp[data_temp['Температура'].isnull()].head()"
   ]
  },
  {
   "cell_type": "markdown",
   "id": "d32b701f",
   "metadata": {},
   "source": [
    "Подтверждено, все пропуски начинаются с 2500 ключа. Проверим сколько температур представлено для ключей с пропусками и сколько всего ключей с пропусками."
   ]
  },
  {
   "cell_type": "code",
   "execution_count": 25,
   "id": "9dc8c6d7",
   "metadata": {},
   "outputs": [
    {
     "data": {
      "text/plain": [
       "739"
      ]
     },
     "execution_count": 25,
     "metadata": {},
     "output_type": "execute_result"
    }
   ],
   "source": [
    "len(data_temp.query('key > 2499').dropna())"
   ]
  },
  {
   "cell_type": "code",
   "execution_count": 26,
   "id": "664ddf5e",
   "metadata": {},
   "outputs": [
    {
     "data": {
      "text/plain": [
       "739"
      ]
     },
     "execution_count": 26,
     "metadata": {},
     "output_type": "execute_result"
    }
   ],
   "source": [
    "len(data_temp.query('key > 2499')['key'].unique())"
   ]
  },
  {
   "cell_type": "markdown",
   "id": "5a979f59",
   "metadata": {},
   "source": [
    "Значения равны, видимо Заказчик решил не предоставлять эти данные, а использовать их в качестве тестовой выборки. При обработке смело удалим данные для ключей после 2499. Посмотрим количество замеров температуры для каждой партии."
   ]
  },
  {
   "cell_type": "code",
   "execution_count": 27,
   "id": "00d14ea3",
   "metadata": {},
   "outputs": [
    {
     "data": {
      "image/png": "[encoded data removed]",
      "text/plain": [
       "<Figure size 432x288 with 1 Axes>"
      ]
     },
     "metadata": {
      "needs_background": "light"
     },
     "output_type": "display_data"
    }
   ],
   "source": [
    "data_temp.query('key < 2500')['key'].hist(bins=2499)\n",
    "plt.show()"
   ]
  },
  {
   "cell_type": "markdown",
   "id": "23b41576",
   "metadata": {},
   "source": [
    "В основном в каждой партиии делают 3 - 4 замера температуры.\n",
    "\n",
    "Ради интереса посмотрим данные о каких партиях Заказчик нам не предоставил"
   ]
  },
  {
   "cell_type": "code",
   "execution_count": 28,
   "id": "daf5212f",
   "metadata": {},
   "outputs": [
    {
     "data": {
      "text/plain": [
       "[41,\n",
       " 42,\n",
       " 355,\n",
       " 382,\n",
       " 506,\n",
       " 529,\n",
       " 540,\n",
       " 607,\n",
       " 683,\n",
       " 710,\n",
       " 766,\n",
       " 1133,\n",
       " 1300,\n",
       " 1437,\n",
       " 2031,\n",
       " 2103,\n",
       " 2278,\n",
       " 2356,\n",
       " 2373,\n",
       " 2446,\n",
       " 2469,\n",
       " 2491]"
      ]
     },
     "execution_count": 28,
     "metadata": {},
     "output_type": "execute_result"
    }
   ],
   "source": [
    "keys = data_temp.query('key < 2500')['key'].unique()\n",
    "missing_keys = []\n",
    "for i in range(1,2500):\n",
    "        if i not in keys:\n",
    "            missing_keys.append(i)\n",
    "missing_keys"
   ]
  },
  {
   "cell_type": "markdown",
   "id": "35818a61",
   "metadata": {},
   "source": [
    "Посмотрим кол-во данных с температруой менее 1500 градусов."
   ]
  },
  {
   "cell_type": "code",
   "execution_count": 29,
   "id": "978ee058",
   "metadata": {},
   "outputs": [
    {
     "data": {
      "text/html": [
       "<div>\n",
       "<style scoped>\n",
       "    .dataframe tbody tr th:only-of-type {\n",
       "        vertical-align: middle;\n",
       "    }\n",
       "\n",
       "    .dataframe tbody tr th {\n",
       "        vertical-align: top;\n",
       "    }\n",
       "\n",
       "    .dataframe thead th {\n",
       "        text-align: right;\n",
       "    }\n",
       "</style>\n",
       "<table border=\"1\" class=\"dataframe\">\n",
       "  <thead>\n",
       "    <tr style=\"text-align: right;\">\n",
       "      <th></th>\n",
       "      <th>key</th>\n",
       "      <th>Время замера</th>\n",
       "      <th>Температура</th>\n",
       "    </tr>\n",
       "  </thead>\n",
       "  <tbody>\n",
       "    <tr>\n",
       "      <th>4350</th>\n",
       "      <td>867</td>\n",
       "      <td>2019-06-04 14:21:00</td>\n",
       "      <td>1191.0</td>\n",
       "    </tr>\n",
       "    <tr>\n",
       "      <th>5978</th>\n",
       "      <td>1214</td>\n",
       "      <td>2019-06-16 05:32:00</td>\n",
       "      <td>1208.0</td>\n",
       "    </tr>\n",
       "    <tr>\n",
       "      <th>7958</th>\n",
       "      <td>1619</td>\n",
       "      <td>2019-06-30 11:03:54</td>\n",
       "      <td>1218.0</td>\n",
       "    </tr>\n",
       "    <tr>\n",
       "      <th>8913</th>\n",
       "      <td>1818</td>\n",
       "      <td>2019-07-07 00:30:49</td>\n",
       "      <td>1383.0</td>\n",
       "    </tr>\n",
       "    <tr>\n",
       "      <th>8914</th>\n",
       "      <td>1818</td>\n",
       "      <td>2019-07-07 00:31:40</td>\n",
       "      <td>1383.0</td>\n",
       "    </tr>\n",
       "    <tr>\n",
       "      <th>10127</th>\n",
       "      <td>2052</td>\n",
       "      <td>2019-07-21 14:51:40</td>\n",
       "      <td>1227.0</td>\n",
       "    </tr>\n",
       "    <tr>\n",
       "      <th>12564</th>\n",
       "      <td>2561</td>\n",
       "      <td>2019-08-08 07:34:15</td>\n",
       "      <td>1204.0</td>\n",
       "    </tr>\n",
       "  </tbody>\n",
       "</table>\n",
       "</div>"
      ],
      "text/plain": [
       "        key         Время замера  Температура\n",
       "4350    867  2019-06-04 14:21:00       1191.0\n",
       "5978   1214  2019-06-16 05:32:00       1208.0\n",
       "7958   1619  2019-06-30 11:03:54       1218.0\n",
       "8913   1818  2019-07-07 00:30:49       1383.0\n",
       "8914   1818  2019-07-07 00:31:40       1383.0\n",
       "10127  2052  2019-07-21 14:51:40       1227.0\n",
       "12564  2561  2019-08-08 07:34:15       1204.0"
      ]
     },
     "execution_count": 29,
     "metadata": {},
     "output_type": "execute_result"
    }
   ],
   "source": [
    "data_temp.query('Температура < 1500')"
   ]
  },
  {
   "cell_type": "markdown",
   "id": "c2f7f10b",
   "metadata": {},
   "source": [
    "**Промежуточный вывод:**\n",
    "1. Все данные с ключом более 2499 содержат информацию лишь об одной температуре.\n",
    "2. В выборке представлено 7 партий с зарегестрированной температурой ниже 1500 градусов хотя бы в одной из стадий процесса плавки.\n"
   ]
  },
  {
   "cell_type": "markdown",
   "id": "9442b10c",
   "metadata": {},
   "source": [
    "### Проволка"
   ]
  },
  {
   "cell_type": "code",
   "execution_count": 30,
   "id": "ae49fab2",
   "metadata": {},
   "outputs": [
    {
     "name": "stdout",
     "output_type": "stream",
     "text": [
      "<class 'pandas.core.frame.DataFrame'>\n",
      "RangeIndex: 3081 entries, 0 to 3080\n",
      "Data columns (total 10 columns):\n",
      " #   Column  Non-Null Count  Dtype  \n",
      "---  ------  --------------  -----  \n",
      " 0   key     3081 non-null   int64  \n",
      " 1   Wire 1  3055 non-null   float64\n",
      " 2   Wire 2  1079 non-null   float64\n",
      " 3   Wire 3  63 non-null     float64\n",
      " 4   Wire 4  14 non-null     float64\n",
      " 5   Wire 5  1 non-null      float64\n",
      " 6   Wire 6  73 non-null     float64\n",
      " 7   Wire 7  11 non-null     float64\n",
      " 8   Wire 8  19 non-null     float64\n",
      " 9   Wire 9  29 non-null     float64\n",
      "dtypes: float64(9), int64(1)\n",
      "memory usage: 240.8 KB\n"
     ]
    },
    {
     "data": {
      "text/html": [
       "<div>\n",
       "<style scoped>\n",
       "    .dataframe tbody tr th:only-of-type {\n",
       "        vertical-align: middle;\n",
       "    }\n",
       "\n",
       "    .dataframe tbody tr th {\n",
       "        vertical-align: top;\n",
       "    }\n",
       "\n",
       "    .dataframe thead th {\n",
       "        text-align: right;\n",
       "    }\n",
       "</style>\n",
       "<table border=\"1\" class=\"dataframe\">\n",
       "  <thead>\n",
       "    <tr style=\"text-align: right;\">\n",
       "      <th></th>\n",
       "      <th>key</th>\n",
       "      <th>Wire 1</th>\n",
       "      <th>Wire 2</th>\n",
       "      <th>Wire 3</th>\n",
       "      <th>Wire 4</th>\n",
       "      <th>Wire 5</th>\n",
       "      <th>Wire 6</th>\n",
       "      <th>Wire 7</th>\n",
       "      <th>Wire 8</th>\n",
       "      <th>Wire 9</th>\n",
       "    </tr>\n",
       "  </thead>\n",
       "  <tbody>\n",
       "    <tr>\n",
       "      <th>0</th>\n",
       "      <td>1</td>\n",
       "      <td>60.059998</td>\n",
       "      <td>NaN</td>\n",
       "      <td>NaN</td>\n",
       "      <td>NaN</td>\n",
       "      <td>NaN</td>\n",
       "      <td>NaN</td>\n",
       "      <td>NaN</td>\n",
       "      <td>NaN</td>\n",
       "      <td>NaN</td>\n",
       "    </tr>\n",
       "    <tr>\n",
       "      <th>1</th>\n",
       "      <td>2</td>\n",
       "      <td>96.052315</td>\n",
       "      <td>NaN</td>\n",
       "      <td>NaN</td>\n",
       "      <td>NaN</td>\n",
       "      <td>NaN</td>\n",
       "      <td>NaN</td>\n",
       "      <td>NaN</td>\n",
       "      <td>NaN</td>\n",
       "      <td>NaN</td>\n",
       "    </tr>\n",
       "    <tr>\n",
       "      <th>2</th>\n",
       "      <td>3</td>\n",
       "      <td>91.160157</td>\n",
       "      <td>NaN</td>\n",
       "      <td>NaN</td>\n",
       "      <td>NaN</td>\n",
       "      <td>NaN</td>\n",
       "      <td>NaN</td>\n",
       "      <td>NaN</td>\n",
       "      <td>NaN</td>\n",
       "      <td>NaN</td>\n",
       "    </tr>\n",
       "    <tr>\n",
       "      <th>3</th>\n",
       "      <td>4</td>\n",
       "      <td>89.063515</td>\n",
       "      <td>NaN</td>\n",
       "      <td>NaN</td>\n",
       "      <td>NaN</td>\n",
       "      <td>NaN</td>\n",
       "      <td>NaN</td>\n",
       "      <td>NaN</td>\n",
       "      <td>NaN</td>\n",
       "      <td>NaN</td>\n",
       "    </tr>\n",
       "    <tr>\n",
       "      <th>4</th>\n",
       "      <td>5</td>\n",
       "      <td>89.238236</td>\n",
       "      <td>9.11456</td>\n",
       "      <td>NaN</td>\n",
       "      <td>NaN</td>\n",
       "      <td>NaN</td>\n",
       "      <td>NaN</td>\n",
       "      <td>NaN</td>\n",
       "      <td>NaN</td>\n",
       "      <td>NaN</td>\n",
       "    </tr>\n",
       "  </tbody>\n",
       "</table>\n",
       "</div>"
      ],
      "text/plain": [
       "   key     Wire 1   Wire 2  Wire 3  Wire 4  Wire 5  Wire 6  Wire 7  Wire 8  \\\n",
       "0    1  60.059998      NaN     NaN     NaN     NaN     NaN     NaN     NaN   \n",
       "1    2  96.052315      NaN     NaN     NaN     NaN     NaN     NaN     NaN   \n",
       "2    3  91.160157      NaN     NaN     NaN     NaN     NaN     NaN     NaN   \n",
       "3    4  89.063515      NaN     NaN     NaN     NaN     NaN     NaN     NaN   \n",
       "4    5  89.238236  9.11456     NaN     NaN     NaN     NaN     NaN     NaN   \n",
       "\n",
       "   Wire 9  \n",
       "0     NaN  \n",
       "1     NaN  \n",
       "2     NaN  \n",
       "3     NaN  \n",
       "4     NaN  "
      ]
     },
     "metadata": {},
     "output_type": "display_data"
    },
    {
     "data": {
      "text/html": [
       "<div>\n",
       "<style scoped>\n",
       "    .dataframe tbody tr th:only-of-type {\n",
       "        vertical-align: middle;\n",
       "    }\n",
       "\n",
       "    .dataframe tbody tr th {\n",
       "        vertical-align: top;\n",
       "    }\n",
       "\n",
       "    .dataframe thead th {\n",
       "        text-align: right;\n",
       "    }\n",
       "</style>\n",
       "<table border=\"1\" class=\"dataframe\">\n",
       "  <thead>\n",
       "    <tr style=\"text-align: right;\">\n",
       "      <th></th>\n",
       "      <th>key</th>\n",
       "      <th>Wire 1</th>\n",
       "      <th>Wire 2</th>\n",
       "      <th>Wire 3</th>\n",
       "      <th>Wire 4</th>\n",
       "      <th>Wire 5</th>\n",
       "      <th>Wire 6</th>\n",
       "      <th>Wire 7</th>\n",
       "      <th>Wire 8</th>\n",
       "      <th>Wire 9</th>\n",
       "    </tr>\n",
       "  </thead>\n",
       "  <tbody>\n",
       "    <tr>\n",
       "      <th>count</th>\n",
       "      <td>3081.00</td>\n",
       "      <td>3055.00</td>\n",
       "      <td>1079.00</td>\n",
       "      <td>63.00</td>\n",
       "      <td>14.00</td>\n",
       "      <td>1.00</td>\n",
       "      <td>73.00</td>\n",
       "      <td>11.00</td>\n",
       "      <td>19.00</td>\n",
       "      <td>29.00</td>\n",
       "    </tr>\n",
       "    <tr>\n",
       "      <th>mean</th>\n",
       "      <td>1623.43</td>\n",
       "      <td>100.90</td>\n",
       "      <td>50.58</td>\n",
       "      <td>189.48</td>\n",
       "      <td>57.44</td>\n",
       "      <td>15.13</td>\n",
       "      <td>48.02</td>\n",
       "      <td>10.04</td>\n",
       "      <td>53.63</td>\n",
       "      <td>34.16</td>\n",
       "    </tr>\n",
       "    <tr>\n",
       "      <th>std</th>\n",
       "      <td>933.00</td>\n",
       "      <td>42.01</td>\n",
       "      <td>39.32</td>\n",
       "      <td>99.51</td>\n",
       "      <td>28.82</td>\n",
       "      <td>NaN</td>\n",
       "      <td>33.92</td>\n",
       "      <td>8.61</td>\n",
       "      <td>16.88</td>\n",
       "      <td>19.93</td>\n",
       "    </tr>\n",
       "    <tr>\n",
       "      <th>min</th>\n",
       "      <td>1.00</td>\n",
       "      <td>1.92</td>\n",
       "      <td>0.03</td>\n",
       "      <td>0.14</td>\n",
       "      <td>24.15</td>\n",
       "      <td>15.13</td>\n",
       "      <td>0.03</td>\n",
       "      <td>0.23</td>\n",
       "      <td>45.08</td>\n",
       "      <td>4.62</td>\n",
       "    </tr>\n",
       "    <tr>\n",
       "      <th>25%</th>\n",
       "      <td>823.00</td>\n",
       "      <td>72.12</td>\n",
       "      <td>20.19</td>\n",
       "      <td>95.14</td>\n",
       "      <td>40.81</td>\n",
       "      <td>15.13</td>\n",
       "      <td>25.05</td>\n",
       "      <td>6.76</td>\n",
       "      <td>46.09</td>\n",
       "      <td>22.06</td>\n",
       "    </tr>\n",
       "    <tr>\n",
       "      <th>50%</th>\n",
       "      <td>1619.00</td>\n",
       "      <td>100.16</td>\n",
       "      <td>40.14</td>\n",
       "      <td>235.19</td>\n",
       "      <td>45.23</td>\n",
       "      <td>15.13</td>\n",
       "      <td>42.08</td>\n",
       "      <td>9.02</td>\n",
       "      <td>46.28</td>\n",
       "      <td>30.07</td>\n",
       "    </tr>\n",
       "    <tr>\n",
       "      <th>75%</th>\n",
       "      <td>2434.00</td>\n",
       "      <td>126.06</td>\n",
       "      <td>70.23</td>\n",
       "      <td>276.25</td>\n",
       "      <td>76.12</td>\n",
       "      <td>15.13</td>\n",
       "      <td>64.21</td>\n",
       "      <td>11.89</td>\n",
       "      <td>48.09</td>\n",
       "      <td>43.86</td>\n",
       "    </tr>\n",
       "    <tr>\n",
       "      <th>max</th>\n",
       "      <td>3241.00</td>\n",
       "      <td>330.31</td>\n",
       "      <td>282.78</td>\n",
       "      <td>385.01</td>\n",
       "      <td>113.23</td>\n",
       "      <td>15.13</td>\n",
       "      <td>180.45</td>\n",
       "      <td>32.85</td>\n",
       "      <td>102.76</td>\n",
       "      <td>90.05</td>\n",
       "    </tr>\n",
       "  </tbody>\n",
       "</table>\n",
       "</div>"
      ],
      "text/plain": [
       "           key   Wire 1   Wire 2  Wire 3  Wire 4  Wire 5  Wire 6  Wire 7  \\\n",
       "count  3081.00  3055.00  1079.00   63.00   14.00    1.00   73.00   11.00   \n",
       "mean   1623.43   100.90    50.58  189.48   57.44   15.13   48.02   10.04   \n",
       "std     933.00    42.01    39.32   99.51   28.82     NaN   33.92    8.61   \n",
       "min       1.00     1.92     0.03    0.14   24.15   15.13    0.03    0.23   \n",
       "25%     823.00    72.12    20.19   95.14   40.81   15.13   25.05    6.76   \n",
       "50%    1619.00   100.16    40.14  235.19   45.23   15.13   42.08    9.02   \n",
       "75%    2434.00   126.06    70.23  276.25   76.12   15.13   64.21   11.89   \n",
       "max    3241.00   330.31   282.78  385.01  113.23   15.13  180.45   32.85   \n",
       "\n",
       "       Wire 8  Wire 9  \n",
       "count   19.00   29.00  \n",
       "mean    53.63   34.16  \n",
       "std     16.88   19.93  \n",
       "min     45.08    4.62  \n",
       "25%     46.09   22.06  \n",
       "50%     46.28   30.07  \n",
       "75%     48.09   43.86  \n",
       "max    102.76   90.05  "
      ]
     },
     "metadata": {},
     "output_type": "display_data"
    }
   ],
   "source": [
    "analysis(data_wire)"
   ]
  },
  {
   "cell_type": "code",
   "execution_count": 31,
   "id": "de4c6151",
   "metadata": {},
   "outputs": [
    {
     "data": {
      "text/plain": [
       "0.9915611814345991"
      ]
     },
     "execution_count": 31,
     "metadata": {},
     "output_type": "execute_result"
    }
   ],
   "source": [
    "len(data_wire['Wire 1'].dropna()) / len(data_wire)"
   ]
  },
  {
   "cell_type": "markdown",
   "id": "5ad367ea",
   "metadata": {},
   "source": [
    "При плавке в основном используется проволка варианта 1 (применяется в 99 % случаем), в 30 % процентах используется проволка варианта 2, остальные практически не добавляются. Посмотрим на график по самым популярным проволкам."
   ]
  },
  {
   "cell_type": "code",
   "execution_count": 32,
   "id": "1d158575",
   "metadata": {},
   "outputs": [
    {
     "data": {
      "image/png": "[encoded data removed]",
      "text/plain": [
       "<Figure size 1152x360 with 1 Axes>"
      ]
     },
     "metadata": {
      "needs_background": "light"
     },
     "output_type": "display_data"
    }
   ],
   "source": [
    "plt.figure(figsize=(16, 5))\n",
    "\n",
    "plt.scatter(x=data_wire['key'],\n",
    "            y=data_wire['Wire 1'],\n",
    "            alpha=0.1,\n",
    "            edgecolors = 'blue')\n",
    "\n",
    "plt.scatter(x=data_wire['key'],\n",
    "            y=data_wire['Wire 2'],\n",
    "            alpha=0.1,\n",
    "            edgecolors = 'red')\n",
    "\n",
    "plt.xlabel('Партия', fontsize=16)\n",
    "plt.ylabel('Объём проволки', fontsize=16)\n",
    "plt.title('Объём проволки по партиям', fontsize=18)\n",
    "##plt.legend(['Оценки пользователей', 'Оценки критиков'], fontsize=14)\n",
    "plt.grid(True)\n",
    "plt.show()"
   ]
  },
  {
   "cell_type": "code",
   "execution_count": 33,
   "id": "8f679972",
   "metadata": {},
   "outputs": [
    {
     "name": "stdout",
     "output_type": "stream",
     "text": [
      "<class 'pandas.core.frame.DataFrame'>\n",
      "RangeIndex: 3081 entries, 0 to 3080\n",
      "Data columns (total 10 columns):\n",
      " #   Column  Non-Null Count  Dtype \n",
      "---  ------  --------------  ----- \n",
      " 0   key     3081 non-null   int64 \n",
      " 1   Wire 1  3055 non-null   object\n",
      " 2   Wire 2  1079 non-null   object\n",
      " 3   Wire 3  63 non-null     object\n",
      " 4   Wire 4  14 non-null     object\n",
      " 5   Wire 5  1 non-null      object\n",
      " 6   Wire 6  73 non-null     object\n",
      " 7   Wire 7  11 non-null     object\n",
      " 8   Wire 8  19 non-null     object\n",
      " 9   Wire 9  29 non-null     object\n",
      "dtypes: int64(1), object(9)\n",
      "memory usage: 240.8+ KB\n"
     ]
    },
    {
     "data": {
      "text/html": [
       "<div>\n",
       "<style scoped>\n",
       "    .dataframe tbody tr th:only-of-type {\n",
       "        vertical-align: middle;\n",
       "    }\n",
       "\n",
       "    .dataframe tbody tr th {\n",
       "        vertical-align: top;\n",
       "    }\n",
       "\n",
       "    .dataframe thead th {\n",
       "        text-align: right;\n",
       "    }\n",
       "</style>\n",
       "<table border=\"1\" class=\"dataframe\">\n",
       "  <thead>\n",
       "    <tr style=\"text-align: right;\">\n",
       "      <th></th>\n",
       "      <th>key</th>\n",
       "      <th>Wire 1</th>\n",
       "      <th>Wire 2</th>\n",
       "      <th>Wire 3</th>\n",
       "      <th>Wire 4</th>\n",
       "      <th>Wire 5</th>\n",
       "      <th>Wire 6</th>\n",
       "      <th>Wire 7</th>\n",
       "      <th>Wire 8</th>\n",
       "      <th>Wire 9</th>\n",
       "    </tr>\n",
       "  </thead>\n",
       "  <tbody>\n",
       "    <tr>\n",
       "      <th>0</th>\n",
       "      <td>1</td>\n",
       "      <td>2019-05-03 11:11:41</td>\n",
       "      <td>NaN</td>\n",
       "      <td>NaN</td>\n",
       "      <td>NaN</td>\n",
       "      <td>NaN</td>\n",
       "      <td>NaN</td>\n",
       "      <td>NaN</td>\n",
       "      <td>NaN</td>\n",
       "      <td>NaN</td>\n",
       "    </tr>\n",
       "    <tr>\n",
       "      <th>1</th>\n",
       "      <td>2</td>\n",
       "      <td>2019-05-03 11:46:10</td>\n",
       "      <td>NaN</td>\n",
       "      <td>NaN</td>\n",
       "      <td>NaN</td>\n",
       "      <td>NaN</td>\n",
       "      <td>NaN</td>\n",
       "      <td>NaN</td>\n",
       "      <td>NaN</td>\n",
       "      <td>NaN</td>\n",
       "    </tr>\n",
       "    <tr>\n",
       "      <th>2</th>\n",
       "      <td>3</td>\n",
       "      <td>2019-05-03 12:13:47</td>\n",
       "      <td>NaN</td>\n",
       "      <td>NaN</td>\n",
       "      <td>NaN</td>\n",
       "      <td>NaN</td>\n",
       "      <td>NaN</td>\n",
       "      <td>NaN</td>\n",
       "      <td>NaN</td>\n",
       "      <td>NaN</td>\n",
       "    </tr>\n",
       "    <tr>\n",
       "      <th>3</th>\n",
       "      <td>4</td>\n",
       "      <td>2019-05-03 12:48:05</td>\n",
       "      <td>NaN</td>\n",
       "      <td>NaN</td>\n",
       "      <td>NaN</td>\n",
       "      <td>NaN</td>\n",
       "      <td>NaN</td>\n",
       "      <td>NaN</td>\n",
       "      <td>NaN</td>\n",
       "      <td>NaN</td>\n",
       "    </tr>\n",
       "    <tr>\n",
       "      <th>4</th>\n",
       "      <td>5</td>\n",
       "      <td>2019-05-03 13:18:15</td>\n",
       "      <td>2019-05-03 13:32:06</td>\n",
       "      <td>NaN</td>\n",
       "      <td>NaN</td>\n",
       "      <td>NaN</td>\n",
       "      <td>NaN</td>\n",
       "      <td>NaN</td>\n",
       "      <td>NaN</td>\n",
       "      <td>NaN</td>\n",
       "    </tr>\n",
       "  </tbody>\n",
       "</table>\n",
       "</div>"
      ],
      "text/plain": [
       "   key               Wire 1               Wire 2 Wire 3 Wire 4 Wire 5 Wire 6  \\\n",
       "0    1  2019-05-03 11:11:41                  NaN    NaN    NaN    NaN    NaN   \n",
       "1    2  2019-05-03 11:46:10                  NaN    NaN    NaN    NaN    NaN   \n",
       "2    3  2019-05-03 12:13:47                  NaN    NaN    NaN    NaN    NaN   \n",
       "3    4  2019-05-03 12:48:05                  NaN    NaN    NaN    NaN    NaN   \n",
       "4    5  2019-05-03 13:18:15  2019-05-03 13:32:06    NaN    NaN    NaN    NaN   \n",
       "\n",
       "  Wire 7 Wire 8 Wire 9  \n",
       "0    NaN    NaN    NaN  \n",
       "1    NaN    NaN    NaN  \n",
       "2    NaN    NaN    NaN  \n",
       "3    NaN    NaN    NaN  \n",
       "4    NaN    NaN    NaN  "
      ]
     },
     "metadata": {},
     "output_type": "display_data"
    },
    {
     "data": {
      "text/html": [
       "<div>\n",
       "<style scoped>\n",
       "    .dataframe tbody tr th:only-of-type {\n",
       "        vertical-align: middle;\n",
       "    }\n",
       "\n",
       "    .dataframe tbody tr th {\n",
       "        vertical-align: top;\n",
       "    }\n",
       "\n",
       "    .dataframe thead th {\n",
       "        text-align: right;\n",
       "    }\n",
       "</style>\n",
       "<table border=\"1\" class=\"dataframe\">\n",
       "  <thead>\n",
       "    <tr style=\"text-align: right;\">\n",
       "      <th></th>\n",
       "      <th>key</th>\n",
       "    </tr>\n",
       "  </thead>\n",
       "  <tbody>\n",
       "    <tr>\n",
       "      <th>count</th>\n",
       "      <td>3081.00</td>\n",
       "    </tr>\n",
       "    <tr>\n",
       "      <th>mean</th>\n",
       "      <td>1623.43</td>\n",
       "    </tr>\n",
       "    <tr>\n",
       "      <th>std</th>\n",
       "      <td>933.00</td>\n",
       "    </tr>\n",
       "    <tr>\n",
       "      <th>min</th>\n",
       "      <td>1.00</td>\n",
       "    </tr>\n",
       "    <tr>\n",
       "      <th>25%</th>\n",
       "      <td>823.00</td>\n",
       "    </tr>\n",
       "    <tr>\n",
       "      <th>50%</th>\n",
       "      <td>1619.00</td>\n",
       "    </tr>\n",
       "    <tr>\n",
       "      <th>75%</th>\n",
       "      <td>2434.00</td>\n",
       "    </tr>\n",
       "    <tr>\n",
       "      <th>max</th>\n",
       "      <td>3241.00</td>\n",
       "    </tr>\n",
       "  </tbody>\n",
       "</table>\n",
       "</div>"
      ],
      "text/plain": [
       "           key\n",
       "count  3081.00\n",
       "mean   1623.43\n",
       "std     933.00\n",
       "min       1.00\n",
       "25%     823.00\n",
       "50%    1619.00\n",
       "75%    2434.00\n",
       "max    3241.00"
      ]
     },
     "metadata": {},
     "output_type": "display_data"
    },
    {
     "data": {
      "text/html": [
       "<div>\n",
       "<style scoped>\n",
       "    .dataframe tbody tr th:only-of-type {\n",
       "        vertical-align: middle;\n",
       "    }\n",
       "\n",
       "    .dataframe tbody tr th {\n",
       "        vertical-align: top;\n",
       "    }\n",
       "\n",
       "    .dataframe thead th {\n",
       "        text-align: right;\n",
       "    }\n",
       "</style>\n",
       "<table border=\"1\" class=\"dataframe\">\n",
       "  <thead>\n",
       "    <tr style=\"text-align: right;\">\n",
       "      <th></th>\n",
       "      <th>Wire 1</th>\n",
       "      <th>Wire 2</th>\n",
       "      <th>Wire 3</th>\n",
       "      <th>Wire 4</th>\n",
       "      <th>Wire 5</th>\n",
       "      <th>Wire 6</th>\n",
       "      <th>Wire 7</th>\n",
       "      <th>Wire 8</th>\n",
       "      <th>Wire 9</th>\n",
       "    </tr>\n",
       "  </thead>\n",
       "  <tbody>\n",
       "    <tr>\n",
       "      <th>count</th>\n",
       "      <td>3055</td>\n",
       "      <td>1079</td>\n",
       "      <td>63</td>\n",
       "      <td>14</td>\n",
       "      <td>1</td>\n",
       "      <td>73</td>\n",
       "      <td>11</td>\n",
       "      <td>19</td>\n",
       "      <td>29</td>\n",
       "    </tr>\n",
       "    <tr>\n",
       "      <th>unique</th>\n",
       "      <td>3055</td>\n",
       "      <td>1079</td>\n",
       "      <td>63</td>\n",
       "      <td>14</td>\n",
       "      <td>1</td>\n",
       "      <td>73</td>\n",
       "      <td>11</td>\n",
       "      <td>19</td>\n",
       "      <td>29</td>\n",
       "    </tr>\n",
       "    <tr>\n",
       "      <th>top</th>\n",
       "      <td>2019-07-20 09:26:44</td>\n",
       "      <td>2019-05-27 14:06:50</td>\n",
       "      <td>2019-08-08 11:15:53</td>\n",
       "      <td>2019-07-17 07:15:28</td>\n",
       "      <td>2019-08-08 16:01:07</td>\n",
       "      <td>2019-05-07 15:48:13</td>\n",
       "      <td>2019-07-23 19:46:16</td>\n",
       "      <td>2019-08-11 13:20:31</td>\n",
       "      <td>2019-06-07 22:47:35</td>\n",
       "    </tr>\n",
       "    <tr>\n",
       "      <th>freq</th>\n",
       "      <td>1</td>\n",
       "      <td>1</td>\n",
       "      <td>1</td>\n",
       "      <td>1</td>\n",
       "      <td>1</td>\n",
       "      <td>1</td>\n",
       "      <td>1</td>\n",
       "      <td>1</td>\n",
       "      <td>1</td>\n",
       "    </tr>\n",
       "  </tbody>\n",
       "</table>\n",
       "</div>"
      ],
      "text/plain": [
       "                     Wire 1               Wire 2               Wire 3  \\\n",
       "count                  3055                 1079                   63   \n",
       "unique                 3055                 1079                   63   \n",
       "top     2019-07-20 09:26:44  2019-05-27 14:06:50  2019-08-08 11:15:53   \n",
       "freq                      1                    1                    1   \n",
       "\n",
       "                     Wire 4               Wire 5               Wire 6  \\\n",
       "count                    14                    1                   73   \n",
       "unique                   14                    1                   73   \n",
       "top     2019-07-17 07:15:28  2019-08-08 16:01:07  2019-05-07 15:48:13   \n",
       "freq                      1                    1                    1   \n",
       "\n",
       "                     Wire 7               Wire 8               Wire 9  \n",
       "count                    11                   19                   29  \n",
       "unique                   11                   19                   29  \n",
       "top     2019-07-23 19:46:16  2019-08-11 13:20:31  2019-06-07 22:47:35  \n",
       "freq                      1                    1                    1  "
      ]
     },
     "metadata": {},
     "output_type": "display_data"
    }
   ],
   "source": [
    "analysis(data_wire_time)"
   ]
  },
  {
   "cell_type": "code",
   "execution_count": 34,
   "id": "68f919e7",
   "metadata": {},
   "outputs": [
    {
     "data": {
      "text/plain": [
       "[]"
      ]
     },
     "execution_count": 34,
     "metadata": {},
     "output_type": "execute_result"
    }
   ],
   "source": [
    "z = []\n",
    "for i in range(len(data_wire_time)):\n",
    "    if data_wire.iloc[i]['key'] != data_wire_time.iloc[i]['key']:\n",
    "        z.append(i)\n",
    "z"
   ]
  },
  {
   "cell_type": "markdown",
   "id": "e0293ee2",
   "metadata": {},
   "source": [
    "Ключи в файлах data_wire и data_wire_time совпадают."
   ]
  },
  {
   "cell_type": "markdown",
   "id": "18de4a67",
   "metadata": {},
   "source": [
    "### Вывод по разделу 2\n",
    "\n",
    "1. Фаил с мощностью не модержит пропусков.\n",
    "2. Для ключа 2116 присутствует ошибка в записи реактивной мощности. Ошибка некритичная, можно устронить, изменив значение на среднее между соседними итерациями.\n",
    "3. В среднем данные по плавке выведены по 3-4 итерациям.\n",
    "4. В данных по сыпучим материалам содержится большое кол-во. Пропуск указывают на то, что для данной плавки материал не использовался.\n",
    "5. Наиболее популярные сыпучие смеси: Bulk 14, Bulk 12, Bulk 15, Bulk 3, Bulk 4.\n",
    "6. Для данных по газу пропучсков нет.\n",
    "7. В данных по проволкам содержится большое кол-во. Пропуск указывают на то, что для данной плавки проволка не использовалась.\n",
    "8. Наиболее популярные проволки: Wire 1, Wire 2.\n",
    "9. Данные по времени согласуются с данными по объёмам, что для сыпучих, что для проволки. В дальнейшей работе файлы data_bulk_time и data_wire_time использоваться не будут.\n",
    "\n",
    "**План обработки:**\n",
    "\n",
    "1. Пропуски в объёмах используемых материалов заменить на нули.\n",
    "2. Для температуры оставть ключи до 2500\n",
    "3. Исправить аномальное значение Реактивной мощности.\n",
    "4. Посчитать время нагрева\n",
    "5. Посчитать общую мощность\n",
    "6. Создать новую таблицу для мощности с группировкой по ключам\n",
    "7. Выделить для каждого ключа Температуру первого и последнего замеров\n",
    "8. Сгрупироать данные для температуры по ключам\n",
    "9. Исключить из рассмотрения информацию с температурой ниже 1500 градусов\n",
    "10. Сгрупировать информацию по \"непопулярным\" провлкам, оставив основную\n",
    "11. Сгрупировать информацию по \"непопулярным\" сыпучим материалам, оставив основные (в ходе работы опытным путём выяснил, что данную информацию лучше оставить без групировки)\n",
    "12. Создать сводную таблицу признаков"
   ]
  },
  {
   "cell_type": "markdown",
   "id": "0ca1fa23",
   "metadata": {},
   "source": [
    " <a name=\"processing\"></a>\n",
    "## Подготовка данных\n",
    "[К оглавлению](#contents)\n",
    "\n",
    "### Борьба с пропусками\n",
    "\n",
    "Ну здесь всё пропусто. Пропуски содержаться в датафреймах со смесями, проволкой и темпераурой. Для двух первых считаем, что раз нет информации по добавкам в данной варке, то они и не добавлялась - NaN заменяем на ноль. Для температуры выкидываем все ключи после 2499."
   ]
  },
  {
   "cell_type": "code",
   "execution_count": 35,
   "id": "e40c9ed4",
   "metadata": {},
   "outputs": [],
   "source": [
    "data_bulk = data_bulk.fillna(0)\n",
    "data_wire = data_wire.fillna(0)"
   ]
  },
  {
   "cell_type": "code",
   "execution_count": 36,
   "id": "78bf1644",
   "metadata": {},
   "outputs": [],
   "source": [
    "data_temp = data_temp.query('key < 2500')"
   ]
  },
  {
   "cell_type": "markdown",
   "id": "978aec5e",
   "metadata": {},
   "source": [
    "### Удаление лишних данных\n",
    "Займемся лишними данными, такими как дублирующиеся ключи и выбросы. Начнём с таблицы с мощностью.\n",
    "#### Мощность\n",
    "\n",
    "Для начала вспомним, что для 2116 ключа в таблице указано некорректное значение мощности, исправимс его. Возьмём среднее между отношением активной к реактивной мощности соседних ячеек и умножим получившееся значение значение активной мощности \"*битой*\" строки"
   ]
  },
  {
   "cell_type": "code",
   "execution_count": 37,
   "id": "b83fb394",
   "metadata": {},
   "outputs": [],
   "source": [
    "arc = data_arc.copy()"
   ]
  },
  {
   "cell_type": "code",
   "execution_count": 38,
   "id": "0bac615b",
   "metadata": {},
   "outputs": [
    {
     "data": {
      "text/html": [
       "<div>\n",
       "<style scoped>\n",
       "    .dataframe tbody tr th:only-of-type {\n",
       "        vertical-align: middle;\n",
       "    }\n",
       "\n",
       "    .dataframe tbody tr th {\n",
       "        vertical-align: top;\n",
       "    }\n",
       "\n",
       "    .dataframe thead th {\n",
       "        text-align: right;\n",
       "    }\n",
       "</style>\n",
       "<table border=\"1\" class=\"dataframe\">\n",
       "  <thead>\n",
       "    <tr style=\"text-align: right;\">\n",
       "      <th></th>\n",
       "      <th>key</th>\n",
       "      <th>Начало нагрева дугой</th>\n",
       "      <th>Конец нагрева дугой</th>\n",
       "      <th>Активная мощность</th>\n",
       "      <th>Реактивная мощность</th>\n",
       "    </tr>\n",
       "  </thead>\n",
       "  <tbody>\n",
       "    <tr>\n",
       "      <th>9778</th>\n",
       "      <td>2116</td>\n",
       "      <td>2019-07-24 00:29:52</td>\n",
       "      <td>2019-07-24 00:31:54</td>\n",
       "      <td>0.433266</td>\n",
       "      <td>0.306141</td>\n",
       "    </tr>\n",
       "    <tr>\n",
       "      <th>9779</th>\n",
       "      <td>2116</td>\n",
       "      <td>2019-07-24 00:35:50</td>\n",
       "      <td>2019-07-24 00:38:05</td>\n",
       "      <td>0.620265</td>\n",
       "      <td>0.408352</td>\n",
       "    </tr>\n",
       "    <tr>\n",
       "      <th>9780</th>\n",
       "      <td>2116</td>\n",
       "      <td>2019-07-24 00:44:48</td>\n",
       "      <td>2019-07-24 00:46:37</td>\n",
       "      <td>0.495782</td>\n",
       "      <td>-715.504924</td>\n",
       "    </tr>\n",
       "    <tr>\n",
       "      <th>9781</th>\n",
       "      <td>2116</td>\n",
       "      <td>2019-07-24 00:51:51</td>\n",
       "      <td>2019-07-24 00:52:58</td>\n",
       "      <td>0.299368</td>\n",
       "      <td>0.198796</td>\n",
       "    </tr>\n",
       "  </tbody>\n",
       "</table>\n",
       "</div>"
      ],
      "text/plain": [
       "       key Начало нагрева дугой  Конец нагрева дугой  Активная мощность  \\\n",
       "9778  2116  2019-07-24 00:29:52  2019-07-24 00:31:54           0.433266   \n",
       "9779  2116  2019-07-24 00:35:50  2019-07-24 00:38:05           0.620265   \n",
       "9780  2116  2019-07-24 00:44:48  2019-07-24 00:46:37           0.495782   \n",
       "9781  2116  2019-07-24 00:51:51  2019-07-24 00:52:58           0.299368   \n",
       "\n",
       "      Реактивная мощность  \n",
       "9778             0.306141  \n",
       "9779             0.408352  \n",
       "9780          -715.504924  \n",
       "9781             0.198796  "
      ]
     },
     "execution_count": 38,
     "metadata": {},
     "output_type": "execute_result"
    }
   ],
   "source": [
    "arc.query('key == 2116')"
   ]
  },
  {
   "cell_type": "code",
   "execution_count": 39,
   "id": "54e454bf",
   "metadata": {},
   "outputs": [
    {
     "data": {
      "text/html": [
       "<div>\n",
       "<style scoped>\n",
       "    .dataframe tbody tr th:only-of-type {\n",
       "        vertical-align: middle;\n",
       "    }\n",
       "\n",
       "    .dataframe tbody tr th {\n",
       "        vertical-align: top;\n",
       "    }\n",
       "\n",
       "    .dataframe thead th {\n",
       "        text-align: right;\n",
       "    }\n",
       "</style>\n",
       "<table border=\"1\" class=\"dataframe\">\n",
       "  <thead>\n",
       "    <tr style=\"text-align: right;\">\n",
       "      <th></th>\n",
       "      <th>key</th>\n",
       "      <th>Начало нагрева дугой</th>\n",
       "      <th>Конец нагрева дугой</th>\n",
       "      <th>Активная мощность</th>\n",
       "      <th>Реактивная мощность</th>\n",
       "    </tr>\n",
       "  </thead>\n",
       "  <tbody>\n",
       "    <tr>\n",
       "      <th>9778</th>\n",
       "      <td>2116</td>\n",
       "      <td>2019-07-24 00:29:52</td>\n",
       "      <td>2019-07-24 00:31:54</td>\n",
       "      <td>0.433266</td>\n",
       "      <td>0.306141</td>\n",
       "    </tr>\n",
       "    <tr>\n",
       "      <th>9779</th>\n",
       "      <td>2116</td>\n",
       "      <td>2019-07-24 00:35:50</td>\n",
       "      <td>2019-07-24 00:38:05</td>\n",
       "      <td>0.620265</td>\n",
       "      <td>0.408352</td>\n",
       "    </tr>\n",
       "    <tr>\n",
       "      <th>9780</th>\n",
       "      <td>2116</td>\n",
       "      <td>2019-07-24 00:44:48</td>\n",
       "      <td>2019-07-24 00:46:37</td>\n",
       "      <td>0.495782</td>\n",
       "      <td>0.327806</td>\n",
       "    </tr>\n",
       "    <tr>\n",
       "      <th>9781</th>\n",
       "      <td>2116</td>\n",
       "      <td>2019-07-24 00:51:51</td>\n",
       "      <td>2019-07-24 00:52:58</td>\n",
       "      <td>0.299368</td>\n",
       "      <td>0.198796</td>\n",
       "    </tr>\n",
       "  </tbody>\n",
       "</table>\n",
       "</div>"
      ],
      "text/plain": [
       "       key Начало нагрева дугой  Конец нагрева дугой  Активная мощность  \\\n",
       "9778  2116  2019-07-24 00:29:52  2019-07-24 00:31:54           0.433266   \n",
       "9779  2116  2019-07-24 00:35:50  2019-07-24 00:38:05           0.620265   \n",
       "9780  2116  2019-07-24 00:44:48  2019-07-24 00:46:37           0.495782   \n",
       "9781  2116  2019-07-24 00:51:51  2019-07-24 00:52:58           0.299368   \n",
       "\n",
       "      Реактивная мощность  \n",
       "9778             0.306141  \n",
       "9779             0.408352  \n",
       "9780             0.327806  \n",
       "9781             0.198796  "
      ]
     },
     "execution_count": 39,
     "metadata": {},
     "output_type": "execute_result"
    }
   ],
   "source": [
    "i_rp = 9780\n",
    "arc.loc[i_rp, 'Реактивная мощность'] = (arc.loc[i_rp]['Активная мощность'] /\n",
    "    (( arc.loc[i_rp-1]['Активная мощность'] / arc.loc[i_rp-1]['Реактивная мощность'] +\n",
    "      arc.loc[i_rp+1]['Активная мощность'] / arc.loc[i_rp+1]['Реактивная мощность']) / 2)\n",
    "   ).round(6)\n",
    "arc.query('key == 2116')"
   ]
  },
  {
   "cell_type": "markdown",
   "id": "640a3281",
   "metadata": {},
   "source": [
    "Сделано. Теперь исправим формат даты и посчитаем количество между началом и концом нагрева для каждой итерации"
   ]
  },
  {
   "cell_type": "code",
   "execution_count": 40,
   "id": "7dfc5957",
   "metadata": {},
   "outputs": [],
   "source": [
    "arc['Конец нагрева дугой'] = pd.to_datetime(arc['Конец нагрева дугой'], format='%Y-%m-%d %H:%M:%S')\n",
    "arc['Начало нагрева дугой'] = pd.to_datetime(arc['Начало нагрева дугой'], format='%Y-%m-%d %H:%M:%S')"
   ]
  },
  {
   "cell_type": "code",
   "execution_count": 41,
   "id": "9019da36",
   "metadata": {
    "scrolled": true
   },
   "outputs": [
    {
     "data": {
      "text/html": [
       "<div>\n",
       "<style scoped>\n",
       "    .dataframe tbody tr th:only-of-type {\n",
       "        vertical-align: middle;\n",
       "    }\n",
       "\n",
       "    .dataframe tbody tr th {\n",
       "        vertical-align: top;\n",
       "    }\n",
       "\n",
       "    .dataframe thead th {\n",
       "        text-align: right;\n",
       "    }\n",
       "</style>\n",
       "<table border=\"1\" class=\"dataframe\">\n",
       "  <thead>\n",
       "    <tr style=\"text-align: right;\">\n",
       "      <th></th>\n",
       "      <th>key</th>\n",
       "      <th>Начало нагрева дугой</th>\n",
       "      <th>Конец нагрева дугой</th>\n",
       "      <th>Активная мощность</th>\n",
       "      <th>Реактивная мощность</th>\n",
       "      <th>time</th>\n",
       "    </tr>\n",
       "  </thead>\n",
       "  <tbody>\n",
       "    <tr>\n",
       "      <th>0</th>\n",
       "      <td>1</td>\n",
       "      <td>2019-05-03 11:02:14</td>\n",
       "      <td>2019-05-03 11:06:02</td>\n",
       "      <td>0.976059</td>\n",
       "      <td>0.687084</td>\n",
       "      <td>228</td>\n",
       "    </tr>\n",
       "    <tr>\n",
       "      <th>1</th>\n",
       "      <td>1</td>\n",
       "      <td>2019-05-03 11:07:28</td>\n",
       "      <td>2019-05-03 11:10:33</td>\n",
       "      <td>0.805607</td>\n",
       "      <td>0.520285</td>\n",
       "      <td>185</td>\n",
       "    </tr>\n",
       "    <tr>\n",
       "      <th>2</th>\n",
       "      <td>1</td>\n",
       "      <td>2019-05-03 11:11:44</td>\n",
       "      <td>2019-05-03 11:14:36</td>\n",
       "      <td>0.744363</td>\n",
       "      <td>0.498805</td>\n",
       "      <td>172</td>\n",
       "    </tr>\n",
       "    <tr>\n",
       "      <th>3</th>\n",
       "      <td>1</td>\n",
       "      <td>2019-05-03 11:18:14</td>\n",
       "      <td>2019-05-03 11:24:19</td>\n",
       "      <td>1.659363</td>\n",
       "      <td>1.062669</td>\n",
       "      <td>365</td>\n",
       "    </tr>\n",
       "    <tr>\n",
       "      <th>4</th>\n",
       "      <td>1</td>\n",
       "      <td>2019-05-03 11:26:09</td>\n",
       "      <td>2019-05-03 11:28:37</td>\n",
       "      <td>0.692755</td>\n",
       "      <td>0.414397</td>\n",
       "      <td>148</td>\n",
       "    </tr>\n",
       "    <tr>\n",
       "      <th>...</th>\n",
       "      <td>...</td>\n",
       "      <td>...</td>\n",
       "      <td>...</td>\n",
       "      <td>...</td>\n",
       "      <td>...</td>\n",
       "      <td>...</td>\n",
       "    </tr>\n",
       "    <tr>\n",
       "      <th>14871</th>\n",
       "      <td>3241</td>\n",
       "      <td>2019-09-01 03:58:58</td>\n",
       "      <td>2019-09-01 04:01:35</td>\n",
       "      <td>0.533670</td>\n",
       "      <td>0.354439</td>\n",
       "      <td>157</td>\n",
       "    </tr>\n",
       "    <tr>\n",
       "      <th>14872</th>\n",
       "      <td>3241</td>\n",
       "      <td>2019-09-01 04:05:04</td>\n",
       "      <td>2019-09-01 04:08:04</td>\n",
       "      <td>0.676604</td>\n",
       "      <td>0.523631</td>\n",
       "      <td>180</td>\n",
       "    </tr>\n",
       "    <tr>\n",
       "      <th>14873</th>\n",
       "      <td>3241</td>\n",
       "      <td>2019-09-01 04:16:41</td>\n",
       "      <td>2019-09-01 04:19:45</td>\n",
       "      <td>0.733899</td>\n",
       "      <td>0.475654</td>\n",
       "      <td>184</td>\n",
       "    </tr>\n",
       "    <tr>\n",
       "      <th>14874</th>\n",
       "      <td>3241</td>\n",
       "      <td>2019-09-01 04:31:51</td>\n",
       "      <td>2019-09-01 04:32:48</td>\n",
       "      <td>0.220694</td>\n",
       "      <td>0.145768</td>\n",
       "      <td>57</td>\n",
       "    </tr>\n",
       "    <tr>\n",
       "      <th>14875</th>\n",
       "      <td>3241</td>\n",
       "      <td>2019-09-01 04:34:47</td>\n",
       "      <td>2019-09-01 04:36:08</td>\n",
       "      <td>0.306580</td>\n",
       "      <td>0.196708</td>\n",
       "      <td>81</td>\n",
       "    </tr>\n",
       "  </tbody>\n",
       "</table>\n",
       "<p>14876 rows × 6 columns</p>\n",
       "</div>"
      ],
      "text/plain": [
       "        key Начало нагрева дугой Конец нагрева дугой  Активная мощность  \\\n",
       "0         1  2019-05-03 11:02:14 2019-05-03 11:06:02           0.976059   \n",
       "1         1  2019-05-03 11:07:28 2019-05-03 11:10:33           0.805607   \n",
       "2         1  2019-05-03 11:11:44 2019-05-03 11:14:36           0.744363   \n",
       "3         1  2019-05-03 11:18:14 2019-05-03 11:24:19           1.659363   \n",
       "4         1  2019-05-03 11:26:09 2019-05-03 11:28:37           0.692755   \n",
       "...     ...                  ...                 ...                ...   \n",
       "14871  3241  2019-09-01 03:58:58 2019-09-01 04:01:35           0.533670   \n",
       "14872  3241  2019-09-01 04:05:04 2019-09-01 04:08:04           0.676604   \n",
       "14873  3241  2019-09-01 04:16:41 2019-09-01 04:19:45           0.733899   \n",
       "14874  3241  2019-09-01 04:31:51 2019-09-01 04:32:48           0.220694   \n",
       "14875  3241  2019-09-01 04:34:47 2019-09-01 04:36:08           0.306580   \n",
       "\n",
       "       Реактивная мощность  time  \n",
       "0                 0.687084   228  \n",
       "1                 0.520285   185  \n",
       "2                 0.498805   172  \n",
       "3                 1.062669   365  \n",
       "4                 0.414397   148  \n",
       "...                    ...   ...  \n",
       "14871             0.354439   157  \n",
       "14872             0.523631   180  \n",
       "14873             0.475654   184  \n",
       "14874             0.145768    57  \n",
       "14875             0.196708    81  \n",
       "\n",
       "[14876 rows x 6 columns]"
      ]
     },
     "execution_count": 41,
     "metadata": {},
     "output_type": "execute_result"
    }
   ],
   "source": [
    "arc['time'] = (arc['Конец нагрева дугой'] - arc['Начало нагрева дугой'])\n",
    "for i in range(len(arc['time'])):\n",
    "    arc['time'].loc[i] = arc['time'].loc[i].total_seconds()\n",
    "\n",
    "arc['time'] = arc['time'].astype('int')\n",
    "arc"
   ]
  },
  {
   "cell_type": "markdown",
   "id": "f6fb8823",
   "metadata": {},
   "source": [
    "Сделано. Посчитаем сумарную мощность для каждой итерации, как корень из суммы квадратов активной и реактивной мощностей."
   ]
  },
  {
   "cell_type": "code",
   "execution_count": 42,
   "id": "5d175e8c",
   "metadata": {},
   "outputs": [
    {
     "data": {
      "text/html": [
       "<div>\n",
       "<style scoped>\n",
       "    .dataframe tbody tr th:only-of-type {\n",
       "        vertical-align: middle;\n",
       "    }\n",
       "\n",
       "    .dataframe tbody tr th {\n",
       "        vertical-align: top;\n",
       "    }\n",
       "\n",
       "    .dataframe thead th {\n",
       "        text-align: right;\n",
       "    }\n",
       "</style>\n",
       "<table border=\"1\" class=\"dataframe\">\n",
       "  <thead>\n",
       "    <tr style=\"text-align: right;\">\n",
       "      <th></th>\n",
       "      <th>key</th>\n",
       "      <th>Начало нагрева дугой</th>\n",
       "      <th>Конец нагрева дугой</th>\n",
       "      <th>Активная мощность</th>\n",
       "      <th>Реактивная мощность</th>\n",
       "      <th>time</th>\n",
       "      <th>power</th>\n",
       "    </tr>\n",
       "  </thead>\n",
       "  <tbody>\n",
       "    <tr>\n",
       "      <th>0</th>\n",
       "      <td>1</td>\n",
       "      <td>2019-05-03 11:02:14</td>\n",
       "      <td>2019-05-03 11:06:02</td>\n",
       "      <td>0.976059</td>\n",
       "      <td>0.687084</td>\n",
       "      <td>228</td>\n",
       "      <td>1.193639</td>\n",
       "    </tr>\n",
       "    <tr>\n",
       "      <th>1</th>\n",
       "      <td>1</td>\n",
       "      <td>2019-05-03 11:07:28</td>\n",
       "      <td>2019-05-03 11:10:33</td>\n",
       "      <td>0.805607</td>\n",
       "      <td>0.520285</td>\n",
       "      <td>185</td>\n",
       "      <td>0.959010</td>\n",
       "    </tr>\n",
       "    <tr>\n",
       "      <th>2</th>\n",
       "      <td>1</td>\n",
       "      <td>2019-05-03 11:11:44</td>\n",
       "      <td>2019-05-03 11:14:36</td>\n",
       "      <td>0.744363</td>\n",
       "      <td>0.498805</td>\n",
       "      <td>172</td>\n",
       "      <td>0.896038</td>\n",
       "    </tr>\n",
       "    <tr>\n",
       "      <th>3</th>\n",
       "      <td>1</td>\n",
       "      <td>2019-05-03 11:18:14</td>\n",
       "      <td>2019-05-03 11:24:19</td>\n",
       "      <td>1.659363</td>\n",
       "      <td>1.062669</td>\n",
       "      <td>365</td>\n",
       "      <td>1.970470</td>\n",
       "    </tr>\n",
       "    <tr>\n",
       "      <th>4</th>\n",
       "      <td>1</td>\n",
       "      <td>2019-05-03 11:26:09</td>\n",
       "      <td>2019-05-03 11:28:37</td>\n",
       "      <td>0.692755</td>\n",
       "      <td>0.414397</td>\n",
       "      <td>148</td>\n",
       "      <td>0.807239</td>\n",
       "    </tr>\n",
       "    <tr>\n",
       "      <th>...</th>\n",
       "      <td>...</td>\n",
       "      <td>...</td>\n",
       "      <td>...</td>\n",
       "      <td>...</td>\n",
       "      <td>...</td>\n",
       "      <td>...</td>\n",
       "      <td>...</td>\n",
       "    </tr>\n",
       "    <tr>\n",
       "      <th>14871</th>\n",
       "      <td>3241</td>\n",
       "      <td>2019-09-01 03:58:58</td>\n",
       "      <td>2019-09-01 04:01:35</td>\n",
       "      <td>0.533670</td>\n",
       "      <td>0.354439</td>\n",
       "      <td>157</td>\n",
       "      <td>0.640648</td>\n",
       "    </tr>\n",
       "    <tr>\n",
       "      <th>14872</th>\n",
       "      <td>3241</td>\n",
       "      <td>2019-09-01 04:05:04</td>\n",
       "      <td>2019-09-01 04:08:04</td>\n",
       "      <td>0.676604</td>\n",
       "      <td>0.523631</td>\n",
       "      <td>180</td>\n",
       "      <td>0.855559</td>\n",
       "    </tr>\n",
       "    <tr>\n",
       "      <th>14873</th>\n",
       "      <td>3241</td>\n",
       "      <td>2019-09-01 04:16:41</td>\n",
       "      <td>2019-09-01 04:19:45</td>\n",
       "      <td>0.733899</td>\n",
       "      <td>0.475654</td>\n",
       "      <td>184</td>\n",
       "      <td>0.874560</td>\n",
       "    </tr>\n",
       "    <tr>\n",
       "      <th>14874</th>\n",
       "      <td>3241</td>\n",
       "      <td>2019-09-01 04:31:51</td>\n",
       "      <td>2019-09-01 04:32:48</td>\n",
       "      <td>0.220694</td>\n",
       "      <td>0.145768</td>\n",
       "      <td>57</td>\n",
       "      <td>0.264489</td>\n",
       "    </tr>\n",
       "    <tr>\n",
       "      <th>14875</th>\n",
       "      <td>3241</td>\n",
       "      <td>2019-09-01 04:34:47</td>\n",
       "      <td>2019-09-01 04:36:08</td>\n",
       "      <td>0.306580</td>\n",
       "      <td>0.196708</td>\n",
       "      <td>81</td>\n",
       "      <td>0.364260</td>\n",
       "    </tr>\n",
       "  </tbody>\n",
       "</table>\n",
       "<p>14876 rows × 7 columns</p>\n",
       "</div>"
      ],
      "text/plain": [
       "        key Начало нагрева дугой Конец нагрева дугой  Активная мощность  \\\n",
       "0         1  2019-05-03 11:02:14 2019-05-03 11:06:02           0.976059   \n",
       "1         1  2019-05-03 11:07:28 2019-05-03 11:10:33           0.805607   \n",
       "2         1  2019-05-03 11:11:44 2019-05-03 11:14:36           0.744363   \n",
       "3         1  2019-05-03 11:18:14 2019-05-03 11:24:19           1.659363   \n",
       "4         1  2019-05-03 11:26:09 2019-05-03 11:28:37           0.692755   \n",
       "...     ...                  ...                 ...                ...   \n",
       "14871  3241  2019-09-01 03:58:58 2019-09-01 04:01:35           0.533670   \n",
       "14872  3241  2019-09-01 04:05:04 2019-09-01 04:08:04           0.676604   \n",
       "14873  3241  2019-09-01 04:16:41 2019-09-01 04:19:45           0.733899   \n",
       "14874  3241  2019-09-01 04:31:51 2019-09-01 04:32:48           0.220694   \n",
       "14875  3241  2019-09-01 04:34:47 2019-09-01 04:36:08           0.306580   \n",
       "\n",
       "       Реактивная мощность  time     power  \n",
       "0                 0.687084   228  1.193639  \n",
       "1                 0.520285   185  0.959010  \n",
       "2                 0.498805   172  0.896038  \n",
       "3                 1.062669   365  1.970470  \n",
       "4                 0.414397   148  0.807239  \n",
       "...                    ...   ...       ...  \n",
       "14871             0.354439   157  0.640648  \n",
       "14872             0.523631   180  0.855559  \n",
       "14873             0.475654   184  0.874560  \n",
       "14874             0.145768    57  0.264489  \n",
       "14875             0.196708    81  0.364260  \n",
       "\n",
       "[14876 rows x 7 columns]"
      ]
     },
     "execution_count": 42,
     "metadata": {},
     "output_type": "execute_result"
    }
   ],
   "source": [
    "arc['power'] = (arc['Активная мощность'] ** 2 + arc['Реактивная мощность'] ** 2) ** 0.5\n",
    "\n",
    "arc"
   ]
  },
  {
   "cell_type": "markdown",
   "id": "f844cfa2",
   "metadata": {},
   "source": [
    "Сделано. \n",
    "\n",
    "Теперь сгрупируем всё по ключам с суммированием, удалим столбцы с значениями активной и реактивной мощностей, и добавим столбец с количеством итераций."
   ]
  },
  {
   "cell_type": "code",
   "execution_count": 43,
   "id": "1aaa6980",
   "metadata": {},
   "outputs": [
    {
     "data": {
      "text/html": [
       "<div>\n",
       "<style scoped>\n",
       "    .dataframe tbody tr th:only-of-type {\n",
       "        vertical-align: middle;\n",
       "    }\n",
       "\n",
       "    .dataframe tbody tr th {\n",
       "        vertical-align: top;\n",
       "    }\n",
       "\n",
       "    .dataframe thead th {\n",
       "        text-align: right;\n",
       "    }\n",
       "</style>\n",
       "<table border=\"1\" class=\"dataframe\">\n",
       "  <thead>\n",
       "    <tr style=\"text-align: right;\">\n",
       "      <th></th>\n",
       "      <th>key</th>\n",
       "      <th>time</th>\n",
       "      <th>power</th>\n",
       "      <th>count</th>\n",
       "    </tr>\n",
       "  </thead>\n",
       "  <tbody>\n",
       "    <tr>\n",
       "      <th>0</th>\n",
       "      <td>1</td>\n",
       "      <td>1098</td>\n",
       "      <td>5.826395</td>\n",
       "      <td>5</td>\n",
       "    </tr>\n",
       "    <tr>\n",
       "      <th>1</th>\n",
       "      <td>2</td>\n",
       "      <td>811</td>\n",
       "      <td>3.649216</td>\n",
       "      <td>4</td>\n",
       "    </tr>\n",
       "    <tr>\n",
       "      <th>2</th>\n",
       "      <td>3</td>\n",
       "      <td>655</td>\n",
       "      <td>2.989534</td>\n",
       "      <td>5</td>\n",
       "    </tr>\n",
       "    <tr>\n",
       "      <th>3</th>\n",
       "      <td>4</td>\n",
       "      <td>741</td>\n",
       "      <td>3.814962</td>\n",
       "      <td>4</td>\n",
       "    </tr>\n",
       "    <tr>\n",
       "      <th>4</th>\n",
       "      <td>5</td>\n",
       "      <td>869</td>\n",
       "      <td>4.035758</td>\n",
       "      <td>4</td>\n",
       "    </tr>\n",
       "    <tr>\n",
       "      <th>...</th>\n",
       "      <td>...</td>\n",
       "      <td>...</td>\n",
       "      <td>...</td>\n",
       "      <td>...</td>\n",
       "    </tr>\n",
       "    <tr>\n",
       "      <th>3209</th>\n",
       "      <td>3237</td>\n",
       "      <td>909</td>\n",
       "      <td>4.844982</td>\n",
       "      <td>5</td>\n",
       "    </tr>\n",
       "    <tr>\n",
       "      <th>3210</th>\n",
       "      <td>3238</td>\n",
       "      <td>546</td>\n",
       "      <td>2.696542</td>\n",
       "      <td>3</td>\n",
       "    </tr>\n",
       "    <tr>\n",
       "      <th>3211</th>\n",
       "      <td>3239</td>\n",
       "      <td>1216</td>\n",
       "      <td>5.611883</td>\n",
       "      <td>8</td>\n",
       "    </tr>\n",
       "    <tr>\n",
       "      <th>3212</th>\n",
       "      <td>3240</td>\n",
       "      <td>839</td>\n",
       "      <td>3.891856</td>\n",
       "      <td>5</td>\n",
       "    </tr>\n",
       "    <tr>\n",
       "      <th>3213</th>\n",
       "      <td>3241</td>\n",
       "      <td>659</td>\n",
       "      <td>2.999516</td>\n",
       "      <td>5</td>\n",
       "    </tr>\n",
       "  </tbody>\n",
       "</table>\n",
       "<p>3214 rows × 4 columns</p>\n",
       "</div>"
      ],
      "text/plain": [
       "       key  time     power  count\n",
       "0        1  1098  5.826395      5\n",
       "1        2   811  3.649216      4\n",
       "2        3   655  2.989534      5\n",
       "3        4   741  3.814962      4\n",
       "4        5   869  4.035758      4\n",
       "...    ...   ...       ...    ...\n",
       "3209  3237   909  4.844982      5\n",
       "3210  3238   546  2.696542      3\n",
       "3211  3239  1216  5.611883      8\n",
       "3212  3240   839  3.891856      5\n",
       "3213  3241   659  2.999516      5\n",
       "\n",
       "[3214 rows x 4 columns]"
      ]
     },
     "execution_count": 43,
     "metadata": {},
     "output_type": "execute_result"
    }
   ],
   "source": [
    "arc = arc.groupby('key').sum().drop(['Активная мощность', 'Реактивная мощность'], axis=1)\n",
    "arc['count'] = data_arc.groupby('key')['key'].count()\n",
    "arc = arc.reset_index()\n",
    "\n",
    "arc"
   ]
  },
  {
   "cell_type": "markdown",
   "id": "83879511",
   "metadata": {},
   "source": [
    "Посмотрим распределение и проверим, что не потеряли ключи"
   ]
  },
  {
   "cell_type": "code",
   "execution_count": 44,
   "id": "516b9350",
   "metadata": {},
   "outputs": [
    {
     "data": {
      "text/html": [
       "<div>\n",
       "<style scoped>\n",
       "    .dataframe tbody tr th:only-of-type {\n",
       "        vertical-align: middle;\n",
       "    }\n",
       "\n",
       "    .dataframe tbody tr th {\n",
       "        vertical-align: top;\n",
       "    }\n",
       "\n",
       "    .dataframe thead th {\n",
       "        text-align: right;\n",
       "    }\n",
       "</style>\n",
       "<table border=\"1\" class=\"dataframe\">\n",
       "  <thead>\n",
       "    <tr style=\"text-align: right;\">\n",
       "      <th></th>\n",
       "      <th>key</th>\n",
       "      <th>time</th>\n",
       "      <th>power</th>\n",
       "      <th>count</th>\n",
       "    </tr>\n",
       "  </thead>\n",
       "  <tbody>\n",
       "    <tr>\n",
       "      <th>count</th>\n",
       "      <td>3214.0</td>\n",
       "      <td>3214.0</td>\n",
       "      <td>3214.0</td>\n",
       "      <td>3214.0</td>\n",
       "    </tr>\n",
       "    <tr>\n",
       "      <th>mean</th>\n",
       "      <td>1623.1</td>\n",
       "      <td>794.6</td>\n",
       "      <td>3.9</td>\n",
       "      <td>4.6</td>\n",
       "    </tr>\n",
       "    <tr>\n",
       "      <th>std</th>\n",
       "      <td>934.7</td>\n",
       "      <td>332.4</td>\n",
       "      <td>1.7</td>\n",
       "      <td>1.6</td>\n",
       "    </tr>\n",
       "    <tr>\n",
       "      <th>min</th>\n",
       "      <td>1.0</td>\n",
       "      <td>57.0</td>\n",
       "      <td>0.3</td>\n",
       "      <td>1.0</td>\n",
       "    </tr>\n",
       "    <tr>\n",
       "      <th>25%</th>\n",
       "      <td>817.2</td>\n",
       "      <td>571.0</td>\n",
       "      <td>2.7</td>\n",
       "      <td>4.0</td>\n",
       "    </tr>\n",
       "    <tr>\n",
       "      <th>50%</th>\n",
       "      <td>1623.5</td>\n",
       "      <td>770.0</td>\n",
       "      <td>3.7</td>\n",
       "      <td>4.0</td>\n",
       "    </tr>\n",
       "    <tr>\n",
       "      <th>75%</th>\n",
       "      <td>2431.8</td>\n",
       "      <td>983.0</td>\n",
       "      <td>4.9</td>\n",
       "      <td>6.0</td>\n",
       "    </tr>\n",
       "    <tr>\n",
       "      <th>max</th>\n",
       "      <td>3241.0</td>\n",
       "      <td>4189.0</td>\n",
       "      <td>21.6</td>\n",
       "      <td>16.0</td>\n",
       "    </tr>\n",
       "  </tbody>\n",
       "</table>\n",
       "</div>"
      ],
      "text/plain": [
       "          key    time   power   count\n",
       "count  3214.0  3214.0  3214.0  3214.0\n",
       "mean   1623.1   794.6     3.9     4.6\n",
       "std     934.7   332.4     1.7     1.6\n",
       "min       1.0    57.0     0.3     1.0\n",
       "25%     817.2   571.0     2.7     4.0\n",
       "50%    1623.5   770.0     3.7     4.0\n",
       "75%    2431.8   983.0     4.9     6.0\n",
       "max    3241.0  4189.0    21.6    16.0"
      ]
     },
     "execution_count": 44,
     "metadata": {},
     "output_type": "execute_result"
    }
   ],
   "source": [
    "arc.describe().round(1)"
   ]
  },
  {
   "cell_type": "code",
   "execution_count": 45,
   "id": "f6bc7d99",
   "metadata": {},
   "outputs": [
    {
     "data": {
      "text/plain": [
       "True"
      ]
     },
     "execution_count": 45,
     "metadata": {},
     "output_type": "execute_result"
    }
   ],
   "source": [
    "len(arc['key'].unique()) == len(data_arc['key'].unique())"
   ]
  },
  {
   "cell_type": "markdown",
   "id": "89aff6c7",
   "metadata": {},
   "source": [
    "Ничего не потеряли, переходим к сыпучим материалам. Сначала попробуем тактику с использованием данных по самим популярным смесям для этого проверим, что хотя бы одна из них входит во все ключи."
   ]
  },
  {
   "cell_type": "markdown",
   "id": "f9fadd0f",
   "metadata": {},
   "source": [
    "#### Сыпучие материалы"
   ]
  },
  {
   "cell_type": "markdown",
   "id": "d71e4d9c",
   "metadata": {},
   "source": [
    "ниже исследовал пересечения по добавкам. Информация в отчёт не пойдёт."
   ]
  },
  {
   "cell_type": "code",
   "execution_count": 46,
   "id": "456f4cda",
   "metadata": {},
   "outputs": [
    {
     "data": {
      "text/plain": [
       "3"
      ]
     },
     "execution_count": 46,
     "metadata": {},
     "output_type": "execute_result"
    }
   ],
   "source": [
    "crossing = []\n",
    "for i in range(len(data_bulk)):\n",
    "    if (data_bulk['Bulk 14'][i] == 0 and \n",
    "        data_bulk['Bulk 12'][i] == 0 and\n",
    "        data_bulk['Bulk 15'][i] == 0 and\n",
    "        data_bulk['Bulk 3'][i] == 0 and\n",
    "##        data_bulk['Bulk 4'][i] == 0 and\n",
    "##        data_bulk['Bulk 6'][i] == 0 and\n",
    "##        data_bulk['Bulk 1'][i] == 0 and\n",
    "        data_bulk['Bulk 11'][i]\n",
    "       ):\n",
    "        crossing.append(i)\n",
    "len(crossing)    "
   ]
  },
  {
   "cell_type": "code",
   "execution_count": 47,
   "id": "2094ef1f",
   "metadata": {
    "scrolled": false
   },
   "outputs": [
    {
     "data": {
      "text/html": [
       "<div>\n",
       "<style scoped>\n",
       "    .dataframe tbody tr th:only-of-type {\n",
       "        vertical-align: middle;\n",
       "    }\n",
       "\n",
       "    .dataframe tbody tr th {\n",
       "        vertical-align: top;\n",
       "    }\n",
       "\n",
       "    .dataframe thead th {\n",
       "        text-align: right;\n",
       "    }\n",
       "</style>\n",
       "<table border=\"1\" class=\"dataframe\">\n",
       "  <thead>\n",
       "    <tr style=\"text-align: right;\">\n",
       "      <th></th>\n",
       "      <th>key</th>\n",
       "      <th>Bulk 1</th>\n",
       "      <th>Bulk 2</th>\n",
       "      <th>Bulk 3</th>\n",
       "      <th>Bulk 4</th>\n",
       "      <th>Bulk 5</th>\n",
       "      <th>Bulk 6</th>\n",
       "      <th>Bulk 7</th>\n",
       "      <th>Bulk 8</th>\n",
       "      <th>Bulk 9</th>\n",
       "      <th>Bulk 10</th>\n",
       "      <th>Bulk 11</th>\n",
       "      <th>Bulk 12</th>\n",
       "      <th>Bulk 13</th>\n",
       "      <th>Bulk 14</th>\n",
       "      <th>Bulk 15</th>\n",
       "    </tr>\n",
       "  </thead>\n",
       "  <tbody>\n",
       "    <tr>\n",
       "      <th>0</th>\n",
       "      <td>1</td>\n",
       "      <td>0.0</td>\n",
       "      <td>0.0</td>\n",
       "      <td>0.0</td>\n",
       "      <td>43.0</td>\n",
       "      <td>0.0</td>\n",
       "      <td>0.0</td>\n",
       "      <td>0.0</td>\n",
       "      <td>0.0</td>\n",
       "      <td>0.0</td>\n",
       "      <td>0.0</td>\n",
       "      <td>0.0</td>\n",
       "      <td>206.0</td>\n",
       "      <td>0.0</td>\n",
       "      <td>150.0</td>\n",
       "      <td>154.0</td>\n",
       "    </tr>\n",
       "    <tr>\n",
       "      <th>1</th>\n",
       "      <td>2</td>\n",
       "      <td>0.0</td>\n",
       "      <td>0.0</td>\n",
       "      <td>0.0</td>\n",
       "      <td>73.0</td>\n",
       "      <td>0.0</td>\n",
       "      <td>0.0</td>\n",
       "      <td>0.0</td>\n",
       "      <td>0.0</td>\n",
       "      <td>0.0</td>\n",
       "      <td>0.0</td>\n",
       "      <td>0.0</td>\n",
       "      <td>206.0</td>\n",
       "      <td>0.0</td>\n",
       "      <td>149.0</td>\n",
       "      <td>154.0</td>\n",
       "    </tr>\n",
       "    <tr>\n",
       "      <th>2</th>\n",
       "      <td>3</td>\n",
       "      <td>0.0</td>\n",
       "      <td>0.0</td>\n",
       "      <td>0.0</td>\n",
       "      <td>34.0</td>\n",
       "      <td>0.0</td>\n",
       "      <td>0.0</td>\n",
       "      <td>0.0</td>\n",
       "      <td>0.0</td>\n",
       "      <td>0.0</td>\n",
       "      <td>0.0</td>\n",
       "      <td>0.0</td>\n",
       "      <td>205.0</td>\n",
       "      <td>0.0</td>\n",
       "      <td>152.0</td>\n",
       "      <td>153.0</td>\n",
       "    </tr>\n",
       "    <tr>\n",
       "      <th>3</th>\n",
       "      <td>4</td>\n",
       "      <td>0.0</td>\n",
       "      <td>0.0</td>\n",
       "      <td>0.0</td>\n",
       "      <td>81.0</td>\n",
       "      <td>0.0</td>\n",
       "      <td>0.0</td>\n",
       "      <td>0.0</td>\n",
       "      <td>0.0</td>\n",
       "      <td>0.0</td>\n",
       "      <td>0.0</td>\n",
       "      <td>0.0</td>\n",
       "      <td>207.0</td>\n",
       "      <td>0.0</td>\n",
       "      <td>153.0</td>\n",
       "      <td>154.0</td>\n",
       "    </tr>\n",
       "    <tr>\n",
       "      <th>4</th>\n",
       "      <td>5</td>\n",
       "      <td>0.0</td>\n",
       "      <td>0.0</td>\n",
       "      <td>0.0</td>\n",
       "      <td>78.0</td>\n",
       "      <td>0.0</td>\n",
       "      <td>0.0</td>\n",
       "      <td>0.0</td>\n",
       "      <td>0.0</td>\n",
       "      <td>0.0</td>\n",
       "      <td>0.0</td>\n",
       "      <td>0.0</td>\n",
       "      <td>203.0</td>\n",
       "      <td>0.0</td>\n",
       "      <td>151.0</td>\n",
       "      <td>152.0</td>\n",
       "    </tr>\n",
       "    <tr>\n",
       "      <th>...</th>\n",
       "      <td>...</td>\n",
       "      <td>...</td>\n",
       "      <td>...</td>\n",
       "      <td>...</td>\n",
       "      <td>...</td>\n",
       "      <td>...</td>\n",
       "      <td>...</td>\n",
       "      <td>...</td>\n",
       "      <td>...</td>\n",
       "      <td>...</td>\n",
       "      <td>...</td>\n",
       "      <td>...</td>\n",
       "      <td>...</td>\n",
       "      <td>...</td>\n",
       "      <td>...</td>\n",
       "      <td>...</td>\n",
       "    </tr>\n",
       "    <tr>\n",
       "      <th>3124</th>\n",
       "      <td>3237</td>\n",
       "      <td>0.0</td>\n",
       "      <td>0.0</td>\n",
       "      <td>170.0</td>\n",
       "      <td>0.0</td>\n",
       "      <td>0.0</td>\n",
       "      <td>0.0</td>\n",
       "      <td>0.0</td>\n",
       "      <td>0.0</td>\n",
       "      <td>0.0</td>\n",
       "      <td>0.0</td>\n",
       "      <td>0.0</td>\n",
       "      <td>252.0</td>\n",
       "      <td>0.0</td>\n",
       "      <td>130.0</td>\n",
       "      <td>206.0</td>\n",
       "    </tr>\n",
       "    <tr>\n",
       "      <th>3125</th>\n",
       "      <td>3238</td>\n",
       "      <td>0.0</td>\n",
       "      <td>0.0</td>\n",
       "      <td>126.0</td>\n",
       "      <td>0.0</td>\n",
       "      <td>0.0</td>\n",
       "      <td>0.0</td>\n",
       "      <td>0.0</td>\n",
       "      <td>0.0</td>\n",
       "      <td>0.0</td>\n",
       "      <td>0.0</td>\n",
       "      <td>0.0</td>\n",
       "      <td>254.0</td>\n",
       "      <td>0.0</td>\n",
       "      <td>108.0</td>\n",
       "      <td>106.0</td>\n",
       "    </tr>\n",
       "    <tr>\n",
       "      <th>3126</th>\n",
       "      <td>3239</td>\n",
       "      <td>0.0</td>\n",
       "      <td>0.0</td>\n",
       "      <td>0.0</td>\n",
       "      <td>0.0</td>\n",
       "      <td>0.0</td>\n",
       "      <td>114.0</td>\n",
       "      <td>0.0</td>\n",
       "      <td>0.0</td>\n",
       "      <td>0.0</td>\n",
       "      <td>0.0</td>\n",
       "      <td>0.0</td>\n",
       "      <td>158.0</td>\n",
       "      <td>0.0</td>\n",
       "      <td>270.0</td>\n",
       "      <td>88.0</td>\n",
       "    </tr>\n",
       "    <tr>\n",
       "      <th>3127</th>\n",
       "      <td>3240</td>\n",
       "      <td>0.0</td>\n",
       "      <td>0.0</td>\n",
       "      <td>0.0</td>\n",
       "      <td>0.0</td>\n",
       "      <td>0.0</td>\n",
       "      <td>26.0</td>\n",
       "      <td>0.0</td>\n",
       "      <td>0.0</td>\n",
       "      <td>0.0</td>\n",
       "      <td>0.0</td>\n",
       "      <td>0.0</td>\n",
       "      <td>0.0</td>\n",
       "      <td>0.0</td>\n",
       "      <td>192.0</td>\n",
       "      <td>54.0</td>\n",
       "    </tr>\n",
       "    <tr>\n",
       "      <th>3128</th>\n",
       "      <td>3241</td>\n",
       "      <td>0.0</td>\n",
       "      <td>0.0</td>\n",
       "      <td>0.0</td>\n",
       "      <td>0.0</td>\n",
       "      <td>0.0</td>\n",
       "      <td>0.0</td>\n",
       "      <td>0.0</td>\n",
       "      <td>0.0</td>\n",
       "      <td>0.0</td>\n",
       "      <td>0.0</td>\n",
       "      <td>0.0</td>\n",
       "      <td>0.0</td>\n",
       "      <td>0.0</td>\n",
       "      <td>180.0</td>\n",
       "      <td>52.0</td>\n",
       "    </tr>\n",
       "  </tbody>\n",
       "</table>\n",
       "<p>3129 rows × 16 columns</p>\n",
       "</div>"
      ],
      "text/plain": [
       "       key  Bulk 1  Bulk 2  Bulk 3  Bulk 4  Bulk 5  Bulk 6  Bulk 7  Bulk 8  \\\n",
       "0        1     0.0     0.0     0.0    43.0     0.0     0.0     0.0     0.0   \n",
       "1        2     0.0     0.0     0.0    73.0     0.0     0.0     0.0     0.0   \n",
       "2        3     0.0     0.0     0.0    34.0     0.0     0.0     0.0     0.0   \n",
       "3        4     0.0     0.0     0.0    81.0     0.0     0.0     0.0     0.0   \n",
       "4        5     0.0     0.0     0.0    78.0     0.0     0.0     0.0     0.0   \n",
       "...    ...     ...     ...     ...     ...     ...     ...     ...     ...   \n",
       "3124  3237     0.0     0.0   170.0     0.0     0.0     0.0     0.0     0.0   \n",
       "3125  3238     0.0     0.0   126.0     0.0     0.0     0.0     0.0     0.0   \n",
       "3126  3239     0.0     0.0     0.0     0.0     0.0   114.0     0.0     0.0   \n",
       "3127  3240     0.0     0.0     0.0     0.0     0.0    26.0     0.0     0.0   \n",
       "3128  3241     0.0     0.0     0.0     0.0     0.0     0.0     0.0     0.0   \n",
       "\n",
       "      Bulk 9  Bulk 10  Bulk 11  Bulk 12  Bulk 13  Bulk 14  Bulk 15  \n",
       "0        0.0      0.0      0.0    206.0      0.0    150.0    154.0  \n",
       "1        0.0      0.0      0.0    206.0      0.0    149.0    154.0  \n",
       "2        0.0      0.0      0.0    205.0      0.0    152.0    153.0  \n",
       "3        0.0      0.0      0.0    207.0      0.0    153.0    154.0  \n",
       "4        0.0      0.0      0.0    203.0      0.0    151.0    152.0  \n",
       "...      ...      ...      ...      ...      ...      ...      ...  \n",
       "3124     0.0      0.0      0.0    252.0      0.0    130.0    206.0  \n",
       "3125     0.0      0.0      0.0    254.0      0.0    108.0    106.0  \n",
       "3126     0.0      0.0      0.0    158.0      0.0    270.0     88.0  \n",
       "3127     0.0      0.0      0.0      0.0      0.0    192.0     54.0  \n",
       "3128     0.0      0.0      0.0      0.0      0.0    180.0     52.0  \n",
       "\n",
       "[3129 rows x 16 columns]"
      ]
     },
     "execution_count": 47,
     "metadata": {},
     "output_type": "execute_result"
    }
   ],
   "source": [
    "bulk = data_bulk.copy()\n",
    "#bulk['bulk_other'] = bulk.drop(['key', 'Bulk 14', 'Bulk 12', 'Bulk 15', 'Bulk 3', 'Bulk 4', 'Bulk 11'], axis=1).sum(axis=1)\n",
    "#bulk = bulk[['key', 'Bulk 14', 'Bulk 12', 'Bulk 15', 'Bulk 3', 'Bulk 4', 'Bulk 11', 'bulk_other']]\n",
    "bulk"
   ]
  },
  {
   "cell_type": "markdown",
   "id": "ec8f1263",
   "metadata": {},
   "source": [
    "В результате прогонок на моделях принял решения оставить все данные"
   ]
  },
  {
   "cell_type": "markdown",
   "id": "ce9b060a",
   "metadata": {},
   "source": [
    "#### Газ"
   ]
  },
  {
   "cell_type": "markdown",
   "id": "12683d72",
   "metadata": {},
   "source": [
    "Никак не будем изменять исходный фаил"
   ]
  },
  {
   "cell_type": "markdown",
   "id": "86840f03",
   "metadata": {},
   "source": [
    "#### Температура"
   ]
  },
  {
   "cell_type": "markdown",
   "id": "8dae9992",
   "metadata": {},
   "source": [
    "Выделяем температуру первого замера"
   ]
  },
  {
   "cell_type": "code",
   "execution_count": 48,
   "id": "b9eac0ee",
   "metadata": {},
   "outputs": [
    {
     "data": {
      "text/html": [
       "<div>\n",
       "<style scoped>\n",
       "    .dataframe tbody tr th:only-of-type {\n",
       "        vertical-align: middle;\n",
       "    }\n",
       "\n",
       "    .dataframe tbody tr th {\n",
       "        vertical-align: top;\n",
       "    }\n",
       "\n",
       "    .dataframe thead th {\n",
       "        text-align: right;\n",
       "    }\n",
       "</style>\n",
       "<table border=\"1\" class=\"dataframe\">\n",
       "  <thead>\n",
       "    <tr style=\"text-align: right;\">\n",
       "      <th></th>\n",
       "      <th>key</th>\n",
       "      <th>temp_f</th>\n",
       "    </tr>\n",
       "  </thead>\n",
       "  <tbody>\n",
       "    <tr>\n",
       "      <th>0</th>\n",
       "      <td>1</td>\n",
       "      <td>1571.0</td>\n",
       "    </tr>\n",
       "    <tr>\n",
       "      <th>1</th>\n",
       "      <td>2</td>\n",
       "      <td>1581.0</td>\n",
       "    </tr>\n",
       "    <tr>\n",
       "      <th>2</th>\n",
       "      <td>3</td>\n",
       "      <td>1596.0</td>\n",
       "    </tr>\n",
       "    <tr>\n",
       "      <th>3</th>\n",
       "      <td>4</td>\n",
       "      <td>1601.0</td>\n",
       "    </tr>\n",
       "    <tr>\n",
       "      <th>4</th>\n",
       "      <td>5</td>\n",
       "      <td>1576.0</td>\n",
       "    </tr>\n",
       "  </tbody>\n",
       "</table>\n",
       "</div>"
      ],
      "text/plain": [
       "   key  temp_f\n",
       "0    1  1571.0\n",
       "1    2  1581.0\n",
       "2    3  1596.0\n",
       "3    4  1601.0\n",
       "4    5  1576.0"
      ]
     },
     "execution_count": 48,
     "metadata": {},
     "output_type": "execute_result"
    }
   ],
   "source": [
    "temp_feature = (\n",
    "    data_temp.groupby('key')['Время замера'].\n",
    "    min().to_frame().reset_index().\n",
    "    merge(data_temp).rename(columns={'Температура':\"temp_f\"}).drop(['Время замера'], axis=1)\n",
    "        )\n",
    "\n",
    "temp_feature.head()"
   ]
  },
  {
   "cell_type": "markdown",
   "id": "c71178eb",
   "metadata": {},
   "source": [
    "Выделяем температуру последнего замера"
   ]
  },
  {
   "cell_type": "code",
   "execution_count": 49,
   "id": "4c138f9b",
   "metadata": {},
   "outputs": [
    {
     "data": {
      "text/html": [
       "<div>\n",
       "<style scoped>\n",
       "    .dataframe tbody tr th:only-of-type {\n",
       "        vertical-align: middle;\n",
       "    }\n",
       "\n",
       "    .dataframe tbody tr th {\n",
       "        vertical-align: top;\n",
       "    }\n",
       "\n",
       "    .dataframe thead th {\n",
       "        text-align: right;\n",
       "    }\n",
       "</style>\n",
       "<table border=\"1\" class=\"dataframe\">\n",
       "  <thead>\n",
       "    <tr style=\"text-align: right;\">\n",
       "      <th></th>\n",
       "      <th>key</th>\n",
       "      <th>target</th>\n",
       "    </tr>\n",
       "  </thead>\n",
       "  <tbody>\n",
       "    <tr>\n",
       "      <th>0</th>\n",
       "      <td>1</td>\n",
       "      <td>1613.0</td>\n",
       "    </tr>\n",
       "    <tr>\n",
       "      <th>1</th>\n",
       "      <td>2</td>\n",
       "      <td>1602.0</td>\n",
       "    </tr>\n",
       "    <tr>\n",
       "      <th>2</th>\n",
       "      <td>3</td>\n",
       "      <td>1599.0</td>\n",
       "    </tr>\n",
       "    <tr>\n",
       "      <th>3</th>\n",
       "      <td>4</td>\n",
       "      <td>1625.0</td>\n",
       "    </tr>\n",
       "    <tr>\n",
       "      <th>4</th>\n",
       "      <td>5</td>\n",
       "      <td>1602.0</td>\n",
       "    </tr>\n",
       "  </tbody>\n",
       "</table>\n",
       "</div>"
      ],
      "text/plain": [
       "   key  target\n",
       "0    1  1613.0\n",
       "1    2  1602.0\n",
       "2    3  1599.0\n",
       "3    4  1625.0\n",
       "4    5  1602.0"
      ]
     },
     "execution_count": 49,
     "metadata": {},
     "output_type": "execute_result"
    }
   ],
   "source": [
    "temp_target = (\n",
    "    data_temp.groupby('key')['Время замера'].\n",
    "    max().to_frame().reset_index().\n",
    "    merge(data_temp).rename(columns={'Температура':\"target\"}).drop(['Время замера'], axis=1)\n",
    "        )\n",
    "\n",
    "temp_target.head()"
   ]
  },
  {
   "cell_type": "markdown",
   "id": "0ea28bc2",
   "metadata": {},
   "source": [
    "Соединяем"
   ]
  },
  {
   "cell_type": "code",
   "execution_count": 50,
   "id": "4eeca0d0",
   "metadata": {},
   "outputs": [
    {
     "data": {
      "text/html": [
       "<div>\n",
       "<style scoped>\n",
       "    .dataframe tbody tr th:only-of-type {\n",
       "        vertical-align: middle;\n",
       "    }\n",
       "\n",
       "    .dataframe tbody tr th {\n",
       "        vertical-align: top;\n",
       "    }\n",
       "\n",
       "    .dataframe thead th {\n",
       "        text-align: right;\n",
       "    }\n",
       "</style>\n",
       "<table border=\"1\" class=\"dataframe\">\n",
       "  <thead>\n",
       "    <tr style=\"text-align: right;\">\n",
       "      <th></th>\n",
       "      <th>key</th>\n",
       "      <th>temp_f</th>\n",
       "      <th>target</th>\n",
       "    </tr>\n",
       "  </thead>\n",
       "  <tbody>\n",
       "    <tr>\n",
       "      <th>0</th>\n",
       "      <td>1</td>\n",
       "      <td>1571.0</td>\n",
       "      <td>1613.0</td>\n",
       "    </tr>\n",
       "    <tr>\n",
       "      <th>1</th>\n",
       "      <td>2</td>\n",
       "      <td>1581.0</td>\n",
       "      <td>1602.0</td>\n",
       "    </tr>\n",
       "    <tr>\n",
       "      <th>2</th>\n",
       "      <td>3</td>\n",
       "      <td>1596.0</td>\n",
       "      <td>1599.0</td>\n",
       "    </tr>\n",
       "    <tr>\n",
       "      <th>3</th>\n",
       "      <td>4</td>\n",
       "      <td>1601.0</td>\n",
       "      <td>1625.0</td>\n",
       "    </tr>\n",
       "    <tr>\n",
       "      <th>4</th>\n",
       "      <td>5</td>\n",
       "      <td>1576.0</td>\n",
       "      <td>1602.0</td>\n",
       "    </tr>\n",
       "    <tr>\n",
       "      <th>...</th>\n",
       "      <td>...</td>\n",
       "      <td>...</td>\n",
       "      <td>...</td>\n",
       "    </tr>\n",
       "    <tr>\n",
       "      <th>2472</th>\n",
       "      <td>2495</td>\n",
       "      <td>1570.0</td>\n",
       "      <td>1591.0</td>\n",
       "    </tr>\n",
       "    <tr>\n",
       "      <th>2473</th>\n",
       "      <td>2496</td>\n",
       "      <td>1554.0</td>\n",
       "      <td>1591.0</td>\n",
       "    </tr>\n",
       "    <tr>\n",
       "      <th>2474</th>\n",
       "      <td>2497</td>\n",
       "      <td>1571.0</td>\n",
       "      <td>1589.0</td>\n",
       "    </tr>\n",
       "    <tr>\n",
       "      <th>2475</th>\n",
       "      <td>2498</td>\n",
       "      <td>1591.0</td>\n",
       "      <td>1594.0</td>\n",
       "    </tr>\n",
       "    <tr>\n",
       "      <th>2476</th>\n",
       "      <td>2499</td>\n",
       "      <td>1569.0</td>\n",
       "      <td>1603.0</td>\n",
       "    </tr>\n",
       "  </tbody>\n",
       "</table>\n",
       "<p>2477 rows × 3 columns</p>\n",
       "</div>"
      ],
      "text/plain": [
       "       key  temp_f  target\n",
       "0        1  1571.0  1613.0\n",
       "1        2  1581.0  1602.0\n",
       "2        3  1596.0  1599.0\n",
       "3        4  1601.0  1625.0\n",
       "4        5  1576.0  1602.0\n",
       "...    ...     ...     ...\n",
       "2472  2495  1570.0  1591.0\n",
       "2473  2496  1554.0  1591.0\n",
       "2474  2497  1571.0  1589.0\n",
       "2475  2498  1591.0  1594.0\n",
       "2476  2499  1569.0  1603.0\n",
       "\n",
       "[2477 rows x 3 columns]"
      ]
     },
     "execution_count": 50,
     "metadata": {},
     "output_type": "execute_result"
    }
   ],
   "source": [
    "temp = temp_feature.merge(temp_target)\n",
    "temp"
   ]
  },
  {
   "cell_type": "code",
   "execution_count": 51,
   "id": "550fa866",
   "metadata": {},
   "outputs": [
    {
     "data": {
      "text/html": [
       "<div>\n",
       "<style scoped>\n",
       "    .dataframe tbody tr th:only-of-type {\n",
       "        vertical-align: middle;\n",
       "    }\n",
       "\n",
       "    .dataframe tbody tr th {\n",
       "        vertical-align: top;\n",
       "    }\n",
       "\n",
       "    .dataframe thead th {\n",
       "        text-align: right;\n",
       "    }\n",
       "</style>\n",
       "<table border=\"1\" class=\"dataframe\">\n",
       "  <thead>\n",
       "    <tr style=\"text-align: right;\">\n",
       "      <th></th>\n",
       "      <th>key</th>\n",
       "      <th>temp_f</th>\n",
       "      <th>target</th>\n",
       "    </tr>\n",
       "  </thead>\n",
       "  <tbody>\n",
       "    <tr>\n",
       "      <th>count</th>\n",
       "      <td>2477.0</td>\n",
       "      <td>2477.0</td>\n",
       "      <td>2477.0</td>\n",
       "    </tr>\n",
       "    <tr>\n",
       "      <th>mean</th>\n",
       "      <td>1250.0</td>\n",
       "      <td>1588.0</td>\n",
       "      <td>1595.0</td>\n",
       "    </tr>\n",
       "    <tr>\n",
       "      <th>std</th>\n",
       "      <td>720.0</td>\n",
       "      <td>29.0</td>\n",
       "      <td>16.0</td>\n",
       "    </tr>\n",
       "    <tr>\n",
       "      <th>min</th>\n",
       "      <td>1.0</td>\n",
       "      <td>1191.0</td>\n",
       "      <td>1541.0</td>\n",
       "    </tr>\n",
       "    <tr>\n",
       "      <th>25%</th>\n",
       "      <td>628.0</td>\n",
       "      <td>1572.0</td>\n",
       "      <td>1587.0</td>\n",
       "    </tr>\n",
       "    <tr>\n",
       "      <th>50%</th>\n",
       "      <td>1251.0</td>\n",
       "      <td>1588.0</td>\n",
       "      <td>1593.0</td>\n",
       "    </tr>\n",
       "    <tr>\n",
       "      <th>75%</th>\n",
       "      <td>1872.0</td>\n",
       "      <td>1605.0</td>\n",
       "      <td>1599.0</td>\n",
       "    </tr>\n",
       "    <tr>\n",
       "      <th>max</th>\n",
       "      <td>2499.0</td>\n",
       "      <td>1679.0</td>\n",
       "      <td>1700.0</td>\n",
       "    </tr>\n",
       "  </tbody>\n",
       "</table>\n",
       "</div>"
      ],
      "text/plain": [
       "          key  temp_f  target\n",
       "count  2477.0  2477.0  2477.0\n",
       "mean   1250.0  1588.0  1595.0\n",
       "std     720.0    29.0    16.0\n",
       "min       1.0  1191.0  1541.0\n",
       "25%     628.0  1572.0  1587.0\n",
       "50%    1251.0  1588.0  1593.0\n",
       "75%    1872.0  1605.0  1599.0\n",
       "max    2499.0  1679.0  1700.0"
      ]
     },
     "execution_count": 51,
     "metadata": {},
     "output_type": "execute_result"
    }
   ],
   "source": [
    "temp.describe().round()"
   ]
  },
  {
   "cell_type": "markdown",
   "id": "4d968139",
   "metadata": {},
   "source": [
    "С Заказчиком согласовано исключение из датасета начальных температур ниже 1500 градусов. Так и поступим."
   ]
  },
  {
   "cell_type": "code",
   "execution_count": 52,
   "id": "cbae705b",
   "metadata": {},
   "outputs": [
    {
     "data": {
      "text/plain": [
       "(2473, 3)"
      ]
     },
     "execution_count": 52,
     "metadata": {},
     "output_type": "execute_result"
    }
   ],
   "source": [
    "temp = temp.query('temp_f >= 1500')\n",
    "temp.shape"
   ]
  },
  {
   "cell_type": "markdown",
   "id": "adff1bfe",
   "metadata": {},
   "source": [
    "Убрали четыре значения"
   ]
  },
  {
   "cell_type": "code",
   "execution_count": 53,
   "id": "cde86725",
   "metadata": {},
   "outputs": [
    {
     "data": {
      "text/html": [
       "<div>\n",
       "<style scoped>\n",
       "    .dataframe tbody tr th:only-of-type {\n",
       "        vertical-align: middle;\n",
       "    }\n",
       "\n",
       "    .dataframe tbody tr th {\n",
       "        vertical-align: top;\n",
       "    }\n",
       "\n",
       "    .dataframe thead th {\n",
       "        text-align: right;\n",
       "    }\n",
       "</style>\n",
       "<table border=\"1\" class=\"dataframe\">\n",
       "  <thead>\n",
       "    <tr style=\"text-align: right;\">\n",
       "      <th></th>\n",
       "      <th>key</th>\n",
       "      <th>temp_f</th>\n",
       "      <th>target</th>\n",
       "    </tr>\n",
       "  </thead>\n",
       "  <tbody>\n",
       "    <tr>\n",
       "      <th>count</th>\n",
       "      <td>2473.0</td>\n",
       "      <td>2473.0</td>\n",
       "      <td>2473.0</td>\n",
       "    </tr>\n",
       "    <tr>\n",
       "      <th>mean</th>\n",
       "      <td>1250.0</td>\n",
       "      <td>1589.0</td>\n",
       "      <td>1595.0</td>\n",
       "    </tr>\n",
       "    <tr>\n",
       "      <th>std</th>\n",
       "      <td>720.0</td>\n",
       "      <td>25.0</td>\n",
       "      <td>16.0</td>\n",
       "    </tr>\n",
       "    <tr>\n",
       "      <th>min</th>\n",
       "      <td>1.0</td>\n",
       "      <td>1519.0</td>\n",
       "      <td>1541.0</td>\n",
       "    </tr>\n",
       "    <tr>\n",
       "      <th>25%</th>\n",
       "      <td>627.0</td>\n",
       "      <td>1572.0</td>\n",
       "      <td>1587.0</td>\n",
       "    </tr>\n",
       "    <tr>\n",
       "      <th>50%</th>\n",
       "      <td>1251.0</td>\n",
       "      <td>1588.0</td>\n",
       "      <td>1593.0</td>\n",
       "    </tr>\n",
       "    <tr>\n",
       "      <th>75%</th>\n",
       "      <td>1872.0</td>\n",
       "      <td>1605.0</td>\n",
       "      <td>1599.0</td>\n",
       "    </tr>\n",
       "    <tr>\n",
       "      <th>max</th>\n",
       "      <td>2499.0</td>\n",
       "      <td>1679.0</td>\n",
       "      <td>1700.0</td>\n",
       "    </tr>\n",
       "  </tbody>\n",
       "</table>\n",
       "</div>"
      ],
      "text/plain": [
       "          key  temp_f  target\n",
       "count  2473.0  2473.0  2473.0\n",
       "mean   1250.0  1589.0  1595.0\n",
       "std     720.0    25.0    16.0\n",
       "min       1.0  1519.0  1541.0\n",
       "25%     627.0  1572.0  1587.0\n",
       "50%    1251.0  1588.0  1593.0\n",
       "75%    1872.0  1605.0  1599.0\n",
       "max    2499.0  1679.0  1700.0"
      ]
     },
     "execution_count": 53,
     "metadata": {},
     "output_type": "execute_result"
    }
   ],
   "source": [
    "temp.describe().round()"
   ]
  },
  {
   "cell_type": "markdown",
   "id": "b65e46d4",
   "metadata": {},
   "source": [
    "#### Проволка"
   ]
  },
  {
   "cell_type": "markdown",
   "id": "6b7a3714",
   "metadata": {},
   "source": [
    "Оставляем информацию для первой и второй проволки, остальные суммируем."
   ]
  },
  {
   "cell_type": "code",
   "execution_count": 54,
   "id": "360e360e",
   "metadata": {},
   "outputs": [
    {
     "data": {
      "text/html": [
       "<div>\n",
       "<style scoped>\n",
       "    .dataframe tbody tr th:only-of-type {\n",
       "        vertical-align: middle;\n",
       "    }\n",
       "\n",
       "    .dataframe tbody tr th {\n",
       "        vertical-align: top;\n",
       "    }\n",
       "\n",
       "    .dataframe thead th {\n",
       "        text-align: right;\n",
       "    }\n",
       "</style>\n",
       "<table border=\"1\" class=\"dataframe\">\n",
       "  <thead>\n",
       "    <tr style=\"text-align: right;\">\n",
       "      <th></th>\n",
       "      <th>key</th>\n",
       "      <th>Wire 1</th>\n",
       "      <th>Wire 2</th>\n",
       "      <th>wire_other</th>\n",
       "    </tr>\n",
       "  </thead>\n",
       "  <tbody>\n",
       "    <tr>\n",
       "      <th>0</th>\n",
       "      <td>1</td>\n",
       "      <td>60.059998</td>\n",
       "      <td>0.00000</td>\n",
       "      <td>0.0</td>\n",
       "    </tr>\n",
       "    <tr>\n",
       "      <th>1</th>\n",
       "      <td>2</td>\n",
       "      <td>96.052315</td>\n",
       "      <td>0.00000</td>\n",
       "      <td>0.0</td>\n",
       "    </tr>\n",
       "    <tr>\n",
       "      <th>2</th>\n",
       "      <td>3</td>\n",
       "      <td>91.160157</td>\n",
       "      <td>0.00000</td>\n",
       "      <td>0.0</td>\n",
       "    </tr>\n",
       "    <tr>\n",
       "      <th>3</th>\n",
       "      <td>4</td>\n",
       "      <td>89.063515</td>\n",
       "      <td>0.00000</td>\n",
       "      <td>0.0</td>\n",
       "    </tr>\n",
       "    <tr>\n",
       "      <th>4</th>\n",
       "      <td>5</td>\n",
       "      <td>89.238236</td>\n",
       "      <td>9.11456</td>\n",
       "      <td>0.0</td>\n",
       "    </tr>\n",
       "    <tr>\n",
       "      <th>...</th>\n",
       "      <td>...</td>\n",
       "      <td>...</td>\n",
       "      <td>...</td>\n",
       "      <td>...</td>\n",
       "    </tr>\n",
       "    <tr>\n",
       "      <th>3076</th>\n",
       "      <td>3237</td>\n",
       "      <td>38.088959</td>\n",
       "      <td>0.00000</td>\n",
       "      <td>0.0</td>\n",
       "    </tr>\n",
       "    <tr>\n",
       "      <th>3077</th>\n",
       "      <td>3238</td>\n",
       "      <td>56.128799</td>\n",
       "      <td>0.00000</td>\n",
       "      <td>0.0</td>\n",
       "    </tr>\n",
       "    <tr>\n",
       "      <th>3078</th>\n",
       "      <td>3239</td>\n",
       "      <td>143.357761</td>\n",
       "      <td>0.00000</td>\n",
       "      <td>0.0</td>\n",
       "    </tr>\n",
       "    <tr>\n",
       "      <th>3079</th>\n",
       "      <td>3240</td>\n",
       "      <td>34.070400</td>\n",
       "      <td>0.00000</td>\n",
       "      <td>0.0</td>\n",
       "    </tr>\n",
       "    <tr>\n",
       "      <th>3080</th>\n",
       "      <td>3241</td>\n",
       "      <td>63.117595</td>\n",
       "      <td>0.00000</td>\n",
       "      <td>0.0</td>\n",
       "    </tr>\n",
       "  </tbody>\n",
       "</table>\n",
       "<p>3081 rows × 4 columns</p>\n",
       "</div>"
      ],
      "text/plain": [
       "       key      Wire 1   Wire 2  wire_other\n",
       "0        1   60.059998  0.00000         0.0\n",
       "1        2   96.052315  0.00000         0.0\n",
       "2        3   91.160157  0.00000         0.0\n",
       "3        4   89.063515  0.00000         0.0\n",
       "4        5   89.238236  9.11456         0.0\n",
       "...    ...         ...      ...         ...\n",
       "3076  3237   38.088959  0.00000         0.0\n",
       "3077  3238   56.128799  0.00000         0.0\n",
       "3078  3239  143.357761  0.00000         0.0\n",
       "3079  3240   34.070400  0.00000         0.0\n",
       "3080  3241   63.117595  0.00000         0.0\n",
       "\n",
       "[3081 rows x 4 columns]"
      ]
     },
     "execution_count": 54,
     "metadata": {},
     "output_type": "execute_result"
    }
   ],
   "source": [
    "wire = data_wire.copy()\n",
    "wire['wire_other'] = wire.drop(['key', 'Wire 1', 'Wire 2'], axis=1).sum(axis=1)\n",
    "wire = wire[['key', 'Wire 1', 'Wire 2', 'wire_other']]\n",
    "wire"
   ]
  },
  {
   "cell_type": "code",
   "execution_count": 55,
   "id": "a0c0c68b",
   "metadata": {},
   "outputs": [
    {
     "data": {
      "text/html": [
       "<div>\n",
       "<style scoped>\n",
       "    .dataframe tbody tr th:only-of-type {\n",
       "        vertical-align: middle;\n",
       "    }\n",
       "\n",
       "    .dataframe tbody tr th {\n",
       "        vertical-align: top;\n",
       "    }\n",
       "\n",
       "    .dataframe thead th {\n",
       "        text-align: right;\n",
       "    }\n",
       "</style>\n",
       "<table border=\"1\" class=\"dataframe\">\n",
       "  <thead>\n",
       "    <tr style=\"text-align: right;\">\n",
       "      <th></th>\n",
       "      <th>key</th>\n",
       "      <th>Wire 1</th>\n",
       "      <th>Wire 2</th>\n",
       "      <th>wire_other</th>\n",
       "    </tr>\n",
       "  </thead>\n",
       "  <tbody>\n",
       "    <tr>\n",
       "      <th>count</th>\n",
       "      <td>3081.000000</td>\n",
       "      <td>3081.000000</td>\n",
       "      <td>3081.000000</td>\n",
       "      <td>3081.000000</td>\n",
       "    </tr>\n",
       "    <tr>\n",
       "      <th>mean</th>\n",
       "      <td>1623.426485</td>\n",
       "      <td>100.044411</td>\n",
       "      <td>17.712733</td>\n",
       "      <td>5.966181</td>\n",
       "    </tr>\n",
       "    <tr>\n",
       "      <th>std</th>\n",
       "      <td>932.996726</td>\n",
       "      <td>42.841120</td>\n",
       "      <td>33.517734</td>\n",
       "      <td>34.846050</td>\n",
       "    </tr>\n",
       "    <tr>\n",
       "      <th>min</th>\n",
       "      <td>1.000000</td>\n",
       "      <td>0.000000</td>\n",
       "      <td>0.000000</td>\n",
       "      <td>0.000000</td>\n",
       "    </tr>\n",
       "    <tr>\n",
       "      <th>25%</th>\n",
       "      <td>823.000000</td>\n",
       "      <td>70.281120</td>\n",
       "      <td>0.000000</td>\n",
       "      <td>0.000000</td>\n",
       "    </tr>\n",
       "    <tr>\n",
       "      <th>50%</th>\n",
       "      <td>1619.000000</td>\n",
       "      <td>100.114563</td>\n",
       "      <td>0.000000</td>\n",
       "      <td>0.000000</td>\n",
       "    </tr>\n",
       "    <tr>\n",
       "      <th>75%</th>\n",
       "      <td>2434.000000</td>\n",
       "      <td>125.798405</td>\n",
       "      <td>23.162880</td>\n",
       "      <td>0.000000</td>\n",
       "    </tr>\n",
       "    <tr>\n",
       "      <th>max</th>\n",
       "      <td>3241.000000</td>\n",
       "      <td>330.314424</td>\n",
       "      <td>282.780152</td>\n",
       "      <td>385.008668</td>\n",
       "    </tr>\n",
       "  </tbody>\n",
       "</table>\n",
       "</div>"
      ],
      "text/plain": [
       "               key       Wire 1       Wire 2   wire_other\n",
       "count  3081.000000  3081.000000  3081.000000  3081.000000\n",
       "mean   1623.426485   100.044411    17.712733     5.966181\n",
       "std     932.996726    42.841120    33.517734    34.846050\n",
       "min       1.000000     0.000000     0.000000     0.000000\n",
       "25%     823.000000    70.281120     0.000000     0.000000\n",
       "50%    1619.000000   100.114563     0.000000     0.000000\n",
       "75%    2434.000000   125.798405    23.162880     0.000000\n",
       "max    3241.000000   330.314424   282.780152   385.008668"
      ]
     },
     "execution_count": 55,
     "metadata": {},
     "output_type": "execute_result"
    }
   ],
   "source": [
    "wire.describe()"
   ]
  },
  {
   "cell_type": "markdown",
   "id": "a3cd9a8e",
   "metadata": {},
   "source": [
    "### Созданиее сводной таблицы"
   ]
  },
  {
   "cell_type": "code",
   "execution_count": 56,
   "id": "effc3d25",
   "metadata": {},
   "outputs": [
    {
     "data": {
      "text/html": [
       "<div>\n",
       "<style scoped>\n",
       "    .dataframe tbody tr th:only-of-type {\n",
       "        vertical-align: middle;\n",
       "    }\n",
       "\n",
       "    .dataframe tbody tr th {\n",
       "        vertical-align: top;\n",
       "    }\n",
       "\n",
       "    .dataframe thead th {\n",
       "        text-align: right;\n",
       "    }\n",
       "</style>\n",
       "<table border=\"1\" class=\"dataframe\">\n",
       "  <thead>\n",
       "    <tr style=\"text-align: right;\">\n",
       "      <th></th>\n",
       "      <th>key</th>\n",
       "      <th>temp_f</th>\n",
       "      <th>target</th>\n",
       "    </tr>\n",
       "  </thead>\n",
       "  <tbody>\n",
       "    <tr>\n",
       "      <th>0</th>\n",
       "      <td>1</td>\n",
       "      <td>1571.0</td>\n",
       "      <td>1613.0</td>\n",
       "    </tr>\n",
       "    <tr>\n",
       "      <th>1</th>\n",
       "      <td>2</td>\n",
       "      <td>1581.0</td>\n",
       "      <td>1602.0</td>\n",
       "    </tr>\n",
       "    <tr>\n",
       "      <th>2</th>\n",
       "      <td>3</td>\n",
       "      <td>1596.0</td>\n",
       "      <td>1599.0</td>\n",
       "    </tr>\n",
       "    <tr>\n",
       "      <th>3</th>\n",
       "      <td>4</td>\n",
       "      <td>1601.0</td>\n",
       "      <td>1625.0</td>\n",
       "    </tr>\n",
       "    <tr>\n",
       "      <th>4</th>\n",
       "      <td>5</td>\n",
       "      <td>1576.0</td>\n",
       "      <td>1602.0</td>\n",
       "    </tr>\n",
       "    <tr>\n",
       "      <th>...</th>\n",
       "      <td>...</td>\n",
       "      <td>...</td>\n",
       "      <td>...</td>\n",
       "    </tr>\n",
       "    <tr>\n",
       "      <th>2472</th>\n",
       "      <td>2495</td>\n",
       "      <td>1570.0</td>\n",
       "      <td>1591.0</td>\n",
       "    </tr>\n",
       "    <tr>\n",
       "      <th>2473</th>\n",
       "      <td>2496</td>\n",
       "      <td>1554.0</td>\n",
       "      <td>1591.0</td>\n",
       "    </tr>\n",
       "    <tr>\n",
       "      <th>2474</th>\n",
       "      <td>2497</td>\n",
       "      <td>1571.0</td>\n",
       "      <td>1589.0</td>\n",
       "    </tr>\n",
       "    <tr>\n",
       "      <th>2475</th>\n",
       "      <td>2498</td>\n",
       "      <td>1591.0</td>\n",
       "      <td>1594.0</td>\n",
       "    </tr>\n",
       "    <tr>\n",
       "      <th>2476</th>\n",
       "      <td>2499</td>\n",
       "      <td>1569.0</td>\n",
       "      <td>1603.0</td>\n",
       "    </tr>\n",
       "  </tbody>\n",
       "</table>\n",
       "<p>2473 rows × 3 columns</p>\n",
       "</div>"
      ],
      "text/plain": [
       "       key  temp_f  target\n",
       "0        1  1571.0  1613.0\n",
       "1        2  1581.0  1602.0\n",
       "2        3  1596.0  1599.0\n",
       "3        4  1601.0  1625.0\n",
       "4        5  1576.0  1602.0\n",
       "...    ...     ...     ...\n",
       "2472  2495  1570.0  1591.0\n",
       "2473  2496  1554.0  1591.0\n",
       "2474  2497  1571.0  1589.0\n",
       "2475  2498  1591.0  1594.0\n",
       "2476  2499  1569.0  1603.0\n",
       "\n",
       "[2473 rows x 3 columns]"
      ]
     },
     "execution_count": 56,
     "metadata": {},
     "output_type": "execute_result"
    }
   ],
   "source": [
    "tab = temp.copy()\n",
    "\n",
    "count_1 = temp.shape[0] # для подсёта потери данных при объединении\n",
    "tab"
   ]
  },
  {
   "cell_type": "code",
   "execution_count": 57,
   "id": "bb8f2914",
   "metadata": {},
   "outputs": [],
   "source": [
    "tab = tab.merge(arc, on='key').merge(bulk, on='key').merge(wire, on='key').merge(data_gas, on='key')"
   ]
  },
  {
   "cell_type": "code",
   "execution_count": 58,
   "id": "8a8d9af5",
   "metadata": {},
   "outputs": [
    {
     "data": {
      "text/html": [
       "<div>\n",
       "<style scoped>\n",
       "    .dataframe tbody tr th:only-of-type {\n",
       "        vertical-align: middle;\n",
       "    }\n",
       "\n",
       "    .dataframe tbody tr th {\n",
       "        vertical-align: top;\n",
       "    }\n",
       "\n",
       "    .dataframe thead th {\n",
       "        text-align: right;\n",
       "    }\n",
       "</style>\n",
       "<table border=\"1\" class=\"dataframe\">\n",
       "  <thead>\n",
       "    <tr style=\"text-align: right;\">\n",
       "      <th></th>\n",
       "      <th>key</th>\n",
       "      <th>temp_f</th>\n",
       "      <th>target</th>\n",
       "      <th>time</th>\n",
       "      <th>power</th>\n",
       "      <th>count</th>\n",
       "      <th>Bulk 1</th>\n",
       "      <th>Bulk 2</th>\n",
       "      <th>Bulk 3</th>\n",
       "      <th>Bulk 4</th>\n",
       "      <th>...</th>\n",
       "      <th>Bulk 10</th>\n",
       "      <th>Bulk 11</th>\n",
       "      <th>Bulk 12</th>\n",
       "      <th>Bulk 13</th>\n",
       "      <th>Bulk 14</th>\n",
       "      <th>Bulk 15</th>\n",
       "      <th>Wire 1</th>\n",
       "      <th>Wire 2</th>\n",
       "      <th>wire_other</th>\n",
       "      <th>Газ 1</th>\n",
       "    </tr>\n",
       "  </thead>\n",
       "  <tbody>\n",
       "    <tr>\n",
       "      <th>0</th>\n",
       "      <td>1</td>\n",
       "      <td>1571.0</td>\n",
       "      <td>1613.0</td>\n",
       "      <td>1098</td>\n",
       "      <td>5.8</td>\n",
       "      <td>5</td>\n",
       "      <td>0.0</td>\n",
       "      <td>0.0</td>\n",
       "      <td>0.0</td>\n",
       "      <td>43.0</td>\n",
       "      <td>...</td>\n",
       "      <td>0.0</td>\n",
       "      <td>0.0</td>\n",
       "      <td>206.0</td>\n",
       "      <td>0.0</td>\n",
       "      <td>150.0</td>\n",
       "      <td>154.0</td>\n",
       "      <td>60.1</td>\n",
       "      <td>0.0</td>\n",
       "      <td>0.0</td>\n",
       "      <td>29.7</td>\n",
       "    </tr>\n",
       "    <tr>\n",
       "      <th>1</th>\n",
       "      <td>2</td>\n",
       "      <td>1581.0</td>\n",
       "      <td>1602.0</td>\n",
       "      <td>811</td>\n",
       "      <td>3.6</td>\n",
       "      <td>4</td>\n",
       "      <td>0.0</td>\n",
       "      <td>0.0</td>\n",
       "      <td>0.0</td>\n",
       "      <td>73.0</td>\n",
       "      <td>...</td>\n",
       "      <td>0.0</td>\n",
       "      <td>0.0</td>\n",
       "      <td>206.0</td>\n",
       "      <td>0.0</td>\n",
       "      <td>149.0</td>\n",
       "      <td>154.0</td>\n",
       "      <td>96.1</td>\n",
       "      <td>0.0</td>\n",
       "      <td>0.0</td>\n",
       "      <td>12.6</td>\n",
       "    </tr>\n",
       "    <tr>\n",
       "      <th>2</th>\n",
       "      <td>3</td>\n",
       "      <td>1596.0</td>\n",
       "      <td>1599.0</td>\n",
       "      <td>655</td>\n",
       "      <td>3.0</td>\n",
       "      <td>5</td>\n",
       "      <td>0.0</td>\n",
       "      <td>0.0</td>\n",
       "      <td>0.0</td>\n",
       "      <td>34.0</td>\n",
       "      <td>...</td>\n",
       "      <td>0.0</td>\n",
       "      <td>0.0</td>\n",
       "      <td>205.0</td>\n",
       "      <td>0.0</td>\n",
       "      <td>152.0</td>\n",
       "      <td>153.0</td>\n",
       "      <td>91.2</td>\n",
       "      <td>0.0</td>\n",
       "      <td>0.0</td>\n",
       "      <td>28.6</td>\n",
       "    </tr>\n",
       "    <tr>\n",
       "      <th>3</th>\n",
       "      <td>4</td>\n",
       "      <td>1601.0</td>\n",
       "      <td>1625.0</td>\n",
       "      <td>741</td>\n",
       "      <td>3.8</td>\n",
       "      <td>4</td>\n",
       "      <td>0.0</td>\n",
       "      <td>0.0</td>\n",
       "      <td>0.0</td>\n",
       "      <td>81.0</td>\n",
       "      <td>...</td>\n",
       "      <td>0.0</td>\n",
       "      <td>0.0</td>\n",
       "      <td>207.0</td>\n",
       "      <td>0.0</td>\n",
       "      <td>153.0</td>\n",
       "      <td>154.0</td>\n",
       "      <td>89.1</td>\n",
       "      <td>0.0</td>\n",
       "      <td>0.0</td>\n",
       "      <td>18.8</td>\n",
       "    </tr>\n",
       "    <tr>\n",
       "      <th>4</th>\n",
       "      <td>5</td>\n",
       "      <td>1576.0</td>\n",
       "      <td>1602.0</td>\n",
       "      <td>869</td>\n",
       "      <td>4.0</td>\n",
       "      <td>4</td>\n",
       "      <td>0.0</td>\n",
       "      <td>0.0</td>\n",
       "      <td>0.0</td>\n",
       "      <td>78.0</td>\n",
       "      <td>...</td>\n",
       "      <td>0.0</td>\n",
       "      <td>0.0</td>\n",
       "      <td>203.0</td>\n",
       "      <td>0.0</td>\n",
       "      <td>151.0</td>\n",
       "      <td>152.0</td>\n",
       "      <td>89.2</td>\n",
       "      <td>9.1</td>\n",
       "      <td>0.0</td>\n",
       "      <td>5.4</td>\n",
       "    </tr>\n",
       "    <tr>\n",
       "      <th>5</th>\n",
       "      <td>6</td>\n",
       "      <td>1543.0</td>\n",
       "      <td>1596.0</td>\n",
       "      <td>952</td>\n",
       "      <td>4.8</td>\n",
       "      <td>4</td>\n",
       "      <td>0.0</td>\n",
       "      <td>0.0</td>\n",
       "      <td>0.0</td>\n",
       "      <td>117.0</td>\n",
       "      <td>...</td>\n",
       "      <td>0.0</td>\n",
       "      <td>0.0</td>\n",
       "      <td>204.0</td>\n",
       "      <td>0.0</td>\n",
       "      <td>201.0</td>\n",
       "      <td>154.0</td>\n",
       "      <td>99.1</td>\n",
       "      <td>9.1</td>\n",
       "      <td>0.0</td>\n",
       "      <td>11.3</td>\n",
       "    </tr>\n",
       "    <tr>\n",
       "      <th>6</th>\n",
       "      <td>7</td>\n",
       "      <td>1586.0</td>\n",
       "      <td>1599.0</td>\n",
       "      <td>673</td>\n",
       "      <td>3.0</td>\n",
       "      <td>4</td>\n",
       "      <td>0.0</td>\n",
       "      <td>0.0</td>\n",
       "      <td>0.0</td>\n",
       "      <td>117.0</td>\n",
       "      <td>...</td>\n",
       "      <td>0.0</td>\n",
       "      <td>0.0</td>\n",
       "      <td>204.0</td>\n",
       "      <td>0.0</td>\n",
       "      <td>152.0</td>\n",
       "      <td>154.0</td>\n",
       "      <td>98.1</td>\n",
       "      <td>0.0</td>\n",
       "      <td>0.0</td>\n",
       "      <td>9.8</td>\n",
       "    </tr>\n",
       "    <tr>\n",
       "      <th>7</th>\n",
       "      <td>8</td>\n",
       "      <td>1577.0</td>\n",
       "      <td>1598.0</td>\n",
       "      <td>913</td>\n",
       "      <td>4.6</td>\n",
       "      <td>4</td>\n",
       "      <td>0.0</td>\n",
       "      <td>0.0</td>\n",
       "      <td>0.0</td>\n",
       "      <td>99.0</td>\n",
       "      <td>...</td>\n",
       "      <td>0.0</td>\n",
       "      <td>0.0</td>\n",
       "      <td>410.0</td>\n",
       "      <td>0.0</td>\n",
       "      <td>252.0</td>\n",
       "      <td>153.0</td>\n",
       "      <td>155.3</td>\n",
       "      <td>0.0</td>\n",
       "      <td>0.0</td>\n",
       "      <td>15.2</td>\n",
       "    </tr>\n",
       "    <tr>\n",
       "      <th>8</th>\n",
       "      <td>9</td>\n",
       "      <td>1587.0</td>\n",
       "      <td>1592.0</td>\n",
       "      <td>625</td>\n",
       "      <td>2.6</td>\n",
       "      <td>5</td>\n",
       "      <td>0.0</td>\n",
       "      <td>0.0</td>\n",
       "      <td>0.0</td>\n",
       "      <td>117.0</td>\n",
       "      <td>...</td>\n",
       "      <td>0.0</td>\n",
       "      <td>0.0</td>\n",
       "      <td>107.0</td>\n",
       "      <td>0.0</td>\n",
       "      <td>99.0</td>\n",
       "      <td>203.0</td>\n",
       "      <td>113.4</td>\n",
       "      <td>9.1</td>\n",
       "      <td>0.0</td>\n",
       "      <td>8.2</td>\n",
       "    </tr>\n",
       "    <tr>\n",
       "      <th>9</th>\n",
       "      <td>10</td>\n",
       "      <td>1574.0</td>\n",
       "      <td>1593.0</td>\n",
       "      <td>825</td>\n",
       "      <td>3.9</td>\n",
       "      <td>6</td>\n",
       "      <td>0.0</td>\n",
       "      <td>0.0</td>\n",
       "      <td>0.0</td>\n",
       "      <td>0.0</td>\n",
       "      <td>...</td>\n",
       "      <td>0.0</td>\n",
       "      <td>0.0</td>\n",
       "      <td>203.0</td>\n",
       "      <td>0.0</td>\n",
       "      <td>102.0</td>\n",
       "      <td>204.0</td>\n",
       "      <td>81.2</td>\n",
       "      <td>12.4</td>\n",
       "      <td>0.0</td>\n",
       "      <td>6.5</td>\n",
       "    </tr>\n",
       "  </tbody>\n",
       "</table>\n",
       "<p>10 rows × 25 columns</p>\n",
       "</div>"
      ],
      "text/plain": [
       "   key  temp_f  target  time  power  count  Bulk 1  Bulk 2  Bulk 3  Bulk 4  \\\n",
       "0    1  1571.0  1613.0  1098    5.8      5     0.0     0.0     0.0    43.0   \n",
       "1    2  1581.0  1602.0   811    3.6      4     0.0     0.0     0.0    73.0   \n",
       "2    3  1596.0  1599.0   655    3.0      5     0.0     0.0     0.0    34.0   \n",
       "3    4  1601.0  1625.0   741    3.8      4     0.0     0.0     0.0    81.0   \n",
       "4    5  1576.0  1602.0   869    4.0      4     0.0     0.0     0.0    78.0   \n",
       "5    6  1543.0  1596.0   952    4.8      4     0.0     0.0     0.0   117.0   \n",
       "6    7  1586.0  1599.0   673    3.0      4     0.0     0.0     0.0   117.0   \n",
       "7    8  1577.0  1598.0   913    4.6      4     0.0     0.0     0.0    99.0   \n",
       "8    9  1587.0  1592.0   625    2.6      5     0.0     0.0     0.0   117.0   \n",
       "9   10  1574.0  1593.0   825    3.9      6     0.0     0.0     0.0     0.0   \n",
       "\n",
       "   ...  Bulk 10  Bulk 11  Bulk 12  Bulk 13  Bulk 14  Bulk 15  Wire 1  Wire 2  \\\n",
       "0  ...      0.0      0.0    206.0      0.0    150.0    154.0    60.1     0.0   \n",
       "1  ...      0.0      0.0    206.0      0.0    149.0    154.0    96.1     0.0   \n",
       "2  ...      0.0      0.0    205.0      0.0    152.0    153.0    91.2     0.0   \n",
       "3  ...      0.0      0.0    207.0      0.0    153.0    154.0    89.1     0.0   \n",
       "4  ...      0.0      0.0    203.0      0.0    151.0    152.0    89.2     9.1   \n",
       "5  ...      0.0      0.0    204.0      0.0    201.0    154.0    99.1     9.1   \n",
       "6  ...      0.0      0.0    204.0      0.0    152.0    154.0    98.1     0.0   \n",
       "7  ...      0.0      0.0    410.0      0.0    252.0    153.0   155.3     0.0   \n",
       "8  ...      0.0      0.0    107.0      0.0     99.0    203.0   113.4     9.1   \n",
       "9  ...      0.0      0.0    203.0      0.0    102.0    204.0    81.2    12.4   \n",
       "\n",
       "   wire_other  Газ 1  \n",
       "0         0.0   29.7  \n",
       "1         0.0   12.6  \n",
       "2         0.0   28.6  \n",
       "3         0.0   18.8  \n",
       "4         0.0    5.4  \n",
       "5         0.0   11.3  \n",
       "6         0.0    9.8  \n",
       "7         0.0   15.2  \n",
       "8         0.0    8.2  \n",
       "9         0.0    6.5  \n",
       "\n",
       "[10 rows x 25 columns]"
      ]
     },
     "execution_count": 58,
     "metadata": {},
     "output_type": "execute_result"
    }
   ],
   "source": [
    "tab.head(10).round(1)"
   ]
  },
  {
   "cell_type": "code",
   "execution_count": 59,
   "id": "54a781ed",
   "metadata": {},
   "outputs": [
    {
     "data": {
      "text/plain": [
       "148"
      ]
     },
     "execution_count": 59,
     "metadata": {},
     "output_type": "execute_result"
    }
   ],
   "source": [
    "d_1 = count_1 - tab.shape[0]\n",
    "d_1"
   ]
  },
  {
   "cell_type": "markdown",
   "id": "fede9a08",
   "metadata": {},
   "source": [
    "Всего потеряли 148 ключа от сгркпированных данных по температуре."
   ]
  },
  {
   "cell_type": "code",
   "execution_count": 60,
   "id": "29b543ea",
   "metadata": {
    "scrolled": true
   },
   "outputs": [
    {
     "data": {
      "text/html": [
       "<div>\n",
       "<style scoped>\n",
       "    .dataframe tbody tr th:only-of-type {\n",
       "        vertical-align: middle;\n",
       "    }\n",
       "\n",
       "    .dataframe tbody tr th {\n",
       "        vertical-align: top;\n",
       "    }\n",
       "\n",
       "    .dataframe thead th {\n",
       "        text-align: right;\n",
       "    }\n",
       "</style>\n",
       "<table border=\"1\" class=\"dataframe\">\n",
       "  <thead>\n",
       "    <tr style=\"text-align: right;\">\n",
       "      <th></th>\n",
       "      <th>count</th>\n",
       "      <th>mean</th>\n",
       "      <th>std</th>\n",
       "      <th>min</th>\n",
       "      <th>25%</th>\n",
       "      <th>50%</th>\n",
       "      <th>75%</th>\n",
       "      <th>max</th>\n",
       "    </tr>\n",
       "  </thead>\n",
       "  <tbody>\n",
       "    <tr>\n",
       "      <th>key</th>\n",
       "      <td>2325.0</td>\n",
       "      <td>1251.5</td>\n",
       "      <td>715.1</td>\n",
       "      <td>1.0</td>\n",
       "      <td>629.0</td>\n",
       "      <td>1255.0</td>\n",
       "      <td>1868.0</td>\n",
       "      <td>2499.0</td>\n",
       "    </tr>\n",
       "    <tr>\n",
       "      <th>temp_f</th>\n",
       "      <td>2325.0</td>\n",
       "      <td>1587.4</td>\n",
       "      <td>23.6</td>\n",
       "      <td>1519.0</td>\n",
       "      <td>1571.0</td>\n",
       "      <td>1587.0</td>\n",
       "      <td>1603.0</td>\n",
       "      <td>1660.0</td>\n",
       "    </tr>\n",
       "    <tr>\n",
       "      <th>target</th>\n",
       "      <td>2325.0</td>\n",
       "      <td>1593.4</td>\n",
       "      <td>11.2</td>\n",
       "      <td>1541.0</td>\n",
       "      <td>1587.0</td>\n",
       "      <td>1593.0</td>\n",
       "      <td>1598.0</td>\n",
       "      <td>1653.0</td>\n",
       "    </tr>\n",
       "    <tr>\n",
       "      <th>time</th>\n",
       "      <td>2325.0</td>\n",
       "      <td>808.0</td>\n",
       "      <td>340.8</td>\n",
       "      <td>57.0</td>\n",
       "      <td>581.0</td>\n",
       "      <td>778.0</td>\n",
       "      <td>993.0</td>\n",
       "      <td>4189.0</td>\n",
       "    </tr>\n",
       "    <tr>\n",
       "      <th>power</th>\n",
       "      <td>2325.0</td>\n",
       "      <td>3.9</td>\n",
       "      <td>1.8</td>\n",
       "      <td>0.3</td>\n",
       "      <td>2.7</td>\n",
       "      <td>3.8</td>\n",
       "      <td>4.9</td>\n",
       "      <td>21.6</td>\n",
       "    </tr>\n",
       "    <tr>\n",
       "      <th>count</th>\n",
       "      <td>2325.0</td>\n",
       "      <td>4.7</td>\n",
       "      <td>1.6</td>\n",
       "      <td>1.0</td>\n",
       "      <td>4.0</td>\n",
       "      <td>5.0</td>\n",
       "      <td>6.0</td>\n",
       "      <td>16.0</td>\n",
       "    </tr>\n",
       "    <tr>\n",
       "      <th>Bulk 1</th>\n",
       "      <td>2325.0</td>\n",
       "      <td>3.4</td>\n",
       "      <td>12.4</td>\n",
       "      <td>0.0</td>\n",
       "      <td>0.0</td>\n",
       "      <td>0.0</td>\n",
       "      <td>0.0</td>\n",
       "      <td>185.0</td>\n",
       "    </tr>\n",
       "    <tr>\n",
       "      <th>Bulk 2</th>\n",
       "      <td>2325.0</td>\n",
       "      <td>1.4</td>\n",
       "      <td>19.1</td>\n",
       "      <td>0.0</td>\n",
       "      <td>0.0</td>\n",
       "      <td>0.0</td>\n",
       "      <td>0.0</td>\n",
       "      <td>325.0</td>\n",
       "    </tr>\n",
       "    <tr>\n",
       "      <th>Bulk 3</th>\n",
       "      <td>2325.0</td>\n",
       "      <td>47.3</td>\n",
       "      <td>75.2</td>\n",
       "      <td>0.0</td>\n",
       "      <td>0.0</td>\n",
       "      <td>0.0</td>\n",
       "      <td>80.0</td>\n",
       "      <td>454.0</td>\n",
       "    </tr>\n",
       "    <tr>\n",
       "      <th>Bulk 4</th>\n",
       "      <td>2325.0</td>\n",
       "      <td>37.3</td>\n",
       "      <td>58.7</td>\n",
       "      <td>0.0</td>\n",
       "      <td>0.0</td>\n",
       "      <td>0.0</td>\n",
       "      <td>77.0</td>\n",
       "      <td>281.0</td>\n",
       "    </tr>\n",
       "    <tr>\n",
       "      <th>Bulk 5</th>\n",
       "      <td>2325.0</td>\n",
       "      <td>2.6</td>\n",
       "      <td>22.4</td>\n",
       "      <td>0.0</td>\n",
       "      <td>0.0</td>\n",
       "      <td>0.0</td>\n",
       "      <td>0.0</td>\n",
       "      <td>603.0</td>\n",
       "    </tr>\n",
       "    <tr>\n",
       "      <th>Bulk 6</th>\n",
       "      <td>2325.0</td>\n",
       "      <td>22.5</td>\n",
       "      <td>55.8</td>\n",
       "      <td>0.0</td>\n",
       "      <td>0.0</td>\n",
       "      <td>0.0</td>\n",
       "      <td>0.0</td>\n",
       "      <td>503.0</td>\n",
       "    </tr>\n",
       "    <tr>\n",
       "      <th>Bulk 7</th>\n",
       "      <td>2325.0</td>\n",
       "      <td>2.0</td>\n",
       "      <td>30.7</td>\n",
       "      <td>0.0</td>\n",
       "      <td>0.0</td>\n",
       "      <td>0.0</td>\n",
       "      <td>0.0</td>\n",
       "      <td>772.0</td>\n",
       "    </tr>\n",
       "    <tr>\n",
       "      <th>Bulk 8</th>\n",
       "      <td>2325.0</td>\n",
       "      <td>0.0</td>\n",
       "      <td>1.0</td>\n",
       "      <td>0.0</td>\n",
       "      <td>0.0</td>\n",
       "      <td>0.0</td>\n",
       "      <td>0.0</td>\n",
       "      <td>49.0</td>\n",
       "    </tr>\n",
       "    <tr>\n",
       "      <th>Bulk 9</th>\n",
       "      <td>2325.0</td>\n",
       "      <td>0.4</td>\n",
       "      <td>6.2</td>\n",
       "      <td>0.0</td>\n",
       "      <td>0.0</td>\n",
       "      <td>0.0</td>\n",
       "      <td>0.0</td>\n",
       "      <td>147.0</td>\n",
       "    </tr>\n",
       "    <tr>\n",
       "      <th>Bulk 10</th>\n",
       "      <td>2325.0</td>\n",
       "      <td>5.1</td>\n",
       "      <td>20.9</td>\n",
       "      <td>0.0</td>\n",
       "      <td>0.0</td>\n",
       "      <td>0.0</td>\n",
       "      <td>0.0</td>\n",
       "      <td>159.0</td>\n",
       "    </tr>\n",
       "    <tr>\n",
       "      <th>Bulk 11</th>\n",
       "      <td>2325.0</td>\n",
       "      <td>4.3</td>\n",
       "      <td>22.5</td>\n",
       "      <td>0.0</td>\n",
       "      <td>0.0</td>\n",
       "      <td>0.0</td>\n",
       "      <td>0.0</td>\n",
       "      <td>313.0</td>\n",
       "    </tr>\n",
       "    <tr>\n",
       "      <th>Bulk 12</th>\n",
       "      <td>2325.0</td>\n",
       "      <td>208.5</td>\n",
       "      <td>157.1</td>\n",
       "      <td>0.0</td>\n",
       "      <td>105.0</td>\n",
       "      <td>206.0</td>\n",
       "      <td>283.0</td>\n",
       "      <td>1849.0</td>\n",
       "    </tr>\n",
       "    <tr>\n",
       "      <th>Bulk 13</th>\n",
       "      <td>2325.0</td>\n",
       "      <td>1.1</td>\n",
       "      <td>14.2</td>\n",
       "      <td>0.0</td>\n",
       "      <td>0.0</td>\n",
       "      <td>0.0</td>\n",
       "      <td>0.0</td>\n",
       "      <td>305.0</td>\n",
       "    </tr>\n",
       "    <tr>\n",
       "      <th>Bulk 14</th>\n",
       "      <td>2325.0</td>\n",
       "      <td>154.0</td>\n",
       "      <td>81.4</td>\n",
       "      <td>0.0</td>\n",
       "      <td>105.0</td>\n",
       "      <td>149.0</td>\n",
       "      <td>204.0</td>\n",
       "      <td>636.0</td>\n",
       "    </tr>\n",
       "    <tr>\n",
       "      <th>Bulk 15</th>\n",
       "      <td>2325.0</td>\n",
       "      <td>120.0</td>\n",
       "      <td>84.7</td>\n",
       "      <td>0.0</td>\n",
       "      <td>0.0</td>\n",
       "      <td>107.0</td>\n",
       "      <td>204.0</td>\n",
       "      <td>405.0</td>\n",
       "    </tr>\n",
       "    <tr>\n",
       "      <th>Wire 1</th>\n",
       "      <td>2325.0</td>\n",
       "      <td>102.4</td>\n",
       "      <td>43.5</td>\n",
       "      <td>0.0</td>\n",
       "      <td>73.2</td>\n",
       "      <td>101.1</td>\n",
       "      <td>128.1</td>\n",
       "      <td>330.3</td>\n",
       "    </tr>\n",
       "    <tr>\n",
       "      <th>Wire 2</th>\n",
       "      <td>2325.0</td>\n",
       "      <td>17.6</td>\n",
       "      <td>33.6</td>\n",
       "      <td>0.0</td>\n",
       "      <td>0.0</td>\n",
       "      <td>0.0</td>\n",
       "      <td>23.1</td>\n",
       "      <td>282.8</td>\n",
       "    </tr>\n",
       "    <tr>\n",
       "      <th>wire_other</th>\n",
       "      <td>2325.0</td>\n",
       "      <td>5.2</td>\n",
       "      <td>32.9</td>\n",
       "      <td>0.0</td>\n",
       "      <td>0.0</td>\n",
       "      <td>0.0</td>\n",
       "      <td>0.0</td>\n",
       "      <td>385.0</td>\n",
       "    </tr>\n",
       "    <tr>\n",
       "      <th>Газ 1</th>\n",
       "      <td>2325.0</td>\n",
       "      <td>11.4</td>\n",
       "      <td>6.4</td>\n",
       "      <td>0.0</td>\n",
       "      <td>7.3</td>\n",
       "      <td>10.1</td>\n",
       "      <td>14.2</td>\n",
       "      <td>78.0</td>\n",
       "    </tr>\n",
       "  </tbody>\n",
       "</table>\n",
       "</div>"
      ],
      "text/plain": [
       "             count    mean    std     min     25%     50%     75%     max\n",
       "key         2325.0  1251.5  715.1     1.0   629.0  1255.0  1868.0  2499.0\n",
       "temp_f      2325.0  1587.4   23.6  1519.0  1571.0  1587.0  1603.0  1660.0\n",
       "target      2325.0  1593.4   11.2  1541.0  1587.0  1593.0  1598.0  1653.0\n",
       "time        2325.0   808.0  340.8    57.0   581.0   778.0   993.0  4189.0\n",
       "power       2325.0     3.9    1.8     0.3     2.7     3.8     4.9    21.6\n",
       "count       2325.0     4.7    1.6     1.0     4.0     5.0     6.0    16.0\n",
       "Bulk 1      2325.0     3.4   12.4     0.0     0.0     0.0     0.0   185.0\n",
       "Bulk 2      2325.0     1.4   19.1     0.0     0.0     0.0     0.0   325.0\n",
       "Bulk 3      2325.0    47.3   75.2     0.0     0.0     0.0    80.0   454.0\n",
       "Bulk 4      2325.0    37.3   58.7     0.0     0.0     0.0    77.0   281.0\n",
       "Bulk 5      2325.0     2.6   22.4     0.0     0.0     0.0     0.0   603.0\n",
       "Bulk 6      2325.0    22.5   55.8     0.0     0.0     0.0     0.0   503.0\n",
       "Bulk 7      2325.0     2.0   30.7     0.0     0.0     0.0     0.0   772.0\n",
       "Bulk 8      2325.0     0.0    1.0     0.0     0.0     0.0     0.0    49.0\n",
       "Bulk 9      2325.0     0.4    6.2     0.0     0.0     0.0     0.0   147.0\n",
       "Bulk 10     2325.0     5.1   20.9     0.0     0.0     0.0     0.0   159.0\n",
       "Bulk 11     2325.0     4.3   22.5     0.0     0.0     0.0     0.0   313.0\n",
       "Bulk 12     2325.0   208.5  157.1     0.0   105.0   206.0   283.0  1849.0\n",
       "Bulk 13     2325.0     1.1   14.2     0.0     0.0     0.0     0.0   305.0\n",
       "Bulk 14     2325.0   154.0   81.4     0.0   105.0   149.0   204.0   636.0\n",
       "Bulk 15     2325.0   120.0   84.7     0.0     0.0   107.0   204.0   405.0\n",
       "Wire 1      2325.0   102.4   43.5     0.0    73.2   101.1   128.1   330.3\n",
       "Wire 2      2325.0    17.6   33.6     0.0     0.0     0.0    23.1   282.8\n",
       "wire_other  2325.0     5.2   32.9     0.0     0.0     0.0     0.0   385.0\n",
       "Газ 1       2325.0    11.4    6.4     0.0     7.3    10.1    14.2    78.0"
      ]
     },
     "execution_count": 60,
     "metadata": {},
     "output_type": "execute_result"
    }
   ],
   "source": [
    "tab.describe().T.round(1)"
   ]
  },
  {
   "cell_type": "markdown",
   "id": "e3ab06e1",
   "metadata": {},
   "source": [
    " <a name=\"model\"></a>\n",
    "## Построение модели\n",
    "[К оглавлению](#contents)"
   ]
  },
  {
   "cell_type": "markdown",
   "id": "4ebed1ab",
   "metadata": {},
   "source": [
    "### Разделение на выборки"
   ]
  },
  {
   "cell_type": "code",
   "execution_count": 61,
   "id": "7af1e4d8",
   "metadata": {},
   "outputs": [],
   "source": [
    "R_S = 250722\n",
    "features = tab.drop(['key', 'target'], axis=1) #  выделяем признаки \n",
    "target = tab['target'] # выделяем целевой признак\n",
    "\n",
    "features_train, features_test, target_train, target_test = train_test_split(\n",
    "    features, target, test_size=0.25, random_state=R_S)"
   ]
  },
  {
   "cell_type": "code",
   "execution_count": 62,
   "id": "9f4aed5c",
   "metadata": {},
   "outputs": [
    {
     "data": {
      "text/plain": [
       "True"
      ]
     },
     "execution_count": 62,
     "metadata": {},
     "output_type": "execute_result"
    }
   ],
   "source": [
    "len(tab) == len(features_train) + len(features_test)"
   ]
  },
  {
   "cell_type": "markdown",
   "id": "c5d774a3",
   "metadata": {},
   "source": [
    "### Обучение моделей"
   ]
  },
  {
   "cell_type": "markdown",
   "id": "62b793e1",
   "metadata": {},
   "source": [
    "#### Линейной регрессия"
   ]
  },
  {
   "cell_type": "code",
   "execution_count": 63,
   "id": "20cdce31",
   "metadata": {},
   "outputs": [
    {
     "name": "stdout",
     "output_type": "stream",
     "text": [
      "MAE по этапам [6.25 6.23 6.32 6.18 6.71]\n",
      "\n",
      "Среднее MAE 6.33\n"
     ]
    }
   ],
   "source": [
    "model_lg = LinearRegression()\n",
    "scores = cross_val_score(model_lg, features_train, target_train, cv=5, scoring='neg_mean_absolute_error')\n",
    "print(f'MAE по этапам {-scores.round(2)}\\n\\nСреднее MAE {-scores.mean().round(2)}')"
   ]
  },
  {
   "cell_type": "markdown",
   "id": "55021331",
   "metadata": {},
   "source": [
    "Среднее MAE на кросс-валидации для линейной регрессии 6.33"
   ]
  },
  {
   "cell_type": "markdown",
   "id": "bbc31115",
   "metadata": {},
   "source": [
    "#### Решающее дерево"
   ]
  },
  {
   "cell_type": "code",
   "execution_count": 64,
   "id": "aa271e79",
   "metadata": {},
   "outputs": [
    {
     "name": "stdout",
     "output_type": "stream",
     "text": [
      "Гиперпараметры: {'min_samples_split': 18, 'min_samples_leaf': 16, 'max_depth': 7}\n",
      "\n",
      "MAE=6.84\n",
      "\n",
      "\n"
     ]
    }
   ],
   "source": [
    "model = DecisionTreeRegressor(random_state=R_S)\n",
    "\n",
    "grid_tree = {\n",
    "    'max_depth':[x for x in range(1, 30, 1)], \n",
    "    'min_samples_leaf':[x for x in range(2, 20, 1)],\n",
    "    'min_samples_split':[x for x in range(2, 20, 1)]\n",
    "}\n",
    "\n",
    "grid_tree_result = RandomizedSearchCV(model, \n",
    "                                        grid_tree,\n",
    "                                        scoring='neg_mean_absolute_error',\n",
    "                                        n_iter=20,\n",
    "                                        random_state=R_S,\n",
    "                                        cv=4)\n",
    "grid_tree_result.fit(features_train, target_train)\n",
    "\n",
    "print(f'Гиперпараметры: {grid_tree_result.best_params_}\\n\\nMAE={-(grid_tree_result.best_score_).round(2)}\\n\\n')"
   ]
  },
  {
   "cell_type": "markdown",
   "id": "8def7bb4",
   "metadata": {},
   "source": [
    "Не так уж плохо тоже укладывается в требования. Но хуже чем Линейная."
   ]
  },
  {
   "cell_type": "markdown",
   "id": "4b329e93",
   "metadata": {},
   "source": [
    "#### Случайный лес\n",
    "\n",
    "Сразу выставил сетку на лучшие найденные гиперпараметры, чтобы не  тратить время"
   ]
  },
  {
   "cell_type": "code",
   "execution_count": 66,
   "id": "aa268051",
   "metadata": {},
   "outputs": [
    {
     "name": "stdout",
     "output_type": "stream",
     "text": [
      "Гиперпараметры: {'n_estimators': 81, 'min_samples_split': 6, 'min_samples_leaf': 4, 'max_depth': 7}\n",
      "\n",
      "MAE=6.25\n",
      "\n",
      "\n"
     ]
    }
   ],
   "source": [
    "model = RandomForestRegressor(random_state=12345)\n",
    "\n",
    "grid_forest = {\n",
    "    'n_estimators':[x for x in range(81, 82, 1)],\n",
    "    'max_depth':[x for x in range(7, 8, 1)], \n",
    "    'min_samples_leaf':[x for x in range(4, 5, 1)],\n",
    "    'min_samples_split':[x for x in range(6, 7, 1)],\n",
    "}\n",
    "\n",
    "grid_forest_result = RandomizedSearchCV(model, \n",
    "                                        grid_forest,\n",
    "                                        scoring='neg_mean_absolute_error',\n",
    "                                        n_iter=1,\n",
    "                                        random_state=R_S,\n",
    "                                        cv=4)\n",
    "grid_forest_result.fit(features_train, target_train)\n",
    "\n",
    "print(f'Гиперпараметры: {grid_forest_result.best_params_}\\n\\nMAE={-(grid_forest_result.best_score_).round(2)}\\n\\n')"
   ]
  },
  {
   "cell_type": "code",
   "execution_count": 67,
   "id": "f2e36d69",
   "metadata": {},
   "outputs": [],
   "source": [
    "##grid_forest_result.cv_results_ "
   ]
  },
  {
   "cell_type": "markdown",
   "id": "7ca51d41",
   "metadata": {},
   "source": [
    "Результат лучше чем у линейной и леса."
   ]
  },
  {
   "cell_type": "markdown",
   "id": "83ca69e6",
   "metadata": {},
   "source": [
    "#### CatBoost"
   ]
  },
  {
   "cell_type": "code",
   "execution_count": 69,
   "id": "104d6cd7",
   "metadata": {},
   "outputs": [],
   "source": [
    "model = CatBoostRegressor(loss_function='MAE', \n",
    "                          random_state=R_S, \n",
    "                          verbose=False, \n",
    "                          learning_rate=0.05, \n",
    "                          bootstrap_type='Bernoulli',\n",
    "                          grow_policy='Lossguide')\n",
    "\n",
    "grid_cat = {\n",
    "    'iterations': [x for x in range(1000, 1001, 1)],\n",
    "    'l2_leaf_reg':[x for x in range(8, 9, 1)]\n",
    "}\n",
    "\n",
    "grid_cat_result = RandomizedSearchCV(model, \n",
    "                                        grid_cat,\n",
    "                                        scoring='neg_mean_absolute_error',\n",
    "                                        n_iter=1,\n",
    "                                        random_state=R_S,\n",
    "                                        cv=3)\n",
    "model_cat = grid_cat_result.fit(features_train, target_train)"
   ]
  },
  {
   "cell_type": "code",
   "execution_count": 70,
   "id": "d8712179",
   "metadata": {},
   "outputs": [
    {
     "name": "stdout",
     "output_type": "stream",
     "text": [
      "Гиперпараметры: {'l2_leaf_reg': 8, 'iterations': 1000}\n",
      "\n",
      "MAE=6.07\n",
      "\n",
      "\n"
     ]
    }
   ],
   "source": [
    "print(f'Гиперпараметры: {grid_cat_result.best_params_}\\n\\nMAE={-(grid_cat_result.best_score_).round(2)}\\n\\n')"
   ]
  },
  {
   "cell_type": "markdown",
   "id": "bd7c9fc0",
   "metadata": {},
   "source": [
    "Ожидаемо победелить. MAE=6.07 на тренировочной выборке. Данную модель выбираем для теста."
   ]
  },
  {
   "cell_type": "markdown",
   "id": "7b630d73",
   "metadata": {},
   "source": [
    "## Тестирование"
   ]
  },
  {
   "cell_type": "code",
   "execution_count": 71,
   "id": "48bde3cc",
   "metadata": {},
   "outputs": [
    {
     "data": {
      "text/plain": [
       "6.06"
      ]
     },
     "execution_count": 71,
     "metadata": {},
     "output_type": "execute_result"
    }
   ],
   "source": [
    "predictions = model_cat.predict(features_test)\n",
    "result = mean_absolute_error(target_test, predictions)\n",
    "result.round(2)"
   ]
  },
  {
   "cell_type": "markdown",
   "id": "4c13d3e5",
   "metadata": {},
   "source": [
    "Требуемое метрика качества модели на тестовой выборке достигнута"
   ]
  },
  {
   "cell_type": "markdown",
   "id": "10c0dc09",
   "metadata": {},
   "source": [
    " <a name=\"conclusion\"></a>\n",
    "## Выводы\n",
    "\n",
    "[К оглавлению](#contents)\n",
    "\n",
    "При проведении работы по построению модели предсказания температуру стали, выполнен следующий комплекс работ и получены следующие результаты:\n",
    "1. Проведён анализ исходных данных. Выявлены анамалии и намечен план обработки данных.\n",
    "2. Из исходны данных убрана информация о ключах с номерами более 2499.\n",
    "3. При обучении моделей не использовалась информация с температурами первой итерации ниже на 1500\n",
    "4. Исследовано 4 модели \n",
    "5. Наилучшая модель (atBoostRegressor) продемонстрировала на тренировочной выборке MAE = 6.07 градуса.\n",
    "6. Гиперпараметры наилучшей модели: \n",
    "                              loss_function='MAE',\n",
    "                              iterations=1000,\n",
    "                              learning_rate=0.05,\n",
    "                              random_state=R_S,\n",
    "                              grow_policy='Lossguide',\n",
    "                              l2_leaf_reg=8,\n",
    "                              bootstrap_type='Bernoulli'.\n",
    "                   \n",
    "7. На тестовой выборке выбранная модель показала  MAE = 6.06 градуса."
   ]
  }
 ],
 "metadata": {
  "ExecuteTimeLog": [
   {
    "duration": 462,
    "start_time": "2022-07-28T12:18:46.626Z"
   },
   {
    "duration": 203,
    "start_time": "2022-07-28T12:18:47.090Z"
   },
   {
    "duration": 4,
    "start_time": "2022-07-28T12:18:47.295Z"
   },
   {
    "duration": 133,
    "start_time": "2022-07-28T12:18:47.301Z"
   },
   {
    "duration": 6,
    "start_time": "2022-07-28T12:18:47.437Z"
   },
   {
    "duration": 49,
    "start_time": "2022-07-28T12:18:47.445Z"
   },
   {
    "duration": 38,
    "start_time": "2022-07-28T12:18:47.496Z"
   },
   {
    "duration": 61,
    "start_time": "2022-07-28T12:18:47.536Z"
   },
   {
    "duration": 35,
    "start_time": "2022-07-28T12:18:47.599Z"
   },
   {
    "duration": 43,
    "start_time": "2022-07-28T12:18:47.636Z"
   },
   {
    "duration": 171,
    "start_time": "2022-07-28T12:18:47.681Z"
   },
   {
    "duration": 107,
    "start_time": "2022-07-28T12:18:47.854Z"
   },
   {
    "duration": 65,
    "start_time": "2022-07-28T12:18:47.963Z"
   },
   {
    "duration": 1677,
    "start_time": "2022-07-28T12:18:48.032Z"
   },
   {
    "duration": 63,
    "start_time": "2022-07-28T12:18:49.711Z"
   },
   {
    "duration": 137,
    "start_time": "2022-07-28T12:18:49.776Z"
   },
   {
    "duration": 91,
    "start_time": "2022-07-28T12:18:49.915Z"
   },
   {
    "duration": 396,
    "start_time": "2022-07-28T18:21:43.759Z"
   },
   {
    "duration": 561,
    "start_time": "2022-07-28T18:21:44.993Z"
   },
   {
    "duration": 4,
    "start_time": "2022-07-28T18:21:46.776Z"
   },
   {
    "duration": 71,
    "start_time": "2022-07-28T18:21:47.329Z"
   },
   {
    "duration": 5,
    "start_time": "2022-07-28T18:21:48.953Z"
   },
   {
    "duration": 10,
    "start_time": "2022-07-28T18:21:50.289Z"
   },
   {
    "duration": 10,
    "start_time": "2022-07-28T18:21:51.096Z"
   },
   {
    "duration": 8,
    "start_time": "2022-07-28T18:21:51.729Z"
   },
   {
    "duration": 26,
    "start_time": "2022-07-28T18:21:53.513Z"
   },
   {
    "duration": 13,
    "start_time": "2022-07-28T18:21:54.072Z"
   },
   {
    "duration": 145,
    "start_time": "2022-07-28T18:23:15.387Z"
   },
   {
    "duration": 67,
    "start_time": "2022-07-28T18:29:55.273Z"
   },
   {
    "duration": 4,
    "start_time": "2022-07-28T18:30:03.583Z"
   },
   {
    "duration": 9,
    "start_time": "2022-07-28T18:34:24.772Z"
   },
   {
    "duration": 20,
    "start_time": "2022-07-28T18:37:09.679Z"
   },
   {
    "duration": 819,
    "start_time": "2022-07-28T18:39:55.769Z"
   },
   {
    "duration": 101,
    "start_time": "2022-07-28T18:40:53.474Z"
   },
   {
    "duration": 3,
    "start_time": "2022-07-28T18:41:18.787Z"
   },
   {
    "duration": 1187,
    "start_time": "2022-07-28T18:41:27.171Z"
   },
   {
    "duration": 47,
    "start_time": "2022-07-28T18:51:45.798Z"
   },
   {
    "duration": 54,
    "start_time": "2022-07-28T18:52:04.617Z"
   },
   {
    "duration": 63,
    "start_time": "2022-07-28T18:54:49.234Z"
   },
   {
    "duration": 42,
    "start_time": "2022-07-28T18:55:09.977Z"
   },
   {
    "duration": 57,
    "start_time": "2022-07-28T18:55:15.176Z"
   },
   {
    "duration": 73,
    "start_time": "2022-07-28T18:55:56.489Z"
   },
   {
    "duration": 66,
    "start_time": "2022-07-28T18:56:31.657Z"
   },
   {
    "duration": 13,
    "start_time": "2022-07-28T19:14:29.752Z"
   },
   {
    "duration": 61,
    "start_time": "2022-07-28T19:14:47.632Z"
   },
   {
    "duration": 15,
    "start_time": "2022-07-28T19:18:27.794Z"
   },
   {
    "duration": 12,
    "start_time": "2022-07-28T19:18:33.000Z"
   },
   {
    "duration": 34,
    "start_time": "2022-07-28T19:18:44.429Z"
   },
   {
    "duration": 39,
    "start_time": "2022-07-28T19:18:48.971Z"
   },
   {
    "duration": 36,
    "start_time": "2022-07-28T19:18:54.866Z"
   },
   {
    "duration": 43,
    "start_time": "2022-07-28T19:19:06.899Z"
   },
   {
    "duration": 43,
    "start_time": "2022-07-28T19:19:11.411Z"
   },
   {
    "duration": 41,
    "start_time": "2022-07-28T19:19:17.721Z"
   },
   {
    "duration": 49,
    "start_time": "2022-07-28T19:19:22.811Z"
   },
   {
    "duration": 29,
    "start_time": "2022-07-28T19:19:28.532Z"
   },
   {
    "duration": 29,
    "start_time": "2022-07-28T19:19:32.291Z"
   },
   {
    "duration": 37,
    "start_time": "2022-07-28T19:19:42.564Z"
   },
   {
    "duration": 31,
    "start_time": "2022-07-28T19:20:45.389Z"
   },
   {
    "duration": 34,
    "start_time": "2022-07-28T19:20:53.436Z"
   },
   {
    "duration": 53,
    "start_time": "2022-07-28T19:20:59.773Z"
   },
   {
    "duration": 1204,
    "start_time": "2022-07-28T19:21:54.133Z"
   },
   {
    "duration": 31,
    "start_time": "2022-07-28T19:21:58.343Z"
   },
   {
    "duration": 30,
    "start_time": "2022-07-28T19:22:08.477Z"
   },
   {
    "duration": 37,
    "start_time": "2022-07-28T19:23:05.895Z"
   },
   {
    "duration": 74,
    "start_time": "2022-07-28T19:23:24.863Z"
   },
   {
    "duration": 36,
    "start_time": "2022-07-28T19:23:29.886Z"
   },
   {
    "duration": 28,
    "start_time": "2022-07-28T19:23:41.687Z"
   },
   {
    "duration": 36,
    "start_time": "2022-07-28T19:26:24.412Z"
   },
   {
    "duration": 36,
    "start_time": "2022-07-28T19:26:45.233Z"
   },
   {
    "duration": 55,
    "start_time": "2022-07-28T19:27:08.891Z"
   },
   {
    "duration": 58,
    "start_time": "2022-07-28T19:28:59.308Z"
   },
   {
    "duration": 16,
    "start_time": "2022-07-28T19:29:09.044Z"
   },
   {
    "duration": 1481,
    "start_time": "2022-07-28T19:31:17.115Z"
   },
   {
    "duration": 4,
    "start_time": "2022-07-28T19:31:33.982Z"
   },
   {
    "duration": 13,
    "start_time": "2022-07-28T19:31:49.480Z"
   },
   {
    "duration": 1300,
    "start_time": "2022-07-28T19:32:03.832Z"
   },
   {
    "duration": 57,
    "start_time": "2022-07-28T19:32:22.143Z"
   },
   {
    "duration": 5,
    "start_time": "2022-07-28T19:35:08.682Z"
   },
   {
    "duration": 4,
    "start_time": "2022-07-28T19:35:16.706Z"
   },
   {
    "duration": 4,
    "start_time": "2022-07-28T19:35:22.226Z"
   },
   {
    "duration": 6,
    "start_time": "2022-07-28T19:36:24.883Z"
   },
   {
    "duration": 15,
    "start_time": "2022-07-28T19:36:29.085Z"
   },
   {
    "duration": 13,
    "start_time": "2022-07-28T19:36:32.530Z"
   },
   {
    "duration": 5,
    "start_time": "2022-07-28T19:36:39.851Z"
   },
   {
    "duration": 5,
    "start_time": "2022-07-28T19:36:45.651Z"
   },
   {
    "duration": 568,
    "start_time": "2022-07-28T19:37:58.869Z"
   },
   {
    "duration": 11,
    "start_time": "2022-07-28T19:38:04.947Z"
   },
   {
    "duration": 570,
    "start_time": "2022-07-28T19:38:22.252Z"
   },
   {
    "duration": 11,
    "start_time": "2022-07-28T19:38:25.316Z"
   },
   {
    "duration": 580,
    "start_time": "2022-07-28T19:38:44.076Z"
   },
   {
    "duration": 29,
    "start_time": "2022-07-28T19:39:41.509Z"
   },
   {
    "duration": 1026,
    "start_time": "2022-07-28T19:40:20.446Z"
   },
   {
    "duration": 71,
    "start_time": "2022-07-28T19:43:33.889Z"
   },
   {
    "duration": 10,
    "start_time": "2022-07-28T19:44:53.899Z"
   },
   {
    "duration": 8,
    "start_time": "2022-07-28T19:45:12.154Z"
   },
   {
    "duration": 43,
    "start_time": "2022-07-28T19:46:23.174Z"
   },
   {
    "duration": 90,
    "start_time": "2022-07-28T19:47:26.644Z"
   },
   {
    "duration": 89,
    "start_time": "2022-07-28T19:47:42.301Z"
   },
   {
    "duration": 97,
    "start_time": "2022-07-28T19:47:52.020Z"
   },
   {
    "duration": 87,
    "start_time": "2022-07-28T19:47:56.444Z"
   },
   {
    "duration": 197,
    "start_time": "2022-07-28T19:48:06.077Z"
   },
   {
    "duration": 5,
    "start_time": "2022-07-28T19:48:32.158Z"
   },
   {
    "duration": 176,
    "start_time": "2022-07-28T19:56:32.453Z"
   },
   {
    "duration": 4,
    "start_time": "2022-07-28T19:59:52.762Z"
   },
   {
    "duration": 5,
    "start_time": "2022-07-28T20:00:04.433Z"
   },
   {
    "duration": 9,
    "start_time": "2022-07-28T20:00:33.736Z"
   },
   {
    "duration": 9,
    "start_time": "2022-07-28T20:00:41.744Z"
   },
   {
    "duration": 5,
    "start_time": "2022-07-28T20:02:45.236Z"
   },
   {
    "duration": 8,
    "start_time": "2022-07-28T20:05:10.238Z"
   },
   {
    "duration": 8,
    "start_time": "2022-07-28T20:05:20.181Z"
   },
   {
    "duration": 1317,
    "start_time": "2022-07-29T20:23:17.141Z"
   },
   {
    "duration": 421,
    "start_time": "2022-07-29T20:23:18.461Z"
   },
   {
    "duration": 4,
    "start_time": "2022-07-29T20:23:19.708Z"
   },
   {
    "duration": 67,
    "start_time": "2022-07-29T20:23:20.510Z"
   },
   {
    "duration": 4,
    "start_time": "2022-07-29T20:23:29.621Z"
   },
   {
    "duration": 9,
    "start_time": "2022-07-29T20:23:31.853Z"
   },
   {
    "duration": 10,
    "start_time": "2022-07-29T20:23:35.255Z"
   },
   {
    "duration": 7,
    "start_time": "2022-07-29T20:23:36.746Z"
   },
   {
    "duration": 12,
    "start_time": "2022-07-29T20:23:40.382Z"
   },
   {
    "duration": 13,
    "start_time": "2022-07-29T20:23:40.823Z"
   },
   {
    "duration": 114,
    "start_time": "2022-07-29T20:24:02.413Z"
   },
   {
    "duration": 59,
    "start_time": "2022-07-29T20:24:14.957Z"
   },
   {
    "duration": 1090,
    "start_time": "2022-07-29T20:24:34.646Z"
   },
   {
    "duration": 195,
    "start_time": "2022-07-29T20:31:57.930Z"
   },
   {
    "duration": 196,
    "start_time": "2022-07-29T20:32:19.133Z"
   },
   {
    "duration": 297,
    "start_time": "2022-07-29T20:34:55.257Z"
   },
   {
    "duration": 272,
    "start_time": "2022-07-29T20:35:17.512Z"
   },
   {
    "duration": 191,
    "start_time": "2022-07-29T20:35:30.731Z"
   },
   {
    "duration": 221,
    "start_time": "2022-07-29T20:36:13.629Z"
   },
   {
    "duration": 280,
    "start_time": "2022-07-29T20:36:27.066Z"
   },
   {
    "duration": 213,
    "start_time": "2022-07-29T20:36:36.698Z"
   },
   {
    "duration": 212,
    "start_time": "2022-07-29T20:36:45.121Z"
   },
   {
    "duration": 178,
    "start_time": "2022-07-29T20:37:44.194Z"
   },
   {
    "duration": 171,
    "start_time": "2022-07-29T20:38:46.083Z"
   },
   {
    "duration": 185,
    "start_time": "2022-07-29T20:38:59.260Z"
   },
   {
    "duration": 71,
    "start_time": "2022-07-29T20:41:56.732Z"
   },
   {
    "duration": 4,
    "start_time": "2022-07-29T20:41:57.582Z"
   },
   {
    "duration": 576,
    "start_time": "2022-07-29T20:41:58.094Z"
   },
   {
    "duration": 29,
    "start_time": "2022-07-29T20:41:59.047Z"
   },
   {
    "duration": 1109,
    "start_time": "2022-07-29T20:41:59.742Z"
   },
   {
    "duration": 99,
    "start_time": "2022-07-29T20:42:00.853Z"
   },
   {
    "duration": 5,
    "start_time": "2022-07-29T20:42:01.006Z"
   },
   {
    "duration": 46,
    "start_time": "2022-07-29T20:42:03.415Z"
   },
   {
    "duration": 173,
    "start_time": "2022-07-29T20:42:09.798Z"
   },
   {
    "duration": 173,
    "start_time": "2022-07-29T20:43:42.066Z"
   },
   {
    "duration": 181,
    "start_time": "2022-07-29T20:44:40.588Z"
   },
   {
    "duration": 30,
    "start_time": "2022-07-29T20:50:40.773Z"
   },
   {
    "duration": 6,
    "start_time": "2022-07-29T20:50:54.957Z"
   },
   {
    "duration": 9,
    "start_time": "2022-07-29T20:51:01.551Z"
   },
   {
    "duration": 10,
    "start_time": "2022-07-29T20:52:30.101Z"
   },
   {
    "duration": 10,
    "start_time": "2022-07-29T20:52:36.048Z"
   },
   {
    "duration": 14,
    "start_time": "2022-07-29T20:55:01.225Z"
   },
   {
    "duration": 22,
    "start_time": "2022-07-29T20:55:37.914Z"
   },
   {
    "duration": 7,
    "start_time": "2022-07-29T20:57:49.261Z"
   },
   {
    "duration": 4,
    "start_time": "2022-07-29T20:57:54.141Z"
   },
   {
    "duration": 5,
    "start_time": "2022-07-29T20:58:00.076Z"
   },
   {
    "duration": 12,
    "start_time": "2022-07-29T20:58:22.092Z"
   },
   {
    "duration": 10,
    "start_time": "2022-07-29T20:58:30.557Z"
   },
   {
    "duration": 13,
    "start_time": "2022-07-29T20:58:58.693Z"
   },
   {
    "duration": 10,
    "start_time": "2022-07-29T20:59:12.838Z"
   },
   {
    "duration": 10,
    "start_time": "2022-07-29T20:59:16.526Z"
   },
   {
    "duration": 6,
    "start_time": "2022-07-29T20:59:23.473Z"
   },
   {
    "duration": 9,
    "start_time": "2022-07-29T21:00:17.342Z"
   },
   {
    "duration": 7,
    "start_time": "2022-07-29T21:00:22.471Z"
   },
   {
    "duration": 27,
    "start_time": "2022-07-29T21:01:16.600Z"
   },
   {
    "duration": 11,
    "start_time": "2022-07-29T21:01:23.393Z"
   },
   {
    "duration": 32,
    "start_time": "2022-07-29T21:01:29.720Z"
   },
   {
    "duration": 8,
    "start_time": "2022-07-29T21:01:44.546Z"
   },
   {
    "duration": 17,
    "start_time": "2022-07-29T21:03:24.651Z"
   },
   {
    "duration": 13,
    "start_time": "2022-07-29T21:03:48.515Z"
   },
   {
    "duration": 10,
    "start_time": "2022-07-29T21:06:22.551Z"
   },
   {
    "duration": 11,
    "start_time": "2022-07-29T21:06:37.137Z"
   },
   {
    "duration": 18,
    "start_time": "2022-07-29T21:08:03.088Z"
   },
   {
    "duration": 20,
    "start_time": "2022-07-29T21:08:20.337Z"
   },
   {
    "duration": 11,
    "start_time": "2022-07-29T21:08:45.155Z"
   },
   {
    "duration": 276,
    "start_time": "2022-07-29T21:09:10.376Z"
   },
   {
    "duration": 13,
    "start_time": "2022-07-29T21:09:18.312Z"
   },
   {
    "duration": 15,
    "start_time": "2022-07-29T21:09:36.034Z"
   },
   {
    "duration": 13,
    "start_time": "2022-07-29T21:09:45.146Z"
   },
   {
    "duration": 12,
    "start_time": "2022-07-29T21:10:52.091Z"
   },
   {
    "duration": 10,
    "start_time": "2022-07-29T21:11:29.633Z"
   },
   {
    "duration": 11,
    "start_time": "2022-07-29T21:11:40.484Z"
   },
   {
    "duration": 7,
    "start_time": "2022-07-29T21:11:50.391Z"
   },
   {
    "duration": 208,
    "start_time": "2022-07-29T21:17:08.410Z"
   },
   {
    "duration": 361,
    "start_time": "2022-07-29T21:17:35.593Z"
   },
   {
    "duration": 129,
    "start_time": "2022-07-29T21:18:18.161Z"
   },
   {
    "duration": 11,
    "start_time": "2022-07-29T21:20:00.011Z"
   },
   {
    "duration": 46,
    "start_time": "2022-07-29T21:23:31.011Z"
   },
   {
    "duration": 1172,
    "start_time": "2022-07-29T21:23:36.073Z"
   },
   {
    "duration": 180,
    "start_time": "2022-07-29T21:23:37.248Z"
   },
   {
    "duration": 4,
    "start_time": "2022-07-29T21:23:37.429Z"
   },
   {
    "duration": 67,
    "start_time": "2022-07-29T21:23:37.435Z"
   },
   {
    "duration": 4,
    "start_time": "2022-07-29T21:23:37.504Z"
   },
   {
    "duration": 11,
    "start_time": "2022-07-29T21:23:37.509Z"
   },
   {
    "duration": 9,
    "start_time": "2022-07-29T21:23:37.521Z"
   },
   {
    "duration": 30,
    "start_time": "2022-07-29T21:23:37.531Z"
   },
   {
    "duration": 9,
    "start_time": "2022-07-29T21:23:37.563Z"
   },
   {
    "duration": 13,
    "start_time": "2022-07-29T21:23:37.575Z"
   },
   {
    "duration": 133,
    "start_time": "2022-07-29T21:23:37.590Z"
   },
   {
    "duration": 62,
    "start_time": "2022-07-29T21:23:37.725Z"
   },
   {
    "duration": 959,
    "start_time": "2022-07-29T21:23:37.789Z"
   },
   {
    "duration": 179,
    "start_time": "2022-07-29T21:23:38.750Z"
   },
   {
    "duration": 90,
    "start_time": "2022-07-29T21:23:38.931Z"
   },
   {
    "duration": 5,
    "start_time": "2022-07-29T21:23:39.022Z"
   },
   {
    "duration": 595,
    "start_time": "2022-07-29T21:23:39.029Z"
   },
   {
    "duration": 39,
    "start_time": "2022-07-29T21:23:39.625Z"
   },
   {
    "duration": 1047,
    "start_time": "2022-07-29T21:23:39.666Z"
   },
   {
    "duration": 100,
    "start_time": "2022-07-29T21:23:40.715Z"
   },
   {
    "duration": 5,
    "start_time": "2022-07-29T21:23:40.816Z"
   },
   {
    "duration": 67,
    "start_time": "2022-07-29T21:23:40.822Z"
   },
   {
    "duration": 185,
    "start_time": "2022-07-29T21:23:40.891Z"
   },
   {
    "duration": 10,
    "start_time": "2022-07-29T21:23:41.078Z"
   },
   {
    "duration": 10,
    "start_time": "2022-07-29T21:23:41.090Z"
   },
   {
    "duration": 12,
    "start_time": "2022-07-29T21:23:41.102Z"
   },
   {
    "duration": 48,
    "start_time": "2022-07-29T21:24:02.948Z"
   },
   {
    "duration": 1202,
    "start_time": "2022-07-29T21:24:06.753Z"
   },
   {
    "duration": 186,
    "start_time": "2022-07-29T21:24:07.956Z"
   },
   {
    "duration": 3,
    "start_time": "2022-07-29T21:24:08.145Z"
   },
   {
    "duration": 74,
    "start_time": "2022-07-29T21:24:08.150Z"
   },
   {
    "duration": 4,
    "start_time": "2022-07-29T21:24:08.226Z"
   },
   {
    "duration": 29,
    "start_time": "2022-07-29T21:24:08.232Z"
   },
   {
    "duration": 15,
    "start_time": "2022-07-29T21:24:08.263Z"
   },
   {
    "duration": 11,
    "start_time": "2022-07-29T21:24:08.280Z"
   },
   {
    "duration": 13,
    "start_time": "2022-07-29T21:24:08.293Z"
   },
   {
    "duration": 18,
    "start_time": "2022-07-29T21:24:08.309Z"
   },
   {
    "duration": 134,
    "start_time": "2022-07-29T21:24:08.328Z"
   },
   {
    "duration": 57,
    "start_time": "2022-07-29T21:24:08.463Z"
   },
   {
    "duration": 1075,
    "start_time": "2022-07-29T21:24:08.521Z"
   },
   {
    "duration": 183,
    "start_time": "2022-07-29T21:24:09.598Z"
   },
   {
    "duration": 90,
    "start_time": "2022-07-29T21:24:09.782Z"
   },
   {
    "duration": 5,
    "start_time": "2022-07-29T21:24:09.873Z"
   },
   {
    "duration": 637,
    "start_time": "2022-07-29T21:24:09.880Z"
   },
   {
    "duration": 43,
    "start_time": "2022-07-29T21:24:10.518Z"
   },
   {
    "duration": 1141,
    "start_time": "2022-07-29T21:24:10.563Z"
   },
   {
    "duration": 110,
    "start_time": "2022-07-29T21:24:11.706Z"
   },
   {
    "duration": 5,
    "start_time": "2022-07-29T21:24:11.818Z"
   },
   {
    "duration": 68,
    "start_time": "2022-07-29T21:24:11.824Z"
   },
   {
    "duration": 212,
    "start_time": "2022-07-29T21:24:11.894Z"
   },
   {
    "duration": 8,
    "start_time": "2022-07-29T21:24:12.108Z"
   },
   {
    "duration": 14,
    "start_time": "2022-07-29T21:24:12.118Z"
   },
   {
    "duration": 27,
    "start_time": "2022-07-29T21:24:12.133Z"
   },
   {
    "duration": 143,
    "start_time": "2022-07-29T21:24:12.162Z"
   },
   {
    "duration": 4271,
    "start_time": "2022-07-29T21:25:02.145Z"
   },
   {
    "duration": 46,
    "start_time": "2022-07-29T21:26:52.939Z"
   },
   {
    "duration": 63,
    "start_time": "2022-07-29T21:26:57.107Z"
   },
   {
    "duration": 8949,
    "start_time": "2022-07-29T21:27:06.250Z"
   },
   {
    "duration": 186,
    "start_time": "2022-07-29T21:28:40.653Z"
   },
   {
    "duration": 3748,
    "start_time": "2022-07-29T21:28:56.164Z"
   },
   {
    "duration": 16,
    "start_time": "2022-07-29T21:32:26.208Z"
   },
   {
    "duration": 15,
    "start_time": "2022-07-29T21:32:30.808Z"
   },
   {
    "duration": 9,
    "start_time": "2022-07-29T21:32:34.925Z"
   },
   {
    "duration": 9,
    "start_time": "2022-07-29T21:32:38.251Z"
   },
   {
    "duration": 9,
    "start_time": "2022-07-29T21:32:46.024Z"
   },
   {
    "duration": 51,
    "start_time": "2022-07-29T21:36:27.995Z"
   },
   {
    "duration": 14,
    "start_time": "2022-07-29T21:36:42.951Z"
   },
   {
    "duration": 117,
    "start_time": "2022-07-29T21:39:09.151Z"
   },
   {
    "duration": 8,
    "start_time": "2022-07-29T21:39:46.623Z"
   },
   {
    "duration": 22,
    "start_time": "2022-07-29T21:39:54.192Z"
   },
   {
    "duration": 10,
    "start_time": "2022-07-29T21:40:07.478Z"
   },
   {
    "duration": 10,
    "start_time": "2022-07-29T21:40:55.095Z"
   },
   {
    "duration": 11,
    "start_time": "2022-07-29T21:41:08.104Z"
   },
   {
    "duration": 11,
    "start_time": "2022-07-29T21:41:10.936Z"
   },
   {
    "duration": 13,
    "start_time": "2022-07-29T21:41:16.128Z"
   },
   {
    "duration": 17,
    "start_time": "2022-07-29T21:41:32.317Z"
   },
   {
    "duration": 12,
    "start_time": "2022-07-29T21:41:42.161Z"
   },
   {
    "duration": 11,
    "start_time": "2022-07-29T21:49:24.625Z"
   },
   {
    "duration": 49,
    "start_time": "2022-07-29T21:54:19.028Z"
   },
   {
    "duration": 17,
    "start_time": "2022-07-29T21:54:34.900Z"
   },
   {
    "duration": 286,
    "start_time": "2022-07-29T21:54:53.669Z"
   },
   {
    "duration": 15,
    "start_time": "2022-07-29T21:56:00.533Z"
   },
   {
    "duration": 4246,
    "start_time": "2022-07-29T21:59:41.041Z"
   },
   {
    "duration": 3575,
    "start_time": "2022-07-29T22:02:33.077Z"
   },
   {
    "duration": 3546,
    "start_time": "2022-07-29T22:02:49.844Z"
   },
   {
    "duration": 3482,
    "start_time": "2022-07-29T22:03:11.243Z"
   },
   {
    "duration": 3289,
    "start_time": "2022-07-29T22:03:29.015Z"
   },
   {
    "duration": 3373,
    "start_time": "2022-07-29T22:03:49.517Z"
   },
   {
    "duration": 985,
    "start_time": "2022-07-29T22:04:22.941Z"
   },
   {
    "duration": 3264,
    "start_time": "2022-07-29T22:04:50.583Z"
   },
   {
    "duration": 3582,
    "start_time": "2022-07-29T22:05:00.533Z"
   },
   {
    "duration": 5,
    "start_time": "2022-07-29T22:05:46.014Z"
   },
   {
    "duration": 4502,
    "start_time": "2022-07-29T22:05:53.815Z"
   },
   {
    "duration": 17,
    "start_time": "2022-07-29T22:06:54.326Z"
   },
   {
    "duration": 15,
    "start_time": "2022-07-29T22:08:58.993Z"
   },
   {
    "duration": 36,
    "start_time": "2022-07-29T22:09:04.596Z"
   },
   {
    "duration": 10,
    "start_time": "2022-07-29T22:09:07.682Z"
   },
   {
    "duration": 114,
    "start_time": "2022-07-29T22:16:22.136Z"
   },
   {
    "duration": 42,
    "start_time": "2022-07-29T22:17:31.105Z"
   },
   {
    "duration": 194,
    "start_time": "2022-07-29T22:20:14.037Z"
   },
   {
    "duration": 568,
    "start_time": "2022-07-29T22:20:22.579Z"
   },
   {
    "duration": 171,
    "start_time": "2022-07-29T22:20:29.760Z"
   },
   {
    "duration": 182,
    "start_time": "2022-07-29T22:20:35.780Z"
   },
   {
    "duration": 182,
    "start_time": "2022-07-29T22:22:06.901Z"
   },
   {
    "duration": 150,
    "start_time": "2022-07-29T22:22:22.854Z"
   },
   {
    "duration": 189,
    "start_time": "2022-07-29T22:22:34.582Z"
   },
   {
    "duration": 64,
    "start_time": "2022-07-29T22:27:37.146Z"
   },
   {
    "duration": 615,
    "start_time": "2022-07-29T22:29:24.884Z"
   },
   {
    "duration": 254,
    "start_time": "2022-07-29T22:31:36.094Z"
   },
   {
    "duration": 232,
    "start_time": "2022-07-29T22:31:56.685Z"
   },
   {
    "duration": 210,
    "start_time": "2022-07-29T22:32:03.672Z"
   },
   {
    "duration": 218,
    "start_time": "2022-07-29T22:32:11.349Z"
   },
   {
    "duration": 250,
    "start_time": "2022-07-29T22:32:16.328Z"
   },
   {
    "duration": 13,
    "start_time": "2022-07-29T22:35:34.426Z"
   },
   {
    "duration": 3,
    "start_time": "2022-07-29T22:36:22.261Z"
   },
   {
    "duration": 13,
    "start_time": "2022-07-29T22:36:29.112Z"
   },
   {
    "duration": 6,
    "start_time": "2022-07-29T22:36:58.877Z"
   },
   {
    "duration": 6,
    "start_time": "2022-07-29T22:37:13.985Z"
   },
   {
    "duration": 7,
    "start_time": "2022-07-29T22:37:19.275Z"
   },
   {
    "duration": 5,
    "start_time": "2022-07-29T22:38:37.866Z"
   },
   {
    "duration": 9,
    "start_time": "2022-07-29T22:38:46.555Z"
   },
   {
    "duration": 39,
    "start_time": "2022-07-29T22:54:27.033Z"
   },
   {
    "duration": 4,
    "start_time": "2022-07-29T22:54:37.970Z"
   },
   {
    "duration": 3,
    "start_time": "2022-07-29T22:55:37.178Z"
   },
   {
    "duration": 13,
    "start_time": "2022-07-29T22:57:03.131Z"
   },
   {
    "duration": 5,
    "start_time": "2022-07-29T22:57:20.372Z"
   },
   {
    "duration": 334,
    "start_time": "2022-07-29T23:01:17.040Z"
   },
   {
    "duration": 178,
    "start_time": "2022-07-29T23:01:39.121Z"
   },
   {
    "duration": 53,
    "start_time": "2022-07-29T23:01:50.536Z"
   },
   {
    "duration": 228,
    "start_time": "2022-07-29T23:01:54.367Z"
   },
   {
    "duration": 214,
    "start_time": "2022-07-29T23:01:59.399Z"
   },
   {
    "duration": 217,
    "start_time": "2022-07-29T23:02:03.183Z"
   },
   {
    "duration": 241,
    "start_time": "2022-07-29T23:02:27.880Z"
   },
   {
    "duration": 13,
    "start_time": "2022-07-29T23:04:41.858Z"
   },
   {
    "duration": 3,
    "start_time": "2022-07-29T23:04:53.291Z"
   },
   {
    "duration": 4,
    "start_time": "2022-07-29T23:05:40.291Z"
   },
   {
    "duration": 31,
    "start_time": "2022-07-29T23:06:21.627Z"
   },
   {
    "duration": 3,
    "start_time": "2022-07-29T23:09:21.525Z"
   },
   {
    "duration": 11,
    "start_time": "2022-07-29T23:11:37.184Z"
   },
   {
    "duration": 11,
    "start_time": "2022-07-29T23:12:08.681Z"
   },
   {
    "duration": 9,
    "start_time": "2022-07-29T23:16:20.877Z"
   },
   {
    "duration": 6,
    "start_time": "2022-07-29T23:16:25.316Z"
   },
   {
    "duration": 14,
    "start_time": "2022-07-29T23:16:30.324Z"
   },
   {
    "duration": 10,
    "start_time": "2022-07-29T23:17:55.310Z"
   },
   {
    "duration": 3,
    "start_time": "2022-07-29T23:18:20.853Z"
   },
   {
    "duration": 9,
    "start_time": "2022-07-29T23:18:25.614Z"
   },
   {
    "duration": 9,
    "start_time": "2022-07-29T23:18:39.086Z"
   },
   {
    "duration": 11,
    "start_time": "2022-07-29T23:21:00.024Z"
   },
   {
    "duration": 10,
    "start_time": "2022-07-29T23:22:15.105Z"
   },
   {
    "duration": 10,
    "start_time": "2022-07-29T23:22:19.801Z"
   },
   {
    "duration": 14,
    "start_time": "2022-07-29T23:22:24.498Z"
   },
   {
    "duration": 78,
    "start_time": "2022-07-29T23:23:11.141Z"
   },
   {
    "duration": 140,
    "start_time": "2022-07-29T23:23:34.708Z"
   },
   {
    "duration": 11,
    "start_time": "2022-07-29T23:23:57.108Z"
   },
   {
    "duration": 11,
    "start_time": "2022-07-29T23:28:23.631Z"
   },
   {
    "duration": 14,
    "start_time": "2022-07-29T23:28:56.569Z"
   },
   {
    "duration": 51,
    "start_time": "2022-07-29T23:29:51.521Z"
   },
   {
    "duration": 49,
    "start_time": "2022-07-29T23:29:54.928Z"
   },
   {
    "duration": 8,
    "start_time": "2022-07-29T23:30:10.169Z"
   },
   {
    "duration": 6,
    "start_time": "2022-07-29T23:30:21.058Z"
   },
   {
    "duration": 11,
    "start_time": "2022-07-29T23:30:33.235Z"
   },
   {
    "duration": 12,
    "start_time": "2022-07-29T23:30:36.881Z"
   },
   {
    "duration": 11,
    "start_time": "2022-07-29T23:30:46.489Z"
   },
   {
    "duration": 16,
    "start_time": "2022-07-29T23:31:01.689Z"
   },
   {
    "duration": 11,
    "start_time": "2022-07-29T23:34:14.789Z"
   },
   {
    "duration": 11,
    "start_time": "2022-07-29T23:37:00.078Z"
   },
   {
    "duration": 10,
    "start_time": "2022-07-29T23:37:09.190Z"
   },
   {
    "duration": 3,
    "start_time": "2022-07-29T23:39:12.712Z"
   },
   {
    "duration": 11,
    "start_time": "2022-07-29T23:39:18.584Z"
   },
   {
    "duration": 10,
    "start_time": "2022-07-29T23:41:27.403Z"
   },
   {
    "duration": 272,
    "start_time": "2022-07-29T23:42:41.516Z"
   },
   {
    "duration": 15,
    "start_time": "2022-07-29T23:42:51.540Z"
   },
   {
    "duration": 11,
    "start_time": "2022-07-29T23:42:55.908Z"
   },
   {
    "duration": 4,
    "start_time": "2022-07-29T23:43:07.703Z"
   },
   {
    "duration": 9,
    "start_time": "2022-07-29T23:43:24.206Z"
   },
   {
    "duration": 4,
    "start_time": "2022-07-29T23:43:30.933Z"
   },
   {
    "duration": 286,
    "start_time": "2022-07-29T23:43:53.941Z"
   },
   {
    "duration": 7989,
    "start_time": "2022-07-29T23:44:05.972Z"
   },
   {
    "duration": 8033,
    "start_time": "2022-07-29T23:44:14.253Z"
   },
   {
    "duration": 12,
    "start_time": "2022-07-29T23:44:22.288Z"
   },
   {
    "duration": 18,
    "start_time": "2022-07-29T23:45:17.199Z"
   },
   {
    "duration": 5,
    "start_time": "2022-07-29T23:45:22.855Z"
   },
   {
    "duration": 7762,
    "start_time": "2022-07-29T23:47:50.400Z"
   },
   {
    "duration": 4,
    "start_time": "2022-07-29T23:48:03.175Z"
   },
   {
    "duration": 6,
    "start_time": "2022-07-29T23:49:41.211Z"
   },
   {
    "duration": 18,
    "start_time": "2022-07-29T23:49:51.707Z"
   },
   {
    "duration": 3,
    "start_time": "2022-07-29T23:51:18.292Z"
   },
   {
    "duration": 5,
    "start_time": "2022-07-29T23:51:24.293Z"
   },
   {
    "duration": 10,
    "start_time": "2022-07-29T23:51:43.628Z"
   },
   {
    "duration": 14,
    "start_time": "2022-07-29T23:53:14.453Z"
   },
   {
    "duration": 8257,
    "start_time": "2022-07-29T23:54:28.406Z"
   },
   {
    "duration": 19,
    "start_time": "2022-07-29T23:54:36.665Z"
   },
   {
    "duration": 15,
    "start_time": "2022-07-29T23:54:41.302Z"
   },
   {
    "duration": 9,
    "start_time": "2022-07-29T23:55:28.055Z"
   },
   {
    "duration": 15,
    "start_time": "2022-07-29T23:56:28.032Z"
   },
   {
    "duration": 14,
    "start_time": "2022-07-29T23:56:39.192Z"
   },
   {
    "duration": 18,
    "start_time": "2022-07-29T23:56:54.112Z"
   },
   {
    "duration": 9,
    "start_time": "2022-07-29T23:56:57.760Z"
   },
   {
    "duration": 16,
    "start_time": "2022-07-29T23:57:56.802Z"
   },
   {
    "duration": 10,
    "start_time": "2022-07-29T23:58:10.401Z"
   },
   {
    "duration": 12,
    "start_time": "2022-07-29T23:58:14.921Z"
   },
   {
    "duration": 13,
    "start_time": "2022-07-29T23:58:26.643Z"
   },
   {
    "duration": 10,
    "start_time": "2022-07-29T23:58:44.930Z"
   },
   {
    "duration": 21,
    "start_time": "2022-07-30T00:05:20.393Z"
   },
   {
    "duration": 21,
    "start_time": "2022-07-30T00:05:37.458Z"
   },
   {
    "duration": 6,
    "start_time": "2022-07-30T00:06:19.705Z"
   },
   {
    "duration": 8,
    "start_time": "2022-07-30T00:06:25.514Z"
   },
   {
    "duration": 12,
    "start_time": "2022-07-30T00:06:57.162Z"
   },
   {
    "duration": 25,
    "start_time": "2022-07-30T00:07:32.859Z"
   },
   {
    "duration": 13,
    "start_time": "2022-07-30T00:07:36.980Z"
   },
   {
    "duration": 17,
    "start_time": "2022-07-30T00:07:44.018Z"
   },
   {
    "duration": 23,
    "start_time": "2022-07-30T00:09:46.693Z"
   },
   {
    "duration": 14,
    "start_time": "2022-07-30T00:09:59.644Z"
   },
   {
    "duration": 14,
    "start_time": "2022-07-30T00:10:00.844Z"
   },
   {
    "duration": 10,
    "start_time": "2022-07-30T00:10:05.668Z"
   },
   {
    "duration": 13,
    "start_time": "2022-07-30T00:10:27.036Z"
   },
   {
    "duration": 12,
    "start_time": "2022-07-30T00:10:45.161Z"
   },
   {
    "duration": 11,
    "start_time": "2022-07-30T00:10:51.460Z"
   },
   {
    "duration": 4,
    "start_time": "2022-07-30T00:11:00.758Z"
   },
   {
    "duration": 9,
    "start_time": "2022-07-30T00:11:07.229Z"
   },
   {
    "duration": 17,
    "start_time": "2022-07-30T00:11:21.405Z"
   },
   {
    "duration": 17,
    "start_time": "2022-07-30T00:11:48.109Z"
   },
   {
    "duration": 18,
    "start_time": "2022-07-30T00:14:28.702Z"
   },
   {
    "duration": 27,
    "start_time": "2022-07-30T00:14:34.663Z"
   },
   {
    "duration": 25,
    "start_time": "2022-07-30T00:14:40.352Z"
   },
   {
    "duration": 56,
    "start_time": "2022-07-30T00:15:03.431Z"
   },
   {
    "duration": 96,
    "start_time": "2022-07-30T00:15:07.264Z"
   },
   {
    "duration": 19,
    "start_time": "2022-07-30T00:15:13.671Z"
   },
   {
    "duration": 18,
    "start_time": "2022-07-30T00:15:18.032Z"
   },
   {
    "duration": 17,
    "start_time": "2022-07-30T00:16:06.656Z"
   },
   {
    "duration": 15,
    "start_time": "2022-07-30T00:16:18.208Z"
   },
   {
    "duration": 16,
    "start_time": "2022-07-30T00:17:32.745Z"
   },
   {
    "duration": 11,
    "start_time": "2022-07-30T00:17:47.481Z"
   },
   {
    "duration": 11,
    "start_time": "2022-07-30T00:17:59.945Z"
   },
   {
    "duration": 17,
    "start_time": "2022-07-30T00:20:11.651Z"
   },
   {
    "duration": 17,
    "start_time": "2022-07-30T00:20:19.524Z"
   },
   {
    "duration": 16,
    "start_time": "2022-07-30T00:21:00.805Z"
   },
   {
    "duration": 16,
    "start_time": "2022-07-30T00:21:40.878Z"
   },
   {
    "duration": 17,
    "start_time": "2022-07-30T00:21:48.485Z"
   },
   {
    "duration": 16,
    "start_time": "2022-07-30T00:21:52.118Z"
   },
   {
    "duration": 17,
    "start_time": "2022-07-30T00:22:49.727Z"
   },
   {
    "duration": 1288,
    "start_time": "2022-07-30T05:48:15.571Z"
   },
   {
    "duration": 407,
    "start_time": "2022-07-30T05:48:16.861Z"
   },
   {
    "duration": 3,
    "start_time": "2022-07-30T05:48:17.270Z"
   },
   {
    "duration": 66,
    "start_time": "2022-07-30T05:48:17.275Z"
   },
   {
    "duration": 4,
    "start_time": "2022-07-30T05:48:17.343Z"
   },
   {
    "duration": 4051,
    "start_time": "2022-07-30T05:48:17.360Z"
   },
   {
    "duration": 10,
    "start_time": "2022-07-30T05:48:21.413Z"
   },
   {
    "duration": 29,
    "start_time": "2022-07-30T05:48:21.425Z"
   },
   {
    "duration": 40,
    "start_time": "2022-07-30T05:48:21.456Z"
   },
   {
    "duration": 38,
    "start_time": "2022-07-30T05:48:21.498Z"
   },
   {
    "duration": 24,
    "start_time": "2022-07-30T05:48:21.538Z"
   },
   {
    "duration": 136,
    "start_time": "2022-07-30T05:48:21.563Z"
   },
   {
    "duration": 61,
    "start_time": "2022-07-30T05:48:21.700Z"
   },
   {
    "duration": 1020,
    "start_time": "2022-07-30T05:48:21.764Z"
   },
   {
    "duration": 176,
    "start_time": "2022-07-30T05:48:22.786Z"
   },
   {
    "duration": 70,
    "start_time": "2022-07-30T05:48:22.964Z"
   },
   {
    "duration": 588,
    "start_time": "2022-07-30T05:48:23.036Z"
   },
   {
    "duration": 39,
    "start_time": "2022-07-30T05:48:23.626Z"
   },
   {
    "duration": 1345,
    "start_time": "2022-07-30T05:48:23.666Z"
   },
   {
    "duration": 102,
    "start_time": "2022-07-30T05:48:25.012Z"
   },
   {
    "duration": 5,
    "start_time": "2022-07-30T05:48:25.115Z"
   },
   {
    "duration": 59,
    "start_time": "2022-07-30T05:48:25.121Z"
   },
   {
    "duration": 189,
    "start_time": "2022-07-30T05:48:25.182Z"
   },
   {
    "duration": 10,
    "start_time": "2022-07-30T05:48:25.372Z"
   },
   {
    "duration": 9,
    "start_time": "2022-07-30T05:48:25.383Z"
   },
   {
    "duration": 6,
    "start_time": "2022-07-30T05:48:25.393Z"
   },
   {
    "duration": 3211,
    "start_time": "2022-07-30T05:48:25.400Z"
   },
   {
    "duration": 16,
    "start_time": "2022-07-30T05:48:28.613Z"
   },
   {
    "duration": 9,
    "start_time": "2022-07-30T05:48:28.630Z"
   },
   {
    "duration": 94,
    "start_time": "2022-07-30T05:48:28.641Z"
   },
   {
    "duration": 227,
    "start_time": "2022-07-30T05:48:28.737Z"
   },
   {
    "duration": 50,
    "start_time": "2022-07-30T05:48:28.965Z"
   },
   {
    "duration": 578,
    "start_time": "2022-07-30T05:48:29.016Z"
   },
   {
    "duration": 3,
    "start_time": "2022-07-30T05:48:29.596Z"
   },
   {
    "duration": 7,
    "start_time": "2022-07-30T05:48:29.601Z"
   },
   {
    "duration": 4,
    "start_time": "2022-07-30T05:48:32.901Z"
   },
   {
    "duration": 12,
    "start_time": "2022-07-30T05:48:34.022Z"
   },
   {
    "duration": 4,
    "start_time": "2022-07-30T05:48:37.038Z"
   },
   {
    "duration": 3,
    "start_time": "2022-07-30T05:49:14.504Z"
   },
   {
    "duration": 100,
    "start_time": "2022-07-30T05:49:49.273Z"
   },
   {
    "duration": 17,
    "start_time": "2022-07-30T05:50:02.217Z"
   },
   {
    "duration": 9,
    "start_time": "2022-07-30T05:50:08.400Z"
   },
   {
    "duration": 16,
    "start_time": "2022-07-30T05:50:09.612Z"
   },
   {
    "duration": 19,
    "start_time": "2022-07-30T05:50:14.009Z"
   },
   {
    "duration": 20,
    "start_time": "2022-07-30T05:50:42.913Z"
   },
   {
    "duration": 18,
    "start_time": "2022-07-30T05:50:48.961Z"
   },
   {
    "duration": 11,
    "start_time": "2022-07-30T05:51:19.337Z"
   },
   {
    "duration": 16,
    "start_time": "2022-07-30T05:54:37.140Z"
   },
   {
    "duration": 13,
    "start_time": "2022-07-30T05:55:18.286Z"
   },
   {
    "duration": 7949,
    "start_time": "2022-07-30T05:58:31.992Z"
   },
   {
    "duration": 19,
    "start_time": "2022-07-30T05:58:54.992Z"
   },
   {
    "duration": 17,
    "start_time": "2022-07-30T05:59:01.345Z"
   },
   {
    "duration": 5,
    "start_time": "2022-07-30T05:59:49.913Z"
   },
   {
    "duration": 50,
    "start_time": "2022-07-30T06:00:14.618Z"
   },
   {
    "duration": 5,
    "start_time": "2022-07-30T06:00:22.042Z"
   },
   {
    "duration": 62,
    "start_time": "2022-07-30T06:03:57.862Z"
   },
   {
    "duration": 4,
    "start_time": "2022-07-30T06:08:00.546Z"
   },
   {
    "duration": 22,
    "start_time": "2022-07-30T06:08:35.986Z"
   },
   {
    "duration": 20,
    "start_time": "2022-07-30T06:08:55.482Z"
   },
   {
    "duration": 23,
    "start_time": "2022-07-30T06:09:08.091Z"
   },
   {
    "duration": 19,
    "start_time": "2022-07-30T06:09:25.122Z"
   },
   {
    "duration": 17,
    "start_time": "2022-07-30T06:09:31.763Z"
   },
   {
    "duration": 20,
    "start_time": "2022-07-30T06:09:35.203Z"
   },
   {
    "duration": 19,
    "start_time": "2022-07-30T06:09:43.491Z"
   },
   {
    "duration": 19,
    "start_time": "2022-07-30T06:09:45.810Z"
   },
   {
    "duration": 21,
    "start_time": "2022-07-30T06:10:22.228Z"
   },
   {
    "duration": 59,
    "start_time": "2022-07-30T06:10:50.742Z"
   },
   {
    "duration": 24,
    "start_time": "2022-07-30T06:11:09.838Z"
   },
   {
    "duration": 25,
    "start_time": "2022-07-30T06:11:28.253Z"
   },
   {
    "duration": 39,
    "start_time": "2022-07-30T06:13:11.952Z"
   },
   {
    "duration": 24,
    "start_time": "2022-07-30T06:14:46.720Z"
   },
   {
    "duration": 28,
    "start_time": "2022-07-30T06:15:14.193Z"
   },
   {
    "duration": 26,
    "start_time": "2022-07-30T06:16:00.201Z"
   },
   {
    "duration": 26,
    "start_time": "2022-07-30T06:16:05.849Z"
   },
   {
    "duration": 35,
    "start_time": "2022-07-30T06:16:16.481Z"
   },
   {
    "duration": 4,
    "start_time": "2022-07-30T06:16:31.874Z"
   },
   {
    "duration": 23,
    "start_time": "2022-07-30T06:16:46.834Z"
   },
   {
    "duration": 25,
    "start_time": "2022-07-30T06:16:55.124Z"
   },
   {
    "duration": 14,
    "start_time": "2022-07-30T06:17:28.035Z"
   },
   {
    "duration": 13,
    "start_time": "2022-07-30T06:19:30.581Z"
   },
   {
    "duration": 27,
    "start_time": "2022-07-30T06:21:21.332Z"
   },
   {
    "duration": 16,
    "start_time": "2022-07-30T06:21:27.582Z"
   },
   {
    "duration": 11,
    "start_time": "2022-07-30T06:21:33.062Z"
   },
   {
    "duration": 24,
    "start_time": "2022-07-30T06:21:48.951Z"
   },
   {
    "duration": 23,
    "start_time": "2022-07-30T06:22:08.575Z"
   },
   {
    "duration": 39,
    "start_time": "2022-07-30T06:23:26.359Z"
   },
   {
    "duration": 24,
    "start_time": "2022-07-30T06:23:33.512Z"
   },
   {
    "duration": 12,
    "start_time": "2022-07-30T06:27:47.482Z"
   },
   {
    "duration": 6,
    "start_time": "2022-07-30T06:27:52.706Z"
   },
   {
    "duration": 28,
    "start_time": "2022-07-30T06:27:58.297Z"
   },
   {
    "duration": 8,
    "start_time": "2022-07-30T06:28:42.402Z"
   },
   {
    "duration": 11,
    "start_time": "2022-07-30T06:28:51.189Z"
   },
   {
    "duration": 37,
    "start_time": "2022-07-30T06:30:42.307Z"
   },
   {
    "duration": 10,
    "start_time": "2022-07-30T06:31:10.860Z"
   },
   {
    "duration": 41,
    "start_time": "2022-07-30T06:31:16.589Z"
   },
   {
    "duration": 29,
    "start_time": "2022-07-30T06:31:36.077Z"
   },
   {
    "duration": 37,
    "start_time": "2022-07-30T06:31:39.955Z"
   },
   {
    "duration": 835,
    "start_time": "2022-07-30T06:32:41.605Z"
   },
   {
    "duration": 9,
    "start_time": "2022-07-30T06:33:01.589Z"
   },
   {
    "duration": 1046,
    "start_time": "2022-07-30T06:33:12.391Z"
   },
   {
    "duration": 33,
    "start_time": "2022-07-30T06:33:20.349Z"
   },
   {
    "duration": 12,
    "start_time": "2022-07-30T06:35:30.549Z"
   },
   {
    "duration": 13,
    "start_time": "2022-07-30T06:35:53.455Z"
   },
   {
    "duration": 35,
    "start_time": "2022-07-30T06:35:57.481Z"
   },
   {
    "duration": 18,
    "start_time": "2022-07-30T06:36:31.176Z"
   },
   {
    "duration": 60,
    "start_time": "2022-07-30T06:36:40.840Z"
   },
   {
    "duration": 28,
    "start_time": "2022-07-30T06:37:00.781Z"
   },
   {
    "duration": 4,
    "start_time": "2022-07-30T06:37:24.530Z"
   },
   {
    "duration": 9,
    "start_time": "2022-07-30T06:37:29.576Z"
   },
   {
    "duration": 9,
    "start_time": "2022-07-30T06:37:40.189Z"
   },
   {
    "duration": 14,
    "start_time": "2022-07-30T06:37:51.952Z"
   },
   {
    "duration": 980,
    "start_time": "2022-07-30T06:38:02.650Z"
   },
   {
    "duration": 13,
    "start_time": "2022-07-30T06:38:09.985Z"
   },
   {
    "duration": 14,
    "start_time": "2022-07-30T06:38:50.779Z"
   },
   {
    "duration": 21,
    "start_time": "2022-07-30T06:38:58.458Z"
   },
   {
    "duration": 39,
    "start_time": "2022-07-30T06:39:17.681Z"
   },
   {
    "duration": 12,
    "start_time": "2022-07-30T06:39:27.282Z"
   },
   {
    "duration": 17,
    "start_time": "2022-07-30T06:40:02.176Z"
   },
   {
    "duration": 38,
    "start_time": "2022-07-30T06:40:14.946Z"
   },
   {
    "duration": 32,
    "start_time": "2022-07-30T06:40:44.956Z"
   },
   {
    "duration": 17,
    "start_time": "2022-07-30T06:40:51.604Z"
   },
   {
    "duration": 1334,
    "start_time": "2022-07-30T16:14:09.482Z"
   },
   {
    "duration": 484,
    "start_time": "2022-07-30T16:14:10.818Z"
   },
   {
    "duration": 3,
    "start_time": "2022-07-30T16:14:11.304Z"
   },
   {
    "duration": 74,
    "start_time": "2022-07-30T16:14:11.309Z"
   },
   {
    "duration": 4,
    "start_time": "2022-07-30T16:14:11.386Z"
   },
   {
    "duration": 3714,
    "start_time": "2022-07-30T16:14:11.398Z"
   },
   {
    "duration": 9,
    "start_time": "2022-07-30T16:14:15.113Z"
   },
   {
    "duration": 26,
    "start_time": "2022-07-30T16:14:15.124Z"
   },
   {
    "duration": 35,
    "start_time": "2022-07-30T16:14:15.152Z"
   },
   {
    "duration": 20,
    "start_time": "2022-07-30T16:14:15.189Z"
   },
   {
    "duration": 15,
    "start_time": "2022-07-30T16:14:15.211Z"
   },
   {
    "duration": 107,
    "start_time": "2022-07-30T16:14:15.227Z"
   },
   {
    "duration": 62,
    "start_time": "2022-07-30T16:14:15.336Z"
   },
   {
    "duration": 1012,
    "start_time": "2022-07-30T16:14:15.401Z"
   },
   {
    "duration": 192,
    "start_time": "2022-07-30T16:14:16.415Z"
   },
   {
    "duration": 71,
    "start_time": "2022-07-30T16:14:16.609Z"
   },
   {
    "duration": 692,
    "start_time": "2022-07-30T16:14:16.681Z"
   },
   {
    "duration": 44,
    "start_time": "2022-07-30T16:14:17.375Z"
   },
   {
    "duration": 1202,
    "start_time": "2022-07-30T16:14:17.421Z"
   },
   {
    "duration": 100,
    "start_time": "2022-07-30T16:14:18.624Z"
   },
   {
    "duration": 5,
    "start_time": "2022-07-30T16:14:18.726Z"
   },
   {
    "duration": 51,
    "start_time": "2022-07-30T16:14:18.732Z"
   },
   {
    "duration": 181,
    "start_time": "2022-07-30T16:14:18.798Z"
   },
   {
    "duration": 18,
    "start_time": "2022-07-30T16:14:18.980Z"
   },
   {
    "duration": 8,
    "start_time": "2022-07-30T16:14:19.000Z"
   },
   {
    "duration": 6,
    "start_time": "2022-07-30T16:14:19.009Z"
   },
   {
    "duration": 2857,
    "start_time": "2022-07-30T16:14:19.016Z"
   },
   {
    "duration": 24,
    "start_time": "2022-07-30T16:14:21.875Z"
   },
   {
    "duration": 10,
    "start_time": "2022-07-30T16:14:21.901Z"
   },
   {
    "duration": 100,
    "start_time": "2022-07-30T16:14:21.913Z"
   },
   {
    "duration": 234,
    "start_time": "2022-07-30T16:14:22.015Z"
   },
   {
    "duration": 73,
    "start_time": "2022-07-30T16:14:22.251Z"
   },
   {
    "duration": 665,
    "start_time": "2022-07-30T16:14:22.326Z"
   },
   {
    "duration": 6,
    "start_time": "2022-07-30T16:14:22.993Z"
   },
   {
    "duration": 9,
    "start_time": "2022-07-30T16:14:23.000Z"
   },
   {
    "duration": 18,
    "start_time": "2022-07-30T16:14:23.010Z"
   },
   {
    "duration": 12,
    "start_time": "2022-07-30T16:14:23.029Z"
   },
   {
    "duration": 17,
    "start_time": "2022-07-30T16:14:23.043Z"
   },
   {
    "duration": 21,
    "start_time": "2022-07-30T16:14:23.061Z"
   },
   {
    "duration": 7332,
    "start_time": "2022-07-30T16:14:23.083Z"
   },
   {
    "duration": 17,
    "start_time": "2022-07-30T16:14:30.420Z"
   },
   {
    "duration": 47,
    "start_time": "2022-07-30T16:14:30.439Z"
   },
   {
    "duration": 14,
    "start_time": "2022-07-30T16:14:30.489Z"
   },
   {
    "duration": 56,
    "start_time": "2022-07-30T16:14:30.505Z"
   },
   {
    "duration": 31,
    "start_time": "2022-07-30T16:14:30.564Z"
   },
   {
    "duration": 24,
    "start_time": "2022-07-30T16:14:30.596Z"
   },
   {
    "duration": 30,
    "start_time": "2022-07-30T16:14:30.622Z"
   },
   {
    "duration": 8,
    "start_time": "2022-07-30T16:22:18.770Z"
   },
   {
    "duration": 17,
    "start_time": "2022-07-30T16:22:30.424Z"
   },
   {
    "duration": 113,
    "start_time": "2022-07-30T16:27:01.164Z"
   },
   {
    "duration": 293,
    "start_time": "2022-07-30T16:27:13.942Z"
   },
   {
    "duration": 935,
    "start_time": "2022-07-30T16:28:00.814Z"
   },
   {
    "duration": 876,
    "start_time": "2022-07-30T16:29:13.103Z"
   },
   {
    "duration": 234,
    "start_time": "2022-07-30T16:29:37.687Z"
   },
   {
    "duration": 16,
    "start_time": "2022-07-30T16:31:26.944Z"
   },
   {
    "duration": 33,
    "start_time": "2022-07-30T16:31:32.857Z"
   },
   {
    "duration": 23,
    "start_time": "2022-07-30T16:31:40.880Z"
   },
   {
    "duration": 238,
    "start_time": "2022-07-30T16:31:56.168Z"
   },
   {
    "duration": 227,
    "start_time": "2022-07-30T16:33:12.898Z"
   },
   {
    "duration": 277,
    "start_time": "2022-07-30T16:37:49.229Z"
   },
   {
    "duration": 12,
    "start_time": "2022-07-30T16:38:44.914Z"
   },
   {
    "duration": 9,
    "start_time": "2022-07-30T16:38:53.391Z"
   },
   {
    "duration": 10,
    "start_time": "2022-07-30T16:38:57.514Z"
   },
   {
    "duration": 256,
    "start_time": "2022-07-30T16:40:43.304Z"
   },
   {
    "duration": 255,
    "start_time": "2022-07-30T16:41:46.289Z"
   },
   {
    "duration": 249,
    "start_time": "2022-07-30T16:42:38.874Z"
   },
   {
    "duration": 265,
    "start_time": "2022-07-30T16:42:54.109Z"
   },
   {
    "duration": 253,
    "start_time": "2022-07-30T16:44:30.995Z"
   },
   {
    "duration": 211,
    "start_time": "2022-07-30T16:45:22.356Z"
   },
   {
    "duration": 223,
    "start_time": "2022-07-30T16:45:42.733Z"
   },
   {
    "duration": 231,
    "start_time": "2022-07-30T16:48:12.223Z"
   },
   {
    "duration": 227,
    "start_time": "2022-07-30T16:48:17.510Z"
   },
   {
    "duration": 235,
    "start_time": "2022-07-30T16:48:40.327Z"
   },
   {
    "duration": 222,
    "start_time": "2022-07-30T16:48:41.031Z"
   },
   {
    "duration": 14,
    "start_time": "2022-07-30T16:49:25.880Z"
   },
   {
    "duration": 27,
    "start_time": "2022-07-30T16:50:39.783Z"
   },
   {
    "duration": 27,
    "start_time": "2022-07-30T16:52:58.981Z"
   },
   {
    "duration": 13,
    "start_time": "2022-07-30T16:54:21.522Z"
   },
   {
    "duration": 5,
    "start_time": "2022-07-30T16:54:31.323Z"
   },
   {
    "duration": 6,
    "start_time": "2022-07-30T16:54:55.846Z"
   },
   {
    "duration": 23,
    "start_time": "2022-07-30T16:57:28.192Z"
   },
   {
    "duration": 25,
    "start_time": "2022-07-30T16:57:53.289Z"
   },
   {
    "duration": 3,
    "start_time": "2022-07-30T16:59:58.948Z"
   },
   {
    "duration": 7,
    "start_time": "2022-07-30T17:00:57.318Z"
   },
   {
    "duration": 6,
    "start_time": "2022-07-30T17:01:07.236Z"
   },
   {
    "duration": 17,
    "start_time": "2022-07-30T17:02:22.774Z"
   },
   {
    "duration": 11,
    "start_time": "2022-07-30T17:02:26.534Z"
   },
   {
    "duration": 5,
    "start_time": "2022-07-30T17:03:56.471Z"
   },
   {
    "duration": 17,
    "start_time": "2022-07-30T17:04:16.120Z"
   },
   {
    "duration": 10,
    "start_time": "2022-07-30T17:04:22.480Z"
   },
   {
    "duration": 4,
    "start_time": "2022-07-30T17:04:36.119Z"
   },
   {
    "duration": 5,
    "start_time": "2022-07-30T17:04:40.922Z"
   },
   {
    "duration": 5,
    "start_time": "2022-07-30T17:10:18.110Z"
   },
   {
    "duration": 13,
    "start_time": "2022-07-30T17:10:28.270Z"
   },
   {
    "duration": 18,
    "start_time": "2022-07-30T17:11:15.056Z"
   },
   {
    "duration": 8,
    "start_time": "2022-07-30T17:11:31.510Z"
   },
   {
    "duration": 6,
    "start_time": "2022-07-30T17:11:41.768Z"
   },
   {
    "duration": 47,
    "start_time": "2022-07-30T17:11:55.514Z"
   },
   {
    "duration": 6,
    "start_time": "2022-07-30T17:11:59.236Z"
   },
   {
    "duration": 6,
    "start_time": "2022-07-30T17:12:04.114Z"
   },
   {
    "duration": 7,
    "start_time": "2022-07-30T17:12:13.352Z"
   },
   {
    "duration": 6,
    "start_time": "2022-07-30T17:13:11.865Z"
   },
   {
    "duration": 5,
    "start_time": "2022-07-30T17:13:17.689Z"
   },
   {
    "duration": 7,
    "start_time": "2022-07-30T17:13:38.546Z"
   },
   {
    "duration": 6,
    "start_time": "2022-07-30T17:13:55.042Z"
   },
   {
    "duration": 8,
    "start_time": "2022-07-30T17:14:03.842Z"
   },
   {
    "duration": 6,
    "start_time": "2022-07-30T17:14:30.645Z"
   },
   {
    "duration": 7,
    "start_time": "2022-07-30T17:14:58.622Z"
   },
   {
    "duration": 7,
    "start_time": "2022-07-30T17:15:31.762Z"
   },
   {
    "duration": 12,
    "start_time": "2022-07-30T17:17:37.838Z"
   },
   {
    "duration": 1154,
    "start_time": "2022-07-30T17:18:50.209Z"
   },
   {
    "duration": 14,
    "start_time": "2022-07-30T17:19:18.079Z"
   },
   {
    "duration": 14,
    "start_time": "2022-07-30T17:19:55.534Z"
   },
   {
    "duration": 14,
    "start_time": "2022-07-30T17:20:06.371Z"
   },
   {
    "duration": 16,
    "start_time": "2022-07-30T17:20:53.096Z"
   },
   {
    "duration": 8,
    "start_time": "2022-07-30T17:21:15.410Z"
   },
   {
    "duration": 23,
    "start_time": "2022-07-30T17:21:24.111Z"
   },
   {
    "duration": 18,
    "start_time": "2022-07-30T17:21:36.635Z"
   },
   {
    "duration": 24,
    "start_time": "2022-07-30T17:22:03.092Z"
   },
   {
    "duration": 33,
    "start_time": "2022-07-30T17:22:10.181Z"
   },
   {
    "duration": 17,
    "start_time": "2022-07-30T17:22:14.937Z"
   },
   {
    "duration": 10,
    "start_time": "2022-07-30T17:26:40.814Z"
   },
   {
    "duration": 7433,
    "start_time": "2022-07-30T17:26:44.246Z"
   },
   {
    "duration": 18,
    "start_time": "2022-07-30T17:28:38.040Z"
   },
   {
    "duration": 19,
    "start_time": "2022-07-30T17:32:24.123Z"
   },
   {
    "duration": 41,
    "start_time": "2022-07-30T17:32:47.897Z"
   },
   {
    "duration": 21,
    "start_time": "2022-07-30T17:33:34.962Z"
   },
   {
    "duration": 5,
    "start_time": "2022-07-30T17:33:35.682Z"
   },
   {
    "duration": 38,
    "start_time": "2022-07-30T17:34:23.091Z"
   },
   {
    "duration": 9,
    "start_time": "2022-07-30T17:34:25.539Z"
   },
   {
    "duration": 12,
    "start_time": "2022-07-30T17:34:28.416Z"
   },
   {
    "duration": 29,
    "start_time": "2022-07-30T17:34:29.396Z"
   },
   {
    "duration": 261,
    "start_time": "2022-07-30T17:34:39.563Z"
   },
   {
    "duration": 232,
    "start_time": "2022-07-30T17:34:40.725Z"
   },
   {
    "duration": 16,
    "start_time": "2022-07-30T17:34:43.451Z"
   },
   {
    "duration": 17,
    "start_time": "2022-07-30T17:34:45.723Z"
   },
   {
    "duration": 7,
    "start_time": "2022-07-30T17:34:47.250Z"
   },
   {
    "duration": 19,
    "start_time": "2022-07-30T17:35:16.355Z"
   },
   {
    "duration": 13,
    "start_time": "2022-07-30T17:38:11.031Z"
   },
   {
    "duration": 3,
    "start_time": "2022-07-30T17:39:55.874Z"
   },
   {
    "duration": 14,
    "start_time": "2022-07-30T17:40:04.609Z"
   },
   {
    "duration": 18,
    "start_time": "2022-07-30T17:41:19.873Z"
   },
   {
    "duration": 17,
    "start_time": "2022-07-30T17:42:16.353Z"
   },
   {
    "duration": 7,
    "start_time": "2022-07-30T17:42:28.361Z"
   },
   {
    "duration": 18,
    "start_time": "2022-07-30T17:42:33.950Z"
   },
   {
    "duration": 10,
    "start_time": "2022-07-30T17:42:59.148Z"
   },
   {
    "duration": 5,
    "start_time": "2022-07-30T17:45:39.070Z"
   },
   {
    "duration": 3,
    "start_time": "2022-07-30T17:46:27.626Z"
   },
   {
    "duration": 3,
    "start_time": "2022-07-30T17:46:33.188Z"
   },
   {
    "duration": 14,
    "start_time": "2022-07-30T17:48:54.816Z"
   },
   {
    "duration": 8,
    "start_time": "2022-07-30T17:51:14.936Z"
   },
   {
    "duration": 16,
    "start_time": "2022-07-30T17:52:36.250Z"
   },
   {
    "duration": 18,
    "start_time": "2022-07-30T17:53:07.521Z"
   },
   {
    "duration": 12,
    "start_time": "2022-07-30T17:53:14.075Z"
   },
   {
    "duration": 11,
    "start_time": "2022-07-30T17:53:31.172Z"
   },
   {
    "duration": 35,
    "start_time": "2022-07-30T17:53:42.694Z"
   },
   {
    "duration": 1119,
    "start_time": "2022-07-30T17:53:57.548Z"
   },
   {
    "duration": 226,
    "start_time": "2022-07-30T17:53:58.669Z"
   },
   {
    "duration": 15,
    "start_time": "2022-07-30T17:53:58.896Z"
   },
   {
    "duration": 71,
    "start_time": "2022-07-30T17:53:58.921Z"
   },
   {
    "duration": 21,
    "start_time": "2022-07-30T17:53:58.994Z"
   },
   {
    "duration": 3931,
    "start_time": "2022-07-30T17:53:59.023Z"
   },
   {
    "duration": 10,
    "start_time": "2022-07-30T17:54:02.955Z"
   },
   {
    "duration": 8,
    "start_time": "2022-07-30T17:54:02.966Z"
   },
   {
    "duration": 34,
    "start_time": "2022-07-30T17:54:02.976Z"
   },
   {
    "duration": 22,
    "start_time": "2022-07-30T17:54:03.011Z"
   },
   {
    "duration": 28,
    "start_time": "2022-07-30T17:54:03.034Z"
   },
   {
    "duration": 103,
    "start_time": "2022-07-30T17:54:03.064Z"
   },
   {
    "duration": 61,
    "start_time": "2022-07-30T17:54:03.169Z"
   },
   {
    "duration": 986,
    "start_time": "2022-07-30T17:54:03.233Z"
   },
   {
    "duration": 210,
    "start_time": "2022-07-30T17:54:04.221Z"
   },
   {
    "duration": 92,
    "start_time": "2022-07-30T17:54:04.433Z"
   },
   {
    "duration": 745,
    "start_time": "2022-07-30T17:54:04.527Z"
   },
   {
    "duration": 49,
    "start_time": "2022-07-30T17:54:05.274Z"
   },
   {
    "duration": 1234,
    "start_time": "2022-07-30T17:54:05.325Z"
   },
   {
    "duration": 111,
    "start_time": "2022-07-30T17:54:06.561Z"
   },
   {
    "duration": 4,
    "start_time": "2022-07-30T17:54:06.674Z"
   },
   {
    "duration": 70,
    "start_time": "2022-07-30T17:54:06.680Z"
   },
   {
    "duration": 195,
    "start_time": "2022-07-30T17:54:06.752Z"
   },
   {
    "duration": 9,
    "start_time": "2022-07-30T17:54:06.948Z"
   },
   {
    "duration": 12,
    "start_time": "2022-07-30T17:54:06.958Z"
   },
   {
    "duration": 7,
    "start_time": "2022-07-30T17:54:06.971Z"
   },
   {
    "duration": 3075,
    "start_time": "2022-07-30T17:54:06.979Z"
   },
   {
    "duration": 17,
    "start_time": "2022-07-30T17:54:10.055Z"
   },
   {
    "duration": 10,
    "start_time": "2022-07-30T17:54:10.074Z"
   },
   {
    "duration": 76,
    "start_time": "2022-07-30T17:54:10.116Z"
   },
   {
    "duration": 275,
    "start_time": "2022-07-30T17:54:10.194Z"
   },
   {
    "duration": 88,
    "start_time": "2022-07-30T17:54:10.471Z"
   },
   {
    "duration": 689,
    "start_time": "2022-07-30T17:54:10.561Z"
   },
   {
    "duration": 4,
    "start_time": "2022-07-30T17:54:11.252Z"
   },
   {
    "duration": 7,
    "start_time": "2022-07-30T17:54:11.257Z"
   },
   {
    "duration": 6,
    "start_time": "2022-07-30T17:54:11.265Z"
   },
   {
    "duration": 13,
    "start_time": "2022-07-30T17:54:11.273Z"
   },
   {
    "duration": 17,
    "start_time": "2022-07-30T17:54:11.308Z"
   },
   {
    "duration": 13,
    "start_time": "2022-07-30T17:54:11.328Z"
   },
   {
    "duration": 7185,
    "start_time": "2022-07-30T17:54:11.342Z"
   },
   {
    "duration": 19,
    "start_time": "2022-07-30T17:54:18.531Z"
   },
   {
    "duration": 20,
    "start_time": "2022-07-30T17:54:18.552Z"
   },
   {
    "duration": 53,
    "start_time": "2022-07-30T17:54:18.574Z"
   },
   {
    "duration": 5,
    "start_time": "2022-07-30T17:54:18.629Z"
   },
   {
    "duration": 25,
    "start_time": "2022-07-30T17:54:18.635Z"
   },
   {
    "duration": 10,
    "start_time": "2022-07-30T17:54:18.661Z"
   },
   {
    "duration": 38,
    "start_time": "2022-07-30T17:54:18.672Z"
   },
   {
    "duration": 15,
    "start_time": "2022-07-30T17:54:18.712Z"
   },
   {
    "duration": 312,
    "start_time": "2022-07-30T17:54:18.729Z"
   },
   {
    "duration": 0,
    "start_time": "2022-07-30T17:54:19.042Z"
   },
   {
    "duration": 0,
    "start_time": "2022-07-30T17:54:19.043Z"
   },
   {
    "duration": 0,
    "start_time": "2022-07-30T17:54:19.044Z"
   },
   {
    "duration": 0,
    "start_time": "2022-07-30T17:54:19.045Z"
   },
   {
    "duration": 0,
    "start_time": "2022-07-30T17:54:19.046Z"
   },
   {
    "duration": 0,
    "start_time": "2022-07-30T17:54:19.047Z"
   },
   {
    "duration": 0,
    "start_time": "2022-07-30T17:54:19.048Z"
   },
   {
    "duration": 243,
    "start_time": "2022-07-30T17:55:08.736Z"
   },
   {
    "duration": 225,
    "start_time": "2022-07-30T17:55:22.240Z"
   },
   {
    "duration": 15,
    "start_time": "2022-07-30T17:55:25.092Z"
   },
   {
    "duration": 35,
    "start_time": "2022-07-30T17:55:32.483Z"
   },
   {
    "duration": 12,
    "start_time": "2022-07-30T17:55:39.591Z"
   },
   {
    "duration": 19,
    "start_time": "2022-07-30T17:55:40.939Z"
   },
   {
    "duration": 14,
    "start_time": "2022-07-30T17:55:46.075Z"
   },
   {
    "duration": 11,
    "start_time": "2022-07-30T17:55:50.747Z"
   },
   {
    "duration": 21,
    "start_time": "2022-07-30T17:55:56.720Z"
   },
   {
    "duration": 4,
    "start_time": "2022-07-30T17:57:13.950Z"
   },
   {
    "duration": 17,
    "start_time": "2022-07-30T19:57:46.641Z"
   },
   {
    "duration": 45,
    "start_time": "2022-07-30T19:58:19.810Z"
   },
   {
    "duration": 26,
    "start_time": "2022-07-30T19:58:23.842Z"
   },
   {
    "duration": 4,
    "start_time": "2022-07-30T19:58:28.738Z"
   },
   {
    "duration": 12,
    "start_time": "2022-07-30T19:58:32.209Z"
   },
   {
    "duration": 28,
    "start_time": "2022-07-30T19:59:08.850Z"
   },
   {
    "duration": 13,
    "start_time": "2022-07-30T19:59:41.842Z"
   },
   {
    "duration": 12,
    "start_time": "2022-07-30T19:59:44.805Z"
   },
   {
    "duration": 27,
    "start_time": "2022-07-30T19:59:45.709Z"
   },
   {
    "duration": 4,
    "start_time": "2022-07-30T19:59:49.692Z"
   },
   {
    "duration": 18,
    "start_time": "2022-07-30T20:00:16.691Z"
   },
   {
    "duration": 30,
    "start_time": "2022-07-30T20:00:17.547Z"
   },
   {
    "duration": 4,
    "start_time": "2022-07-30T20:00:49.046Z"
   },
   {
    "duration": 38,
    "start_time": "2022-07-30T20:01:18.044Z"
   },
   {
    "duration": 11,
    "start_time": "2022-07-30T20:01:22.348Z"
   },
   {
    "duration": 45,
    "start_time": "2022-07-30T20:01:23.010Z"
   },
   {
    "duration": 4,
    "start_time": "2022-07-30T20:01:29.988Z"
   },
   {
    "duration": 41,
    "start_time": "2022-07-30T20:01:45.276Z"
   },
   {
    "duration": 36,
    "start_time": "2022-07-30T20:01:52.317Z"
   },
   {
    "duration": 12,
    "start_time": "2022-07-30T20:02:06.652Z"
   },
   {
    "duration": 34,
    "start_time": "2022-07-30T20:02:07.381Z"
   },
   {
    "duration": 12,
    "start_time": "2022-07-30T20:02:20.036Z"
   },
   {
    "duration": 31,
    "start_time": "2022-07-30T20:02:24.046Z"
   },
   {
    "duration": 8,
    "start_time": "2022-07-30T20:02:31.399Z"
   },
   {
    "duration": 50,
    "start_time": "2022-07-30T20:02:38.893Z"
   },
   {
    "duration": 522,
    "start_time": "2022-07-30T20:06:29.410Z"
   },
   {
    "duration": 507,
    "start_time": "2022-07-30T20:13:19.032Z"
   },
   {
    "duration": 15,
    "start_time": "2022-07-30T20:13:57.113Z"
   },
   {
    "duration": 28,
    "start_time": "2022-07-30T20:14:07.687Z"
   },
   {
    "duration": 7,
    "start_time": "2022-07-30T20:14:45.025Z"
   },
   {
    "duration": 10,
    "start_time": "2022-07-30T20:14:57.737Z"
   },
   {
    "duration": 6,
    "start_time": "2022-07-30T20:15:24.689Z"
   },
   {
    "duration": 5,
    "start_time": "2022-07-30T20:15:45.315Z"
   },
   {
    "duration": 4,
    "start_time": "2022-07-30T20:15:54.354Z"
   },
   {
    "duration": 4,
    "start_time": "2022-07-30T20:16:23.241Z"
   },
   {
    "duration": 435,
    "start_time": "2022-07-30T20:22:26.192Z"
   },
   {
    "duration": 945,
    "start_time": "2022-07-30T20:23:54.842Z"
   },
   {
    "duration": 1069,
    "start_time": "2022-07-30T20:24:26.974Z"
   },
   {
    "duration": 1175,
    "start_time": "2022-07-30T20:24:37.469Z"
   },
   {
    "duration": 2001,
    "start_time": "2022-07-30T20:24:57.315Z"
   },
   {
    "duration": 3857,
    "start_time": "2022-07-30T20:26:10.742Z"
   },
   {
    "duration": 4279,
    "start_time": "2022-07-30T20:26:50.062Z"
   },
   {
    "duration": 7120,
    "start_time": "2022-07-30T20:27:07.791Z"
   },
   {
    "duration": 7121,
    "start_time": "2022-07-30T20:27:32.598Z"
   },
   {
    "duration": 7634,
    "start_time": "2022-07-30T20:28:11.392Z"
   },
   {
    "duration": 6703,
    "start_time": "2022-07-30T20:28:30.257Z"
   },
   {
    "duration": 7,
    "start_time": "2022-07-30T20:31:05.187Z"
   },
   {
    "duration": 5,
    "start_time": "2022-07-30T20:31:05.762Z"
   },
   {
    "duration": 9,
    "start_time": "2022-07-30T20:32:32.817Z"
   },
   {
    "duration": 5,
    "start_time": "2022-07-30T20:32:33.747Z"
   },
   {
    "duration": 4,
    "start_time": "2022-07-30T20:32:34.522Z"
   },
   {
    "duration": 5019,
    "start_time": "2022-07-30T20:32:35.948Z"
   },
   {
    "duration": 6530,
    "start_time": "2022-07-30T20:32:50.350Z"
   },
   {
    "duration": 7,
    "start_time": "2022-07-30T20:33:14.918Z"
   },
   {
    "duration": 4,
    "start_time": "2022-07-30T20:33:15.387Z"
   },
   {
    "duration": 7255,
    "start_time": "2022-07-30T20:33:18.372Z"
   },
   {
    "duration": 6,
    "start_time": "2022-07-30T20:33:47.677Z"
   },
   {
    "duration": 4,
    "start_time": "2022-07-30T20:33:48.615Z"
   },
   {
    "duration": 6278,
    "start_time": "2022-07-30T20:33:51.687Z"
   },
   {
    "duration": 63,
    "start_time": "2022-07-30T20:34:14.190Z"
   },
   {
    "duration": 8,
    "start_time": "2022-07-30T20:34:22.573Z"
   },
   {
    "duration": 5,
    "start_time": "2022-07-30T20:34:23.333Z"
   },
   {
    "duration": 3,
    "start_time": "2022-07-30T20:34:23.816Z"
   },
   {
    "duration": 6620,
    "start_time": "2022-07-30T20:34:24.877Z"
   },
   {
    "duration": 25,
    "start_time": "2022-07-30T20:35:25.638Z"
   },
   {
    "duration": 14,
    "start_time": "2022-07-30T20:35:26.238Z"
   },
   {
    "duration": 12,
    "start_time": "2022-07-30T20:35:28.774Z"
   },
   {
    "duration": 16,
    "start_time": "2022-07-30T20:36:21.128Z"
   },
   {
    "duration": 18,
    "start_time": "2022-07-30T20:37:08.993Z"
   },
   {
    "duration": 56,
    "start_time": "2022-07-30T20:37:11.490Z"
   },
   {
    "duration": 4,
    "start_time": "2022-07-30T20:37:20.837Z"
   },
   {
    "duration": 47,
    "start_time": "2022-07-30T20:37:22.586Z"
   },
   {
    "duration": 74,
    "start_time": "2022-07-30T20:38:08.145Z"
   },
   {
    "duration": 19,
    "start_time": "2022-07-30T20:38:14.650Z"
   },
   {
    "duration": 14,
    "start_time": "2022-07-30T20:38:27.075Z"
   },
   {
    "duration": 32,
    "start_time": "2022-07-30T20:38:27.762Z"
   },
   {
    "duration": 5,
    "start_time": "2022-07-30T20:38:30.353Z"
   },
   {
    "duration": 65,
    "start_time": "2022-07-30T20:38:30.866Z"
   },
   {
    "duration": 8,
    "start_time": "2022-07-30T20:38:34.241Z"
   },
   {
    "duration": 5,
    "start_time": "2022-07-30T20:38:35.414Z"
   },
   {
    "duration": 8698,
    "start_time": "2022-07-30T20:38:38.290Z"
   },
   {
    "duration": 29,
    "start_time": "2022-07-30T20:39:58.232Z"
   },
   {
    "duration": 40,
    "start_time": "2022-07-30T20:40:12.608Z"
   },
   {
    "duration": 4,
    "start_time": "2022-07-30T20:40:41.147Z"
   },
   {
    "duration": 15,
    "start_time": "2022-07-30T20:40:50.231Z"
   },
   {
    "duration": 27,
    "start_time": "2022-07-30T20:40:53.869Z"
   },
   {
    "duration": 42,
    "start_time": "2022-07-30T20:40:57.293Z"
   },
   {
    "duration": 1411,
    "start_time": "2022-07-30T20:41:24.767Z"
   },
   {
    "duration": 215,
    "start_time": "2022-07-30T20:41:26.180Z"
   },
   {
    "duration": 5,
    "start_time": "2022-07-30T20:41:26.404Z"
   },
   {
    "duration": 115,
    "start_time": "2022-07-30T20:41:26.411Z"
   },
   {
    "duration": 10,
    "start_time": "2022-07-30T20:41:26.528Z"
   },
   {
    "duration": 4034,
    "start_time": "2022-07-30T20:41:26.540Z"
   },
   {
    "duration": 31,
    "start_time": "2022-07-30T20:41:30.575Z"
   },
   {
    "duration": 31,
    "start_time": "2022-07-30T20:41:30.608Z"
   },
   {
    "duration": 18,
    "start_time": "2022-07-30T20:41:30.640Z"
   },
   {
    "duration": 19,
    "start_time": "2022-07-30T20:41:30.660Z"
   },
   {
    "duration": 448,
    "start_time": "2022-07-30T20:41:30.681Z"
   },
   {
    "duration": 202,
    "start_time": "2022-07-30T20:41:31.131Z"
   },
   {
    "duration": 51,
    "start_time": "2022-07-30T20:41:31.335Z"
   },
   {
    "duration": 977,
    "start_time": "2022-07-30T20:41:31.399Z"
   },
   {
    "duration": 217,
    "start_time": "2022-07-30T20:41:32.379Z"
   },
   {
    "duration": 74,
    "start_time": "2022-07-30T20:41:32.597Z"
   },
   {
    "duration": 738,
    "start_time": "2022-07-30T20:41:32.673Z"
   },
   {
    "duration": 31,
    "start_time": "2022-07-30T20:41:33.417Z"
   },
   {
    "duration": 1183,
    "start_time": "2022-07-30T20:41:33.449Z"
   },
   {
    "duration": 130,
    "start_time": "2022-07-30T20:41:34.638Z"
   },
   {
    "duration": 6,
    "start_time": "2022-07-30T20:41:34.771Z"
   },
   {
    "duration": 73,
    "start_time": "2022-07-30T20:41:34.778Z"
   },
   {
    "duration": 211,
    "start_time": "2022-07-30T20:41:34.853Z"
   },
   {
    "duration": 13,
    "start_time": "2022-07-30T20:41:35.066Z"
   },
   {
    "duration": 49,
    "start_time": "2022-07-30T20:41:35.081Z"
   },
   {
    "duration": 9,
    "start_time": "2022-07-30T20:41:35.132Z"
   },
   {
    "duration": 3087,
    "start_time": "2022-07-30T20:41:35.143Z"
   },
   {
    "duration": 18,
    "start_time": "2022-07-30T20:41:38.232Z"
   },
   {
    "duration": 11,
    "start_time": "2022-07-30T20:41:38.252Z"
   },
   {
    "duration": 371,
    "start_time": "2022-07-30T20:41:38.264Z"
   },
   {
    "duration": 248,
    "start_time": "2022-07-30T20:41:38.637Z"
   },
   {
    "duration": 66,
    "start_time": "2022-07-30T20:41:38.887Z"
   },
   {
    "duration": 683,
    "start_time": "2022-07-30T20:41:38.955Z"
   },
   {
    "duration": 3,
    "start_time": "2022-07-30T20:41:39.640Z"
   },
   {
    "duration": 13,
    "start_time": "2022-07-30T20:41:39.645Z"
   },
   {
    "duration": 11,
    "start_time": "2022-07-30T20:41:39.660Z"
   },
   {
    "duration": 22,
    "start_time": "2022-07-30T20:41:39.672Z"
   },
   {
    "duration": 23,
    "start_time": "2022-07-30T20:41:39.696Z"
   },
   {
    "duration": 13,
    "start_time": "2022-07-30T20:41:39.722Z"
   },
   {
    "duration": 7394,
    "start_time": "2022-07-30T20:41:39.737Z"
   },
   {
    "duration": 20,
    "start_time": "2022-07-30T20:41:47.135Z"
   },
   {
    "duration": 23,
    "start_time": "2022-07-30T20:41:47.157Z"
   },
   {
    "duration": 42,
    "start_time": "2022-07-30T20:41:47.182Z"
   },
   {
    "duration": 10,
    "start_time": "2022-07-30T20:41:47.226Z"
   },
   {
    "duration": 44,
    "start_time": "2022-07-30T20:41:47.238Z"
   },
   {
    "duration": 30,
    "start_time": "2022-07-30T20:41:47.284Z"
   },
   {
    "duration": 13,
    "start_time": "2022-07-30T20:41:47.316Z"
   },
   {
    "duration": 16,
    "start_time": "2022-07-30T20:41:47.331Z"
   },
   {
    "duration": 232,
    "start_time": "2022-07-30T20:41:47.349Z"
   },
   {
    "duration": 218,
    "start_time": "2022-07-30T20:41:47.582Z"
   },
   {
    "duration": 19,
    "start_time": "2022-07-30T20:41:47.808Z"
   },
   {
    "duration": 22,
    "start_time": "2022-07-30T20:41:47.828Z"
   },
   {
    "duration": 8,
    "start_time": "2022-07-30T20:41:47.853Z"
   },
   {
    "duration": 54,
    "start_time": "2022-07-30T20:41:47.863Z"
   },
   {
    "duration": 17,
    "start_time": "2022-07-30T20:41:47.919Z"
   },
   {
    "duration": 28,
    "start_time": "2022-07-30T20:42:05.757Z"
   },
   {
    "duration": 22,
    "start_time": "2022-07-30T20:43:06.358Z"
   },
   {
    "duration": 22,
    "start_time": "2022-07-30T20:43:26.542Z"
   },
   {
    "duration": 11,
    "start_time": "2022-07-30T20:43:53.638Z"
   },
   {
    "duration": 61,
    "start_time": "2022-07-30T20:43:54.967Z"
   },
   {
    "duration": 5,
    "start_time": "2022-07-30T20:43:59.918Z"
   },
   {
    "duration": 86,
    "start_time": "2022-07-30T20:44:00.936Z"
   },
   {
    "duration": 8,
    "start_time": "2022-07-30T20:44:05.054Z"
   },
   {
    "duration": 5,
    "start_time": "2022-07-30T20:44:05.567Z"
   },
   {
    "duration": 17851,
    "start_time": "2022-07-30T20:44:11.433Z"
   },
   {
    "duration": 15517,
    "start_time": "2022-07-30T20:44:52.799Z"
   },
   {
    "duration": 17310,
    "start_time": "2022-07-30T20:46:15.147Z"
   },
   {
    "duration": 17130,
    "start_time": "2022-07-30T20:46:43.298Z"
   },
   {
    "duration": 4,
    "start_time": "2022-07-30T20:47:28.770Z"
   },
   {
    "duration": 11250,
    "start_time": "2022-07-30T20:47:32.387Z"
   },
   {
    "duration": 566,
    "start_time": "2022-07-30T20:48:41.718Z"
   },
   {
    "duration": 7639,
    "start_time": "2022-07-30T20:49:05.140Z"
   },
   {
    "duration": 453,
    "start_time": "2022-07-30T20:50:28.862Z"
   },
   {
    "duration": 8304,
    "start_time": "2022-07-30T20:50:40.677Z"
   },
   {
    "duration": 3874,
    "start_time": "2022-07-30T20:52:12.737Z"
   },
   {
    "duration": 14980,
    "start_time": "2022-07-30T20:52:35.464Z"
   },
   {
    "duration": 7760,
    "start_time": "2022-07-30T20:53:11.122Z"
   },
   {
    "duration": 4222,
    "start_time": "2022-07-30T20:53:27.552Z"
   },
   {
    "duration": 7873,
    "start_time": "2022-07-30T20:54:55.980Z"
   },
   {
    "duration": 24,
    "start_time": "2022-07-30T20:56:53.466Z"
   },
   {
    "duration": 77,
    "start_time": "2022-07-30T20:57:00.962Z"
   },
   {
    "duration": 78,
    "start_time": "2022-07-30T20:57:09.267Z"
   },
   {
    "duration": 25,
    "start_time": "2022-07-30T20:57:22.643Z"
   },
   {
    "duration": 24,
    "start_time": "2022-07-30T20:57:30.364Z"
   },
   {
    "duration": 53,
    "start_time": "2022-07-30T20:57:35.532Z"
   },
   {
    "duration": 54,
    "start_time": "2022-07-30T20:57:43.403Z"
   },
   {
    "duration": 32,
    "start_time": "2022-07-30T20:57:52.196Z"
   },
   {
    "duration": 26,
    "start_time": "2022-07-30T20:58:27.941Z"
   },
   {
    "duration": 24,
    "start_time": "2022-07-30T20:58:34.948Z"
   },
   {
    "duration": 20,
    "start_time": "2022-07-30T20:58:45.612Z"
   },
   {
    "duration": 14,
    "start_time": "2022-07-30T20:58:53.861Z"
   },
   {
    "duration": 38,
    "start_time": "2022-07-30T20:58:56.374Z"
   },
   {
    "duration": 5,
    "start_time": "2022-07-30T20:58:58.245Z"
   },
   {
    "duration": 50,
    "start_time": "2022-07-30T20:58:58.718Z"
   },
   {
    "duration": 8,
    "start_time": "2022-07-30T20:59:02.214Z"
   },
   {
    "duration": 5,
    "start_time": "2022-07-30T20:59:02.821Z"
   },
   {
    "duration": 3,
    "start_time": "2022-07-30T20:59:03.476Z"
   },
   {
    "duration": 18697,
    "start_time": "2022-07-30T20:59:04.589Z"
   },
   {
    "duration": 38,
    "start_time": "2022-07-30T21:00:25.247Z"
   },
   {
    "duration": 16,
    "start_time": "2022-07-30T21:00:36.639Z"
   },
   {
    "duration": 46,
    "start_time": "2022-07-30T21:00:37.439Z"
   },
   {
    "duration": 5,
    "start_time": "2022-07-30T21:00:42.415Z"
   },
   {
    "duration": 89,
    "start_time": "2022-07-30T21:00:42.833Z"
   },
   {
    "duration": 9,
    "start_time": "2022-07-30T21:00:46.958Z"
   },
   {
    "duration": 6,
    "start_time": "2022-07-30T21:00:47.433Z"
   },
   {
    "duration": 3,
    "start_time": "2022-07-30T21:00:49.417Z"
   },
   {
    "duration": 14013,
    "start_time": "2022-07-30T21:00:50.470Z"
   },
   {
    "duration": 18,
    "start_time": "2022-07-30T21:01:25.769Z"
   },
   {
    "duration": 17,
    "start_time": "2022-07-30T21:01:34.424Z"
   },
   {
    "duration": 45,
    "start_time": "2022-07-30T21:01:34.972Z"
   },
   {
    "duration": 4,
    "start_time": "2022-07-30T21:01:37.715Z"
   },
   {
    "duration": 49,
    "start_time": "2022-07-30T21:01:55.184Z"
   },
   {
    "duration": 16,
    "start_time": "2022-07-30T21:02:09.360Z"
   },
   {
    "duration": 38,
    "start_time": "2022-07-30T21:02:09.993Z"
   },
   {
    "duration": 80,
    "start_time": "2022-07-30T21:02:18.833Z"
   },
   {
    "duration": 11,
    "start_time": "2022-07-30T21:02:22.018Z"
   },
   {
    "duration": 62,
    "start_time": "2022-07-30T21:02:22.488Z"
   },
   {
    "duration": 14,
    "start_time": "2022-07-30T21:02:29.532Z"
   },
   {
    "duration": 16,
    "start_time": "2022-07-30T21:02:30.073Z"
   },
   {
    "duration": 24,
    "start_time": "2022-07-30T21:02:34.013Z"
   },
   {
    "duration": 18,
    "start_time": "2022-07-30T21:03:25.634Z"
   },
   {
    "duration": 15,
    "start_time": "2022-07-30T21:03:53.322Z"
   },
   {
    "duration": 21,
    "start_time": "2022-07-30T21:03:53.833Z"
   },
   {
    "duration": 36,
    "start_time": "2022-07-30T21:03:54.283Z"
   },
   {
    "duration": 6,
    "start_time": "2022-07-30T21:03:57.409Z"
   },
   {
    "duration": 55,
    "start_time": "2022-07-30T21:03:57.993Z"
   },
   {
    "duration": 7,
    "start_time": "2022-07-30T21:03:59.617Z"
   },
   {
    "duration": 4,
    "start_time": "2022-07-30T21:04:01.737Z"
   },
   {
    "duration": 3,
    "start_time": "2022-07-30T21:04:02.512Z"
   },
   {
    "duration": 8866,
    "start_time": "2022-07-30T21:04:03.433Z"
   },
   {
    "duration": 18,
    "start_time": "2022-07-30T21:04:46.836Z"
   },
   {
    "duration": 17,
    "start_time": "2022-07-30T21:05:14.013Z"
   },
   {
    "duration": 39,
    "start_time": "2022-07-30T21:05:14.595Z"
   },
   {
    "duration": 37,
    "start_time": "2022-07-30T21:05:15.215Z"
   },
   {
    "duration": 4,
    "start_time": "2022-07-30T21:05:17.451Z"
   },
   {
    "duration": 64,
    "start_time": "2022-07-30T21:05:17.754Z"
   },
   {
    "duration": 6,
    "start_time": "2022-07-30T21:05:19.233Z"
   },
   {
    "duration": 4,
    "start_time": "2022-07-30T21:05:20.066Z"
   },
   {
    "duration": 4,
    "start_time": "2022-07-30T21:05:20.458Z"
   },
   {
    "duration": 10993,
    "start_time": "2022-07-30T21:05:21.414Z"
   },
   {
    "duration": 40,
    "start_time": "2022-07-30T21:05:48.617Z"
   },
   {
    "duration": 29,
    "start_time": "2022-07-30T21:06:53.322Z"
   },
   {
    "duration": 21,
    "start_time": "2022-07-30T21:07:03.990Z"
   },
   {
    "duration": 20,
    "start_time": "2022-07-30T21:07:04.669Z"
   },
   {
    "duration": 40,
    "start_time": "2022-07-30T21:07:05.214Z"
   },
   {
    "duration": 4,
    "start_time": "2022-07-30T21:07:08.452Z"
   },
   {
    "duration": 52,
    "start_time": "2022-07-30T21:07:08.937Z"
   },
   {
    "duration": 8,
    "start_time": "2022-07-30T21:07:10.347Z"
   },
   {
    "duration": 6,
    "start_time": "2022-07-30T21:07:11.140Z"
   },
   {
    "duration": 3,
    "start_time": "2022-07-30T21:07:13.252Z"
   },
   {
    "duration": 9493,
    "start_time": "2022-07-30T21:07:14.132Z"
   },
   {
    "duration": 9376,
    "start_time": "2022-07-30T21:07:51.446Z"
   },
   {
    "duration": 9786,
    "start_time": "2022-07-30T21:08:15.488Z"
   },
   {
    "duration": 17445,
    "start_time": "2022-07-30T21:08:29.719Z"
   },
   {
    "duration": 11924,
    "start_time": "2022-07-30T21:08:57.334Z"
   },
   {
    "duration": 18067,
    "start_time": "2022-07-30T21:09:13.857Z"
   },
   {
    "duration": 9968,
    "start_time": "2022-07-30T21:09:37.718Z"
   },
   {
    "duration": 9640,
    "start_time": "2022-07-30T21:09:53.112Z"
   },
   {
    "duration": 12130,
    "start_time": "2022-07-30T21:10:09.033Z"
   },
   {
    "duration": 8757,
    "start_time": "2022-07-30T21:10:26.648Z"
   },
   {
    "duration": 18411,
    "start_time": "2022-07-30T21:10:42.584Z"
   },
   {
    "duration": 8515,
    "start_time": "2022-07-30T21:11:06.532Z"
   },
   {
    "duration": 9779,
    "start_time": "2022-07-30T21:11:28.218Z"
   },
   {
    "duration": 16348,
    "start_time": "2022-07-30T21:11:48.722Z"
   },
   {
    "duration": 445,
    "start_time": "2022-07-30T21:12:35.348Z"
   },
   {
    "duration": 71,
    "start_time": "2022-07-30T21:14:16.381Z"
   },
   {
    "duration": 16299,
    "start_time": "2022-07-30T21:14:21.319Z"
   },
   {
    "duration": 10097,
    "start_time": "2022-07-30T21:14:43.718Z"
   },
   {
    "duration": 10962,
    "start_time": "2022-07-30T21:15:00.333Z"
   },
   {
    "duration": 17222,
    "start_time": "2022-07-30T21:15:17.893Z"
   },
   {
    "duration": 8474,
    "start_time": "2022-07-30T21:15:38.174Z"
   },
   {
    "duration": 6469,
    "start_time": "2022-07-30T21:16:34.182Z"
   },
   {
    "duration": 16299,
    "start_time": "2022-07-30T21:17:08.714Z"
   },
   {
    "duration": 20859,
    "start_time": "2022-07-30T21:20:10.290Z"
   },
   {
    "duration": 41458,
    "start_time": "2022-07-30T21:20:44.162Z"
   },
   {
    "duration": 15660,
    "start_time": "2022-07-30T21:21:45.772Z"
   },
   {
    "duration": 6,
    "start_time": "2022-07-30T21:22:47.876Z"
   },
   {
    "duration": 6,
    "start_time": "2022-07-30T21:22:50.172Z"
   },
   {
    "duration": 2,
    "start_time": "2022-07-30T21:22:50.621Z"
   },
   {
    "duration": 7280,
    "start_time": "2022-07-30T21:22:51.634Z"
   },
   {
    "duration": 10,
    "start_time": "2022-07-30T21:23:13.431Z"
   },
   {
    "duration": 5,
    "start_time": "2022-07-30T21:23:13.980Z"
   },
   {
    "duration": 4,
    "start_time": "2022-07-30T21:23:14.416Z"
   },
   {
    "duration": 6241,
    "start_time": "2022-07-30T21:23:15.413Z"
   },
   {
    "duration": 7,
    "start_time": "2022-07-30T21:23:39.333Z"
   },
   {
    "duration": 4,
    "start_time": "2022-07-30T21:23:39.717Z"
   },
   {
    "duration": 3,
    "start_time": "2022-07-30T21:23:40.092Z"
   },
   {
    "duration": 15423,
    "start_time": "2022-07-30T21:23:41.013Z"
   },
   {
    "duration": 13,
    "start_time": "2022-07-30T21:25:33.537Z"
   },
   {
    "duration": 3,
    "start_time": "2022-07-30T21:25:43.790Z"
   },
   {
    "duration": 11,
    "start_time": "2022-07-30T21:26:15.848Z"
   },
   {
    "duration": 46,
    "start_time": "2022-07-30T21:26:25.183Z"
   },
   {
    "duration": 25,
    "start_time": "2022-07-30T21:26:38.064Z"
   },
   {
    "duration": 5,
    "start_time": "2022-07-30T21:27:10.880Z"
   },
   {
    "duration": 4,
    "start_time": "2022-07-30T21:27:21.656Z"
   },
   {
    "duration": 18,
    "start_time": "2022-07-30T21:27:34.633Z"
   },
   {
    "duration": 17,
    "start_time": "2022-07-30T21:27:35.300Z"
   },
   {
    "duration": 27,
    "start_time": "2022-07-30T21:27:35.865Z"
   },
   {
    "duration": 19,
    "start_time": "2022-07-30T21:27:38.496Z"
   },
   {
    "duration": 15,
    "start_time": "2022-07-30T21:27:54.532Z"
   },
   {
    "duration": 17,
    "start_time": "2022-07-30T21:27:55.121Z"
   },
   {
    "duration": 29,
    "start_time": "2022-07-30T21:27:55.985Z"
   },
   {
    "duration": 4,
    "start_time": "2022-07-30T21:27:58.273Z"
   },
   {
    "duration": 62,
    "start_time": "2022-07-30T21:27:59.169Z"
   },
   {
    "duration": 6,
    "start_time": "2022-07-30T21:28:26.817Z"
   },
   {
    "duration": 6,
    "start_time": "2022-07-30T21:28:27.304Z"
   },
   {
    "duration": 2,
    "start_time": "2022-07-30T21:28:27.836Z"
   },
   {
    "duration": 6176,
    "start_time": "2022-07-30T21:28:28.914Z"
   },
   {
    "duration": 11,
    "start_time": "2022-07-30T21:29:50.953Z"
   },
   {
    "duration": 15,
    "start_time": "2022-07-30T21:29:51.417Z"
   },
   {
    "duration": 25,
    "start_time": "2022-07-30T21:29:51.858Z"
   },
   {
    "duration": 4,
    "start_time": "2022-07-30T21:29:52.282Z"
   },
   {
    "duration": 66,
    "start_time": "2022-07-30T21:29:52.721Z"
   },
   {
    "duration": 9,
    "start_time": "2022-07-30T21:29:54.012Z"
   },
   {
    "duration": 5,
    "start_time": "2022-07-30T21:29:54.524Z"
   },
   {
    "duration": 3,
    "start_time": "2022-07-30T21:29:55.010Z"
   },
   {
    "duration": 15257,
    "start_time": "2022-07-30T21:29:56.193Z"
   },
   {
    "duration": 24,
    "start_time": "2022-07-30T21:30:39.667Z"
   },
   {
    "duration": 11,
    "start_time": "2022-07-30T21:30:49.155Z"
   },
   {
    "duration": 15,
    "start_time": "2022-07-30T21:30:49.554Z"
   },
   {
    "duration": 31,
    "start_time": "2022-07-30T21:30:49.911Z"
   },
   {
    "duration": 4,
    "start_time": "2022-07-30T21:30:50.314Z"
   },
   {
    "duration": 71,
    "start_time": "2022-07-30T21:30:50.810Z"
   },
   {
    "duration": 7,
    "start_time": "2022-07-30T21:30:52.018Z"
   },
   {
    "duration": 4,
    "start_time": "2022-07-30T21:30:52.450Z"
   },
   {
    "duration": 3,
    "start_time": "2022-07-30T21:30:52.939Z"
   },
   {
    "duration": 14093,
    "start_time": "2022-07-30T21:30:54.011Z"
   },
   {
    "duration": 28,
    "start_time": "2022-07-30T21:32:05.436Z"
   },
   {
    "duration": 15,
    "start_time": "2022-07-30T21:32:14.536Z"
   },
   {
    "duration": 17,
    "start_time": "2022-07-30T21:32:15.525Z"
   },
   {
    "duration": 34,
    "start_time": "2022-07-30T21:32:16.076Z"
   },
   {
    "duration": 4,
    "start_time": "2022-07-30T21:32:18.732Z"
   },
   {
    "duration": 81,
    "start_time": "2022-07-30T21:32:19.084Z"
   },
   {
    "duration": 6,
    "start_time": "2022-07-30T21:32:20.379Z"
   },
   {
    "duration": 3,
    "start_time": "2022-07-30T21:32:20.764Z"
   },
   {
    "duration": 3,
    "start_time": "2022-07-30T21:32:21.111Z"
   },
   {
    "duration": 11586,
    "start_time": "2022-07-30T21:32:22.010Z"
   },
   {
    "duration": 22,
    "start_time": "2022-07-30T21:32:50.846Z"
   },
   {
    "duration": 10,
    "start_time": "2022-07-30T21:33:04.972Z"
   },
   {
    "duration": 15,
    "start_time": "2022-07-30T21:33:05.451Z"
   },
   {
    "duration": 31,
    "start_time": "2022-07-30T21:33:05.931Z"
   },
   {
    "duration": 5,
    "start_time": "2022-07-30T21:33:06.432Z"
   },
   {
    "duration": 70,
    "start_time": "2022-07-30T21:33:06.876Z"
   },
   {
    "duration": 8,
    "start_time": "2022-07-30T21:33:08.117Z"
   },
   {
    "duration": 3,
    "start_time": "2022-07-30T21:33:08.636Z"
   },
   {
    "duration": 3,
    "start_time": "2022-07-30T21:33:09.070Z"
   },
   {
    "duration": 14050,
    "start_time": "2022-07-30T21:33:10.059Z"
   },
   {
    "duration": 16,
    "start_time": "2022-07-30T21:33:47.957Z"
   },
   {
    "duration": 35,
    "start_time": "2022-07-30T21:33:58.598Z"
   },
   {
    "duration": 11,
    "start_time": "2022-07-30T21:34:06.637Z"
   },
   {
    "duration": 16,
    "start_time": "2022-07-30T21:34:07.085Z"
   },
   {
    "duration": 33,
    "start_time": "2022-07-30T21:34:07.534Z"
   },
   {
    "duration": 4,
    "start_time": "2022-07-30T21:34:08.277Z"
   },
   {
    "duration": 81,
    "start_time": "2022-07-30T21:34:08.652Z"
   },
   {
    "duration": 8,
    "start_time": "2022-07-30T21:34:09.660Z"
   },
   {
    "duration": 5,
    "start_time": "2022-07-30T21:34:10.068Z"
   },
   {
    "duration": 3,
    "start_time": "2022-07-30T21:34:10.484Z"
   },
   {
    "duration": 10314,
    "start_time": "2022-07-30T21:34:11.572Z"
   },
   {
    "duration": 16,
    "start_time": "2022-07-30T21:34:40.053Z"
   },
   {
    "duration": 14,
    "start_time": "2022-07-30T21:34:40.453Z"
   },
   {
    "duration": 18,
    "start_time": "2022-07-30T21:34:40.877Z"
   },
   {
    "duration": 11,
    "start_time": "2022-07-30T21:34:41.676Z"
   },
   {
    "duration": 16,
    "start_time": "2022-07-30T21:34:42.141Z"
   },
   {
    "duration": 34,
    "start_time": "2022-07-30T21:34:42.631Z"
   },
   {
    "duration": 4,
    "start_time": "2022-07-30T21:34:43.077Z"
   },
   {
    "duration": 71,
    "start_time": "2022-07-30T21:34:43.931Z"
   },
   {
    "duration": 7,
    "start_time": "2022-07-30T21:34:45.133Z"
   },
   {
    "duration": 4,
    "start_time": "2022-07-30T21:34:45.389Z"
   },
   {
    "duration": 2,
    "start_time": "2022-07-30T21:34:45.731Z"
   },
   {
    "duration": 13961,
    "start_time": "2022-07-30T21:34:46.589Z"
   },
   {
    "duration": 1252,
    "start_time": "2022-07-30T21:46:46.263Z"
   },
   {
    "duration": 9,
    "start_time": "2022-07-30T21:51:20.876Z"
   },
   {
    "duration": 8,
    "start_time": "2022-07-30T21:51:51.541Z"
   },
   {
    "duration": 1288,
    "start_time": "2022-07-30T21:56:00.440Z"
   },
   {
    "duration": 18,
    "start_time": "2022-07-30T21:56:33.530Z"
   },
   {
    "duration": 1225,
    "start_time": "2022-07-30T21:57:10.748Z"
   },
   {
    "duration": 1261,
    "start_time": "2022-07-30T21:57:18.994Z"
   },
   {
    "duration": 5,
    "start_time": "2022-07-30T21:59:07.033Z"
   },
   {
    "duration": 4,
    "start_time": "2022-07-30T21:59:10.948Z"
   },
   {
    "duration": 4,
    "start_time": "2022-07-30T22:00:51.729Z"
   },
   {
    "duration": 5,
    "start_time": "2022-07-30T22:00:55.559Z"
   },
   {
    "duration": 4,
    "start_time": "2022-07-30T22:00:58.728Z"
   },
   {
    "duration": 5,
    "start_time": "2022-07-30T22:01:02.438Z"
   },
   {
    "duration": 11,
    "start_time": "2022-07-30T22:01:26.342Z"
   },
   {
    "duration": 12,
    "start_time": "2022-07-30T22:01:43.863Z"
   },
   {
    "duration": 1247,
    "start_time": "2022-07-30T22:02:05.423Z"
   },
   {
    "duration": 1223,
    "start_time": "2022-07-30T22:02:25.279Z"
   },
   {
    "duration": 954,
    "start_time": "2022-07-30T22:02:37.539Z"
   },
   {
    "duration": 681,
    "start_time": "2022-07-30T22:02:42.322Z"
   },
   {
    "duration": 400,
    "start_time": "2022-07-30T22:02:46.391Z"
   },
   {
    "duration": 955,
    "start_time": "2022-07-30T22:02:51.632Z"
   },
   {
    "duration": 963,
    "start_time": "2022-07-30T22:08:31.758Z"
   },
   {
    "duration": 27502,
    "start_time": "2022-07-30T22:09:12.767Z"
   },
   {
    "duration": 7,
    "start_time": "2022-07-30T22:10:56.412Z"
   },
   {
    "duration": 27366,
    "start_time": "2022-07-30T22:11:03.648Z"
   },
   {
    "duration": 15013,
    "start_time": "2022-07-30T22:14:09.739Z"
   },
   {
    "duration": 14,
    "start_time": "2022-07-30T22:14:55.717Z"
   },
   {
    "duration": 12,
    "start_time": "2022-07-30T22:15:40.218Z"
   },
   {
    "duration": 52,
    "start_time": "2022-07-30T22:16:16.626Z"
   },
   {
    "duration": 10,
    "start_time": "2022-07-30T22:16:44.943Z"
   },
   {
    "duration": 12,
    "start_time": "2022-07-30T22:16:56.025Z"
   },
   {
    "duration": 14902,
    "start_time": "2022-07-30T22:18:09.522Z"
   },
   {
    "duration": 4,
    "start_time": "2022-07-30T22:19:52.569Z"
   },
   {
    "duration": 8,
    "start_time": "2022-07-30T22:21:13.083Z"
   },
   {
    "duration": 16,
    "start_time": "2022-07-30T22:21:56.116Z"
   },
   {
    "duration": 14,
    "start_time": "2022-07-30T22:22:05.076Z"
   },
   {
    "duration": 6,
    "start_time": "2022-07-30T22:22:39.885Z"
   },
   {
    "duration": 15,
    "start_time": "2022-07-30T22:22:44.220Z"
   },
   {
    "duration": 60,
    "start_time": "2022-07-31T05:43:41.110Z"
   },
   {
    "duration": 1541,
    "start_time": "2022-07-31T05:44:22.232Z"
   },
   {
    "duration": 435,
    "start_time": "2022-07-31T05:44:23.775Z"
   },
   {
    "duration": 3,
    "start_time": "2022-07-31T05:44:24.212Z"
   },
   {
    "duration": 74,
    "start_time": "2022-07-31T05:44:24.216Z"
   },
   {
    "duration": 5,
    "start_time": "2022-07-31T05:44:24.291Z"
   },
   {
    "duration": 4158,
    "start_time": "2022-07-31T05:44:24.297Z"
   },
   {
    "duration": 10,
    "start_time": "2022-07-31T05:44:28.456Z"
   },
   {
    "duration": 13,
    "start_time": "2022-07-31T05:44:28.468Z"
   },
   {
    "duration": 7,
    "start_time": "2022-07-31T05:44:28.483Z"
   },
   {
    "duration": 11,
    "start_time": "2022-07-31T05:44:28.492Z"
   },
   {
    "duration": 305,
    "start_time": "2022-07-31T05:44:28.505Z"
   },
   {
    "duration": 149,
    "start_time": "2022-07-31T05:44:28.811Z"
   },
   {
    "duration": 80,
    "start_time": "2022-07-31T05:44:28.962Z"
   },
   {
    "duration": 1023,
    "start_time": "2022-07-31T05:44:29.044Z"
   },
   {
    "duration": 188,
    "start_time": "2022-07-31T05:44:30.069Z"
   },
   {
    "duration": 99,
    "start_time": "2022-07-31T05:44:30.259Z"
   },
   {
    "duration": 601,
    "start_time": "2022-07-31T05:44:30.360Z"
   },
   {
    "duration": 29,
    "start_time": "2022-07-31T05:44:30.962Z"
   },
   {
    "duration": 1073,
    "start_time": "2022-07-31T05:44:30.993Z"
   },
   {
    "duration": 108,
    "start_time": "2022-07-31T05:44:32.067Z"
   },
   {
    "duration": 5,
    "start_time": "2022-07-31T05:44:32.176Z"
   },
   {
    "duration": 66,
    "start_time": "2022-07-31T05:44:32.182Z"
   },
   {
    "duration": 189,
    "start_time": "2022-07-31T05:44:32.250Z"
   },
   {
    "duration": 9,
    "start_time": "2022-07-31T05:44:32.441Z"
   },
   {
    "duration": 13,
    "start_time": "2022-07-31T05:44:32.451Z"
   },
   {
    "duration": 6,
    "start_time": "2022-07-31T05:44:32.465Z"
   },
   {
    "duration": 3219,
    "start_time": "2022-07-31T05:44:32.473Z"
   },
   {
    "duration": 16,
    "start_time": "2022-07-31T05:44:35.695Z"
   },
   {
    "duration": 24,
    "start_time": "2022-07-31T05:44:35.712Z"
   },
   {
    "duration": 318,
    "start_time": "2022-07-31T05:44:35.738Z"
   },
   {
    "duration": 226,
    "start_time": "2022-07-31T05:44:36.057Z"
   },
   {
    "duration": 76,
    "start_time": "2022-07-31T05:44:36.285Z"
   },
   {
    "duration": 635,
    "start_time": "2022-07-31T05:44:36.363Z"
   },
   {
    "duration": 4,
    "start_time": "2022-07-31T05:44:36.999Z"
   },
   {
    "duration": 13,
    "start_time": "2022-07-31T05:44:37.004Z"
   },
   {
    "duration": 12,
    "start_time": "2022-07-31T05:44:37.019Z"
   },
   {
    "duration": 17,
    "start_time": "2022-07-31T05:44:37.032Z"
   },
   {
    "duration": 16,
    "start_time": "2022-07-31T05:44:37.050Z"
   },
   {
    "duration": 10,
    "start_time": "2022-07-31T05:44:37.068Z"
   },
   {
    "duration": 7829,
    "start_time": "2022-07-31T05:44:37.080Z"
   },
   {
    "duration": 26,
    "start_time": "2022-07-31T05:44:44.910Z"
   },
   {
    "duration": 17,
    "start_time": "2022-07-31T05:44:44.938Z"
   },
   {
    "duration": 20,
    "start_time": "2022-07-31T05:44:44.956Z"
   },
   {
    "duration": 5,
    "start_time": "2022-07-31T05:44:44.978Z"
   },
   {
    "duration": 25,
    "start_time": "2022-07-31T05:44:44.985Z"
   },
   {
    "duration": 18,
    "start_time": "2022-07-31T05:44:45.037Z"
   },
   {
    "duration": 14,
    "start_time": "2022-07-31T05:44:45.057Z"
   },
   {
    "duration": 26,
    "start_time": "2022-07-31T05:44:45.072Z"
   },
   {
    "duration": 230,
    "start_time": "2022-07-31T05:44:45.100Z"
   },
   {
    "duration": 200,
    "start_time": "2022-07-31T05:44:45.337Z"
   },
   {
    "duration": 13,
    "start_time": "2022-07-31T05:44:45.538Z"
   },
   {
    "duration": 18,
    "start_time": "2022-07-31T05:44:45.553Z"
   },
   {
    "duration": 5,
    "start_time": "2022-07-31T05:44:45.572Z"
   },
   {
    "duration": 22,
    "start_time": "2022-07-31T05:44:45.579Z"
   },
   {
    "duration": 39,
    "start_time": "2022-07-31T05:44:45.602Z"
   },
   {
    "duration": 12,
    "start_time": "2022-07-31T05:44:45.643Z"
   },
   {
    "duration": 18,
    "start_time": "2022-07-31T05:44:45.657Z"
   },
   {
    "duration": 10,
    "start_time": "2022-07-31T05:44:45.677Z"
   },
   {
    "duration": 48,
    "start_time": "2022-07-31T05:44:45.689Z"
   },
   {
    "duration": 33,
    "start_time": "2022-07-31T05:44:45.738Z"
   },
   {
    "duration": 3,
    "start_time": "2022-07-31T05:44:45.773Z"
   },
   {
    "duration": 92,
    "start_time": "2022-07-31T05:44:45.777Z"
   },
   {
    "duration": 6,
    "start_time": "2022-07-31T05:44:45.870Z"
   },
   {
    "duration": 6,
    "start_time": "2022-07-31T05:44:45.878Z"
   },
   {
    "duration": 6,
    "start_time": "2022-07-31T05:44:45.885Z"
   },
   {
    "duration": 31248,
    "start_time": "2022-07-31T05:44:45.892Z"
   },
   {
    "duration": 845,
    "start_time": "2022-07-31T05:47:03.932Z"
   },
   {
    "duration": 7,
    "start_time": "2022-07-31T05:47:13.083Z"
   },
   {
    "duration": 1927,
    "start_time": "2022-07-31T05:47:15.594Z"
   },
   {
    "duration": 17,
    "start_time": "2022-07-31T05:47:25.780Z"
   },
   {
    "duration": 11936,
    "start_time": "2022-07-31T05:48:57.457Z"
   },
   {
    "duration": 25185,
    "start_time": "2022-07-31T05:49:21.759Z"
   },
   {
    "duration": 31865,
    "start_time": "2022-07-31T05:50:09.678Z"
   },
   {
    "duration": 70,
    "start_time": "2022-07-31T05:54:33.676Z"
   },
   {
    "duration": 160,
    "start_time": "2022-07-31T05:54:47.885Z"
   },
   {
    "duration": 142,
    "start_time": "2022-07-31T05:55:04.003Z"
   },
   {
    "duration": 239,
    "start_time": "2022-07-31T05:57:05.607Z"
   },
   {
    "duration": 130,
    "start_time": "2022-07-31T05:57:12.614Z"
   },
   {
    "duration": 147,
    "start_time": "2022-07-31T05:57:31.503Z"
   },
   {
    "duration": 198,
    "start_time": "2022-07-31T05:57:38.047Z"
   },
   {
    "duration": 402,
    "start_time": "2022-07-31T05:57:46.935Z"
   },
   {
    "duration": 156,
    "start_time": "2022-07-31T05:57:51.887Z"
   },
   {
    "duration": 394,
    "start_time": "2022-07-31T05:57:55.151Z"
   },
   {
    "duration": 215,
    "start_time": "2022-07-31T05:57:59.823Z"
   },
   {
    "duration": 112,
    "start_time": "2022-07-31T05:58:03.831Z"
   },
   {
    "duration": 5,
    "start_time": "2022-07-31T06:04:04.673Z"
   },
   {
    "duration": 3,
    "start_time": "2022-07-31T06:04:22.397Z"
   },
   {
    "duration": 7,
    "start_time": "2022-07-31T06:04:53.238Z"
   },
   {
    "duration": 88,
    "start_time": "2022-07-31T06:05:01.453Z"
   },
   {
    "duration": 52,
    "start_time": "2022-07-31T06:05:03.789Z"
   },
   {
    "duration": 5,
    "start_time": "2022-07-31T06:05:20.109Z"
   },
   {
    "duration": 31225,
    "start_time": "2022-07-31T06:05:28.914Z"
   },
   {
    "duration": 2979,
    "start_time": "2022-07-31T06:06:12.665Z"
   },
   {
    "duration": 7,
    "start_time": "2022-07-31T06:06:52.751Z"
   },
   {
    "duration": 4,
    "start_time": "2022-07-31T06:06:53.360Z"
   },
   {
    "duration": 156,
    "start_time": "2022-07-31T06:06:54.787Z"
   },
   {
    "duration": 12004,
    "start_time": "2022-07-31T06:06:57.587Z"
   },
   {
    "duration": 32052,
    "start_time": "2022-07-31T06:07:28.121Z"
   },
   {
    "duration": 914,
    "start_time": "2022-07-31T06:10:01.426Z"
   },
   {
    "duration": 83,
    "start_time": "2022-07-31T06:10:19.899Z"
   },
   {
    "duration": 9,
    "start_time": "2022-07-31T06:11:23.356Z"
   },
   {
    "duration": 10,
    "start_time": "2022-07-31T06:12:42.541Z"
   },
   {
    "duration": 9,
    "start_time": "2022-07-31T06:12:45.324Z"
   },
   {
    "duration": 12,
    "start_time": "2022-07-31T06:12:52.605Z"
   },
   {
    "duration": 2,
    "start_time": "2022-07-31T06:14:34.222Z"
   },
   {
    "duration": 35987,
    "start_time": "2022-07-31T06:17:24.301Z"
   },
   {
    "duration": 31240,
    "start_time": "2022-07-31T06:18:25.317Z"
   },
   {
    "duration": 31609,
    "start_time": "2022-07-31T06:19:24.631Z"
   },
   {
    "duration": 12,
    "start_time": "2022-07-31T06:22:28.070Z"
   },
   {
    "duration": 10,
    "start_time": "2022-07-31T06:23:13.983Z"
   },
   {
    "duration": 11,
    "start_time": "2022-07-31T06:23:27.832Z"
   },
   {
    "duration": 185,
    "start_time": "2022-07-31T06:35:35.682Z"
   },
   {
    "duration": 5,
    "start_time": "2022-07-31T06:41:15.104Z"
   },
   {
    "duration": 5,
    "start_time": "2022-07-31T06:41:31.289Z"
   },
   {
    "duration": 4,
    "start_time": "2022-07-31T06:41:35.928Z"
   },
   {
    "duration": 5,
    "start_time": "2022-07-31T06:41:38.465Z"
   },
   {
    "duration": 177,
    "start_time": "2022-07-31T06:42:33.404Z"
   },
   {
    "duration": 5,
    "start_time": "2022-07-31T06:42:56.593Z"
   },
   {
    "duration": 82,
    "start_time": "2022-07-31T06:43:36.156Z"
   },
   {
    "duration": 1566,
    "start_time": "2022-07-31T06:44:29.584Z"
   },
   {
    "duration": 245,
    "start_time": "2022-07-31T06:44:31.158Z"
   },
   {
    "duration": 5,
    "start_time": "2022-07-31T06:44:31.405Z"
   },
   {
    "duration": 105,
    "start_time": "2022-07-31T06:44:31.412Z"
   },
   {
    "duration": 5,
    "start_time": "2022-07-31T06:44:31.520Z"
   },
   {
    "duration": 4781,
    "start_time": "2022-07-31T06:44:31.539Z"
   },
   {
    "duration": 34,
    "start_time": "2022-07-31T06:44:36.322Z"
   },
   {
    "duration": 42,
    "start_time": "2022-07-31T06:44:36.361Z"
   },
   {
    "duration": 14,
    "start_time": "2022-07-31T06:44:36.404Z"
   },
   {
    "duration": 22,
    "start_time": "2022-07-31T06:44:36.420Z"
   },
   {
    "duration": 350,
    "start_time": "2022-07-31T06:44:36.447Z"
   },
   {
    "duration": 148,
    "start_time": "2022-07-31T06:44:36.799Z"
   },
   {
    "duration": 67,
    "start_time": "2022-07-31T06:44:36.955Z"
   },
   {
    "duration": 1092,
    "start_time": "2022-07-31T06:44:37.025Z"
   },
   {
    "duration": 215,
    "start_time": "2022-07-31T06:44:38.119Z"
   },
   {
    "duration": 111,
    "start_time": "2022-07-31T06:44:38.339Z"
   },
   {
    "duration": 814,
    "start_time": "2022-07-31T06:44:38.451Z"
   },
   {
    "duration": 44,
    "start_time": "2022-07-31T06:44:39.272Z"
   },
   {
    "duration": 1302,
    "start_time": "2022-07-31T06:44:39.318Z"
   },
   {
    "duration": 132,
    "start_time": "2022-07-31T06:44:40.621Z"
   },
   {
    "duration": 11,
    "start_time": "2022-07-31T06:44:40.754Z"
   },
   {
    "duration": 81,
    "start_time": "2022-07-31T06:44:40.767Z"
   },
   {
    "duration": 211,
    "start_time": "2022-07-31T06:44:40.852Z"
   },
   {
    "duration": 13,
    "start_time": "2022-07-31T06:44:41.065Z"
   },
   {
    "duration": 11,
    "start_time": "2022-07-31T06:44:41.080Z"
   },
   {
    "duration": 8,
    "start_time": "2022-07-31T06:44:41.093Z"
   },
   {
    "duration": 4287,
    "start_time": "2022-07-31T06:44:41.103Z"
   },
   {
    "duration": 23,
    "start_time": "2022-07-31T06:44:45.392Z"
   },
   {
    "duration": 34,
    "start_time": "2022-07-31T06:44:45.417Z"
   },
   {
    "duration": 315,
    "start_time": "2022-07-31T06:45:17.156Z"
   },
   {
    "duration": 5,
    "start_time": "2022-07-31T06:45:30.396Z"
   },
   {
    "duration": 7,
    "start_time": "2022-07-31T06:45:48.452Z"
   },
   {
    "duration": 5,
    "start_time": "2022-07-31T06:46:17.125Z"
   },
   {
    "duration": 7,
    "start_time": "2022-07-31T06:46:24.157Z"
   },
   {
    "duration": 5,
    "start_time": "2022-07-31T06:46:45.764Z"
   },
   {
    "duration": 4,
    "start_time": "2022-07-31T06:46:59.789Z"
   },
   {
    "duration": 272,
    "start_time": "2022-07-31T06:48:37.269Z"
   },
   {
    "duration": 71,
    "start_time": "2022-07-31T06:49:06.885Z"
   },
   {
    "duration": 625,
    "start_time": "2022-07-31T06:49:07.424Z"
   },
   {
    "duration": 4,
    "start_time": "2022-07-31T07:12:24.389Z"
   },
   {
    "duration": 7,
    "start_time": "2022-07-31T07:12:24.900Z"
   },
   {
    "duration": 4,
    "start_time": "2022-07-31T07:12:26.483Z"
   },
   {
    "duration": 16,
    "start_time": "2022-07-31T07:12:26.804Z"
   },
   {
    "duration": 18,
    "start_time": "2022-07-31T07:12:27.372Z"
   },
   {
    "duration": 9,
    "start_time": "2022-07-31T07:12:29.339Z"
   },
   {
    "duration": 7833,
    "start_time": "2022-07-31T07:12:29.740Z"
   },
   {
    "duration": 16,
    "start_time": "2022-07-31T07:12:37.575Z"
   },
   {
    "duration": 17,
    "start_time": "2022-07-31T07:12:37.593Z"
   },
   {
    "duration": 39,
    "start_time": "2022-07-31T07:12:37.612Z"
   },
   {
    "duration": 4,
    "start_time": "2022-07-31T07:12:37.653Z"
   },
   {
    "duration": 22,
    "start_time": "2022-07-31T07:12:41.965Z"
   },
   {
    "duration": 35,
    "start_time": "2022-07-31T07:14:16.702Z"
   },
   {
    "duration": 23,
    "start_time": "2022-07-31T07:14:20.247Z"
   },
   {
    "duration": 26,
    "start_time": "2022-07-31T07:14:43.781Z"
   },
   {
    "duration": 203,
    "start_time": "2022-07-31T07:15:37.607Z"
   },
   {
    "duration": 264,
    "start_time": "2022-07-31T07:15:38.703Z"
   },
   {
    "duration": 219,
    "start_time": "2022-07-31T07:16:30.624Z"
   },
   {
    "duration": 16,
    "start_time": "2022-07-31T07:16:51.871Z"
   },
   {
    "duration": 25,
    "start_time": "2022-07-31T07:16:54.792Z"
   },
   {
    "duration": 7,
    "start_time": "2022-07-31T07:16:57.879Z"
   },
   {
    "duration": 23,
    "start_time": "2022-07-31T07:17:01.128Z"
   },
   {
    "duration": 26,
    "start_time": "2022-07-31T07:17:06.039Z"
   },
   {
    "duration": 15,
    "start_time": "2022-07-31T07:17:55.745Z"
   },
   {
    "duration": 21,
    "start_time": "2022-07-31T07:17:58.912Z"
   },
   {
    "duration": 14,
    "start_time": "2022-07-31T07:18:14.064Z"
   },
   {
    "duration": 17,
    "start_time": "2022-07-31T07:18:17.900Z"
   },
   {
    "duration": 36,
    "start_time": "2022-07-31T07:18:18.809Z"
   },
   {
    "duration": 37,
    "start_time": "2022-07-31T07:18:29.123Z"
   },
   {
    "duration": 4,
    "start_time": "2022-07-31T07:18:41.196Z"
   },
   {
    "duration": 99,
    "start_time": "2022-07-31T07:18:48.577Z"
   },
   {
    "duration": 78,
    "start_time": "2022-07-31T07:19:02.283Z"
   },
   {
    "duration": 9,
    "start_time": "2022-07-31T07:20:11.586Z"
   },
   {
    "duration": 4,
    "start_time": "2022-07-31T07:20:12.587Z"
   },
   {
    "duration": 132,
    "start_time": "2022-07-31T07:20:28.611Z"
   },
   {
    "duration": 869,
    "start_time": "2022-07-31T07:20:34.795Z"
   },
   {
    "duration": 3,
    "start_time": "2022-07-31T07:20:39.460Z"
   },
   {
    "duration": 1950,
    "start_time": "2022-07-31T07:20:46.411Z"
   },
   {
    "duration": 9,
    "start_time": "2022-07-31T07:21:23.573Z"
   },
   {
    "duration": 2,
    "start_time": "2022-07-31T07:21:38.621Z"
   },
   {
    "duration": 21,
    "start_time": "2022-07-31T07:21:41.061Z"
   },
   {
    "duration": 34846,
    "start_time": "2022-07-31T07:22:21.621Z"
   },
   {
    "duration": 50,
    "start_time": "2022-07-31T07:25:51.801Z"
   },
   {
    "duration": 49,
    "start_time": "2022-07-31T07:25:58.633Z"
   },
   {
    "duration": 52,
    "start_time": "2022-07-31T07:37:23.374Z"
   },
   {
    "duration": 1648,
    "start_time": "2022-07-31T10:21:22.497Z"
   },
   {
    "duration": 211,
    "start_time": "2022-07-31T10:21:24.147Z"
   },
   {
    "duration": 3,
    "start_time": "2022-07-31T10:21:24.360Z"
   },
   {
    "duration": 91,
    "start_time": "2022-07-31T10:21:24.365Z"
   },
   {
    "duration": 5,
    "start_time": "2022-07-31T10:21:24.458Z"
   },
   {
    "duration": 4774,
    "start_time": "2022-07-31T10:21:24.464Z"
   },
   {
    "duration": 11,
    "start_time": "2022-07-31T10:21:29.240Z"
   },
   {
    "duration": 15,
    "start_time": "2022-07-31T10:21:29.252Z"
   },
   {
    "duration": 12,
    "start_time": "2022-07-31T10:21:29.268Z"
   },
   {
    "duration": 40,
    "start_time": "2022-07-31T10:21:29.282Z"
   },
   {
    "duration": 333,
    "start_time": "2022-07-31T10:21:29.323Z"
   },
   {
    "duration": 138,
    "start_time": "2022-07-31T10:21:29.659Z"
   },
   {
    "duration": 74,
    "start_time": "2022-07-31T10:21:29.799Z"
   },
   {
    "duration": 1147,
    "start_time": "2022-07-31T10:21:29.874Z"
   },
   {
    "duration": 208,
    "start_time": "2022-07-31T10:21:31.023Z"
   },
   {
    "duration": 101,
    "start_time": "2022-07-31T10:21:31.233Z"
   },
   {
    "duration": 830,
    "start_time": "2022-07-31T10:21:31.336Z"
   },
   {
    "duration": 57,
    "start_time": "2022-07-31T10:21:32.168Z"
   },
   {
    "duration": 1250,
    "start_time": "2022-07-31T10:21:32.227Z"
   },
   {
    "duration": 114,
    "start_time": "2022-07-31T10:21:33.479Z"
   },
   {
    "duration": 5,
    "start_time": "2022-07-31T10:21:33.594Z"
   },
   {
    "duration": 71,
    "start_time": "2022-07-31T10:21:33.601Z"
   },
   {
    "duration": 229,
    "start_time": "2022-07-31T10:21:33.674Z"
   },
   {
    "duration": 11,
    "start_time": "2022-07-31T10:21:33.911Z"
   },
   {
    "duration": 15,
    "start_time": "2022-07-31T10:21:33.924Z"
   },
   {
    "duration": 6,
    "start_time": "2022-07-31T10:21:33.941Z"
   },
   {
    "duration": 3643,
    "start_time": "2022-07-31T10:21:33.949Z"
   },
   {
    "duration": 28,
    "start_time": "2022-07-31T10:21:37.596Z"
   },
   {
    "duration": 10,
    "start_time": "2022-07-31T10:21:37.626Z"
   },
   {
    "duration": 359,
    "start_time": "2022-07-31T10:21:37.638Z"
   },
   {
    "duration": 16,
    "start_time": "2022-07-31T10:21:37.999Z"
   },
   {
    "duration": 258,
    "start_time": "2022-07-31T10:21:38.016Z"
   },
   {
    "duration": 84,
    "start_time": "2022-07-31T10:21:38.275Z"
   },
   {
    "duration": 728,
    "start_time": "2022-07-31T10:21:38.361Z"
   },
   {
    "duration": 4,
    "start_time": "2022-07-31T10:21:39.091Z"
   },
   {
    "duration": 13,
    "start_time": "2022-07-31T10:21:39.097Z"
   },
   {
    "duration": 7,
    "start_time": "2022-07-31T10:21:39.118Z"
   },
   {
    "duration": 15,
    "start_time": "2022-07-31T10:21:39.127Z"
   },
   {
    "duration": 14,
    "start_time": "2022-07-31T10:21:39.144Z"
   },
   {
    "duration": 10,
    "start_time": "2022-07-31T10:21:39.160Z"
   },
   {
    "duration": 8477,
    "start_time": "2022-07-31T10:21:39.171Z"
   },
   {
    "duration": 22,
    "start_time": "2022-07-31T10:21:47.650Z"
   },
   {
    "duration": 42,
    "start_time": "2022-07-31T10:21:47.674Z"
   },
   {
    "duration": 26,
    "start_time": "2022-07-31T10:21:47.719Z"
   },
   {
    "duration": 5,
    "start_time": "2022-07-31T10:21:47.747Z"
   },
   {
    "duration": 151,
    "start_time": "2022-07-31T10:21:47.754Z"
   },
   {
    "duration": 0,
    "start_time": "2022-07-31T10:21:47.907Z"
   },
   {
    "duration": 0,
    "start_time": "2022-07-31T10:21:47.908Z"
   },
   {
    "duration": 0,
    "start_time": "2022-07-31T10:21:47.914Z"
   },
   {
    "duration": 0,
    "start_time": "2022-07-31T10:21:47.915Z"
   },
   {
    "duration": 0,
    "start_time": "2022-07-31T10:21:47.916Z"
   },
   {
    "duration": 0,
    "start_time": "2022-07-31T10:21:47.921Z"
   },
   {
    "duration": 0,
    "start_time": "2022-07-31T10:21:47.922Z"
   },
   {
    "duration": 0,
    "start_time": "2022-07-31T10:21:47.922Z"
   },
   {
    "duration": 0,
    "start_time": "2022-07-31T10:21:47.923Z"
   },
   {
    "duration": 0,
    "start_time": "2022-07-31T10:21:47.924Z"
   },
   {
    "duration": 0,
    "start_time": "2022-07-31T10:21:47.926Z"
   },
   {
    "duration": 0,
    "start_time": "2022-07-31T10:21:47.927Z"
   },
   {
    "duration": 0,
    "start_time": "2022-07-31T10:21:47.928Z"
   },
   {
    "duration": 0,
    "start_time": "2022-07-31T10:21:47.929Z"
   },
   {
    "duration": 0,
    "start_time": "2022-07-31T10:21:47.930Z"
   },
   {
    "duration": 40,
    "start_time": "2022-07-31T10:22:46.405Z"
   },
   {
    "duration": 258,
    "start_time": "2022-07-31T10:22:49.753Z"
   },
   {
    "duration": 285,
    "start_time": "2022-07-31T10:22:51.665Z"
   },
   {
    "duration": 21,
    "start_time": "2022-07-31T10:22:52.309Z"
   },
   {
    "duration": 26,
    "start_time": "2022-07-31T10:22:52.497Z"
   },
   {
    "duration": 7,
    "start_time": "2022-07-31T10:22:52.926Z"
   },
   {
    "duration": 20,
    "start_time": "2022-07-31T10:22:53.273Z"
   },
   {
    "duration": 15,
    "start_time": "2022-07-31T10:22:54.785Z"
   },
   {
    "duration": 25,
    "start_time": "2022-07-31T10:22:55.001Z"
   },
   {
    "duration": 12,
    "start_time": "2022-07-31T10:22:55.740Z"
   },
   {
    "duration": 16,
    "start_time": "2022-07-31T10:22:55.942Z"
   },
   {
    "duration": 35,
    "start_time": "2022-07-31T10:22:56.145Z"
   },
   {
    "duration": 8,
    "start_time": "2022-07-31T10:22:56.410Z"
   },
   {
    "duration": 75,
    "start_time": "2022-07-31T10:22:57.222Z"
   },
   {
    "duration": 36,
    "start_time": "2022-07-31T10:22:58.238Z"
   },
   {
    "duration": 7,
    "start_time": "2022-07-31T10:23:18.561Z"
   },
   {
    "duration": 22,
    "start_time": "2022-07-31T10:49:06.698Z"
   },
   {
    "duration": 45,
    "start_time": "2022-07-31T10:49:55.326Z"
   },
   {
    "duration": 1376,
    "start_time": "2022-07-31T10:50:32.600Z"
   },
   {
    "duration": 188,
    "start_time": "2022-07-31T10:50:33.978Z"
   },
   {
    "duration": 5,
    "start_time": "2022-07-31T10:50:34.167Z"
   },
   {
    "duration": 67,
    "start_time": "2022-07-31T10:50:34.173Z"
   },
   {
    "duration": 4,
    "start_time": "2022-07-31T10:50:34.242Z"
   },
   {
    "duration": 4176,
    "start_time": "2022-07-31T10:50:34.248Z"
   },
   {
    "duration": 12,
    "start_time": "2022-07-31T10:50:38.426Z"
   },
   {
    "duration": 15,
    "start_time": "2022-07-31T10:50:38.439Z"
   },
   {
    "duration": 12,
    "start_time": "2022-07-31T10:50:38.455Z"
   },
   {
    "duration": 10,
    "start_time": "2022-07-31T10:50:38.470Z"
   },
   {
    "duration": 327,
    "start_time": "2022-07-31T10:50:38.482Z"
   },
   {
    "duration": 154,
    "start_time": "2022-07-31T10:50:38.811Z"
   },
   {
    "duration": 79,
    "start_time": "2022-07-31T10:50:38.968Z"
   },
   {
    "duration": 1009,
    "start_time": "2022-07-31T10:50:39.049Z"
   },
   {
    "duration": 188,
    "start_time": "2022-07-31T10:50:40.060Z"
   },
   {
    "duration": 97,
    "start_time": "2022-07-31T10:50:40.250Z"
   },
   {
    "duration": 600,
    "start_time": "2022-07-31T10:50:40.349Z"
   },
   {
    "duration": 31,
    "start_time": "2022-07-31T10:50:40.951Z"
   },
   {
    "duration": 1081,
    "start_time": "2022-07-31T10:50:40.984Z"
   },
   {
    "duration": 114,
    "start_time": "2022-07-31T10:50:42.066Z"
   },
   {
    "duration": 5,
    "start_time": "2022-07-31T10:50:42.182Z"
   },
   {
    "duration": 68,
    "start_time": "2022-07-31T10:50:42.188Z"
   },
   {
    "duration": 194,
    "start_time": "2022-07-31T10:50:42.257Z"
   },
   {
    "duration": 9,
    "start_time": "2022-07-31T10:50:42.453Z"
   },
   {
    "duration": 28,
    "start_time": "2022-07-31T10:50:42.463Z"
   },
   {
    "duration": 16,
    "start_time": "2022-07-31T10:50:42.492Z"
   },
   {
    "duration": 3183,
    "start_time": "2022-07-31T10:50:42.509Z"
   },
   {
    "duration": 16,
    "start_time": "2022-07-31T10:50:45.696Z"
   },
   {
    "duration": 262,
    "start_time": "2022-07-31T10:50:45.713Z"
   },
   {
    "duration": 87,
    "start_time": "2022-07-31T10:50:45.977Z"
   },
   {
    "duration": 4,
    "start_time": "2022-07-31T10:50:46.066Z"
   },
   {
    "duration": 227,
    "start_time": "2022-07-31T10:50:46.072Z"
   },
   {
    "duration": 80,
    "start_time": "2022-07-31T10:50:46.301Z"
   },
   {
    "duration": 1137,
    "start_time": "2022-07-31T10:50:46.438Z"
   },
   {
    "duration": 4,
    "start_time": "2022-07-31T10:50:47.577Z"
   },
   {
    "duration": 7,
    "start_time": "2022-07-31T10:50:47.636Z"
   },
   {
    "duration": 4,
    "start_time": "2022-07-31T10:50:47.645Z"
   },
   {
    "duration": 14,
    "start_time": "2022-07-31T10:50:47.650Z"
   },
   {
    "duration": 16,
    "start_time": "2022-07-31T10:50:47.666Z"
   },
   {
    "duration": 64,
    "start_time": "2022-07-31T10:50:47.683Z"
   },
   {
    "duration": 8317,
    "start_time": "2022-07-31T10:50:47.749Z"
   },
   {
    "duration": 16,
    "start_time": "2022-07-31T10:50:56.068Z"
   },
   {
    "duration": 29,
    "start_time": "2022-07-31T10:50:56.085Z"
   },
   {
    "duration": 38,
    "start_time": "2022-07-31T10:50:56.115Z"
   },
   {
    "duration": 5,
    "start_time": "2022-07-31T10:50:56.155Z"
   },
   {
    "duration": 23,
    "start_time": "2022-07-31T10:50:56.162Z"
   },
   {
    "duration": 32,
    "start_time": "2022-07-31T10:50:56.187Z"
   },
   {
    "duration": 242,
    "start_time": "2022-07-31T10:50:56.221Z"
   },
   {
    "duration": 215,
    "start_time": "2022-07-31T10:50:56.464Z"
   },
   {
    "duration": 13,
    "start_time": "2022-07-31T10:50:56.680Z"
   },
   {
    "duration": 20,
    "start_time": "2022-07-31T10:50:56.695Z"
   },
   {
    "duration": 25,
    "start_time": "2022-07-31T10:50:56.716Z"
   },
   {
    "duration": 19,
    "start_time": "2022-07-31T10:50:56.743Z"
   },
   {
    "duration": 15,
    "start_time": "2022-07-31T10:50:56.764Z"
   },
   {
    "duration": 21,
    "start_time": "2022-07-31T10:50:56.781Z"
   },
   {
    "duration": 44,
    "start_time": "2022-07-31T10:50:56.803Z"
   },
   {
    "duration": 17,
    "start_time": "2022-07-31T10:50:56.848Z"
   },
   {
    "duration": 33,
    "start_time": "2022-07-31T10:50:56.866Z"
   },
   {
    "duration": 4,
    "start_time": "2022-07-31T10:50:56.901Z"
   },
   {
    "duration": 97,
    "start_time": "2022-07-31T10:50:56.906Z"
   },
   {
    "duration": 6,
    "start_time": "2022-07-31T10:50:57.005Z"
   },
   {
    "duration": 7,
    "start_time": "2022-07-31T10:50:57.012Z"
   },
   {
    "duration": 224,
    "start_time": "2022-07-31T10:50:57.020Z"
   },
   {
    "duration": 1071,
    "start_time": "2022-07-31T10:50:57.246Z"
   },
   {
    "duration": 3,
    "start_time": "2022-07-31T10:50:58.319Z"
   },
   {
    "duration": 2013,
    "start_time": "2022-07-31T10:50:58.324Z"
   },
   {
    "duration": 3,
    "start_time": "2022-07-31T10:51:00.339Z"
   },
   {
    "duration": 34535,
    "start_time": "2022-07-31T10:51:00.343Z"
   },
   {
    "duration": 93,
    "start_time": "2022-07-31T10:51:34.879Z"
   },
   {
    "duration": 1806,
    "start_time": "2022-07-31T13:10:45.444Z"
   },
   {
    "duration": 980,
    "start_time": "2022-07-31T13:10:47.252Z"
   },
   {
    "duration": 4,
    "start_time": "2022-07-31T13:10:48.234Z"
   },
   {
    "duration": 87,
    "start_time": "2022-07-31T13:10:48.240Z"
   },
   {
    "duration": 4,
    "start_time": "2022-07-31T13:10:48.329Z"
   },
   {
    "duration": 4813,
    "start_time": "2022-07-31T13:10:48.335Z"
   },
   {
    "duration": 10,
    "start_time": "2022-07-31T13:10:53.150Z"
   },
   {
    "duration": 13,
    "start_time": "2022-07-31T13:10:53.161Z"
   },
   {
    "duration": 7,
    "start_time": "2022-07-31T13:10:53.176Z"
   },
   {
    "duration": 17,
    "start_time": "2022-07-31T13:10:53.205Z"
   },
   {
    "duration": 371,
    "start_time": "2022-07-31T13:10:53.224Z"
   },
   {
    "duration": 136,
    "start_time": "2022-07-31T13:10:53.597Z"
   },
   {
    "duration": 60,
    "start_time": "2022-07-31T13:10:53.734Z"
   },
   {
    "duration": 1071,
    "start_time": "2022-07-31T13:10:53.806Z"
   },
   {
    "duration": 195,
    "start_time": "2022-07-31T13:10:54.879Z"
   },
   {
    "duration": 108,
    "start_time": "2022-07-31T13:10:55.076Z"
   },
   {
    "duration": 780,
    "start_time": "2022-07-31T13:10:55.187Z"
   },
   {
    "duration": 58,
    "start_time": "2022-07-31T13:10:55.969Z"
   },
   {
    "duration": 1341,
    "start_time": "2022-07-31T13:10:56.029Z"
   },
   {
    "duration": 148,
    "start_time": "2022-07-31T13:10:57.372Z"
   },
   {
    "duration": 6,
    "start_time": "2022-07-31T13:10:57.522Z"
   },
   {
    "duration": 110,
    "start_time": "2022-07-31T13:10:57.530Z"
   },
   {
    "duration": 221,
    "start_time": "2022-07-31T13:10:57.641Z"
   },
   {
    "duration": 10,
    "start_time": "2022-07-31T13:10:57.864Z"
   },
   {
    "duration": 31,
    "start_time": "2022-07-31T13:10:57.876Z"
   },
   {
    "duration": 21,
    "start_time": "2022-07-31T13:10:57.910Z"
   },
   {
    "duration": 3693,
    "start_time": "2022-07-31T13:10:57.933Z"
   },
   {
    "duration": 19,
    "start_time": "2022-07-31T13:11:01.630Z"
   },
   {
    "duration": 12,
    "start_time": "2022-07-31T13:11:01.650Z"
   },
   {
    "duration": 416,
    "start_time": "2022-07-31T13:11:01.664Z"
   },
   {
    "duration": 5,
    "start_time": "2022-07-31T13:11:02.082Z"
   },
   {
    "duration": 305,
    "start_time": "2022-07-31T13:11:02.090Z"
   },
   {
    "duration": 77,
    "start_time": "2022-07-31T13:11:02.397Z"
   },
   {
    "duration": 683,
    "start_time": "2022-07-31T13:11:02.476Z"
   },
   {
    "duration": 5,
    "start_time": "2022-07-31T13:11:03.161Z"
   },
   {
    "duration": 139,
    "start_time": "2022-07-31T13:11:03.167Z"
   },
   {
    "duration": 76,
    "start_time": "2022-07-31T13:11:03.310Z"
   },
   {
    "duration": 84,
    "start_time": "2022-07-31T13:11:03.388Z"
   },
   {
    "duration": 61,
    "start_time": "2022-07-31T13:11:03.473Z"
   },
   {
    "duration": 52,
    "start_time": "2022-07-31T13:11:03.536Z"
   },
   {
    "duration": 8834,
    "start_time": "2022-07-31T13:11:03.590Z"
   },
   {
    "duration": 28,
    "start_time": "2022-07-31T13:11:12.427Z"
   },
   {
    "duration": 22,
    "start_time": "2022-07-31T13:11:12.456Z"
   },
   {
    "duration": 49,
    "start_time": "2022-07-31T13:11:12.479Z"
   },
   {
    "duration": 5,
    "start_time": "2022-07-31T13:11:12.530Z"
   },
   {
    "duration": 45,
    "start_time": "2022-07-31T13:11:12.538Z"
   },
   {
    "duration": 51,
    "start_time": "2022-07-31T13:11:12.585Z"
   },
   {
    "duration": 225,
    "start_time": "2022-07-31T13:11:12.638Z"
   },
   {
    "duration": 228,
    "start_time": "2022-07-31T13:11:12.865Z"
   },
   {
    "duration": 19,
    "start_time": "2022-07-31T13:11:13.107Z"
   },
   {
    "duration": 21,
    "start_time": "2022-07-31T13:11:13.128Z"
   },
   {
    "duration": 6,
    "start_time": "2022-07-31T13:11:13.151Z"
   },
   {
    "duration": 21,
    "start_time": "2022-07-31T13:11:13.159Z"
   },
   {
    "duration": 41,
    "start_time": "2022-07-31T13:11:13.181Z"
   },
   {
    "duration": 22,
    "start_time": "2022-07-31T13:11:13.225Z"
   },
   {
    "duration": 12,
    "start_time": "2022-07-31T13:11:13.248Z"
   },
   {
    "duration": 44,
    "start_time": "2022-07-31T13:11:13.262Z"
   },
   {
    "duration": 54,
    "start_time": "2022-07-31T13:11:13.307Z"
   },
   {
    "duration": 4,
    "start_time": "2022-07-31T13:11:13.364Z"
   },
   {
    "duration": 91,
    "start_time": "2022-07-31T13:11:13.369Z"
   },
   {
    "duration": 6,
    "start_time": "2022-07-31T13:11:13.462Z"
   },
   {
    "duration": 14,
    "start_time": "2022-07-31T13:11:13.470Z"
   },
   {
    "duration": 38181,
    "start_time": "2022-07-31T13:13:23.168Z"
   },
   {
    "duration": 165942,
    "start_time": "2022-07-31T13:15:17.242Z"
   },
   {
    "duration": 124,
    "start_time": "2022-07-31T13:20:13.224Z"
   },
   {
    "duration": 5,
    "start_time": "2022-07-31T13:20:28.872Z"
   },
   {
    "duration": 5,
    "start_time": "2022-07-31T13:21:23.048Z"
   },
   {
    "duration": 111,
    "start_time": "2022-07-31T13:42:57.740Z"
   },
   {
    "duration": 5,
    "start_time": "2022-07-31T13:43:29.344Z"
   },
   {
    "duration": 14,
    "start_time": "2022-07-31T13:43:34.457Z"
   },
   {
    "duration": 41958,
    "start_time": "2022-07-31T13:44:03.620Z"
   },
   {
    "duration": 15389,
    "start_time": "2022-07-31T13:46:09.468Z"
   },
   {
    "duration": 5,
    "start_time": "2022-07-31T13:47:46.224Z"
   },
   {
    "duration": 41973,
    "start_time": "2022-07-31T13:48:08.577Z"
   },
   {
    "duration": 64,
    "start_time": "2022-07-31T13:48:50.553Z"
   },
   {
    "duration": 1465,
    "start_time": "2022-07-31T14:08:05.879Z"
   },
   {
    "duration": 1369,
    "start_time": "2022-07-31T14:08:24.155Z"
   },
   {
    "duration": 1432,
    "start_time": "2022-07-31T14:08:35.760Z"
   },
   {
    "duration": 1819,
    "start_time": "2022-07-31T14:09:26.482Z"
   },
   {
    "duration": 13,
    "start_time": "2022-07-31T14:09:49.582Z"
   },
   {
    "duration": 1478,
    "start_time": "2022-07-31T14:10:18.640Z"
   },
   {
    "duration": 1824,
    "start_time": "2022-07-31T14:11:02.052Z"
   },
   {
    "duration": 1774,
    "start_time": "2022-07-31T14:11:14.448Z"
   },
   {
    "duration": 50161,
    "start_time": "2022-07-31T14:11:27.888Z"
   },
   {
    "duration": 10,
    "start_time": "2022-07-31T14:14:29.019Z"
   },
   {
    "duration": 10,
    "start_time": "2022-07-31T14:14:37.620Z"
   },
   {
    "duration": 8,
    "start_time": "2022-07-31T14:15:27.195Z"
   },
   {
    "duration": 12,
    "start_time": "2022-07-31T14:15:42.571Z"
   },
   {
    "duration": 17,
    "start_time": "2022-07-31T14:16:46.767Z"
   },
   {
    "duration": 11,
    "start_time": "2022-07-31T14:16:54.231Z"
   },
   {
    "duration": 11,
    "start_time": "2022-07-31T14:17:03.791Z"
   },
   {
    "duration": 13,
    "start_time": "2022-07-31T14:19:11.255Z"
   },
   {
    "duration": 6,
    "start_time": "2022-07-31T14:19:44.990Z"
   },
   {
    "duration": 1718,
    "start_time": "2022-07-31T15:16:20.916Z"
   },
   {
    "duration": 780,
    "start_time": "2022-07-31T15:16:22.636Z"
   },
   {
    "duration": 8,
    "start_time": "2022-07-31T15:16:23.418Z"
   },
   {
    "duration": 88,
    "start_time": "2022-07-31T15:16:23.429Z"
   },
   {
    "duration": 6,
    "start_time": "2022-07-31T15:16:23.520Z"
   },
   {
    "duration": 4512,
    "start_time": "2022-07-31T15:16:23.527Z"
   },
   {
    "duration": 14,
    "start_time": "2022-07-31T15:16:28.043Z"
   },
   {
    "duration": 72,
    "start_time": "2022-07-31T15:16:28.059Z"
   },
   {
    "duration": 21,
    "start_time": "2022-07-31T15:16:28.133Z"
   },
   {
    "duration": 32,
    "start_time": "2022-07-31T15:16:28.155Z"
   },
   {
    "duration": 401,
    "start_time": "2022-07-31T15:16:28.188Z"
   },
   {
    "duration": 157,
    "start_time": "2022-07-31T15:16:28.591Z"
   },
   {
    "duration": 81,
    "start_time": "2022-07-31T15:16:28.751Z"
   },
   {
    "duration": 1224,
    "start_time": "2022-07-31T15:16:28.836Z"
   },
   {
    "duration": 186,
    "start_time": "2022-07-31T15:16:30.061Z"
   },
   {
    "duration": 104,
    "start_time": "2022-07-31T15:16:30.249Z"
   },
   {
    "duration": 713,
    "start_time": "2022-07-31T15:16:30.355Z"
   },
   {
    "duration": 62,
    "start_time": "2022-07-31T15:16:31.069Z"
   },
   {
    "duration": 1310,
    "start_time": "2022-07-31T15:16:31.134Z"
   },
   {
    "duration": 111,
    "start_time": "2022-07-31T15:16:32.446Z"
   },
   {
    "duration": 6,
    "start_time": "2022-07-31T15:16:32.559Z"
   },
   {
    "duration": 78,
    "start_time": "2022-07-31T15:16:32.580Z"
   },
   {
    "duration": 203,
    "start_time": "2022-07-31T15:16:32.660Z"
   },
   {
    "duration": 13,
    "start_time": "2022-07-31T15:16:32.865Z"
   },
   {
    "duration": 37,
    "start_time": "2022-07-31T15:16:32.880Z"
   },
   {
    "duration": 37,
    "start_time": "2022-07-31T15:16:32.919Z"
   },
   {
    "duration": 3651,
    "start_time": "2022-07-31T15:16:32.958Z"
   },
   {
    "duration": 33,
    "start_time": "2022-07-31T15:16:36.610Z"
   },
   {
    "duration": 12,
    "start_time": "2022-07-31T15:16:36.645Z"
   },
   {
    "duration": 390,
    "start_time": "2022-07-31T15:16:36.659Z"
   },
   {
    "duration": 5,
    "start_time": "2022-07-31T15:16:37.050Z"
   },
   {
    "duration": 304,
    "start_time": "2022-07-31T15:16:37.056Z"
   },
   {
    "duration": 71,
    "start_time": "2022-07-31T15:16:37.362Z"
   },
   {
    "duration": 721,
    "start_time": "2022-07-31T15:16:37.435Z"
   },
   {
    "duration": 4,
    "start_time": "2022-07-31T15:16:38.158Z"
   },
   {
    "duration": 21,
    "start_time": "2022-07-31T15:16:38.163Z"
   },
   {
    "duration": 40,
    "start_time": "2022-07-31T15:16:38.189Z"
   },
   {
    "duration": 13,
    "start_time": "2022-07-31T15:16:38.231Z"
   },
   {
    "duration": 12,
    "start_time": "2022-07-31T15:16:38.246Z"
   },
   {
    "duration": 9,
    "start_time": "2022-07-31T15:16:38.260Z"
   },
   {
    "duration": 8576,
    "start_time": "2022-07-31T15:16:38.274Z"
   },
   {
    "duration": 33,
    "start_time": "2022-07-31T15:16:46.852Z"
   },
   {
    "duration": 67,
    "start_time": "2022-07-31T15:16:46.890Z"
   },
   {
    "duration": 25,
    "start_time": "2022-07-31T15:16:46.959Z"
   },
   {
    "duration": 6,
    "start_time": "2022-07-31T15:16:46.986Z"
   },
   {
    "duration": 79,
    "start_time": "2022-07-31T15:16:46.994Z"
   },
   {
    "duration": 56,
    "start_time": "2022-07-31T15:16:47.081Z"
   },
   {
    "duration": 221,
    "start_time": "2022-07-31T15:16:47.139Z"
   },
   {
    "duration": 192,
    "start_time": "2022-07-31T15:16:47.362Z"
   },
   {
    "duration": 40,
    "start_time": "2022-07-31T15:16:47.556Z"
   },
   {
    "duration": 25,
    "start_time": "2022-07-31T15:16:47.606Z"
   },
   {
    "duration": 6,
    "start_time": "2022-07-31T15:16:47.632Z"
   },
   {
    "duration": 19,
    "start_time": "2022-07-31T15:16:47.639Z"
   },
   {
    "duration": 13,
    "start_time": "2022-07-31T15:16:47.659Z"
   },
   {
    "duration": 61,
    "start_time": "2022-07-31T15:16:47.685Z"
   },
   {
    "duration": 14,
    "start_time": "2022-07-31T15:16:47.748Z"
   },
   {
    "duration": 19,
    "start_time": "2022-07-31T15:16:47.764Z"
   },
   {
    "duration": 72,
    "start_time": "2022-07-31T15:16:47.786Z"
   },
   {
    "duration": 4,
    "start_time": "2022-07-31T15:16:47.859Z"
   },
   {
    "duration": 119,
    "start_time": "2022-07-31T15:16:47.865Z"
   },
   {
    "duration": 8,
    "start_time": "2022-07-31T15:16:47.986Z"
   },
   {
    "duration": 54,
    "start_time": "2022-07-31T15:16:47.995Z"
   },
   {
    "duration": 347,
    "start_time": "2022-07-31T15:16:48.051Z"
   },
   {
    "duration": 960,
    "start_time": "2022-07-31T15:16:48.402Z"
   },
   {
    "duration": 3,
    "start_time": "2022-07-31T15:16:49.364Z"
   },
   {
    "duration": 86,
    "start_time": "2022-07-31T15:17:08.967Z"
   },
   {
    "duration": 141,
    "start_time": "2022-07-31T15:17:19.103Z"
   },
   {
    "duration": 1744,
    "start_time": "2022-07-31T15:18:03.912Z"
   },
   {
    "duration": 14,
    "start_time": "2022-07-31T15:19:57.256Z"
   },
   {
    "duration": 13,
    "start_time": "2022-07-31T15:22:17.535Z"
   },
   {
    "duration": 8,
    "start_time": "2022-07-31T15:23:49.511Z"
   },
   {
    "duration": 125487,
    "start_time": "2022-07-31T15:23:56.155Z"
   },
   {
    "duration": 699,
    "start_time": "2022-07-31T15:30:02.969Z"
   },
   {
    "duration": 114817,
    "start_time": "2022-07-31T15:30:24.495Z"
   },
   {
    "duration": 116918,
    "start_time": "2022-07-31T15:32:47.738Z"
   },
   {
    "duration": 58102,
    "start_time": "2022-07-31T15:34:54.756Z"
   },
   {
    "duration": 113110,
    "start_time": "2022-07-31T15:36:42.350Z"
   },
   {
    "duration": 1486,
    "start_time": "2022-07-31T15:45:16.169Z"
   },
   {
    "duration": 248,
    "start_time": "2022-07-31T15:45:17.656Z"
   },
   {
    "duration": 4,
    "start_time": "2022-07-31T15:45:17.906Z"
   },
   {
    "duration": 68,
    "start_time": "2022-07-31T15:45:17.912Z"
   },
   {
    "duration": 5,
    "start_time": "2022-07-31T15:45:17.981Z"
   },
   {
    "duration": 4438,
    "start_time": "2022-07-31T15:45:17.988Z"
   },
   {
    "duration": 11,
    "start_time": "2022-07-31T15:45:22.427Z"
   },
   {
    "duration": 83,
    "start_time": "2022-07-31T15:45:22.439Z"
   },
   {
    "duration": 55,
    "start_time": "2022-07-31T15:45:22.524Z"
   },
   {
    "duration": 68,
    "start_time": "2022-07-31T15:45:22.582Z"
   },
   {
    "duration": 441,
    "start_time": "2022-07-31T15:45:22.652Z"
   },
   {
    "duration": 146,
    "start_time": "2022-07-31T15:45:23.100Z"
   },
   {
    "duration": 65,
    "start_time": "2022-07-31T15:45:23.248Z"
   },
   {
    "duration": 963,
    "start_time": "2022-07-31T15:45:23.322Z"
   },
   {
    "duration": 220,
    "start_time": "2022-07-31T15:45:24.292Z"
   },
   {
    "duration": 80,
    "start_time": "2022-07-31T15:45:24.521Z"
   },
   {
    "duration": 650,
    "start_time": "2022-07-31T15:45:24.606Z"
   },
   {
    "duration": 34,
    "start_time": "2022-07-31T15:45:25.257Z"
   },
   {
    "duration": 1152,
    "start_time": "2022-07-31T15:45:25.292Z"
   },
   {
    "duration": 115,
    "start_time": "2022-07-31T15:45:26.446Z"
   },
   {
    "duration": 5,
    "start_time": "2022-07-31T15:45:26.563Z"
   },
   {
    "duration": 112,
    "start_time": "2022-07-31T15:45:26.573Z"
   },
   {
    "duration": 198,
    "start_time": "2022-07-31T15:45:26.688Z"
   },
   {
    "duration": 9,
    "start_time": "2022-07-31T15:45:26.887Z"
   },
   {
    "duration": 73,
    "start_time": "2022-07-31T15:45:26.898Z"
   },
   {
    "duration": 64,
    "start_time": "2022-07-31T15:45:26.973Z"
   },
   {
    "duration": 3304,
    "start_time": "2022-07-31T15:45:27.038Z"
   },
   {
    "duration": 15,
    "start_time": "2022-07-31T15:45:30.346Z"
   },
   {
    "duration": 51,
    "start_time": "2022-07-31T15:45:30.363Z"
   },
   {
    "duration": 417,
    "start_time": "2022-07-31T15:45:30.416Z"
   },
   {
    "duration": 4,
    "start_time": "2022-07-31T15:45:30.834Z"
   },
   {
    "duration": 242,
    "start_time": "2022-07-31T15:45:30.839Z"
   },
   {
    "duration": 66,
    "start_time": "2022-07-31T15:45:31.083Z"
   },
   {
    "duration": 698,
    "start_time": "2022-07-31T15:45:31.151Z"
   },
   {
    "duration": 4,
    "start_time": "2022-07-31T15:45:31.850Z"
   },
   {
    "duration": 79,
    "start_time": "2022-07-31T15:45:31.855Z"
   },
   {
    "duration": 14,
    "start_time": "2022-07-31T15:45:31.936Z"
   },
   {
    "duration": 63,
    "start_time": "2022-07-31T15:45:31.952Z"
   },
   {
    "duration": 29,
    "start_time": "2022-07-31T15:45:32.016Z"
   },
   {
    "duration": 41,
    "start_time": "2022-07-31T15:45:32.046Z"
   },
   {
    "duration": 8284,
    "start_time": "2022-07-31T15:45:32.088Z"
   },
   {
    "duration": 22,
    "start_time": "2022-07-31T15:45:40.378Z"
   },
   {
    "duration": 39,
    "start_time": "2022-07-31T15:45:40.402Z"
   },
   {
    "duration": 18,
    "start_time": "2022-07-31T15:45:40.443Z"
   },
   {
    "duration": 4,
    "start_time": "2022-07-31T15:45:40.462Z"
   },
   {
    "duration": 44,
    "start_time": "2022-07-31T15:45:40.467Z"
   },
   {
    "duration": 31,
    "start_time": "2022-07-31T15:45:40.512Z"
   },
   {
    "duration": 228,
    "start_time": "2022-07-31T15:45:40.544Z"
   },
   {
    "duration": 213,
    "start_time": "2022-07-31T15:45:40.774Z"
   },
   {
    "duration": 14,
    "start_time": "2022-07-31T15:45:40.988Z"
   },
   {
    "duration": 47,
    "start_time": "2022-07-31T15:45:41.003Z"
   },
   {
    "duration": 8,
    "start_time": "2022-07-31T15:45:41.052Z"
   },
   {
    "duration": 72,
    "start_time": "2022-07-31T15:45:41.061Z"
   },
   {
    "duration": 14,
    "start_time": "2022-07-31T15:45:41.134Z"
   },
   {
    "duration": 16,
    "start_time": "2022-07-31T15:45:41.149Z"
   },
   {
    "duration": 26,
    "start_time": "2022-07-31T15:45:41.166Z"
   },
   {
    "duration": 37,
    "start_time": "2022-07-31T15:45:41.198Z"
   },
   {
    "duration": 30,
    "start_time": "2022-07-31T15:45:41.236Z"
   },
   {
    "duration": 3,
    "start_time": "2022-07-31T15:45:41.268Z"
   },
   {
    "duration": 122,
    "start_time": "2022-07-31T15:45:41.274Z"
   },
   {
    "duration": 9,
    "start_time": "2022-07-31T15:45:41.404Z"
   },
   {
    "duration": 18,
    "start_time": "2022-07-31T15:45:41.417Z"
   },
   {
    "duration": 572,
    "start_time": "2022-07-31T15:45:41.437Z"
   },
   {
    "duration": 1006,
    "start_time": "2022-07-31T15:45:42.011Z"
   },
   {
    "duration": 4,
    "start_time": "2022-07-31T15:45:43.022Z"
   },
   {
    "duration": 1918,
    "start_time": "2022-07-31T15:45:43.028Z"
   },
   {
    "duration": 3,
    "start_time": "2022-07-31T15:45:44.948Z"
   },
   {
    "duration": 141,
    "start_time": "2022-07-31T15:49:15.746Z"
   },
   {
    "duration": 17,
    "start_time": "2022-07-31T15:49:34.532Z"
   },
   {
    "duration": 15,
    "start_time": "2022-07-31T15:50:55.749Z"
   },
   {
    "duration": 26,
    "start_time": "2022-07-31T15:51:40.094Z"
   },
   {
    "duration": 316219,
    "start_time": "2022-07-31T15:51:54.439Z"
   },
   {
    "duration": 1562,
    "start_time": "2022-07-31T15:58:32.950Z"
   },
   {
    "duration": 242,
    "start_time": "2022-07-31T15:58:34.515Z"
   },
   {
    "duration": 5,
    "start_time": "2022-07-31T15:58:34.758Z"
   },
   {
    "duration": 93,
    "start_time": "2022-07-31T15:58:34.765Z"
   },
   {
    "duration": 4,
    "start_time": "2022-07-31T15:58:34.860Z"
   },
   {
    "duration": 4778,
    "start_time": "2022-07-31T15:58:34.865Z"
   },
   {
    "duration": 9,
    "start_time": "2022-07-31T15:58:39.645Z"
   },
   {
    "duration": 25,
    "start_time": "2022-07-31T15:58:39.655Z"
   },
   {
    "duration": 54,
    "start_time": "2022-07-31T15:58:39.681Z"
   },
   {
    "duration": 11,
    "start_time": "2022-07-31T15:58:39.737Z"
   },
   {
    "duration": 412,
    "start_time": "2022-07-31T15:58:39.749Z"
   },
   {
    "duration": 161,
    "start_time": "2022-07-31T15:58:40.163Z"
   },
   {
    "duration": 74,
    "start_time": "2022-07-31T15:58:40.326Z"
   },
   {
    "duration": 1035,
    "start_time": "2022-07-31T15:58:40.403Z"
   },
   {
    "duration": 206,
    "start_time": "2022-07-31T15:58:41.440Z"
   },
   {
    "duration": 101,
    "start_time": "2022-07-31T15:58:41.648Z"
   },
   {
    "duration": 737,
    "start_time": "2022-07-31T15:58:41.751Z"
   },
   {
    "duration": 41,
    "start_time": "2022-07-31T15:58:42.495Z"
   },
   {
    "duration": 1182,
    "start_time": "2022-07-31T15:58:42.538Z"
   },
   {
    "duration": 105,
    "start_time": "2022-07-31T15:58:43.722Z"
   },
   {
    "duration": 5,
    "start_time": "2022-07-31T15:58:43.829Z"
   },
   {
    "duration": 92,
    "start_time": "2022-07-31T15:58:43.836Z"
   },
   {
    "duration": 215,
    "start_time": "2022-07-31T15:58:43.932Z"
   },
   {
    "duration": 11,
    "start_time": "2022-07-31T15:58:44.151Z"
   },
   {
    "duration": 34,
    "start_time": "2022-07-31T15:58:44.164Z"
   },
   {
    "duration": 41,
    "start_time": "2022-07-31T15:58:44.206Z"
   },
   {
    "duration": 3644,
    "start_time": "2022-07-31T15:58:44.249Z"
   },
   {
    "duration": 21,
    "start_time": "2022-07-31T15:58:47.895Z"
   },
   {
    "duration": 28,
    "start_time": "2022-07-31T15:58:47.918Z"
   },
   {
    "duration": 395,
    "start_time": "2022-07-31T15:58:47.947Z"
   },
   {
    "duration": 4,
    "start_time": "2022-07-31T15:58:48.344Z"
   },
   {
    "duration": 251,
    "start_time": "2022-07-31T15:58:48.350Z"
   },
   {
    "duration": 56,
    "start_time": "2022-07-31T15:58:48.603Z"
   },
   {
    "duration": 769,
    "start_time": "2022-07-31T15:58:48.661Z"
   },
   {
    "duration": 7,
    "start_time": "2022-07-31T15:58:49.431Z"
   },
   {
    "duration": 9,
    "start_time": "2022-07-31T15:58:49.439Z"
   },
   {
    "duration": 4,
    "start_time": "2022-07-31T15:58:49.450Z"
   },
   {
    "duration": 20,
    "start_time": "2022-07-31T15:58:49.455Z"
   },
   {
    "duration": 24,
    "start_time": "2022-07-31T15:58:49.478Z"
   },
   {
    "duration": 27,
    "start_time": "2022-07-31T15:58:49.509Z"
   },
   {
    "duration": 9140,
    "start_time": "2022-07-31T15:58:49.539Z"
   },
   {
    "duration": 22,
    "start_time": "2022-07-31T15:58:58.680Z"
   },
   {
    "duration": 41,
    "start_time": "2022-07-31T15:58:58.707Z"
   },
   {
    "duration": 39,
    "start_time": "2022-07-31T15:58:58.750Z"
   },
   {
    "duration": 13,
    "start_time": "2022-07-31T15:58:58.794Z"
   },
   {
    "duration": 35,
    "start_time": "2022-07-31T15:58:58.815Z"
   },
   {
    "duration": 21,
    "start_time": "2022-07-31T15:58:58.852Z"
   },
   {
    "duration": 222,
    "start_time": "2022-07-31T15:58:58.883Z"
   },
   {
    "duration": 215,
    "start_time": "2022-07-31T15:58:59.107Z"
   },
   {
    "duration": 15,
    "start_time": "2022-07-31T15:58:59.323Z"
   },
   {
    "duration": 23,
    "start_time": "2022-07-31T15:58:59.340Z"
   },
   {
    "duration": 9,
    "start_time": "2022-07-31T15:58:59.374Z"
   },
   {
    "duration": 65,
    "start_time": "2022-07-31T15:58:59.385Z"
   },
   {
    "duration": 17,
    "start_time": "2022-07-31T15:58:59.451Z"
   },
   {
    "duration": 32,
    "start_time": "2022-07-31T15:58:59.470Z"
   },
   {
    "duration": 34,
    "start_time": "2022-07-31T15:58:59.511Z"
   },
   {
    "duration": 22,
    "start_time": "2022-07-31T15:58:59.547Z"
   },
   {
    "duration": 55,
    "start_time": "2022-07-31T15:58:59.570Z"
   },
   {
    "duration": 10,
    "start_time": "2022-07-31T15:58:59.630Z"
   },
   {
    "duration": 74,
    "start_time": "2022-07-31T15:58:59.641Z"
   },
   {
    "duration": 134,
    "start_time": "2022-07-31T15:59:36.696Z"
   },
   {
    "duration": 11,
    "start_time": "2022-07-31T15:59:45.517Z"
   },
   {
    "duration": 6,
    "start_time": "2022-07-31T15:59:46.103Z"
   },
   {
    "duration": 113,
    "start_time": "2022-07-31T15:59:58.663Z"
   },
   {
    "duration": 282464,
    "start_time": "2022-07-31T16:00:07.159Z"
   },
   {
    "duration": 22,
    "start_time": "2022-07-31T16:05:05.144Z"
   },
   {
    "duration": 19,
    "start_time": "2022-07-31T16:05:16.800Z"
   },
   {
    "duration": 29,
    "start_time": "2022-07-31T16:05:19.396Z"
   },
   {
    "duration": 51,
    "start_time": "2022-07-31T16:05:19.877Z"
   },
   {
    "duration": 273093,
    "start_time": "2022-07-31T16:08:43.712Z"
   },
   {
    "duration": 110330,
    "start_time": "2022-07-31T16:17:17.514Z"
   },
   {
    "duration": 102547,
    "start_time": "2022-07-31T16:21:14.566Z"
   },
   {
    "duration": 34333,
    "start_time": "2022-07-31T16:25:37.201Z"
   },
   {
    "duration": 78,
    "start_time": "2022-07-31T16:29:19.854Z"
   },
   {
    "duration": 14,
    "start_time": "2022-07-31T16:29:37.498Z"
   },
   {
    "duration": 1454,
    "start_time": "2022-07-31T16:31:50.978Z"
   },
   {
    "duration": 215,
    "start_time": "2022-07-31T16:31:52.434Z"
   },
   {
    "duration": 3,
    "start_time": "2022-07-31T16:31:52.651Z"
   },
   {
    "duration": 78,
    "start_time": "2022-07-31T16:31:52.655Z"
   },
   {
    "duration": 4,
    "start_time": "2022-07-31T16:31:52.735Z"
   },
   {
    "duration": 4231,
    "start_time": "2022-07-31T16:31:52.740Z"
   },
   {
    "duration": 10,
    "start_time": "2022-07-31T16:31:56.978Z"
   },
   {
    "duration": 33,
    "start_time": "2022-07-31T16:31:56.989Z"
   },
   {
    "duration": 9,
    "start_time": "2022-07-31T16:31:57.024Z"
   },
   {
    "duration": 9,
    "start_time": "2022-07-31T16:31:57.034Z"
   },
   {
    "duration": 378,
    "start_time": "2022-07-31T16:31:57.044Z"
   },
   {
    "duration": 115,
    "start_time": "2022-07-31T16:31:57.424Z"
   },
   {
    "duration": 78,
    "start_time": "2022-07-31T16:31:57.541Z"
   },
   {
    "duration": 938,
    "start_time": "2022-07-31T16:31:57.622Z"
   },
   {
    "duration": 176,
    "start_time": "2022-07-31T16:31:58.561Z"
   },
   {
    "duration": 89,
    "start_time": "2022-07-31T16:31:58.739Z"
   },
   {
    "duration": 639,
    "start_time": "2022-07-31T16:31:58.830Z"
   },
   {
    "duration": 46,
    "start_time": "2022-07-31T16:31:59.470Z"
   },
   {
    "duration": 1127,
    "start_time": "2022-07-31T16:31:59.518Z"
   },
   {
    "duration": 116,
    "start_time": "2022-07-31T16:32:00.647Z"
   },
   {
    "duration": 15,
    "start_time": "2022-07-31T16:32:00.765Z"
   },
   {
    "duration": 79,
    "start_time": "2022-07-31T16:32:00.784Z"
   },
   {
    "duration": 190,
    "start_time": "2022-07-31T16:32:00.864Z"
   },
   {
    "duration": 8,
    "start_time": "2022-07-31T16:32:01.055Z"
   },
   {
    "duration": 53,
    "start_time": "2022-07-31T16:32:01.065Z"
   },
   {
    "duration": 10,
    "start_time": "2022-07-31T16:32:01.120Z"
   },
   {
    "duration": 3234,
    "start_time": "2022-07-31T16:32:01.132Z"
   },
   {
    "duration": 25,
    "start_time": "2022-07-31T16:32:04.373Z"
   },
   {
    "duration": 26,
    "start_time": "2022-07-31T16:32:04.399Z"
   },
   {
    "duration": 369,
    "start_time": "2022-07-31T16:32:04.427Z"
   },
   {
    "duration": 7,
    "start_time": "2022-07-31T16:32:04.797Z"
   },
   {
    "duration": 243,
    "start_time": "2022-07-31T16:32:04.807Z"
   },
   {
    "duration": 72,
    "start_time": "2022-07-31T16:32:05.051Z"
   },
   {
    "duration": 633,
    "start_time": "2022-07-31T16:32:05.125Z"
   },
   {
    "duration": 4,
    "start_time": "2022-07-31T16:32:05.760Z"
   },
   {
    "duration": 46,
    "start_time": "2022-07-31T16:32:05.765Z"
   },
   {
    "duration": 4,
    "start_time": "2022-07-31T16:32:05.813Z"
   },
   {
    "duration": 14,
    "start_time": "2022-07-31T16:32:05.818Z"
   },
   {
    "duration": 15,
    "start_time": "2022-07-31T16:32:05.833Z"
   },
   {
    "duration": 8,
    "start_time": "2022-07-31T16:32:05.849Z"
   },
   {
    "duration": 8203,
    "start_time": "2022-07-31T16:32:05.861Z"
   },
   {
    "duration": 19,
    "start_time": "2022-07-31T16:32:14.065Z"
   },
   {
    "duration": 20,
    "start_time": "2022-07-31T16:32:14.093Z"
   },
   {
    "duration": 19,
    "start_time": "2022-07-31T16:32:14.115Z"
   },
   {
    "duration": 4,
    "start_time": "2022-07-31T16:32:14.136Z"
   },
   {
    "duration": 37,
    "start_time": "2022-07-31T16:32:14.141Z"
   },
   {
    "duration": 55,
    "start_time": "2022-07-31T16:32:14.179Z"
   },
   {
    "duration": 201,
    "start_time": "2022-07-31T16:32:14.236Z"
   },
   {
    "duration": 203,
    "start_time": "2022-07-31T16:32:14.439Z"
   },
   {
    "duration": 12,
    "start_time": "2022-07-31T16:32:14.644Z"
   },
   {
    "duration": 32,
    "start_time": "2022-07-31T16:32:14.657Z"
   },
   {
    "duration": 18,
    "start_time": "2022-07-31T16:32:14.696Z"
   },
   {
    "duration": 33,
    "start_time": "2022-07-31T16:32:14.717Z"
   },
   {
    "duration": 15,
    "start_time": "2022-07-31T16:32:14.752Z"
   },
   {
    "duration": 26,
    "start_time": "2022-07-31T16:32:14.769Z"
   },
   {
    "duration": 49,
    "start_time": "2022-07-31T16:32:14.798Z"
   },
   {
    "duration": 22,
    "start_time": "2022-07-31T16:32:14.848Z"
   },
   {
    "duration": 69,
    "start_time": "2022-07-31T16:32:14.872Z"
   },
   {
    "duration": 4,
    "start_time": "2022-07-31T16:32:14.943Z"
   },
   {
    "duration": 92,
    "start_time": "2022-07-31T16:32:14.949Z"
   },
   {
    "duration": 7,
    "start_time": "2022-07-31T16:32:15.043Z"
   },
   {
    "duration": 39,
    "start_time": "2022-07-31T16:32:15.051Z"
   },
   {
    "duration": 297,
    "start_time": "2022-07-31T16:32:15.099Z"
   },
   {
    "duration": 1130,
    "start_time": "2022-07-31T16:32:15.400Z"
   },
   {
    "duration": 2,
    "start_time": "2022-07-31T16:32:16.532Z"
   },
   {
    "duration": 2164,
    "start_time": "2022-07-31T16:32:16.536Z"
   },
   {
    "duration": 6,
    "start_time": "2022-07-31T16:32:18.701Z"
   },
   {
    "duration": 169,
    "start_time": "2022-07-31T16:32:18.708Z"
   },
   {
    "duration": 17,
    "start_time": "2022-07-31T16:34:53.001Z"
   },
   {
    "duration": 52,
    "start_time": "2022-07-31T16:35:51.906Z"
   },
   {
    "duration": 12,
    "start_time": "2022-07-31T16:36:12.611Z"
   },
   {
    "duration": 127142,
    "start_time": "2022-07-31T16:36:38.027Z"
   },
   {
    "duration": 26,
    "start_time": "2022-07-31T16:45:40.804Z"
   },
   {
    "duration": 88,
    "start_time": "2022-07-31T16:49:21.269Z"
   },
   {
    "duration": 2817,
    "start_time": "2022-07-31T16:49:28.535Z"
   },
   {
    "duration": 2803,
    "start_time": "2022-07-31T16:50:07.608Z"
   },
   {
    "duration": 514093,
    "start_time": "2022-07-31T16:51:36.471Z"
   },
   {
    "duration": 7,
    "start_time": "2022-07-31T17:02:47.710Z"
   },
   {
    "duration": 463171,
    "start_time": "2022-07-31T17:10:24.646Z"
   },
   {
    "duration": 43,
    "start_time": "2022-07-31T17:19:01.340Z"
   },
   {
    "duration": 17,
    "start_time": "2022-07-31T17:19:31.024Z"
   },
   {
    "duration": 1460,
    "start_time": "2022-07-31T17:26:09.475Z"
   },
   {
    "duration": 249,
    "start_time": "2022-07-31T17:26:10.937Z"
   },
   {
    "duration": 13,
    "start_time": "2022-07-31T17:26:11.193Z"
   },
   {
    "duration": 96,
    "start_time": "2022-07-31T17:26:11.207Z"
   },
   {
    "duration": 9,
    "start_time": "2022-07-31T17:26:11.305Z"
   },
   {
    "duration": 4682,
    "start_time": "2022-07-31T17:26:11.319Z"
   },
   {
    "duration": 15,
    "start_time": "2022-07-31T17:26:16.002Z"
   },
   {
    "duration": 19,
    "start_time": "2022-07-31T17:26:16.019Z"
   },
   {
    "duration": 7,
    "start_time": "2022-07-31T17:26:16.040Z"
   },
   {
    "duration": 9,
    "start_time": "2022-07-31T17:26:16.049Z"
   },
   {
    "duration": 412,
    "start_time": "2022-07-31T17:26:16.059Z"
   },
   {
    "duration": 137,
    "start_time": "2022-07-31T17:26:16.473Z"
   },
   {
    "duration": 70,
    "start_time": "2022-07-31T17:26:16.612Z"
   },
   {
    "duration": 1093,
    "start_time": "2022-07-31T17:26:16.689Z"
   },
   {
    "duration": 204,
    "start_time": "2022-07-31T17:26:17.787Z"
   },
   {
    "duration": 94,
    "start_time": "2022-07-31T17:26:17.996Z"
   },
   {
    "duration": 669,
    "start_time": "2022-07-31T17:26:18.094Z"
   },
   {
    "duration": 41,
    "start_time": "2022-07-31T17:26:18.765Z"
   },
   {
    "duration": 1168,
    "start_time": "2022-07-31T17:26:18.816Z"
   },
   {
    "duration": 100,
    "start_time": "2022-07-31T17:26:19.985Z"
   },
   {
    "duration": 4,
    "start_time": "2022-07-31T17:26:20.087Z"
   },
   {
    "duration": 72,
    "start_time": "2022-07-31T17:26:20.092Z"
   },
   {
    "duration": 192,
    "start_time": "2022-07-31T17:26:20.165Z"
   },
   {
    "duration": 26,
    "start_time": "2022-07-31T17:26:20.359Z"
   },
   {
    "duration": 25,
    "start_time": "2022-07-31T17:26:20.386Z"
   },
   {
    "duration": 24,
    "start_time": "2022-07-31T17:26:20.412Z"
   },
   {
    "duration": 3358,
    "start_time": "2022-07-31T17:26:20.437Z"
   },
   {
    "duration": 23,
    "start_time": "2022-07-31T17:26:23.804Z"
   },
   {
    "duration": 10,
    "start_time": "2022-07-31T17:26:23.829Z"
   },
   {
    "duration": 338,
    "start_time": "2022-07-31T17:26:23.840Z"
   },
   {
    "duration": 8,
    "start_time": "2022-07-31T17:26:24.179Z"
   },
   {
    "duration": 244,
    "start_time": "2022-07-31T17:26:24.188Z"
   },
   {
    "duration": 90,
    "start_time": "2022-07-31T17:26:24.433Z"
   },
   {
    "duration": 622,
    "start_time": "2022-07-31T17:26:24.524Z"
   },
   {
    "duration": 4,
    "start_time": "2022-07-31T17:26:25.147Z"
   },
   {
    "duration": 9,
    "start_time": "2022-07-31T17:26:25.153Z"
   },
   {
    "duration": 10,
    "start_time": "2022-07-31T17:26:25.164Z"
   },
   {
    "duration": 12,
    "start_time": "2022-07-31T17:26:25.183Z"
   },
   {
    "duration": 34,
    "start_time": "2022-07-31T17:26:25.200Z"
   },
   {
    "duration": 9,
    "start_time": "2022-07-31T17:26:25.236Z"
   },
   {
    "duration": 8183,
    "start_time": "2022-07-31T17:26:25.249Z"
   },
   {
    "duration": 16,
    "start_time": "2022-07-31T17:26:33.434Z"
   },
   {
    "duration": 46,
    "start_time": "2022-07-31T17:26:33.452Z"
   },
   {
    "duration": 23,
    "start_time": "2022-07-31T17:26:33.499Z"
   },
   {
    "duration": 6,
    "start_time": "2022-07-31T17:26:33.523Z"
   },
   {
    "duration": 29,
    "start_time": "2022-07-31T17:26:33.531Z"
   },
   {
    "duration": 47,
    "start_time": "2022-07-31T17:26:33.562Z"
   },
   {
    "duration": 196,
    "start_time": "2022-07-31T17:26:33.611Z"
   },
   {
    "duration": 228,
    "start_time": "2022-07-31T17:26:33.809Z"
   },
   {
    "duration": 15,
    "start_time": "2022-07-31T17:26:34.038Z"
   },
   {
    "duration": 37,
    "start_time": "2022-07-31T17:26:34.054Z"
   },
   {
    "duration": 38,
    "start_time": "2022-07-31T17:26:34.092Z"
   },
   {
    "duration": 18,
    "start_time": "2022-07-31T17:26:34.132Z"
   },
   {
    "duration": 13,
    "start_time": "2022-07-31T17:26:34.152Z"
   },
   {
    "duration": 25,
    "start_time": "2022-07-31T17:26:34.167Z"
   },
   {
    "duration": 42,
    "start_time": "2022-07-31T17:26:34.193Z"
   },
   {
    "duration": 25,
    "start_time": "2022-07-31T17:26:34.236Z"
   },
   {
    "duration": 52,
    "start_time": "2022-07-31T17:26:34.263Z"
   },
   {
    "duration": 17,
    "start_time": "2022-07-31T17:26:34.317Z"
   },
   {
    "duration": 87,
    "start_time": "2022-07-31T17:26:34.336Z"
   },
   {
    "duration": 7,
    "start_time": "2022-07-31T17:26:34.424Z"
   },
   {
    "duration": 8,
    "start_time": "2022-07-31T17:26:34.433Z"
   },
   {
    "duration": 449,
    "start_time": "2022-07-31T17:26:34.443Z"
   },
   {
    "duration": 961,
    "start_time": "2022-07-31T17:26:34.895Z"
   },
   {
    "duration": 3,
    "start_time": "2022-07-31T17:26:35.858Z"
   },
   {
    "duration": 2024,
    "start_time": "2022-07-31T17:26:35.863Z"
   },
   {
    "duration": 6,
    "start_time": "2022-07-31T17:26:37.892Z"
   },
   {
    "duration": 34,
    "start_time": "2022-07-31T17:26:37.899Z"
   },
   {
    "duration": 33895,
    "start_time": "2022-07-31T17:26:37.935Z"
   },
   {
    "duration": 4,
    "start_time": "2022-07-31T17:27:11.834Z"
   },
   {
    "duration": 30,
    "start_time": "2022-07-31T17:27:11.840Z"
   }
  ],
  "kernelspec": {
   "display_name": "Python 3 (ipykernel)",
   "language": "python",
   "name": "python3"
  },
  "language_info": {
   "codemirror_mode": {
    "name": "ipython",
    "version": 3
   },
   "file_extension": ".py",
   "mimetype": "text/x-python",
   "name": "python",
   "nbconvert_exporter": "python",
   "pygments_lexer": "ipython3",
   "version": "3.9.7"
  },
  "toc": {
   "base_numbering": 1,
   "nav_menu": {},
   "number_sections": true,
   "sideBar": true,
   "skip_h1_title": true,
   "title_cell": "Table of Contents",
   "title_sidebar": "Contents",
   "toc_cell": false,
   "toc_position": {
    "height": "calc(100% - 180px)",
    "left": "10px",
    "top": "150px",
    "width": "409.08px"
   },
   "toc_section_display": true,
   "toc_window_display": true
  }
 },
 "nbformat": 4,
 "nbformat_minor": 5
}
